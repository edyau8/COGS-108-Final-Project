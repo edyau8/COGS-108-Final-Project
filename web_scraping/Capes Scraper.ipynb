{
 "cells": [
  {
   "cell_type": "markdown",
   "metadata": {},
   "source": [
    "# Scraping the UCSD Capes Website"
   ]
  },
  {
   "cell_type": "markdown",
   "metadata": {},
   "source": [
    "### Setup"
   ]
  },
  {
   "cell_type": "markdown",
   "metadata": {},
   "source": [
    "Import necessary libraries."
   ]
  },
  {
   "cell_type": "code",
   "execution_count": null,
   "metadata": {},
   "outputs": [],
   "source": [
    "import csv\n",
    "from selenium import webdriver\n",
    "from selenium.webdriver.common.keys import Keys\n",
    "from selenium.webdriver.chrome.options import Options\n",
    "from selenium.webdriver.support.select import Select\n",
    "from selenium.webdriver.support.ui import WebDriverWait\n",
    "from selenium.webdriver.common.by import By\n",
    "from selenium.webdriver.support import expected_conditions as EC\n",
    "from bs4 import BeautifulSoup\n",
    "import pandas as pd\n",
    "import time "
   ]
  },
  {
   "cell_type": "markdown",
   "metadata": {},
   "source": [
    "Open a chrome window and go to the UCSD Cape website."
   ]
  },
  {
   "cell_type": "code",
   "execution_count": null,
   "metadata": {},
   "outputs": [],
   "source": [
    "chrome_options = Options()\n",
    "chrome_options.add_argument(\"--disable-extensions\")\n",
    "driver = webdriver.Chrome(executable_path='/Users/ericnguyen/Downloads/chromedriver')\n",
    "driver.get('http://cape.ucsd.edu/responses/Results.aspx')"
   ]
  },
  {
   "cell_type": "markdown",
   "metadata": {},
   "source": [
    "Log in."
   ]
  },
  {
   "cell_type": "code",
   "execution_count": null,
   "metadata": {},
   "outputs": [],
   "source": [
    "# input username and password\n",
    "username = driver.find_element_by_id(\"ssousername\")\n",
    "username.send_keys('enguyen')\n",
    "password = driver.find_element_by_id(\"ssopassword\")\n",
    "password.send_keys('you thought')\n",
    "login = driver.find_element_by_xpath(\"/html/body/main/div/section/div/div/div[1]/div/div[2]/form/button\")\n",
    "login.click()\n",
    "\n",
    "driver.implicitly_wait(10)                      # wait for duo auth"
   ]
  },
  {
   "cell_type": "markdown",
   "metadata": {},
   "source": [
    "### Collecting Data from Tables"
   ]
  },
  {
   "cell_type": "code",
   "execution_count": null,
   "metadata": {},
   "outputs": [],
   "source": [
    "# go through each department in the select box\n",
    "select_box = Select(driver.find_element_by_xpath(\"/html/body/div[6]/div/div[2]/div/form/div[3]/div[1]/div[3]/div[2]/select\"))\n",
    "options = select_box.options\n",
    "\n",
    "# making lists to put in csv\n",
    "fields = [\"Name\", \"Department\", \"Rcmd Instr\", \"Avg Grade\"]\n",
    "\n",
    "rows = []\n",
    "rowlist = list()\n",
    "\n",
    "for ele_index in range(1,len(options)):\n",
    "    select = driver.find_element_by_xpath(\"/html/body/div[6]/div/div[2]/div/form/div[3]/div[1]/div[3]/div[2]/select\")\n",
    "    select.click()\n",
    "    select_box.select_by_index(ele_index)\n",
    "    submit = driver.find_element_by_id(\"ctl00_ContentPlaceHolder1_btnSubmit\")\n",
    "    submit.click()\n",
    "    \n",
    "\n",
    "    time.sleep(30)\n",
    "  \n",
    "    WebDriverWait(driver,30).until( EC.presence_of_element_located((By.TAG_NAME, \"table\")))\n",
    "    html = driver.page_source\n",
    "    soup = BeautifulSoup(html, 'html.parser')\n",
    "    driver.implicitly_wait(10)\n",
    "    table = soup.find_all('table')[0]\n",
    "    rows = table.find_all('tr')\n",
    "    for tr in rows:\n",
    "        td = tr.find_all('td')\n",
    "        row = [i.text for i in td]\n",
    "        if (row.count('FA18') == 1):\n",
    "            rowlist.append(row)\n",
    "        elif (row.count('S218') == 1):\n",
    "            rowlist.append(row)\n",
    "        elif (row.count('S118') == 1):\n",
    "            rowlist.append(row)\n",
    "        elif(row.count('SP18') == 1):\n",
    "            rowlist.append(row)\n",
    "        elif (row.count('WI18') == 1):\n",
    "            rowlist.append(row)\n",
    "        "
   ]
  },
  {
   "cell_type": "markdown",
   "metadata": {},
   "source": [
    "### Output a CSV"
   ]
  },
  {
   "cell_type": "code",
   "execution_count": null,
   "metadata": {},
   "outputs": [],
   "source": [
    "df_bs = pd.DataFrame(rowlist, columns=['Instructor', 'Course', 'Term', 'Enroll', 'Evals Made', 'Rcmd Class', 'Rcmnd Instr', 'Study Hours/week', 'avg Grade Expected', 'Average grade received'])\n",
    "df_bs.set_index('Instructor', inplace=True)\n",
    "df_bs.to_csv('beautifulsoup.csv')"
   ]
  }
 ],
 "metadata": {
  "kernelspec": {
   "display_name": "Python 3",
   "language": "python",
   "name": "python3"
  },
  "language_info": {
   "codemirror_mode": {
    "name": "ipython",
    "version": 3
   },
   "file_extension": ".py",
   "mimetype": "text/x-python",
   "name": "python",
   "nbconvert_exporter": "python",
   "pygments_lexer": "ipython3",
   "version": "3.6.7"
  }
 },
 "nbformat": 4,
 "nbformat_minor": 2
}

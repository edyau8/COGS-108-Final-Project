{
 "cells": [
  {
   "cell_type": "markdown",
   "metadata": {},
   "source": [
    "# Scraping the UC Annual Wage Website"
   ]
  },
  {
   "cell_type": "markdown",
   "metadata": {},
   "source": [
    "### Setup"
   ]
  },
  {
   "cell_type": "markdown",
   "metadata": {},
   "source": [
    "Import required tools."
   ]
  },
  {
   "cell_type": "code",
   "execution_count": null,
   "metadata": {},
   "outputs": [],
   "source": [
    "import csv\n",
    "import time\n",
    "import pandas as pd\n",
    "import numpy as np\n",
    "from selenium import webdriver\n",
    "from selenium.webdriver.common.keys import Keys\n",
    "from selenium.webdriver.chrome.options import Options\n",
    "from selenium.webdriver.support.select import Select\n",
    "from bs4 import BeautifulSoup"
   ]
  },
  {
   "cell_type": "markdown",
   "metadata": {},
   "source": [
    "Open a chrome tab with the UC Annual Wage website."
   ]
  },
  {
   "cell_type": "code",
   "execution_count": null,
   "metadata": {},
   "outputs": [],
   "source": [
    "driver = webdriver.Chrome()\n",
    "driver.get('https://ucannualwage.ucop.edu/wage/')"
   ]
  },
  {
   "cell_type": "markdown",
   "metadata": {},
   "source": [
    "Choose selectors to query for instructor wages at UC San Diego."
   ]
  },
  {
   "cell_type": "code",
   "execution_count": null,
   "metadata": {},
   "outputs": [],
   "source": [
    "location_box = driver.find_element_by_name('location')\n",
    "location_box.send_keys('San Diego')\n",
    "\n",
    "title_box = driver.find_element_by_name('title')\n",
    "title_box.send_keys('LECT')\n",
    "\n",
    "number_button = driver.find_element_by_class_name('ui-pg-selbox')\n",
    "number_button.send_keys('60')\n",
    "\n",
    "search_button = driver.find_element_by_id('searchButton')\n",
    "search_button.click()\n",
    "\n",
    "next_button = driver.find_element_by_id('next')"
   ]
  },
  {
   "cell_type": "markdown",
   "metadata": {},
   "source": [
    "### Collecting Data from a Table"
   ]
  },
  {
   "cell_type": "code",
   "execution_count": null,
   "metadata": {},
   "outputs": [],
   "source": [
    "# add data to list\n",
    "rows = []\n",
    "rowlist = list()\n",
    "\n",
    "# add all lecturer data\n",
    "i = 0\n",
    "pages = 12\n",
    "while i <= pages:\n",
    "    html = driver.page_source\n",
    "    soup = BeautifulSoup(html, 'html.parser')\n",
    "    time.sleep(3)\n",
    "    table = soup.find_all('table')[4]\n",
    "    rows = table.find_all('tr')\n",
    "    print(rows)\n",
    "    for tr in rows:\n",
    "        td = tr.find_all('td')\n",
    "        row = [i.text for i in td]\n",
    "        rowlist.append(row)\n",
    "    next_button.click()\n",
    "    i = i + 1\n",
    "\n",
    "# add all professor data\n",
    "title_box.clear()\n",
    "title_box.send_keys('PROF')\n",
    "search_button.click()\n",
    "i = 0\n",
    "pages = 54\n",
    "while i <= pages:\n",
    "    html = driver.page_source\n",
    "    soup = BeautifulSoup(html, 'html.parser')\n",
    "    time.sleep(3)\n",
    "    table = soup.find_all('table')[4]\n",
    "    rows = table.find_all('tr')\n",
    "    print(rows)\n",
    "    for tr in rows:\n",
    "        td = tr.find_all('td')\n",
    "        row = [i.text for i in td]\n",
    "        rowlist.append(row)\n",
    "    next_button.click()\n",
    "    i = i + 1"
   ]
  },
  {
   "cell_type": "markdown",
   "metadata": {},
   "source": [
    "### Clean Data and Convert to a CSV"
   ]
  },
  {
   "cell_type": "code",
   "execution_count": null,
   "metadata": {},
   "outputs": [],
   "source": [
    "# clean up data and convert to csv file\n",
    "df = pd.DataFrame(rowlist, columns=['Index', 'N', 'Year', 'Location', 'First Name', 'Last Name', 'Title', 'Gross Pay', \n",
    "    'Regular Pay', 'Overtime Pay', 'Other Pay'])\n",
    "\n",
    "df.set_index('Last Name', inplace=True)\n",
    "df = df.drop(['Index', 'N', 'Gross Pay', 'Overtime Pay', 'Other Pay'], axis=1)\n",
    "df = df.replace('*****', np.nan)\n",
    "df = df.dropna()\n",
    "df.to_csv('income.csv')"
   ]
  }
 ],
 "metadata": {
  "kernelspec": {
   "display_name": "Python 3",
   "language": "python",
   "name": "python3"
  },
  "language_info": {
   "codemirror_mode": {
    "name": "ipython",
    "version": 3
   },
   "file_extension": ".py",
   "mimetype": "text/x-python",
   "name": "python",
   "nbconvert_exporter": "python",
   "pygments_lexer": "ipython3",
   "version": "3.6.7"
  }
 },
 "nbformat": 4,
 "nbformat_minor": 2
}

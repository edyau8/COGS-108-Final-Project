{
 "cells": [
  {
   "cell_type": "code",
   "execution_count": 1,
   "metadata": {},
   "outputs": [],
   "source": [
    "# Display plots directly in the notebook instead of in a new window\n",
    "%matplotlib inline\n",
    "\n",
    "# Import libraries\n",
    "import numpy as np\n",
    "import pandas as pd\n",
    "import matplotlib.pyplot as plt\n",
    "import seaborn as sns\n",
    "import statsmodels.api as sm\n",
    "import scipy.stats as stats\n",
    "from scipy.stats import ttest_ind, chisquare, normaltest\n",
    "import patsy"
   ]
  },
  {
   "cell_type": "code",
   "execution_count": 2,
   "metadata": {},
   "outputs": [
    {
     "data": {
      "text/html": [
       "<div>\n",
       "<style scoped>\n",
       "    .dataframe tbody tr th:only-of-type {\n",
       "        vertical-align: middle;\n",
       "    }\n",
       "\n",
       "    .dataframe tbody tr th {\n",
       "        vertical-align: top;\n",
       "    }\n",
       "\n",
       "    .dataframe thead th {\n",
       "        text-align: right;\n",
       "    }\n",
       "</style>\n",
       "<table border=\"1\" class=\"dataframe\">\n",
       "  <thead>\n",
       "    <tr style=\"text-align: right;\">\n",
       "      <th></th>\n",
       "      <th>Unnamed: 0</th>\n",
       "      <th>Instructor</th>\n",
       "      <th>Department</th>\n",
       "      <th>Rcmnd Instr</th>\n",
       "      <th>Average Grade Expected</th>\n",
       "      <th>Classes Taught</th>\n",
       "      <th>Enrolled</th>\n",
       "    </tr>\n",
       "  </thead>\n",
       "  <tbody>\n",
       "    <tr>\n",
       "      <th>0</th>\n",
       "      <td>0</td>\n",
       "      <td>Ben-Yosef, Erez</td>\n",
       "      <td>Anthropology</td>\n",
       "      <td>100.000000</td>\n",
       "      <td>3.6400</td>\n",
       "      <td>1.0</td>\n",
       "      <td>19.0</td>\n",
       "    </tr>\n",
       "    <tr>\n",
       "      <th>1</th>\n",
       "      <td>1</td>\n",
       "      <td>D'Alpoim Guedes, Jade A</td>\n",
       "      <td>Anthropology</td>\n",
       "      <td>100.000000</td>\n",
       "      <td>3.7500</td>\n",
       "      <td>1.0</td>\n",
       "      <td>39.0</td>\n",
       "    </tr>\n",
       "    <tr>\n",
       "      <th>2</th>\n",
       "      <td>2</td>\n",
       "      <td>Marchetto, Maria Carolina</td>\n",
       "      <td>Anthropology</td>\n",
       "      <td>100.000000</td>\n",
       "      <td>3.9100</td>\n",
       "      <td>1.0</td>\n",
       "      <td>25.0</td>\n",
       "    </tr>\n",
       "    <tr>\n",
       "      <th>3</th>\n",
       "      <td>3</td>\n",
       "      <td>Non, Amy L</td>\n",
       "      <td>Anthropology</td>\n",
       "      <td>90.966667</td>\n",
       "      <td>3.2800</td>\n",
       "      <td>3.0</td>\n",
       "      <td>91.0</td>\n",
       "    </tr>\n",
       "    <tr>\n",
       "      <th>4</th>\n",
       "      <td>4</td>\n",
       "      <td>Lew, Caroline Horton</td>\n",
       "      <td>Anthropology</td>\n",
       "      <td>88.100000</td>\n",
       "      <td>3.6850</td>\n",
       "      <td>2.0</td>\n",
       "      <td>72.0</td>\n",
       "    </tr>\n",
       "    <tr>\n",
       "      <th>...</th>\n",
       "      <td>...</td>\n",
       "      <td>...</td>\n",
       "      <td>...</td>\n",
       "      <td>...</td>\n",
       "      <td>...</td>\n",
       "      <td>...</td>\n",
       "      <td>...</td>\n",
       "    </tr>\n",
       "    <tr>\n",
       "      <th>1534</th>\n",
       "      <td>1534</td>\n",
       "      <td>Pafunda, Danielle</td>\n",
       "      <td>Literature</td>\n",
       "      <td>98.075000</td>\n",
       "      <td>3.8075</td>\n",
       "      <td>4.0</td>\n",
       "      <td>139.0</td>\n",
       "    </tr>\n",
       "    <tr>\n",
       "      <th>1535</th>\n",
       "      <td>1535</td>\n",
       "      <td>Johnson, Sara E.</td>\n",
       "      <td>Literature</td>\n",
       "      <td>97.200000</td>\n",
       "      <td>3.6900</td>\n",
       "      <td>1.0</td>\n",
       "      <td>45.0</td>\n",
       "    </tr>\n",
       "    <tr>\n",
       "      <th>1536</th>\n",
       "      <td>1536</td>\n",
       "      <td>Morse, Ainsley</td>\n",
       "      <td>Literature</td>\n",
       "      <td>100.000000</td>\n",
       "      <td>3.7000</td>\n",
       "      <td>2.0</td>\n",
       "      <td>30.0</td>\n",
       "    </tr>\n",
       "    <tr>\n",
       "      <th>1537</th>\n",
       "      <td>1537</td>\n",
       "      <td>Kokotovic, Milos</td>\n",
       "      <td>Literature</td>\n",
       "      <td>100.000000</td>\n",
       "      <td>3.7550</td>\n",
       "      <td>2.0</td>\n",
       "      <td>43.0</td>\n",
       "    </tr>\n",
       "    <tr>\n",
       "      <th>1538</th>\n",
       "      <td>1538</td>\n",
       "      <td>Doller, Ben</td>\n",
       "      <td>Literature</td>\n",
       "      <td>91.700000</td>\n",
       "      <td>3.8700</td>\n",
       "      <td>1.0</td>\n",
       "      <td>99.0</td>\n",
       "    </tr>\n",
       "  </tbody>\n",
       "</table>\n",
       "<p>1539 rows × 7 columns</p>\n",
       "</div>"
      ],
      "text/plain": [
       "      Unnamed: 0                 Instructor    Department  Rcmnd Instr  \\\n",
       "0              0            Ben-Yosef, Erez  Anthropology   100.000000   \n",
       "1              1    D'Alpoim Guedes, Jade A  Anthropology   100.000000   \n",
       "2              2  Marchetto, Maria Carolina  Anthropology   100.000000   \n",
       "3              3                 Non, Amy L  Anthropology    90.966667   \n",
       "4              4       Lew, Caroline Horton  Anthropology    88.100000   \n",
       "...          ...                        ...           ...          ...   \n",
       "1534        1534          Pafunda, Danielle    Literature    98.075000   \n",
       "1535        1535           Johnson, Sara E.    Literature    97.200000   \n",
       "1536        1536             Morse, Ainsley    Literature   100.000000   \n",
       "1537        1537           Kokotovic, Milos    Literature   100.000000   \n",
       "1538        1538                Doller, Ben    Literature    91.700000   \n",
       "\n",
       "      Average Grade Expected  Classes Taught  Enrolled  \n",
       "0                     3.6400             1.0      19.0  \n",
       "1                     3.7500             1.0      39.0  \n",
       "2                     3.9100             1.0      25.0  \n",
       "3                     3.2800             3.0      91.0  \n",
       "4                     3.6850             2.0      72.0  \n",
       "...                      ...             ...       ...  \n",
       "1534                  3.8075             4.0     139.0  \n",
       "1535                  3.6900             1.0      45.0  \n",
       "1536                  3.7000             2.0      30.0  \n",
       "1537                  3.7550             2.0      43.0  \n",
       "1538                  3.8700             1.0      99.0  \n",
       "\n",
       "[1539 rows x 7 columns]"
      ]
     },
     "execution_count": 2,
     "metadata": {},
     "output_type": "execute_result"
    }
   ],
   "source": [
    "# Loading data from datasets\n",
    "df_capes = pd.read_csv(\"CapesCleanedEnrolled.csv\")\n",
    "df_income = pd.read_csv(\"income_dataset.csv\")\n",
    "df_capes"
   ]
  },
  {
   "cell_type": "code",
   "execution_count": 3,
   "metadata": {},
   "outputs": [],
   "source": [
    "# Standardizing the strings in order to combine \n",
    "def last_name(string):\n",
    "    end = string.find(',')\n",
    "    return string[0:end].upper()\n",
    "\n",
    "def first_name(string):\n",
    "    start = string.find(',')\n",
    "    name = string[start+2:].upper()\n",
    "    space = name.find(' ')\n",
    "    if (space != -1):\n",
    "        return name[:space+2]\n",
    "    return name\n",
    "\n",
    "def uppercase(string):\n",
    "    return string.upper()\n",
    "\n",
    "def first_name_income(string):\n",
    "    name = string.upper()\n",
    "    space = name.find(' ')\n",
    "    if (space != -1):\n",
    "        return name[:space+2]\n",
    "    return name"
   ]
  },
  {
   "cell_type": "code",
   "execution_count": 4,
   "metadata": {},
   "outputs": [],
   "source": [
    "# Standardizing Capes Set\n",
    "df_capes['Last Name'] = df_capes['Instructor'].apply(last_name)\n",
    "df_capes['First Name'] = df_capes['Instructor'].apply(first_name)\n",
    "df_capes['Instructor'] = df_capes['Last Name'] + ', ' + df_capes['First Name']\n",
    "\n",
    "# Standardizing Income Set\n",
    "df_income['First Name'] = df_income['First Name'].apply(first_name_income)\n",
    "df_income['Instructor'] = df_income['Last Name'] + ', ' + df_income['First Name']"
   ]
  },
  {
   "cell_type": "code",
   "execution_count": 5,
   "metadata": {},
   "outputs": [
    {
     "data": {
      "text/html": [
       "<div>\n",
       "<style scoped>\n",
       "    .dataframe tbody tr th:only-of-type {\n",
       "        vertical-align: middle;\n",
       "    }\n",
       "\n",
       "    .dataframe tbody tr th {\n",
       "        vertical-align: top;\n",
       "    }\n",
       "\n",
       "    .dataframe thead th {\n",
       "        text-align: right;\n",
       "    }\n",
       "</style>\n",
       "<table border=\"1\" class=\"dataframe\">\n",
       "  <thead>\n",
       "    <tr style=\"text-align: right;\">\n",
       "      <th></th>\n",
       "      <th>Title</th>\n",
       "      <th>Regular Pay</th>\n",
       "      <th>Department</th>\n",
       "      <th>Rcmnd Instr</th>\n",
       "      <th>Average Grade Expected</th>\n",
       "      <th>Classes Taught</th>\n",
       "      <th>Enrolled</th>\n",
       "    </tr>\n",
       "  </thead>\n",
       "  <tbody>\n",
       "    <tr>\n",
       "      <th>0</th>\n",
       "      <td>LECTURER - ACADEMIC YEAR</td>\n",
       "      <td>40000.0</td>\n",
       "      <td>Electrical &amp; Computer Eng.</td>\n",
       "      <td>95.120000</td>\n",
       "      <td>3.802000</td>\n",
       "      <td>5.0</td>\n",
       "      <td>196.0</td>\n",
       "    </tr>\n",
       "    <tr>\n",
       "      <th>1</th>\n",
       "      <td>LECTURER - ACADEMIC YEAR - ONE OR TWO QUARTERS</td>\n",
       "      <td>10000.0</td>\n",
       "      <td>Psychology</td>\n",
       "      <td>97.000000</td>\n",
       "      <td>3.250000</td>\n",
       "      <td>1.0</td>\n",
       "      <td>52.0</td>\n",
       "    </tr>\n",
       "    <tr>\n",
       "      <th>2</th>\n",
       "      <td>LECTURER - ACADEMIC YEAR - CONTINUING</td>\n",
       "      <td>50000.0</td>\n",
       "      <td>Chemistry</td>\n",
       "      <td>90.575000</td>\n",
       "      <td>3.115000</td>\n",
       "      <td>4.0</td>\n",
       "      <td>1356.0</td>\n",
       "    </tr>\n",
       "    <tr>\n",
       "      <th>3</th>\n",
       "      <td>LECTURER - ACADEMIC YEAR - ONE OR TWO QUARTERS</td>\n",
       "      <td>20000.0</td>\n",
       "      <td>Mathematics</td>\n",
       "      <td>90.450000</td>\n",
       "      <td>3.350000</td>\n",
       "      <td>2.0</td>\n",
       "      <td>491.0</td>\n",
       "    </tr>\n",
       "    <tr>\n",
       "      <th>4</th>\n",
       "      <td>LECTURER - ACADEMIC YEAR - CONTINUING</td>\n",
       "      <td>130000.0</td>\n",
       "      <td>Education Studies</td>\n",
       "      <td>97.900000</td>\n",
       "      <td>3.980000</td>\n",
       "      <td>1.0</td>\n",
       "      <td>55.0</td>\n",
       "    </tr>\n",
       "    <tr>\n",
       "      <th>...</th>\n",
       "      <td>...</td>\n",
       "      <td>...</td>\n",
       "      <td>...</td>\n",
       "      <td>...</td>\n",
       "      <td>...</td>\n",
       "      <td>...</td>\n",
       "      <td>...</td>\n",
       "    </tr>\n",
       "    <tr>\n",
       "      <th>1030</th>\n",
       "      <td>PROF - ACADEMIC YEAR - B/E/E</td>\n",
       "      <td>200000.0</td>\n",
       "      <td>Rady School of Management</td>\n",
       "      <td>82.200000</td>\n",
       "      <td>3.810000</td>\n",
       "      <td>1.0</td>\n",
       "      <td>52.0</td>\n",
       "    </tr>\n",
       "    <tr>\n",
       "      <th>1031</th>\n",
       "      <td>ASST PROF - ACADEMIC YEAR</td>\n",
       "      <td>100000.0</td>\n",
       "      <td>Chemistry</td>\n",
       "      <td>92.300000</td>\n",
       "      <td>3.125000</td>\n",
       "      <td>2.0</td>\n",
       "      <td>513.0</td>\n",
       "    </tr>\n",
       "    <tr>\n",
       "      <th>1032</th>\n",
       "      <td>VIS ASSOC PROF</td>\n",
       "      <td>140000.0</td>\n",
       "      <td>Rady School of Management</td>\n",
       "      <td>91.216667</td>\n",
       "      <td>3.546667</td>\n",
       "      <td>6.0</td>\n",
       "      <td>401.0</td>\n",
       "    </tr>\n",
       "    <tr>\n",
       "      <th>1033</th>\n",
       "      <td>PROF - ACADEMIC YEAR</td>\n",
       "      <td>140000.0</td>\n",
       "      <td>Mathematics</td>\n",
       "      <td>96.150000</td>\n",
       "      <td>3.210000</td>\n",
       "      <td>2.0</td>\n",
       "      <td>43.0</td>\n",
       "    </tr>\n",
       "    <tr>\n",
       "      <th>1034</th>\n",
       "      <td>PROF - ACADEMIC YEAR</td>\n",
       "      <td>130000.0</td>\n",
       "      <td>Biology</td>\n",
       "      <td>77.350000</td>\n",
       "      <td>3.480000</td>\n",
       "      <td>2.0</td>\n",
       "      <td>149.0</td>\n",
       "    </tr>\n",
       "  </tbody>\n",
       "</table>\n",
       "<p>1035 rows × 7 columns</p>\n",
       "</div>"
      ],
      "text/plain": [
       "                                               Title  Regular Pay  \\\n",
       "0                           LECTURER - ACADEMIC YEAR      40000.0   \n",
       "1     LECTURER - ACADEMIC YEAR - ONE OR TWO QUARTERS      10000.0   \n",
       "2              LECTURER - ACADEMIC YEAR - CONTINUING      50000.0   \n",
       "3     LECTURER - ACADEMIC YEAR - ONE OR TWO QUARTERS      20000.0   \n",
       "4              LECTURER - ACADEMIC YEAR - CONTINUING     130000.0   \n",
       "...                                              ...          ...   \n",
       "1030                    PROF - ACADEMIC YEAR - B/E/E     200000.0   \n",
       "1031                       ASST PROF - ACADEMIC YEAR     100000.0   \n",
       "1032                                  VIS ASSOC PROF     140000.0   \n",
       "1033                            PROF - ACADEMIC YEAR     140000.0   \n",
       "1034                            PROF - ACADEMIC YEAR     130000.0   \n",
       "\n",
       "                      Department  Rcmnd Instr  Average Grade Expected  \\\n",
       "0     Electrical & Computer Eng.    95.120000                3.802000   \n",
       "1                     Psychology    97.000000                3.250000   \n",
       "2                      Chemistry    90.575000                3.115000   \n",
       "3                    Mathematics    90.450000                3.350000   \n",
       "4              Education Studies    97.900000                3.980000   \n",
       "...                          ...          ...                     ...   \n",
       "1030   Rady School of Management    82.200000                3.810000   \n",
       "1031                   Chemistry    92.300000                3.125000   \n",
       "1032   Rady School of Management    91.216667                3.546667   \n",
       "1033                 Mathematics    96.150000                3.210000   \n",
       "1034                     Biology    77.350000                3.480000   \n",
       "\n",
       "      Classes Taught  Enrolled  \n",
       "0                5.0     196.0  \n",
       "1                1.0      52.0  \n",
       "2                4.0    1356.0  \n",
       "3                2.0     491.0  \n",
       "4                1.0      55.0  \n",
       "...              ...       ...  \n",
       "1030             1.0      52.0  \n",
       "1031             2.0     513.0  \n",
       "1032             6.0     401.0  \n",
       "1033             2.0      43.0  \n",
       "1034             2.0     149.0  \n",
       "\n",
       "[1035 rows x 7 columns]"
      ]
     },
     "execution_count": 5,
     "metadata": {},
     "output_type": "execute_result"
    }
   ],
   "source": [
    "# Merge datasets and get rid of merge columns\n",
    "df = df_income.merge(df_capes, on=['Instructor'])\n",
    "df = df.drop(['Unnamed: 0_x', 'Last Name_x', 'First Name_x', 'Instructor', 'Unnamed: 0_y', 'Last Name_y', 'First Name_y'], axis=1)\n",
    "df"
   ]
  },
  {
   "cell_type": "markdown",
   "metadata": {},
   "source": [
    "# Data Analysis"
   ]
  },
  {
   "cell_type": "code",
   "execution_count": 6,
   "metadata": {},
   "outputs": [
    {
     "data": {
      "text/plain": [
       "<matplotlib.axes._subplots.AxesSubplot at 0x11ffdd650>"
      ]
     },
     "execution_count": 6,
     "metadata": {},
     "output_type": "execute_result"
    },
    {
     "data": {
      "image/png": "[encoded data removed]",
      "text/plain": [
       "<Figure size 432x288 with 1 Axes>"
      ]
     },
     "metadata": {
      "needs_background": "light"
     },
     "output_type": "display_data"
    }
   ],
   "source": [
    "df['Department'].value_counts().plot(kind='barh')"
   ]
  },
  {
   "cell_type": "code",
   "execution_count": 7,
   "metadata": {},
   "outputs": [
    {
     "name": "stdout",
     "output_type": "stream",
     "text": [
      "Lower 25:  -40.25 \n",
      "Upper 25:  77.75\n"
     ]
    },
    {
     "data": {
      "text/html": [
       "<div>\n",
       "<style scoped>\n",
       "    .dataframe tbody tr th:only-of-type {\n",
       "        vertical-align: middle;\n",
       "    }\n",
       "\n",
       "    .dataframe tbody tr th {\n",
       "        vertical-align: top;\n",
       "    }\n",
       "\n",
       "    .dataframe thead th {\n",
       "        text-align: right;\n",
       "    }\n",
       "</style>\n",
       "<table border=\"1\" class=\"dataframe\">\n",
       "  <thead>\n",
       "    <tr style=\"text-align: right;\">\n",
       "      <th></th>\n",
       "      <th>Title</th>\n",
       "      <th>Regular Pay</th>\n",
       "      <th>Department</th>\n",
       "      <th>Rcmnd Instr</th>\n",
       "      <th>Average Grade Expected</th>\n",
       "      <th>Classes Taught</th>\n",
       "      <th>Enrolled</th>\n",
       "    </tr>\n",
       "  </thead>\n",
       "  <tbody>\n",
       "    <tr>\n",
       "      <th>0</th>\n",
       "      <td>LECTURER - ACADEMIC YEAR</td>\n",
       "      <td>40000.0</td>\n",
       "      <td>Electrical &amp; Computer Eng.</td>\n",
       "      <td>95.120000</td>\n",
       "      <td>3.802000</td>\n",
       "      <td>5.0</td>\n",
       "      <td>196.0</td>\n",
       "    </tr>\n",
       "    <tr>\n",
       "      <th>1</th>\n",
       "      <td>LECTURER - ACADEMIC YEAR - ONE OR TWO QUARTERS</td>\n",
       "      <td>10000.0</td>\n",
       "      <td>Psychology</td>\n",
       "      <td>97.000000</td>\n",
       "      <td>3.250000</td>\n",
       "      <td>1.0</td>\n",
       "      <td>52.0</td>\n",
       "    </tr>\n",
       "    <tr>\n",
       "      <th>2</th>\n",
       "      <td>LECTURER - ACADEMIC YEAR - CONTINUING</td>\n",
       "      <td>50000.0</td>\n",
       "      <td>Chemistry</td>\n",
       "      <td>90.575000</td>\n",
       "      <td>3.115000</td>\n",
       "      <td>4.0</td>\n",
       "      <td>1356.0</td>\n",
       "    </tr>\n",
       "    <tr>\n",
       "      <th>4</th>\n",
       "      <td>LECTURER - ACADEMIC YEAR - CONTINUING</td>\n",
       "      <td>130000.0</td>\n",
       "      <td>Education Studies</td>\n",
       "      <td>97.900000</td>\n",
       "      <td>3.980000</td>\n",
       "      <td>1.0</td>\n",
       "      <td>55.0</td>\n",
       "    </tr>\n",
       "    <tr>\n",
       "      <th>5</th>\n",
       "      <td>LECTURER - ACADEMIC YEAR - ONE OR TWO QUARTERS</td>\n",
       "      <td>30000.0</td>\n",
       "      <td>Computer Science</td>\n",
       "      <td>83.200000</td>\n",
       "      <td>3.270000</td>\n",
       "      <td>2.0</td>\n",
       "      <td>243.0</td>\n",
       "    </tr>\n",
       "    <tr>\n",
       "      <th>...</th>\n",
       "      <td>...</td>\n",
       "      <td>...</td>\n",
       "      <td>...</td>\n",
       "      <td>...</td>\n",
       "      <td>...</td>\n",
       "      <td>...</td>\n",
       "      <td>...</td>\n",
       "    </tr>\n",
       "    <tr>\n",
       "      <th>1023</th>\n",
       "      <td>ASST PROF - ACADEMIC YEAR - B/E/E</td>\n",
       "      <td>110000.0</td>\n",
       "      <td>Computer Science</td>\n",
       "      <td>80.400000</td>\n",
       "      <td>3.310000</td>\n",
       "      <td>1.0</td>\n",
       "      <td>123.0</td>\n",
       "    </tr>\n",
       "    <tr>\n",
       "      <th>1027</th>\n",
       "      <td>PROF - ACADEMIC YEAR - B/E/E</td>\n",
       "      <td>140000.0</td>\n",
       "      <td>Bioengineering</td>\n",
       "      <td>76.000000</td>\n",
       "      <td>3.590000</td>\n",
       "      <td>1.0</td>\n",
       "      <td>73.0</td>\n",
       "    </tr>\n",
       "    <tr>\n",
       "      <th>1030</th>\n",
       "      <td>PROF - ACADEMIC YEAR - B/E/E</td>\n",
       "      <td>200000.0</td>\n",
       "      <td>Rady School of Management</td>\n",
       "      <td>82.200000</td>\n",
       "      <td>3.810000</td>\n",
       "      <td>1.0</td>\n",
       "      <td>52.0</td>\n",
       "    </tr>\n",
       "    <tr>\n",
       "      <th>1031</th>\n",
       "      <td>ASST PROF - ACADEMIC YEAR</td>\n",
       "      <td>100000.0</td>\n",
       "      <td>Chemistry</td>\n",
       "      <td>92.300000</td>\n",
       "      <td>3.125000</td>\n",
       "      <td>2.0</td>\n",
       "      <td>513.0</td>\n",
       "    </tr>\n",
       "    <tr>\n",
       "      <th>1032</th>\n",
       "      <td>VIS ASSOC PROF</td>\n",
       "      <td>140000.0</td>\n",
       "      <td>Rady School of Management</td>\n",
       "      <td>91.216667</td>\n",
       "      <td>3.546667</td>\n",
       "      <td>6.0</td>\n",
       "      <td>401.0</td>\n",
       "    </tr>\n",
       "  </tbody>\n",
       "</table>\n",
       "<p>781 rows × 7 columns</p>\n",
       "</div>"
      ],
      "text/plain": [
       "                                               Title  Regular Pay  \\\n",
       "0                           LECTURER - ACADEMIC YEAR      40000.0   \n",
       "1     LECTURER - ACADEMIC YEAR - ONE OR TWO QUARTERS      10000.0   \n",
       "2              LECTURER - ACADEMIC YEAR - CONTINUING      50000.0   \n",
       "4              LECTURER - ACADEMIC YEAR - CONTINUING     130000.0   \n",
       "5     LECTURER - ACADEMIC YEAR - ONE OR TWO QUARTERS      30000.0   \n",
       "...                                              ...          ...   \n",
       "1023               ASST PROF - ACADEMIC YEAR - B/E/E     110000.0   \n",
       "1027                    PROF - ACADEMIC YEAR - B/E/E     140000.0   \n",
       "1030                    PROF - ACADEMIC YEAR - B/E/E     200000.0   \n",
       "1031                       ASST PROF - ACADEMIC YEAR     100000.0   \n",
       "1032                                  VIS ASSOC PROF     140000.0   \n",
       "\n",
       "                      Department  Rcmnd Instr  Average Grade Expected  \\\n",
       "0     Electrical & Computer Eng.    95.120000                3.802000   \n",
       "1                     Psychology    97.000000                3.250000   \n",
       "2                      Chemistry    90.575000                3.115000   \n",
       "4              Education Studies    97.900000                3.980000   \n",
       "5               Computer Science    83.200000                3.270000   \n",
       "...                          ...          ...                     ...   \n",
       "1023            Computer Science    80.400000                3.310000   \n",
       "1027              Bioengineering    76.000000                3.590000   \n",
       "1030   Rady School of Management    82.200000                3.810000   \n",
       "1031                   Chemistry    92.300000                3.125000   \n",
       "1032   Rady School of Management    91.216667                3.546667   \n",
       "\n",
       "      Classes Taught  Enrolled  \n",
       "0                5.0     196.0  \n",
       "1                1.0      52.0  \n",
       "2                4.0    1356.0  \n",
       "4                1.0      55.0  \n",
       "5                2.0     243.0  \n",
       "...              ...       ...  \n",
       "1023             1.0     123.0  \n",
       "1027             1.0      73.0  \n",
       "1030             1.0      52.0  \n",
       "1031             2.0     513.0  \n",
       "1032             6.0     401.0  \n",
       "\n",
       "[781 rows x 7 columns]"
      ]
     },
     "execution_count": 7,
     "metadata": {},
     "output_type": "execute_result"
    }
   ],
   "source": [
    "df = (df[(df['Department'] != 'other')])\n",
    "\n",
    "# Determine Outliers for Department\n",
    "lower, upper = np.percentile(df['Department'].value_counts(), [25, 75])\n",
    "iqr = upper - lower\n",
    "lower_cutoff = lower - 1.5 * iqr\n",
    "upper_cutoff = upper + 1.5 * iqr\n",
    "print(\"Lower 25: \", lower_cutoff, \"\\nUpper 25: \", upper_cutoff)\n",
    "\n",
    "# To see which ones are outliers\n",
    "df['Department'].value_counts()\n",
    "\n",
    "# Get rid of the outliers\n",
    "df = (df[(df['Department'] != 'Mathematics') & (df['Department'] != 'Biology')])\n",
    "df"
   ]
  },
  {
   "cell_type": "code",
   "execution_count": 8,
   "metadata": {},
   "outputs": [
    {
     "data": {
      "text/plain": [
       "<matplotlib.axes._subplots.AxesSubplot at 0x1151c0210>"
      ]
     },
     "execution_count": 8,
     "metadata": {},
     "output_type": "execute_result"
    },
    {
     "data": {
      "image/png": "[encoded data removed]",
      "text/plain": [
       "<Figure size 432x288 with 1 Axes>"
      ]
     },
     "metadata": {
      "needs_background": "light"
     },
     "output_type": "display_data"
    }
   ],
   "source": [
    "df['Department'].value_counts().plot(kind='barh')"
   ]
  },
  {
   "cell_type": "code",
   "execution_count": 9,
   "metadata": {},
   "outputs": [
    {
     "data": {
      "text/plain": [
       "(array([ 7.,  2.,  3.,  3.,  7., 17.,  4.,  5.,  0.,  5.]),\n",
       " array([ 10000.,  32000.,  54000.,  76000.,  98000., 120000., 142000.,\n",
       "        164000., 186000., 208000., 230000.]),\n",
       " <a list of 10 Patch objects>)"
      ]
     },
     "execution_count": 9,
     "metadata": {},
     "output_type": "execute_result"
    },
    {
     "data": {
      "image/png": "[encoded data removed]",
      "text/plain": [
       "<Figure size 432x288 with 1 Axes>"
      ]
     },
     "metadata": {
      "needs_background": "light"
     },
     "output_type": "display_data"
    }
   ],
   "source": [
    "plt.hist(df[df['Department'] =='Computer Science']['Regular Pay'])"
   ]
  },
  {
   "cell_type": "code",
   "execution_count": 10,
   "metadata": {},
   "outputs": [
    {
     "data": {
      "text/plain": [
       "(array([5., 3., 8., 4., 4., 2., 0., 0., 0., 1.]),\n",
       " array([ 10000.,  44000.,  78000., 112000., 146000., 180000., 214000.,\n",
       "        248000., 282000., 316000., 350000.]),\n",
       " <a list of 10 Patch objects>)"
      ]
     },
     "execution_count": 10,
     "metadata": {},
     "output_type": "execute_result"
    },
    {
     "data": {
      "image/png": "[encoded data removed]",
      "text/plain": [
       "<Figure size 432x288 with 1 Axes>"
      ]
     },
     "metadata": {
      "needs_background": "light"
     },
     "output_type": "display_data"
    }
   ],
   "source": [
    "plt.hist(df[df['Department'] =='Literature']['Regular Pay'])"
   ]
  },
  {
   "cell_type": "code",
   "execution_count": 11,
   "metadata": {},
   "outputs": [
    {
     "data": {
      "text/plain": [
       "F_onewayResult(statistic=1.2880461885251362, pvalue=0.2794731335409624)"
      ]
     },
     "execution_count": 11,
     "metadata": {},
     "output_type": "execute_result"
    }
   ],
   "source": [
    "stats.f_oneway((df[df['Department'] =='Cognitive Science']['Regular Pay']).values,(df[df['Department'] =='Chemistry']['Regular Pay']).values, (df[df['Department'] =='Computer Science']['Regular Pay']).values )"
   ]
  },
  {
   "cell_type": "code",
   "execution_count": 12,
   "metadata": {},
   "outputs": [
    {
     "data": {
      "text/plain": [
       "F_onewayResult(statistic=1.9742700202370627, pvalue=0.21936922174605017)"
      ]
     },
     "execution_count": 12,
     "metadata": {},
     "output_type": "execute_result"
    }
   ],
   "source": [
    "stats.f_oneway((df[df['Department'] =='Environmental Systems']['Regular Pay']).values,(df[df['Department'] =='Environmental Studies']['Regular Pay']).values, (df[df['Department'] =='Ethnic Studies']['Regular Pay']).values )"
   ]
  },
  {
   "cell_type": "code",
   "execution_count": 13,
   "metadata": {},
   "outputs": [],
   "source": [
    "h_Chem = df[df['Department'] == 'Economics']['Regular Pay'].values\n",
    "h_Env = df[df['Department'] == 'Visual Arts']['Regular Pay'].values\n",
    "t_val, p_val = ttest_ind(h_Chem, h_Env)\n"
   ]
  },
  {
   "cell_type": "code",
   "execution_count": 14,
   "metadata": {},
   "outputs": [
    {
     "data": {
      "text/plain": [
       "2.5823191116040665e-07"
      ]
     },
     "execution_count": 14,
     "metadata": {},
     "output_type": "execute_result"
    }
   ],
   "source": [
    "p_val"
   ]
  },
  {
   "cell_type": "code",
   "execution_count": 15,
   "metadata": {},
   "outputs": [
    {
     "data": {
      "text/plain": [
       "5.782978439675415"
      ]
     },
     "execution_count": 15,
     "metadata": {},
     "output_type": "execute_result"
    }
   ],
   "source": [
    "t_val"
   ]
  },
  {
   "cell_type": "code",
   "execution_count": 125,
   "metadata": {},
   "outputs": [
    {
     "data": {
      "text/plain": [
       "NormaltestResult(statistic=45.28991872473351, pvalue=1.4635888963101486e-10)"
      ]
     },
     "execution_count": 125,
     "metadata": {},
     "output_type": "execute_result"
    }
   ],
   "source": []
  },
  {
   "cell_type": "code",
   "execution_count": 150,
   "metadata": {},
   "outputs": [
    {
     "name": "stdout",
     "output_type": "stream",
     "text": [
      "NormaltestResult(statistic=179.6147617837134, pvalue=9.934592195509781e-40)\n"
     ]
    },
    {
     "data": {
      "text/plain": [
       "(array([366., 148., 125.,  67.,  42.,  19.,   9.,   3.,   1.,   1.]),\n",
       " array([  2000.,  42800.,  83600., 124400., 165200., 206000., 246800.,\n",
       "        287600., 328400., 369200., 410000.]),\n",
       " <a list of 10 Patch objects>)"
      ]
     },
     "execution_count": 150,
     "metadata": {},
     "output_type": "execute_result"
    },
    {
     "data": {
      "image/png": "[encoded data removed]",
      "text/plain": [
       "<Figure size 432x288 with 1 Axes>"
      ]
     },
     "metadata": {
      "needs_background": "light"
     },
     "output_type": "display_data"
    }
   ],
   "source": [
    "df['pay'] = df['Regular Pay']/df['Classes Taught']\n",
    "##df['Log pay'] = df['Log pay'].apply(np.log10)\n",
    "print(normaltest(df['pay'].values))\n",
    "\n",
    "plt.hist(df['pay'])"
   ]
  },
  {
   "cell_type": "code",
   "execution_count": 139,
   "metadata": {},
   "outputs": [],
   "source": [
    "grades = df.sort_values(by=['Average Grade Expected'])['Average Grade Expected']\n",
    "grades.reset_index(drop=True, inplace=True)\n",
    "middle = int(grades.size/2)\n",
    "dividingGrades = grades[middle]"
   ]
  },
  {
   "cell_type": "code",
   "execution_count": 140,
   "metadata": {},
   "outputs": [],
   "source": [
    "lowerGrades = []\n",
    "upperGrades = []\n",
    "\n",
    "for i in df.index:\n",
    "    totalPay = df.loc[i, 'Log pay']\n",
    "    classes = df.loc[i, 'Classes Taught']\n",
    "    grade = df.loc[i, 'Average Grade Expected']\n",
    "    \n",
    "    pay = totalPay\n",
    "    \n",
    "    if grade < dividingGrades:\n",
    "        lowerGrades.append(pay)\n",
    "        \n",
    "    else:\n",
    "        upperGrades.append(pay)\n",
    "    "
   ]
  },
  {
   "cell_type": "code",
   "execution_count": 141,
   "metadata": {},
   "outputs": [
    {
     "name": "stdout",
     "output_type": "stream",
     "text": [
      "0.6932363305721876 0.680243025624043\n"
     ]
    }
   ],
   "source": [
    "sumLower = 0\n",
    "sumUpper = 0\n",
    "\n",
    "for i in lowerGrades:\n",
    "    sumLower += i\n",
    "    \n",
    "for i in upperGrades:\n",
    "    sumUpper += i\n",
    "\n",
    "averageLower = sumLower/len(lowerGrades)\n",
    "averageUpper = sumUpper/len(upperGrades)\n",
    "\n",
    "print(averageLower, averageUpper)"
   ]
  },
  {
   "cell_type": "code",
   "execution_count": 142,
   "metadata": {},
   "outputs": [
    {
     "name": "stdout",
     "output_type": "stream",
     "text": [
      "NormaltestResult(statistic=96.11639350384645, pvalue=1.3445914347893898e-21)\n",
      "NormaltestResult(statistic=41.78174648592382, pvalue=8.456857806706654e-10)\n"
     ]
    }
   ],
   "source": [
    "print(normaltest(lowerGrades))\n",
    "print(normaltest(upperGrades))"
   ]
  },
  {
   "cell_type": "code",
   "execution_count": 117,
   "metadata": {},
   "outputs": [
    {
     "data": {
      "text/plain": [
       "Ttest_indResult(statistic=5.282007745543783, pvalue=1.6593852584083072e-07)"
      ]
     },
     "execution_count": 117,
     "metadata": {},
     "output_type": "execute_result"
    }
   ],
   "source": [
    "ttest_ind(lowerGrades, upperGrades)"
   ]
  },
  {
   "cell_type": "code",
   "execution_count": 118,
   "metadata": {},
   "outputs": [],
   "source": [
    "rcmnd = df.sort_values(by=['Rcmnd Instr'])['Rcmnd Instr']\n",
    "rcmnd.reset_index(drop=True, inplace=True)\n",
    "middle = int(len(rcmnd)/2)\n",
    "dividingRcmnd = rcmnd[middle]\n",
    "\n"
   ]
  },
  {
   "cell_type": "code",
   "execution_count": 119,
   "metadata": {},
   "outputs": [],
   "source": [
    "lowerRcmnd = []\n",
    "upperRcmnd = []\n",
    "\n",
    "for i in df.index:\n",
    "    totalPay = df.loc[i, 'Regular Pay']\n",
    "    classes = df.loc[i, 'Classes Taught']\n",
    "    rec = df.loc[i, 'Rcmnd Instr']\n",
    "    \n",
    "    pay = totalPay/classes\n",
    "    \n",
    "    if rec < dividingRcmnd:\n",
    "        lowerRcmnd.append(pay)\n",
    "        \n",
    "    else:\n",
    "        upperRcmnd.append(pay)"
   ]
  },
  {
   "cell_type": "code",
   "execution_count": 120,
   "metadata": {},
   "outputs": [
    {
     "name": "stdout",
     "output_type": "stream",
     "text": [
      "390\n",
      "391\n"
     ]
    }
   ],
   "source": [
    "print(len(lowerRcmnd))\n",
    "print(len(upperRcmnd))"
   ]
  },
  {
   "cell_type": "code",
   "execution_count": 121,
   "metadata": {},
   "outputs": [
    {
     "name": "stdout",
     "output_type": "stream",
     "text": [
      "75480.92000592001 60583.075918114286\n"
     ]
    }
   ],
   "source": [
    "sumLower = 0\n",
    "sumUpper = 0\n",
    "\n",
    "for i in lowerRcmnd:\n",
    "    sumLower += i\n",
    "    \n",
    "for i in upperRcmnd:\n",
    "    sumUpper += i\n",
    "\n",
    "averageLower = sumLower/len(lowerRcmnd)\n",
    "averageUpper = sumUpper/len(upperRcmnd)\n",
    "\n",
    "print(averageLower, averageUpper)\n"
   ]
  },
  {
   "cell_type": "code",
   "execution_count": 122,
   "metadata": {},
   "outputs": [
    {
     "name": "stdout",
     "output_type": "stream",
     "text": [
      "NormaltestResult(statistic=83.77431957862186, pvalue=6.436320188961584e-19)\n",
      "NormaltestResult(statistic=101.62481625657034, pvalue=8.559561914042041e-23)\n"
     ]
    }
   ],
   "source": [
    "print(normaltest(lowerRcmnd))\n",
    "print(normaltest(upperRcmnd))"
   ]
  },
  {
   "cell_type": "code",
   "execution_count": 123,
   "metadata": {},
   "outputs": [
    {
     "data": {
      "text/plain": [
       "Ttest_indResult(statistic=3.196039418865804, pvalue=0.0014494667509857527)"
      ]
     },
     "execution_count": 123,
     "metadata": {},
     "output_type": "execute_result"
    }
   ],
   "source": [
    "ttest_ind(lowerRcmnd, upperRcmnd)"
   ]
  },
  {
   "cell_type": "code",
   "execution_count": null,
   "metadata": {},
   "outputs": [],
   "source": []
  }
 ],
 "metadata": {
  "kernelspec": {
   "display_name": "Python 3",
   "language": "python",
   "name": "python3"
  },
  "language_info": {
   "codemirror_mode": {
    "name": "ipython",
    "version": 3
   },
   "file_extension": ".py",
   "mimetype": "text/x-python",
   "name": "python",
   "nbconvert_exporter": "python",
   "pygments_lexer": "ipython3",
   "version": "3.7.6"
  }
 },
 "nbformat": 4,
 "nbformat_minor": 4
}

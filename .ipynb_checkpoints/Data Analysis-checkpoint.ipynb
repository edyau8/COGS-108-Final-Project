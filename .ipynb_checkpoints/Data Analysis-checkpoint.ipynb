{
 "cells": [
  {
   "cell_type": "code",
   "execution_count": 1,
   "metadata": {},
   "outputs": [],
   "source": [
    "# Display plots directly in the notebook instead of in a new window\n",
    "%matplotlib inline\n",
    "\n",
    "# Import libraries\n",
    "import numpy as np\n",
    "import pandas as pd\n",
    "import matplotlib.pyplot as plt\n",
    "import seaborn as sns\n",
    "import statsmodels.api as sm\n",
    "import scipy.stats as stats\n",
    "from scipy.stats import ttest_ind, chisquare, normaltest\n",
    "import patsy"
   ]
  },
  {
   "cell_type": "code",
   "execution_count": 2,
   "metadata": {},
   "outputs": [
    {
     "data": {
      "text/html": [
       "<div>\n",
       "<style scoped>\n",
       "    .dataframe tbody tr th:only-of-type {\n",
       "        vertical-align: middle;\n",
       "    }\n",
       "\n",
       "    .dataframe tbody tr th {\n",
       "        vertical-align: top;\n",
       "    }\n",
       "\n",
       "    .dataframe thead th {\n",
       "        text-align: right;\n",
       "    }\n",
       "</style>\n",
       "<table border=\"1\" class=\"dataframe\">\n",
       "  <thead>\n",
       "    <tr style=\"text-align: right;\">\n",
       "      <th></th>\n",
       "      <th>Unnamed: 0</th>\n",
       "      <th>Instructor</th>\n",
       "      <th>Department</th>\n",
       "      <th>Rcmnd Instr</th>\n",
       "      <th>Average Grade Expected</th>\n",
       "      <th>Classes Taught</th>\n",
       "      <th>Enrolled</th>\n",
       "    </tr>\n",
       "  </thead>\n",
       "  <tbody>\n",
       "    <tr>\n",
       "      <th>0</th>\n",
       "      <td>0</td>\n",
       "      <td>Ben-Yosef, Erez</td>\n",
       "      <td>Anthropology</td>\n",
       "      <td>100.000000</td>\n",
       "      <td>3.6400</td>\n",
       "      <td>1.0</td>\n",
       "      <td>19.0</td>\n",
       "    </tr>\n",
       "    <tr>\n",
       "      <th>1</th>\n",
       "      <td>1</td>\n",
       "      <td>D'Alpoim Guedes, Jade A</td>\n",
       "      <td>Anthropology</td>\n",
       "      <td>100.000000</td>\n",
       "      <td>3.7500</td>\n",
       "      <td>1.0</td>\n",
       "      <td>39.0</td>\n",
       "    </tr>\n",
       "    <tr>\n",
       "      <th>2</th>\n",
       "      <td>2</td>\n",
       "      <td>Marchetto, Maria Carolina</td>\n",
       "      <td>Anthropology</td>\n",
       "      <td>100.000000</td>\n",
       "      <td>3.9100</td>\n",
       "      <td>1.0</td>\n",
       "      <td>25.0</td>\n",
       "    </tr>\n",
       "    <tr>\n",
       "      <th>3</th>\n",
       "      <td>3</td>\n",
       "      <td>Non, Amy L</td>\n",
       "      <td>Anthropology</td>\n",
       "      <td>90.966667</td>\n",
       "      <td>3.2800</td>\n",
       "      <td>3.0</td>\n",
       "      <td>91.0</td>\n",
       "    </tr>\n",
       "    <tr>\n",
       "      <th>4</th>\n",
       "      <td>4</td>\n",
       "      <td>Lew, Caroline Horton</td>\n",
       "      <td>Anthropology</td>\n",
       "      <td>88.100000</td>\n",
       "      <td>3.6850</td>\n",
       "      <td>2.0</td>\n",
       "      <td>72.0</td>\n",
       "    </tr>\n",
       "    <tr>\n",
       "      <th>...</th>\n",
       "      <td>...</td>\n",
       "      <td>...</td>\n",
       "      <td>...</td>\n",
       "      <td>...</td>\n",
       "      <td>...</td>\n",
       "      <td>...</td>\n",
       "      <td>...</td>\n",
       "    </tr>\n",
       "    <tr>\n",
       "      <th>1534</th>\n",
       "      <td>1534</td>\n",
       "      <td>Pafunda, Danielle</td>\n",
       "      <td>Literature</td>\n",
       "      <td>98.075000</td>\n",
       "      <td>3.8075</td>\n",
       "      <td>4.0</td>\n",
       "      <td>139.0</td>\n",
       "    </tr>\n",
       "    <tr>\n",
       "      <th>1535</th>\n",
       "      <td>1535</td>\n",
       "      <td>Johnson, Sara E.</td>\n",
       "      <td>Literature</td>\n",
       "      <td>97.200000</td>\n",
       "      <td>3.6900</td>\n",
       "      <td>1.0</td>\n",
       "      <td>45.0</td>\n",
       "    </tr>\n",
       "    <tr>\n",
       "      <th>1536</th>\n",
       "      <td>1536</td>\n",
       "      <td>Morse, Ainsley</td>\n",
       "      <td>Literature</td>\n",
       "      <td>100.000000</td>\n",
       "      <td>3.7000</td>\n",
       "      <td>2.0</td>\n",
       "      <td>30.0</td>\n",
       "    </tr>\n",
       "    <tr>\n",
       "      <th>1537</th>\n",
       "      <td>1537</td>\n",
       "      <td>Kokotovic, Milos</td>\n",
       "      <td>Literature</td>\n",
       "      <td>100.000000</td>\n",
       "      <td>3.7550</td>\n",
       "      <td>2.0</td>\n",
       "      <td>43.0</td>\n",
       "    </tr>\n",
       "    <tr>\n",
       "      <th>1538</th>\n",
       "      <td>1538</td>\n",
       "      <td>Doller, Ben</td>\n",
       "      <td>Literature</td>\n",
       "      <td>91.700000</td>\n",
       "      <td>3.8700</td>\n",
       "      <td>1.0</td>\n",
       "      <td>99.0</td>\n",
       "    </tr>\n",
       "  </tbody>\n",
       "</table>\n",
       "<p>1539 rows × 7 columns</p>\n",
       "</div>"
      ],
      "text/plain": [
       "      Unnamed: 0                 Instructor    Department  Rcmnd Instr  \\\n",
       "0              0            Ben-Yosef, Erez  Anthropology   100.000000   \n",
       "1              1    D'Alpoim Guedes, Jade A  Anthropology   100.000000   \n",
       "2              2  Marchetto, Maria Carolina  Anthropology   100.000000   \n",
       "3              3                 Non, Amy L  Anthropology    90.966667   \n",
       "4              4       Lew, Caroline Horton  Anthropology    88.100000   \n",
       "...          ...                        ...           ...          ...   \n",
       "1534        1534          Pafunda, Danielle    Literature    98.075000   \n",
       "1535        1535           Johnson, Sara E.    Literature    97.200000   \n",
       "1536        1536             Morse, Ainsley    Literature   100.000000   \n",
       "1537        1537           Kokotovic, Milos    Literature   100.000000   \n",
       "1538        1538                Doller, Ben    Literature    91.700000   \n",
       "\n",
       "      Average Grade Expected  Classes Taught  Enrolled  \n",
       "0                     3.6400             1.0      19.0  \n",
       "1                     3.7500             1.0      39.0  \n",
       "2                     3.9100             1.0      25.0  \n",
       "3                     3.2800             3.0      91.0  \n",
       "4                     3.6850             2.0      72.0  \n",
       "...                      ...             ...       ...  \n",
       "1534                  3.8075             4.0     139.0  \n",
       "1535                  3.6900             1.0      45.0  \n",
       "1536                  3.7000             2.0      30.0  \n",
       "1537                  3.7550             2.0      43.0  \n",
       "1538                  3.8700             1.0      99.0  \n",
       "\n",
       "[1539 rows x 7 columns]"
      ]
     },
     "execution_count": 2,
     "metadata": {},
     "output_type": "execute_result"
    }
   ],
   "source": [
    "# Loading data from datasets\n",
    "df_capes = pd.read_csv(\"CapesCleanedEnrolled.csv\")\n",
    "df_income = pd.read_csv(\"income_dataset.csv\")\n",
    "df_capes"
   ]
  },
  {
   "cell_type": "code",
   "execution_count": 3,
   "metadata": {},
   "outputs": [],
   "source": [
    "# Standardizing the strings in order to combine \n",
    "def last_name(string):\n",
    "    end = string.find(',')\n",
    "    return string[0:end].upper()\n",
    "\n",
    "def first_name(string):\n",
    "    start = string.find(',')\n",
    "    name = string[start+2:].upper()\n",
    "    space = name.find(' ')\n",
    "    if (space != -1):\n",
    "        return name[:space+2]\n",
    "    return name\n",
    "\n",
    "def uppercase(string):\n",
    "    return string.upper()\n",
    "\n",
    "def first_name_income(string):\n",
    "    name = string.upper()\n",
    "    space = name.find(' ')\n",
    "    if (space != -1):\n",
    "        return name[:space+2]\n",
    "    return name"
   ]
  },
  {
   "cell_type": "code",
   "execution_count": 4,
   "metadata": {
    "scrolled": true
   },
   "outputs": [],
   "source": [
    "# Standardizing Capes Set\n",
    "df_capes['Last Name'] = df_capes['Instructor'].apply(last_name)\n",
    "df_capes['First Name'] = df_capes['Instructor'].apply(first_name)\n",
    "df_capes['Instructor'] = df_capes['Last Name'] + ', ' + df_capes['First Name']\n",
    "\n",
    "# Standardizing Income Set\n",
    "df_income['First Name'] = df_income['First Name'].apply(first_name_income)\n",
    "df_income['Instructor'] = df_income['Last Name'] + ', ' + df_income['First Name']"
   ]
  },
  {
   "cell_type": "code",
   "execution_count": 5,
   "metadata": {
    "scrolled": true
   },
   "outputs": [
    {
     "data": {
      "text/html": [
       "<div>\n",
       "<style scoped>\n",
       "    .dataframe tbody tr th:only-of-type {\n",
       "        vertical-align: middle;\n",
       "    }\n",
       "\n",
       "    .dataframe tbody tr th {\n",
       "        vertical-align: top;\n",
       "    }\n",
       "\n",
       "    .dataframe thead th {\n",
       "        text-align: right;\n",
       "    }\n",
       "</style>\n",
       "<table border=\"1\" class=\"dataframe\">\n",
       "  <thead>\n",
       "    <tr style=\"text-align: right;\">\n",
       "      <th></th>\n",
       "      <th>Title</th>\n",
       "      <th>Regular Pay</th>\n",
       "      <th>Department</th>\n",
       "      <th>Rcmnd Instr</th>\n",
       "      <th>Average Grade Expected</th>\n",
       "      <th>Classes Taught</th>\n",
       "      <th>Enrolled</th>\n",
       "    </tr>\n",
       "  </thead>\n",
       "  <tbody>\n",
       "    <tr>\n",
       "      <th>0</th>\n",
       "      <td>LECTURER - ACADEMIC YEAR</td>\n",
       "      <td>40000.0</td>\n",
       "      <td>Electrical &amp; Computer Eng.</td>\n",
       "      <td>95.120000</td>\n",
       "      <td>3.802000</td>\n",
       "      <td>5.0</td>\n",
       "      <td>196.0</td>\n",
       "    </tr>\n",
       "    <tr>\n",
       "      <th>1</th>\n",
       "      <td>LECTURER - ACADEMIC YEAR - ONE OR TWO QUARTERS</td>\n",
       "      <td>10000.0</td>\n",
       "      <td>Psychology</td>\n",
       "      <td>97.000000</td>\n",
       "      <td>3.250000</td>\n",
       "      <td>1.0</td>\n",
       "      <td>52.0</td>\n",
       "    </tr>\n",
       "    <tr>\n",
       "      <th>2</th>\n",
       "      <td>LECTURER - ACADEMIC YEAR - CONTINUING</td>\n",
       "      <td>50000.0</td>\n",
       "      <td>Chemistry</td>\n",
       "      <td>90.575000</td>\n",
       "      <td>3.115000</td>\n",
       "      <td>4.0</td>\n",
       "      <td>1356.0</td>\n",
       "    </tr>\n",
       "    <tr>\n",
       "      <th>3</th>\n",
       "      <td>LECTURER - ACADEMIC YEAR - ONE OR TWO QUARTERS</td>\n",
       "      <td>20000.0</td>\n",
       "      <td>Mathematics</td>\n",
       "      <td>90.450000</td>\n",
       "      <td>3.350000</td>\n",
       "      <td>2.0</td>\n",
       "      <td>491.0</td>\n",
       "    </tr>\n",
       "    <tr>\n",
       "      <th>4</th>\n",
       "      <td>LECTURER - ACADEMIC YEAR - CONTINUING</td>\n",
       "      <td>130000.0</td>\n",
       "      <td>Education Studies</td>\n",
       "      <td>97.900000</td>\n",
       "      <td>3.980000</td>\n",
       "      <td>1.0</td>\n",
       "      <td>55.0</td>\n",
       "    </tr>\n",
       "    <tr>\n",
       "      <th>...</th>\n",
       "      <td>...</td>\n",
       "      <td>...</td>\n",
       "      <td>...</td>\n",
       "      <td>...</td>\n",
       "      <td>...</td>\n",
       "      <td>...</td>\n",
       "      <td>...</td>\n",
       "    </tr>\n",
       "    <tr>\n",
       "      <th>1030</th>\n",
       "      <td>PROF - ACADEMIC YEAR - B/E/E</td>\n",
       "      <td>200000.0</td>\n",
       "      <td>Rady School of Management</td>\n",
       "      <td>82.200000</td>\n",
       "      <td>3.810000</td>\n",
       "      <td>1.0</td>\n",
       "      <td>52.0</td>\n",
       "    </tr>\n",
       "    <tr>\n",
       "      <th>1031</th>\n",
       "      <td>ASST PROF - ACADEMIC YEAR</td>\n",
       "      <td>100000.0</td>\n",
       "      <td>Chemistry</td>\n",
       "      <td>92.300000</td>\n",
       "      <td>3.125000</td>\n",
       "      <td>2.0</td>\n",
       "      <td>513.0</td>\n",
       "    </tr>\n",
       "    <tr>\n",
       "      <th>1032</th>\n",
       "      <td>VIS ASSOC PROF</td>\n",
       "      <td>140000.0</td>\n",
       "      <td>Rady School of Management</td>\n",
       "      <td>91.216667</td>\n",
       "      <td>3.546667</td>\n",
       "      <td>6.0</td>\n",
       "      <td>401.0</td>\n",
       "    </tr>\n",
       "    <tr>\n",
       "      <th>1033</th>\n",
       "      <td>PROF - ACADEMIC YEAR</td>\n",
       "      <td>140000.0</td>\n",
       "      <td>Mathematics</td>\n",
       "      <td>96.150000</td>\n",
       "      <td>3.210000</td>\n",
       "      <td>2.0</td>\n",
       "      <td>43.0</td>\n",
       "    </tr>\n",
       "    <tr>\n",
       "      <th>1034</th>\n",
       "      <td>PROF - ACADEMIC YEAR</td>\n",
       "      <td>130000.0</td>\n",
       "      <td>Biology</td>\n",
       "      <td>77.350000</td>\n",
       "      <td>3.480000</td>\n",
       "      <td>2.0</td>\n",
       "      <td>149.0</td>\n",
       "    </tr>\n",
       "  </tbody>\n",
       "</table>\n",
       "<p>1035 rows × 7 columns</p>\n",
       "</div>"
      ],
      "text/plain": [
       "                                               Title  Regular Pay  \\\n",
       "0                           LECTURER - ACADEMIC YEAR      40000.0   \n",
       "1     LECTURER - ACADEMIC YEAR - ONE OR TWO QUARTERS      10000.0   \n",
       "2              LECTURER - ACADEMIC YEAR - CONTINUING      50000.0   \n",
       "3     LECTURER - ACADEMIC YEAR - ONE OR TWO QUARTERS      20000.0   \n",
       "4              LECTURER - ACADEMIC YEAR - CONTINUING     130000.0   \n",
       "...                                              ...          ...   \n",
       "1030                    PROF - ACADEMIC YEAR - B/E/E     200000.0   \n",
       "1031                       ASST PROF - ACADEMIC YEAR     100000.0   \n",
       "1032                                  VIS ASSOC PROF     140000.0   \n",
       "1033                            PROF - ACADEMIC YEAR     140000.0   \n",
       "1034                            PROF - ACADEMIC YEAR     130000.0   \n",
       "\n",
       "                      Department  Rcmnd Instr  Average Grade Expected  \\\n",
       "0     Electrical & Computer Eng.    95.120000                3.802000   \n",
       "1                     Psychology    97.000000                3.250000   \n",
       "2                      Chemistry    90.575000                3.115000   \n",
       "3                    Mathematics    90.450000                3.350000   \n",
       "4              Education Studies    97.900000                3.980000   \n",
       "...                          ...          ...                     ...   \n",
       "1030   Rady School of Management    82.200000                3.810000   \n",
       "1031                   Chemistry    92.300000                3.125000   \n",
       "1032   Rady School of Management    91.216667                3.546667   \n",
       "1033                 Mathematics    96.150000                3.210000   \n",
       "1034                     Biology    77.350000                3.480000   \n",
       "\n",
       "      Classes Taught  Enrolled  \n",
       "0                5.0     196.0  \n",
       "1                1.0      52.0  \n",
       "2                4.0    1356.0  \n",
       "3                2.0     491.0  \n",
       "4                1.0      55.0  \n",
       "...              ...       ...  \n",
       "1030             1.0      52.0  \n",
       "1031             2.0     513.0  \n",
       "1032             6.0     401.0  \n",
       "1033             2.0      43.0  \n",
       "1034             2.0     149.0  \n",
       "\n",
       "[1035 rows x 7 columns]"
      ]
     },
     "execution_count": 5,
     "metadata": {},
     "output_type": "execute_result"
    }
   ],
   "source": [
    "# Merge datasets and get rid of merge columns\n",
    "df = df_income.merge(df_capes, on=['Instructor'])\n",
    "df = df.drop(['Unnamed: 0_x', 'Last Name_x', 'First Name_x', 'Instructor', 'Unnamed: 0_y', 'Last Name_y', 'First Name_y'], axis=1)\n",
    "df"
   ]
  },
  {
   "cell_type": "code",
   "execution_count": 6,
   "metadata": {},
   "outputs": [],
   "source": [
    "# Adding new column to adjust pay for amount of students taught\n",
    "df['Pay per Student'] = df['Regular Pay'] / df['Enrolled']"
   ]
  },
  {
   "cell_type": "markdown",
   "metadata": {},
   "source": [
    "# Start of Data Analysis"
   ]
  },
  {
   "cell_type": "markdown",
   "metadata": {},
   "source": [
    "## Distributions and Getting rid of Outliers"
   ]
  },
  {
   "cell_type": "code",
   "execution_count": 7,
   "metadata": {},
   "outputs": [
    {
     "data": {
      "text/plain": [
       "(array([934.,  62.,  17.,   8.,   7.,   4.,   2.,   0.,   0.,   1.]),\n",
       " array([1.09289617e+01, 4.00983607e+03, 8.00874317e+03, 1.20076503e+04,\n",
       "        1.60065574e+04, 2.00054645e+04, 2.40043716e+04, 2.80032787e+04,\n",
       "        3.20021858e+04, 3.60010929e+04, 4.00000000e+04]),\n",
       " <a list of 10 Patch objects>)"
      ]
     },
     "execution_count": 7,
     "metadata": {},
     "output_type": "execute_result"
    },
    {
     "data": {
      "image/png": "[encoded data removed]",
      "text/plain": [
       "<Figure size 432x288 with 1 Axes>"
      ]
     },
     "metadata": {
      "needs_background": "light"
     },
     "output_type": "display_data"
    }
   ],
   "source": [
    "# Distribution for Pay per Student\n",
    "# Highly right skewed\n",
    "plt.hist(df['Pay per Student'])"
   ]
  },
  {
   "cell_type": "code",
   "execution_count": 8,
   "metadata": {},
   "outputs": [
    {
     "name": "stdout",
     "output_type": "stream",
     "text": [
      "Lower 25:  -1864.0041980974304 \n",
      "Upper 25:  3737.8382555355743\n"
     ]
    },
    {
     "data": {
      "text/html": [
       "<div>\n",
       "<style scoped>\n",
       "    .dataframe tbody tr th:only-of-type {\n",
       "        vertical-align: middle;\n",
       "    }\n",
       "\n",
       "    .dataframe tbody tr th {\n",
       "        vertical-align: top;\n",
       "    }\n",
       "\n",
       "    .dataframe thead th {\n",
       "        text-align: right;\n",
       "    }\n",
       "</style>\n",
       "<table border=\"1\" class=\"dataframe\">\n",
       "  <thead>\n",
       "    <tr style=\"text-align: right;\">\n",
       "      <th></th>\n",
       "      <th>Title</th>\n",
       "      <th>Regular Pay</th>\n",
       "      <th>Department</th>\n",
       "      <th>Rcmnd Instr</th>\n",
       "      <th>Average Grade Expected</th>\n",
       "      <th>Classes Taught</th>\n",
       "      <th>Enrolled</th>\n",
       "      <th>Pay per Student</th>\n",
       "    </tr>\n",
       "  </thead>\n",
       "  <tbody>\n",
       "    <tr>\n",
       "      <th>0</th>\n",
       "      <td>LECTURER - ACADEMIC YEAR</td>\n",
       "      <td>40000.0</td>\n",
       "      <td>Electrical &amp; Computer Eng.</td>\n",
       "      <td>95.120000</td>\n",
       "      <td>3.802000</td>\n",
       "      <td>5.0</td>\n",
       "      <td>196.0</td>\n",
       "      <td>204.081633</td>\n",
       "    </tr>\n",
       "    <tr>\n",
       "      <th>1</th>\n",
       "      <td>LECTURER - ACADEMIC YEAR - ONE OR TWO QUARTERS</td>\n",
       "      <td>10000.0</td>\n",
       "      <td>Psychology</td>\n",
       "      <td>97.000000</td>\n",
       "      <td>3.250000</td>\n",
       "      <td>1.0</td>\n",
       "      <td>52.0</td>\n",
       "      <td>192.307692</td>\n",
       "    </tr>\n",
       "    <tr>\n",
       "      <th>2</th>\n",
       "      <td>LECTURER - ACADEMIC YEAR - CONTINUING</td>\n",
       "      <td>50000.0</td>\n",
       "      <td>Chemistry</td>\n",
       "      <td>90.575000</td>\n",
       "      <td>3.115000</td>\n",
       "      <td>4.0</td>\n",
       "      <td>1356.0</td>\n",
       "      <td>36.873156</td>\n",
       "    </tr>\n",
       "    <tr>\n",
       "      <th>3</th>\n",
       "      <td>LECTURER - ACADEMIC YEAR - ONE OR TWO QUARTERS</td>\n",
       "      <td>20000.0</td>\n",
       "      <td>Mathematics</td>\n",
       "      <td>90.450000</td>\n",
       "      <td>3.350000</td>\n",
       "      <td>2.0</td>\n",
       "      <td>491.0</td>\n",
       "      <td>40.733198</td>\n",
       "    </tr>\n",
       "    <tr>\n",
       "      <th>4</th>\n",
       "      <td>LECTURER - ACADEMIC YEAR - CONTINUING</td>\n",
       "      <td>130000.0</td>\n",
       "      <td>Education Studies</td>\n",
       "      <td>97.900000</td>\n",
       "      <td>3.980000</td>\n",
       "      <td>1.0</td>\n",
       "      <td>55.0</td>\n",
       "      <td>2363.636364</td>\n",
       "    </tr>\n",
       "    <tr>\n",
       "      <th>...</th>\n",
       "      <td>...</td>\n",
       "      <td>...</td>\n",
       "      <td>...</td>\n",
       "      <td>...</td>\n",
       "      <td>...</td>\n",
       "      <td>...</td>\n",
       "      <td>...</td>\n",
       "      <td>...</td>\n",
       "    </tr>\n",
       "    <tr>\n",
       "      <th>1029</th>\n",
       "      <td>ASSOC PROF - ACADEMIC YEAR - B/E/E</td>\n",
       "      <td>120000.0</td>\n",
       "      <td>other</td>\n",
       "      <td>97.033333</td>\n",
       "      <td>3.196667</td>\n",
       "      <td>3.0</td>\n",
       "      <td>305.0</td>\n",
       "      <td>393.442623</td>\n",
       "    </tr>\n",
       "    <tr>\n",
       "      <th>1031</th>\n",
       "      <td>ASST PROF - ACADEMIC YEAR</td>\n",
       "      <td>100000.0</td>\n",
       "      <td>Chemistry</td>\n",
       "      <td>92.300000</td>\n",
       "      <td>3.125000</td>\n",
       "      <td>2.0</td>\n",
       "      <td>513.0</td>\n",
       "      <td>194.931774</td>\n",
       "    </tr>\n",
       "    <tr>\n",
       "      <th>1032</th>\n",
       "      <td>VIS ASSOC PROF</td>\n",
       "      <td>140000.0</td>\n",
       "      <td>Rady School of Management</td>\n",
       "      <td>91.216667</td>\n",
       "      <td>3.546667</td>\n",
       "      <td>6.0</td>\n",
       "      <td>401.0</td>\n",
       "      <td>349.127182</td>\n",
       "    </tr>\n",
       "    <tr>\n",
       "      <th>1033</th>\n",
       "      <td>PROF - ACADEMIC YEAR</td>\n",
       "      <td>140000.0</td>\n",
       "      <td>Mathematics</td>\n",
       "      <td>96.150000</td>\n",
       "      <td>3.210000</td>\n",
       "      <td>2.0</td>\n",
       "      <td>43.0</td>\n",
       "      <td>3255.813953</td>\n",
       "    </tr>\n",
       "    <tr>\n",
       "      <th>1034</th>\n",
       "      <td>PROF - ACADEMIC YEAR</td>\n",
       "      <td>130000.0</td>\n",
       "      <td>Biology</td>\n",
       "      <td>77.350000</td>\n",
       "      <td>3.480000</td>\n",
       "      <td>2.0</td>\n",
       "      <td>149.0</td>\n",
       "      <td>872.483221</td>\n",
       "    </tr>\n",
       "  </tbody>\n",
       "</table>\n",
       "<p>927 rows × 8 columns</p>\n",
       "</div>"
      ],
      "text/plain": [
       "                                               Title  Regular Pay  \\\n",
       "0                           LECTURER - ACADEMIC YEAR      40000.0   \n",
       "1     LECTURER - ACADEMIC YEAR - ONE OR TWO QUARTERS      10000.0   \n",
       "2              LECTURER - ACADEMIC YEAR - CONTINUING      50000.0   \n",
       "3     LECTURER - ACADEMIC YEAR - ONE OR TWO QUARTERS      20000.0   \n",
       "4              LECTURER - ACADEMIC YEAR - CONTINUING     130000.0   \n",
       "...                                              ...          ...   \n",
       "1029              ASSOC PROF - ACADEMIC YEAR - B/E/E     120000.0   \n",
       "1031                       ASST PROF - ACADEMIC YEAR     100000.0   \n",
       "1032                                  VIS ASSOC PROF     140000.0   \n",
       "1033                            PROF - ACADEMIC YEAR     140000.0   \n",
       "1034                            PROF - ACADEMIC YEAR     130000.0   \n",
       "\n",
       "                      Department  Rcmnd Instr  Average Grade Expected  \\\n",
       "0     Electrical & Computer Eng.    95.120000                3.802000   \n",
       "1                     Psychology    97.000000                3.250000   \n",
       "2                      Chemistry    90.575000                3.115000   \n",
       "3                    Mathematics    90.450000                3.350000   \n",
       "4              Education Studies    97.900000                3.980000   \n",
       "...                          ...          ...                     ...   \n",
       "1029                       other    97.033333                3.196667   \n",
       "1031                   Chemistry    92.300000                3.125000   \n",
       "1032   Rady School of Management    91.216667                3.546667   \n",
       "1033                 Mathematics    96.150000                3.210000   \n",
       "1034                     Biology    77.350000                3.480000   \n",
       "\n",
       "      Classes Taught  Enrolled  Pay per Student  \n",
       "0                5.0     196.0       204.081633  \n",
       "1                1.0      52.0       192.307692  \n",
       "2                4.0    1356.0        36.873156  \n",
       "3                2.0     491.0        40.733198  \n",
       "4                1.0      55.0      2363.636364  \n",
       "...              ...       ...              ...  \n",
       "1029             3.0     305.0       393.442623  \n",
       "1031             2.0     513.0       194.931774  \n",
       "1032             6.0     401.0       349.127182  \n",
       "1033             2.0      43.0      3255.813953  \n",
       "1034             2.0     149.0       872.483221  \n",
       "\n",
       "[927 rows x 8 columns]"
      ]
     },
     "execution_count": 8,
     "metadata": {},
     "output_type": "execute_result"
    }
   ],
   "source": [
    "# Determine Outliers for Pay per Student\n",
    "lower, upper = np.percentile(df['Pay per Student'], [25, 75])\n",
    "iqr = upper - lower\n",
    "lower_cutoff = lower - 1.5 * iqr\n",
    "upper_cutoff = upper + 1.5 * iqr\n",
    "print(\"Lower 25: \", lower_cutoff, \"\\nUpper 25: \", upper_cutoff)\n",
    "\n",
    "df = (df[(df['Pay per Student'] >= lower_cutoff) & (df['Pay per Student'] <= upper_cutoff)])\n",
    "df"
   ]
  },
  {
   "cell_type": "code",
   "execution_count": 9,
   "metadata": {},
   "outputs": [
    {
     "data": {
      "text/plain": [
       "(array([367., 209., 107.,  70.,  55.,  33.,  36.,  17.,  23.,  10.]),\n",
       " array([  10.92896175,  381.264637  ,  751.60031226, 1121.93598751,\n",
       "        1492.27166276, 1862.60733802, 2232.94301327, 2603.27868852,\n",
       "        2973.61436378, 3343.95003903, 3714.28571429]),\n",
       " <a list of 10 Patch objects>)"
      ]
     },
     "execution_count": 9,
     "metadata": {},
     "output_type": "execute_result"
    },
    {
     "data": {
      "image/png": "[encoded data removed]",
      "text/plain": [
       "<Figure size 432x288 with 1 Axes>"
      ]
     },
     "metadata": {
      "needs_background": "light"
     },
     "output_type": "display_data"
    }
   ],
   "source": [
    "# Distribution for Pay per Student after outliers were removed\n",
    "plt.hist(df['Pay per Student'])"
   ]
  },
  {
   "cell_type": "code",
   "execution_count": 10,
   "metadata": {},
   "outputs": [
    {
     "data": {
      "text/plain": [
       "(array([  1.,   2.,   4.,   5.,  15.,  22.,  47.,  98., 186., 547.]),\n",
       " array([  4.7 ,  14.23,  23.76,  33.29,  42.82,  52.35,  61.88,  71.41,\n",
       "         80.94,  90.47, 100.  ]),\n",
       " <a list of 10 Patch objects>)"
      ]
     },
     "execution_count": 10,
     "metadata": {},
     "output_type": "execute_result"
    },
    {
     "data": {
      "image/png": "[encoded data removed]",
      "text/plain": [
       "<Figure size 432x288 with 1 Axes>"
      ]
     },
     "metadata": {
      "needs_background": "light"
     },
     "output_type": "display_data"
    }
   ],
   "source": [
    "# Distribution for Instructor Recommendation\n",
    "# Highly left skewed\n",
    "plt.hist(df['Rcmnd Instr'])"
   ]
  },
  {
   "cell_type": "code",
   "execution_count": 11,
   "metadata": {},
   "outputs": [
    {
     "name": "stdout",
     "output_type": "stream",
     "text": [
      "Lower 25:  62.355357142857166 \n",
      "Upper 25:  118.76011904761904\n"
     ]
    },
    {
     "data": {
      "text/html": [
       "<div>\n",
       "<style scoped>\n",
       "    .dataframe tbody tr th:only-of-type {\n",
       "        vertical-align: middle;\n",
       "    }\n",
       "\n",
       "    .dataframe tbody tr th {\n",
       "        vertical-align: top;\n",
       "    }\n",
       "\n",
       "    .dataframe thead th {\n",
       "        text-align: right;\n",
       "    }\n",
       "</style>\n",
       "<table border=\"1\" class=\"dataframe\">\n",
       "  <thead>\n",
       "    <tr style=\"text-align: right;\">\n",
       "      <th></th>\n",
       "      <th>Title</th>\n",
       "      <th>Regular Pay</th>\n",
       "      <th>Department</th>\n",
       "      <th>Rcmnd Instr</th>\n",
       "      <th>Average Grade Expected</th>\n",
       "      <th>Classes Taught</th>\n",
       "      <th>Enrolled</th>\n",
       "      <th>Pay per Student</th>\n",
       "    </tr>\n",
       "  </thead>\n",
       "  <tbody>\n",
       "    <tr>\n",
       "      <th>0</th>\n",
       "      <td>LECTURER - ACADEMIC YEAR</td>\n",
       "      <td>40000.0</td>\n",
       "      <td>Electrical &amp; Computer Eng.</td>\n",
       "      <td>95.120000</td>\n",
       "      <td>3.802000</td>\n",
       "      <td>5.0</td>\n",
       "      <td>196.0</td>\n",
       "      <td>204.081633</td>\n",
       "    </tr>\n",
       "    <tr>\n",
       "      <th>1</th>\n",
       "      <td>LECTURER - ACADEMIC YEAR - ONE OR TWO QUARTERS</td>\n",
       "      <td>10000.0</td>\n",
       "      <td>Psychology</td>\n",
       "      <td>97.000000</td>\n",
       "      <td>3.250000</td>\n",
       "      <td>1.0</td>\n",
       "      <td>52.0</td>\n",
       "      <td>192.307692</td>\n",
       "    </tr>\n",
       "    <tr>\n",
       "      <th>2</th>\n",
       "      <td>LECTURER - ACADEMIC YEAR - CONTINUING</td>\n",
       "      <td>50000.0</td>\n",
       "      <td>Chemistry</td>\n",
       "      <td>90.575000</td>\n",
       "      <td>3.115000</td>\n",
       "      <td>4.0</td>\n",
       "      <td>1356.0</td>\n",
       "      <td>36.873156</td>\n",
       "    </tr>\n",
       "    <tr>\n",
       "      <th>3</th>\n",
       "      <td>LECTURER - ACADEMIC YEAR - ONE OR TWO QUARTERS</td>\n",
       "      <td>20000.0</td>\n",
       "      <td>Mathematics</td>\n",
       "      <td>90.450000</td>\n",
       "      <td>3.350000</td>\n",
       "      <td>2.0</td>\n",
       "      <td>491.0</td>\n",
       "      <td>40.733198</td>\n",
       "    </tr>\n",
       "    <tr>\n",
       "      <th>4</th>\n",
       "      <td>LECTURER - ACADEMIC YEAR - CONTINUING</td>\n",
       "      <td>130000.0</td>\n",
       "      <td>Education Studies</td>\n",
       "      <td>97.900000</td>\n",
       "      <td>3.980000</td>\n",
       "      <td>1.0</td>\n",
       "      <td>55.0</td>\n",
       "      <td>2363.636364</td>\n",
       "    </tr>\n",
       "    <tr>\n",
       "      <th>...</th>\n",
       "      <td>...</td>\n",
       "      <td>...</td>\n",
       "      <td>...</td>\n",
       "      <td>...</td>\n",
       "      <td>...</td>\n",
       "      <td>...</td>\n",
       "      <td>...</td>\n",
       "      <td>...</td>\n",
       "    </tr>\n",
       "    <tr>\n",
       "      <th>1029</th>\n",
       "      <td>ASSOC PROF - ACADEMIC YEAR - B/E/E</td>\n",
       "      <td>120000.0</td>\n",
       "      <td>other</td>\n",
       "      <td>97.033333</td>\n",
       "      <td>3.196667</td>\n",
       "      <td>3.0</td>\n",
       "      <td>305.0</td>\n",
       "      <td>393.442623</td>\n",
       "    </tr>\n",
       "    <tr>\n",
       "      <th>1031</th>\n",
       "      <td>ASST PROF - ACADEMIC YEAR</td>\n",
       "      <td>100000.0</td>\n",
       "      <td>Chemistry</td>\n",
       "      <td>92.300000</td>\n",
       "      <td>3.125000</td>\n",
       "      <td>2.0</td>\n",
       "      <td>513.0</td>\n",
       "      <td>194.931774</td>\n",
       "    </tr>\n",
       "    <tr>\n",
       "      <th>1032</th>\n",
       "      <td>VIS ASSOC PROF</td>\n",
       "      <td>140000.0</td>\n",
       "      <td>Rady School of Management</td>\n",
       "      <td>91.216667</td>\n",
       "      <td>3.546667</td>\n",
       "      <td>6.0</td>\n",
       "      <td>401.0</td>\n",
       "      <td>349.127182</td>\n",
       "    </tr>\n",
       "    <tr>\n",
       "      <th>1033</th>\n",
       "      <td>PROF - ACADEMIC YEAR</td>\n",
       "      <td>140000.0</td>\n",
       "      <td>Mathematics</td>\n",
       "      <td>96.150000</td>\n",
       "      <td>3.210000</td>\n",
       "      <td>2.0</td>\n",
       "      <td>43.0</td>\n",
       "      <td>3255.813953</td>\n",
       "    </tr>\n",
       "    <tr>\n",
       "      <th>1034</th>\n",
       "      <td>PROF - ACADEMIC YEAR</td>\n",
       "      <td>130000.0</td>\n",
       "      <td>Biology</td>\n",
       "      <td>77.350000</td>\n",
       "      <td>3.480000</td>\n",
       "      <td>2.0</td>\n",
       "      <td>149.0</td>\n",
       "      <td>872.483221</td>\n",
       "    </tr>\n",
       "  </tbody>\n",
       "</table>\n",
       "<p>876 rows × 8 columns</p>\n",
       "</div>"
      ],
      "text/plain": [
       "                                               Title  Regular Pay  \\\n",
       "0                           LECTURER - ACADEMIC YEAR      40000.0   \n",
       "1     LECTURER - ACADEMIC YEAR - ONE OR TWO QUARTERS      10000.0   \n",
       "2              LECTURER - ACADEMIC YEAR - CONTINUING      50000.0   \n",
       "3     LECTURER - ACADEMIC YEAR - ONE OR TWO QUARTERS      20000.0   \n",
       "4              LECTURER - ACADEMIC YEAR - CONTINUING     130000.0   \n",
       "...                                              ...          ...   \n",
       "1029              ASSOC PROF - ACADEMIC YEAR - B/E/E     120000.0   \n",
       "1031                       ASST PROF - ACADEMIC YEAR     100000.0   \n",
       "1032                                  VIS ASSOC PROF     140000.0   \n",
       "1033                            PROF - ACADEMIC YEAR     140000.0   \n",
       "1034                            PROF - ACADEMIC YEAR     130000.0   \n",
       "\n",
       "                      Department  Rcmnd Instr  Average Grade Expected  \\\n",
       "0     Electrical & Computer Eng.    95.120000                3.802000   \n",
       "1                     Psychology    97.000000                3.250000   \n",
       "2                      Chemistry    90.575000                3.115000   \n",
       "3                    Mathematics    90.450000                3.350000   \n",
       "4              Education Studies    97.900000                3.980000   \n",
       "...                          ...          ...                     ...   \n",
       "1029                       other    97.033333                3.196667   \n",
       "1031                   Chemistry    92.300000                3.125000   \n",
       "1032   Rady School of Management    91.216667                3.546667   \n",
       "1033                 Mathematics    96.150000                3.210000   \n",
       "1034                     Biology    77.350000                3.480000   \n",
       "\n",
       "      Classes Taught  Enrolled  Pay per Student  \n",
       "0                5.0     196.0       204.081633  \n",
       "1                1.0      52.0       192.307692  \n",
       "2                4.0    1356.0        36.873156  \n",
       "3                2.0     491.0        40.733198  \n",
       "4                1.0      55.0      2363.636364  \n",
       "...              ...       ...              ...  \n",
       "1029             3.0     305.0       393.442623  \n",
       "1031             2.0     513.0       194.931774  \n",
       "1032             6.0     401.0       349.127182  \n",
       "1033             2.0      43.0      3255.813953  \n",
       "1034             2.0     149.0       872.483221  \n",
       "\n",
       "[876 rows x 8 columns]"
      ]
     },
     "execution_count": 11,
     "metadata": {},
     "output_type": "execute_result"
    }
   ],
   "source": [
    "# Determine Outliers for Recommendations\n",
    "lower, upper = np.percentile(df['Rcmnd Instr'], [25, 75])\n",
    "iqr = upper - lower\n",
    "lower_cutoff = lower - 1.5 * iqr\n",
    "upper_cutoff = upper + 1.5 * iqr\n",
    "print(\"Lower 25: \", lower_cutoff, \"\\nUpper 25: \", upper_cutoff)\n",
    "\n",
    "df = (df[(df['Rcmnd Instr'] >= lower_cutoff) & (df['Rcmnd Instr'] <= upper_cutoff)])\n",
    "df"
   ]
  },
  {
   "cell_type": "code",
   "execution_count": 12,
   "metadata": {},
   "outputs": [
    {
     "data": {
      "text/plain": [
       "(array([ 18.,  15.,  27.,  33.,  51.,  57.,  77., 109., 189., 300.]),\n",
       " array([ 62.45 ,  66.205,  69.96 ,  73.715,  77.47 ,  81.225,  84.98 ,\n",
       "         88.735,  92.49 ,  96.245, 100.   ]),\n",
       " <a list of 10 Patch objects>)"
      ]
     },
     "execution_count": 12,
     "metadata": {},
     "output_type": "execute_result"
    },
    {
     "data": {
      "image/png": "[encoded data removed]",
      "text/plain": [
       "<Figure size 432x288 with 1 Axes>"
      ]
     },
     "metadata": {
      "needs_background": "light"
     },
     "output_type": "display_data"
    }
   ],
   "source": [
    "# Distribution for Instructor Recommendation after outliers were removed\n",
    "plt.hist(df['Rcmnd Instr'])"
   ]
  },
  {
   "cell_type": "code",
   "execution_count": 13,
   "metadata": {},
   "outputs": [
    {
     "data": {
      "text/plain": [
       "(array([  2.,   8.,  15.,  32.,  92., 169., 181., 166., 136.,  75.]),\n",
       " array([2.39 , 2.551, 2.712, 2.873, 3.034, 3.195, 3.356, 3.517, 3.678,\n",
       "        3.839, 4.   ]),\n",
       " <a list of 10 Patch objects>)"
      ]
     },
     "execution_count": 13,
     "metadata": {},
     "output_type": "execute_result"
    },
    {
     "data": {
      "image/png": "[encoded data removed]",
      "text/plain": [
       "<Figure size 432x288 with 1 Axes>"
      ]
     },
     "metadata": {
      "needs_background": "light"
     },
     "output_type": "display_data"
    }
   ],
   "source": [
    "# Distribution for Grade Expected\n",
    "# Somewhat normally distributed\n",
    "plt.hist(df['Average Grade Expected'])"
   ]
  },
  {
   "cell_type": "code",
   "execution_count": 14,
   "metadata": {},
   "outputs": [
    {
     "name": "stdout",
     "output_type": "stream",
     "text": [
      "Lower 25:  2.67 \n",
      "Upper 25:  4.27\n"
     ]
    },
    {
     "data": {
      "text/html": [
       "<div>\n",
       "<style scoped>\n",
       "    .dataframe tbody tr th:only-of-type {\n",
       "        vertical-align: middle;\n",
       "    }\n",
       "\n",
       "    .dataframe tbody tr th {\n",
       "        vertical-align: top;\n",
       "    }\n",
       "\n",
       "    .dataframe thead th {\n",
       "        text-align: right;\n",
       "    }\n",
       "</style>\n",
       "<table border=\"1\" class=\"dataframe\">\n",
       "  <thead>\n",
       "    <tr style=\"text-align: right;\">\n",
       "      <th></th>\n",
       "      <th>Title</th>\n",
       "      <th>Regular Pay</th>\n",
       "      <th>Department</th>\n",
       "      <th>Rcmnd Instr</th>\n",
       "      <th>Average Grade Expected</th>\n",
       "      <th>Classes Taught</th>\n",
       "      <th>Enrolled</th>\n",
       "      <th>Pay per Student</th>\n",
       "    </tr>\n",
       "  </thead>\n",
       "  <tbody>\n",
       "    <tr>\n",
       "      <th>0</th>\n",
       "      <td>LECTURER - ACADEMIC YEAR</td>\n",
       "      <td>40000.0</td>\n",
       "      <td>Electrical &amp; Computer Eng.</td>\n",
       "      <td>95.120000</td>\n",
       "      <td>3.802000</td>\n",
       "      <td>5.0</td>\n",
       "      <td>196.0</td>\n",
       "      <td>204.081633</td>\n",
       "    </tr>\n",
       "    <tr>\n",
       "      <th>1</th>\n",
       "      <td>LECTURER - ACADEMIC YEAR - ONE OR TWO QUARTERS</td>\n",
       "      <td>10000.0</td>\n",
       "      <td>Psychology</td>\n",
       "      <td>97.000000</td>\n",
       "      <td>3.250000</td>\n",
       "      <td>1.0</td>\n",
       "      <td>52.0</td>\n",
       "      <td>192.307692</td>\n",
       "    </tr>\n",
       "    <tr>\n",
       "      <th>2</th>\n",
       "      <td>LECTURER - ACADEMIC YEAR - CONTINUING</td>\n",
       "      <td>50000.0</td>\n",
       "      <td>Chemistry</td>\n",
       "      <td>90.575000</td>\n",
       "      <td>3.115000</td>\n",
       "      <td>4.0</td>\n",
       "      <td>1356.0</td>\n",
       "      <td>36.873156</td>\n",
       "    </tr>\n",
       "    <tr>\n",
       "      <th>3</th>\n",
       "      <td>LECTURER - ACADEMIC YEAR - ONE OR TWO QUARTERS</td>\n",
       "      <td>20000.0</td>\n",
       "      <td>Mathematics</td>\n",
       "      <td>90.450000</td>\n",
       "      <td>3.350000</td>\n",
       "      <td>2.0</td>\n",
       "      <td>491.0</td>\n",
       "      <td>40.733198</td>\n",
       "    </tr>\n",
       "    <tr>\n",
       "      <th>4</th>\n",
       "      <td>LECTURER - ACADEMIC YEAR - CONTINUING</td>\n",
       "      <td>130000.0</td>\n",
       "      <td>Education Studies</td>\n",
       "      <td>97.900000</td>\n",
       "      <td>3.980000</td>\n",
       "      <td>1.0</td>\n",
       "      <td>55.0</td>\n",
       "      <td>2363.636364</td>\n",
       "    </tr>\n",
       "    <tr>\n",
       "      <th>...</th>\n",
       "      <td>...</td>\n",
       "      <td>...</td>\n",
       "      <td>...</td>\n",
       "      <td>...</td>\n",
       "      <td>...</td>\n",
       "      <td>...</td>\n",
       "      <td>...</td>\n",
       "      <td>...</td>\n",
       "    </tr>\n",
       "    <tr>\n",
       "      <th>1029</th>\n",
       "      <td>ASSOC PROF - ACADEMIC YEAR - B/E/E</td>\n",
       "      <td>120000.0</td>\n",
       "      <td>other</td>\n",
       "      <td>97.033333</td>\n",
       "      <td>3.196667</td>\n",
       "      <td>3.0</td>\n",
       "      <td>305.0</td>\n",
       "      <td>393.442623</td>\n",
       "    </tr>\n",
       "    <tr>\n",
       "      <th>1031</th>\n",
       "      <td>ASST PROF - ACADEMIC YEAR</td>\n",
       "      <td>100000.0</td>\n",
       "      <td>Chemistry</td>\n",
       "      <td>92.300000</td>\n",
       "      <td>3.125000</td>\n",
       "      <td>2.0</td>\n",
       "      <td>513.0</td>\n",
       "      <td>194.931774</td>\n",
       "    </tr>\n",
       "    <tr>\n",
       "      <th>1032</th>\n",
       "      <td>VIS ASSOC PROF</td>\n",
       "      <td>140000.0</td>\n",
       "      <td>Rady School of Management</td>\n",
       "      <td>91.216667</td>\n",
       "      <td>3.546667</td>\n",
       "      <td>6.0</td>\n",
       "      <td>401.0</td>\n",
       "      <td>349.127182</td>\n",
       "    </tr>\n",
       "    <tr>\n",
       "      <th>1033</th>\n",
       "      <td>PROF - ACADEMIC YEAR</td>\n",
       "      <td>140000.0</td>\n",
       "      <td>Mathematics</td>\n",
       "      <td>96.150000</td>\n",
       "      <td>3.210000</td>\n",
       "      <td>2.0</td>\n",
       "      <td>43.0</td>\n",
       "      <td>3255.813953</td>\n",
       "    </tr>\n",
       "    <tr>\n",
       "      <th>1034</th>\n",
       "      <td>PROF - ACADEMIC YEAR</td>\n",
       "      <td>130000.0</td>\n",
       "      <td>Biology</td>\n",
       "      <td>77.350000</td>\n",
       "      <td>3.480000</td>\n",
       "      <td>2.0</td>\n",
       "      <td>149.0</td>\n",
       "      <td>872.483221</td>\n",
       "    </tr>\n",
       "  </tbody>\n",
       "</table>\n",
       "<p>868 rows × 8 columns</p>\n",
       "</div>"
      ],
      "text/plain": [
       "                                               Title  Regular Pay  \\\n",
       "0                           LECTURER - ACADEMIC YEAR      40000.0   \n",
       "1     LECTURER - ACADEMIC YEAR - ONE OR TWO QUARTERS      10000.0   \n",
       "2              LECTURER - ACADEMIC YEAR - CONTINUING      50000.0   \n",
       "3     LECTURER - ACADEMIC YEAR - ONE OR TWO QUARTERS      20000.0   \n",
       "4              LECTURER - ACADEMIC YEAR - CONTINUING     130000.0   \n",
       "...                                              ...          ...   \n",
       "1029              ASSOC PROF - ACADEMIC YEAR - B/E/E     120000.0   \n",
       "1031                       ASST PROF - ACADEMIC YEAR     100000.0   \n",
       "1032                                  VIS ASSOC PROF     140000.0   \n",
       "1033                            PROF - ACADEMIC YEAR     140000.0   \n",
       "1034                            PROF - ACADEMIC YEAR     130000.0   \n",
       "\n",
       "                      Department  Rcmnd Instr  Average Grade Expected  \\\n",
       "0     Electrical & Computer Eng.    95.120000                3.802000   \n",
       "1                     Psychology    97.000000                3.250000   \n",
       "2                      Chemistry    90.575000                3.115000   \n",
       "3                    Mathematics    90.450000                3.350000   \n",
       "4              Education Studies    97.900000                3.980000   \n",
       "...                          ...          ...                     ...   \n",
       "1029                       other    97.033333                3.196667   \n",
       "1031                   Chemistry    92.300000                3.125000   \n",
       "1032   Rady School of Management    91.216667                3.546667   \n",
       "1033                 Mathematics    96.150000                3.210000   \n",
       "1034                     Biology    77.350000                3.480000   \n",
       "\n",
       "      Classes Taught  Enrolled  Pay per Student  \n",
       "0                5.0     196.0       204.081633  \n",
       "1                1.0      52.0       192.307692  \n",
       "2                4.0    1356.0        36.873156  \n",
       "3                2.0     491.0        40.733198  \n",
       "4                1.0      55.0      2363.636364  \n",
       "...              ...       ...              ...  \n",
       "1029             3.0     305.0       393.442623  \n",
       "1031             2.0     513.0       194.931774  \n",
       "1032             6.0     401.0       349.127182  \n",
       "1033             2.0      43.0      3255.813953  \n",
       "1034             2.0     149.0       872.483221  \n",
       "\n",
       "[868 rows x 8 columns]"
      ]
     },
     "execution_count": 14,
     "metadata": {},
     "output_type": "execute_result"
    }
   ],
   "source": [
    "# Determine Outliers for Average Grade Expected\n",
    "lower, upper = np.percentile(df['Average Grade Expected'], [25, 75])\n",
    "iqr = upper - lower\n",
    "lower_cutoff = lower - 1.5 * iqr\n",
    "upper_cutoff = upper + 1.5 * iqr\n",
    "print(\"Lower 25: \", lower_cutoff, \"\\nUpper 25: \", upper_cutoff)\n",
    "\n",
    "df = (df[(df['Average Grade Expected'] >= lower_cutoff) & (df['Average Grade Expected'] <= upper_cutoff)])\n",
    "df"
   ]
  },
  {
   "cell_type": "code",
   "execution_count": 15,
   "metadata": {},
   "outputs": [
    {
     "data": {
      "text/plain": [
       "(array([  8.,  16.,  30.,  91., 147., 138., 148., 124., 101.,  65.]),\n",
       " array([2.67 , 2.803, 2.936, 3.069, 3.202, 3.335, 3.468, 3.601, 3.734,\n",
       "        3.867, 4.   ]),\n",
       " <a list of 10 Patch objects>)"
      ]
     },
     "execution_count": 15,
     "metadata": {},
     "output_type": "execute_result"
    },
    {
     "data": {
      "image/png": "[encoded data removed]",
      "text/plain": [
       "<Figure size 432x288 with 1 Axes>"
      ]
     },
     "metadata": {
      "needs_background": "light"
     },
     "output_type": "display_data"
    }
   ],
   "source": [
    "# Distribution for Grade Expected after outliers were removed\n",
    "plt.hist(df['Average Grade Expected'])"
   ]
  },
  {
   "cell_type": "code",
   "execution_count": 16,
   "metadata": {},
   "outputs": [
    {
     "data": {
      "text/plain": [
       "<matplotlib.axes._subplots.AxesSubplot at 0x128cca210>"
      ]
     },
     "execution_count": 16,
     "metadata": {},
     "output_type": "execute_result"
    },
    {
     "data": {
      "image/png": "[encoded data removed]",
      "text/plain": [
       "<Figure size 432x288 with 1 Axes>"
      ]
     },
     "metadata": {
      "needs_background": "light"
     },
     "output_type": "display_data"
    }
   ],
   "source": [
    "df['Department'].value_counts().plot(kind='barh')"
   ]
  },
  {
   "cell_type": "code",
   "execution_count": 17,
   "metadata": {},
   "outputs": [
    {
     "name": "stdout",
     "output_type": "stream",
     "text": [
      "Lower 25:  -33.5 \n",
      "Upper 25:  66.5\n"
     ]
    },
    {
     "data": {
      "text/html": [
       "<div>\n",
       "<style scoped>\n",
       "    .dataframe tbody tr th:only-of-type {\n",
       "        vertical-align: middle;\n",
       "    }\n",
       "\n",
       "    .dataframe tbody tr th {\n",
       "        vertical-align: top;\n",
       "    }\n",
       "\n",
       "    .dataframe thead th {\n",
       "        text-align: right;\n",
       "    }\n",
       "</style>\n",
       "<table border=\"1\" class=\"dataframe\">\n",
       "  <thead>\n",
       "    <tr style=\"text-align: right;\">\n",
       "      <th></th>\n",
       "      <th>Title</th>\n",
       "      <th>Regular Pay</th>\n",
       "      <th>Department</th>\n",
       "      <th>Rcmnd Instr</th>\n",
       "      <th>Average Grade Expected</th>\n",
       "      <th>Classes Taught</th>\n",
       "      <th>Enrolled</th>\n",
       "      <th>Pay per Student</th>\n",
       "    </tr>\n",
       "  </thead>\n",
       "  <tbody>\n",
       "    <tr>\n",
       "      <th>0</th>\n",
       "      <td>LECTURER - ACADEMIC YEAR</td>\n",
       "      <td>40000.0</td>\n",
       "      <td>Electrical &amp; Computer Eng.</td>\n",
       "      <td>95.120000</td>\n",
       "      <td>3.802000</td>\n",
       "      <td>5.0</td>\n",
       "      <td>196.0</td>\n",
       "      <td>204.081633</td>\n",
       "    </tr>\n",
       "    <tr>\n",
       "      <th>1</th>\n",
       "      <td>LECTURER - ACADEMIC YEAR - ONE OR TWO QUARTERS</td>\n",
       "      <td>10000.0</td>\n",
       "      <td>Psychology</td>\n",
       "      <td>97.000000</td>\n",
       "      <td>3.250000</td>\n",
       "      <td>1.0</td>\n",
       "      <td>52.0</td>\n",
       "      <td>192.307692</td>\n",
       "    </tr>\n",
       "    <tr>\n",
       "      <th>2</th>\n",
       "      <td>LECTURER - ACADEMIC YEAR - CONTINUING</td>\n",
       "      <td>50000.0</td>\n",
       "      <td>Chemistry</td>\n",
       "      <td>90.575000</td>\n",
       "      <td>3.115000</td>\n",
       "      <td>4.0</td>\n",
       "      <td>1356.0</td>\n",
       "      <td>36.873156</td>\n",
       "    </tr>\n",
       "    <tr>\n",
       "      <th>4</th>\n",
       "      <td>LECTURER - ACADEMIC YEAR - CONTINUING</td>\n",
       "      <td>130000.0</td>\n",
       "      <td>Education Studies</td>\n",
       "      <td>97.900000</td>\n",
       "      <td>3.980000</td>\n",
       "      <td>1.0</td>\n",
       "      <td>55.0</td>\n",
       "      <td>2363.636364</td>\n",
       "    </tr>\n",
       "    <tr>\n",
       "      <th>5</th>\n",
       "      <td>LECTURER - ACADEMIC YEAR - ONE OR TWO QUARTERS</td>\n",
       "      <td>30000.0</td>\n",
       "      <td>Computer Science</td>\n",
       "      <td>83.200000</td>\n",
       "      <td>3.270000</td>\n",
       "      <td>2.0</td>\n",
       "      <td>243.0</td>\n",
       "      <td>123.456790</td>\n",
       "    </tr>\n",
       "    <tr>\n",
       "      <th>...</th>\n",
       "      <td>...</td>\n",
       "      <td>...</td>\n",
       "      <td>...</td>\n",
       "      <td>...</td>\n",
       "      <td>...</td>\n",
       "      <td>...</td>\n",
       "      <td>...</td>\n",
       "      <td>...</td>\n",
       "    </tr>\n",
       "    <tr>\n",
       "      <th>1021</th>\n",
       "      <td>PROF - ACADEMIC YEAR - B/E/E</td>\n",
       "      <td>130000.0</td>\n",
       "      <td>Bioengineering</td>\n",
       "      <td>94.700000</td>\n",
       "      <td>3.540000</td>\n",
       "      <td>1.0</td>\n",
       "      <td>63.0</td>\n",
       "      <td>2063.492063</td>\n",
       "    </tr>\n",
       "    <tr>\n",
       "      <th>1023</th>\n",
       "      <td>ASST PROF - ACADEMIC YEAR - B/E/E</td>\n",
       "      <td>110000.0</td>\n",
       "      <td>Computer Science</td>\n",
       "      <td>80.400000</td>\n",
       "      <td>3.310000</td>\n",
       "      <td>1.0</td>\n",
       "      <td>123.0</td>\n",
       "      <td>894.308943</td>\n",
       "    </tr>\n",
       "    <tr>\n",
       "      <th>1027</th>\n",
       "      <td>PROF - ACADEMIC YEAR - B/E/E</td>\n",
       "      <td>140000.0</td>\n",
       "      <td>Bioengineering</td>\n",
       "      <td>76.000000</td>\n",
       "      <td>3.590000</td>\n",
       "      <td>1.0</td>\n",
       "      <td>73.0</td>\n",
       "      <td>1917.808219</td>\n",
       "    </tr>\n",
       "    <tr>\n",
       "      <th>1031</th>\n",
       "      <td>ASST PROF - ACADEMIC YEAR</td>\n",
       "      <td>100000.0</td>\n",
       "      <td>Chemistry</td>\n",
       "      <td>92.300000</td>\n",
       "      <td>3.125000</td>\n",
       "      <td>2.0</td>\n",
       "      <td>513.0</td>\n",
       "      <td>194.931774</td>\n",
       "    </tr>\n",
       "    <tr>\n",
       "      <th>1032</th>\n",
       "      <td>VIS ASSOC PROF</td>\n",
       "      <td>140000.0</td>\n",
       "      <td>Rady School of Management</td>\n",
       "      <td>91.216667</td>\n",
       "      <td>3.546667</td>\n",
       "      <td>6.0</td>\n",
       "      <td>401.0</td>\n",
       "      <td>349.127182</td>\n",
       "    </tr>\n",
       "  </tbody>\n",
       "</table>\n",
       "<p>643 rows × 8 columns</p>\n",
       "</div>"
      ],
      "text/plain": [
       "                                               Title  Regular Pay  \\\n",
       "0                           LECTURER - ACADEMIC YEAR      40000.0   \n",
       "1     LECTURER - ACADEMIC YEAR - ONE OR TWO QUARTERS      10000.0   \n",
       "2              LECTURER - ACADEMIC YEAR - CONTINUING      50000.0   \n",
       "4              LECTURER - ACADEMIC YEAR - CONTINUING     130000.0   \n",
       "5     LECTURER - ACADEMIC YEAR - ONE OR TWO QUARTERS      30000.0   \n",
       "...                                              ...          ...   \n",
       "1021                    PROF - ACADEMIC YEAR - B/E/E     130000.0   \n",
       "1023               ASST PROF - ACADEMIC YEAR - B/E/E     110000.0   \n",
       "1027                    PROF - ACADEMIC YEAR - B/E/E     140000.0   \n",
       "1031                       ASST PROF - ACADEMIC YEAR     100000.0   \n",
       "1032                                  VIS ASSOC PROF     140000.0   \n",
       "\n",
       "                      Department  Rcmnd Instr  Average Grade Expected  \\\n",
       "0     Electrical & Computer Eng.    95.120000                3.802000   \n",
       "1                     Psychology    97.000000                3.250000   \n",
       "2                      Chemistry    90.575000                3.115000   \n",
       "4              Education Studies    97.900000                3.980000   \n",
       "5               Computer Science    83.200000                3.270000   \n",
       "...                          ...          ...                     ...   \n",
       "1021              Bioengineering    94.700000                3.540000   \n",
       "1023            Computer Science    80.400000                3.310000   \n",
       "1027              Bioengineering    76.000000                3.590000   \n",
       "1031                   Chemistry    92.300000                3.125000   \n",
       "1032   Rady School of Management    91.216667                3.546667   \n",
       "\n",
       "      Classes Taught  Enrolled  Pay per Student  \n",
       "0                5.0     196.0       204.081633  \n",
       "1                1.0      52.0       192.307692  \n",
       "2                4.0    1356.0        36.873156  \n",
       "4                1.0      55.0      2363.636364  \n",
       "5                2.0     243.0       123.456790  \n",
       "...              ...       ...              ...  \n",
       "1021             1.0      63.0      2063.492063  \n",
       "1023             1.0     123.0       894.308943  \n",
       "1027             1.0      73.0      1917.808219  \n",
       "1031             2.0     513.0       194.931774  \n",
       "1032             6.0     401.0       349.127182  \n",
       "\n",
       "[643 rows x 8 columns]"
      ]
     },
     "execution_count": 17,
     "metadata": {},
     "output_type": "execute_result"
    }
   ],
   "source": [
    "df = (df[(df['Department'] != 'other')])\n",
    "\n",
    "# Determine Outliers for Department\n",
    "lower, upper = np.percentile(df['Department'].value_counts(), [25, 75])\n",
    "iqr = upper - lower\n",
    "lower_cutoff = lower - 1.5 * iqr\n",
    "upper_cutoff = upper + 1.5 * iqr\n",
    "print(\"Lower 25: \", lower_cutoff, \"\\nUpper 25: \", upper_cutoff)\n",
    "\n",
    "# To see which ones are outliers\n",
    "df['Department'].value_counts()\n",
    "\n",
    "# Get rid of the outliers\n",
    "df = (df[(df['Department'] != 'Mathematics') & (df['Department'] != 'Biology')])\n",
    "df"
   ]
  },
  {
   "cell_type": "code",
   "execution_count": 18,
   "metadata": {},
   "outputs": [
    {
     "data": {
      "text/plain": [
       "<matplotlib.axes._subplots.AxesSubplot at 0x128eb57d0>"
      ]
     },
     "execution_count": 18,
     "metadata": {},
     "output_type": "execute_result"
    },
    {
     "data": {
      "image/png": "[encoded data removed]",
      "text/plain": [
       "<Figure size 432x288 with 1 Axes>"
      ]
     },
     "metadata": {
      "needs_background": "light"
     },
     "output_type": "display_data"
    }
   ],
   "source": [
    "df['Department'].value_counts().plot(kind='barh')"
   ]
  },
  {
   "cell_type": "markdown",
   "metadata": {},
   "source": [
    "## Relationships between Variables"
   ]
  },
  {
   "cell_type": "code",
   "execution_count": 19,
   "metadata": {},
   "outputs": [
    {
     "data": {
      "text/plain": [
       "<matplotlib.axes._subplots.AxesSubplot at 0x129091ed0>"
      ]
     },
     "execution_count": 19,
     "metadata": {},
     "output_type": "execute_result"
    },
    {
     "data": {
      "image/png": "[encoded data removed]",
      "text/plain": [
       "<Figure size 842.4x792 with 1 Axes>"
      ]
     },
     "metadata": {},
     "output_type": "display_data"
    }
   ],
   "source": [
    "# Create by_dep as a df grouped by department of instructor\n",
    "by_dep = df.groupby(['Department']).mean()\n",
    "\n",
    "# Graph this in a bar chart on sorted values\n",
    "sns.set(rc={'figure.figsize':(11.7,11)})\n",
    "sns.barplot(y=by_dep.index, x=by_dep['Regular Pay'], order=by_dep.sort_values('Regular Pay').index)"
   ]
  },
  {
   "cell_type": "code",
   "execution_count": 20,
   "metadata": {},
   "outputs": [
    {
     "data": {
      "text/plain": [
       "<matplotlib.collections.PathCollection at 0x1295edad0>"
      ]
     },
     "execution_count": 20,
     "metadata": {},
     "output_type": "execute_result"
    },
    {
     "data": {
      "image/png": "[encoded data removed]",
      "text/plain": [
       "<Figure size 842.4x792 with 1 Axes>"
      ]
     },
     "metadata": {},
     "output_type": "display_data"
    }
   ],
   "source": [
    "# Grade vs. Pay per Student\n",
    "plt.scatter(df['Average Grade Expected'],df['Pay per Student'])"
   ]
  },
  {
   "cell_type": "code",
   "execution_count": 21,
   "metadata": {},
   "outputs": [
    {
     "data": {
      "text/plain": [
       "<matplotlib.collections.PathCollection at 0x128a07a10>"
      ]
     },
     "execution_count": 21,
     "metadata": {},
     "output_type": "execute_result"
    },
    {
     "data": {
      "image/png": "[encoded data removed]",
      "text/plain": [
       "<Figure size 842.4x792 with 1 Axes>"
      ]
     },
     "metadata": {},
     "output_type": "display_data"
    }
   ],
   "source": [
    "# Recommendation of Instructor vs. Pay per Student\n",
    "plt.scatter(df['Rcmnd Instr'],df['Pay per Student'])"
   ]
  },
  {
   "cell_type": "markdown",
   "metadata": {},
   "source": [
    "## Transforming Data to Normal Distributions"
   ]
  },
  {
   "cell_type": "code",
   "execution_count": 23,
   "metadata": {},
   "outputs": [],
   "source": [
    "df['Pay per Student log10'] = df['Pay per Student'].apply(np.log10)\n",
    "df['Recommend Instr log10'] = df['Rcmnd Instr'].apply(np.log10)\n",
    "df['Average Grade Expected log10'] = df['Average Grade Expected'].apply(np.log10)"
   ]
  },
  {
   "cell_type": "code",
   "execution_count": 27,
   "metadata": {},
   "outputs": [
    {
     "data": {
      "text/plain": [
       "(array([  6.,   9.,  16.,  28.,  83., 114., 111., 104., 106.,  66.]),\n",
       " array([0.42651126, 0.44406613, 0.46162101, 0.47917588, 0.49673075,\n",
       "        0.51428563, 0.5318405 , 0.54939537, 0.56695025, 0.58450512,\n",
       "        0.60205999]),\n",
       " <a list of 10 Patch objects>)"
      ]
     },
     "execution_count": 27,
     "metadata": {},
     "output_type": "execute_result"
    },
    {
     "data": {
      "image/png": "[encoded data removed]",
      "text/plain": [
       "<Figure size 842.4x792 with 1 Axes>"
      ]
     },
     "metadata": {},
     "output_type": "display_data"
    }
   ],
   "source": [
    "plt.hist(df['Average Grade Expected log10'])"
   ]
  },
  {
   "cell_type": "code",
   "execution_count": 28,
   "metadata": {},
   "outputs": [
    {
     "data": {
      "text/plain": [
       "(array([  1.,   9.,  22.,  30.,  72.,  95., 125., 121.,  96.,  72.]),\n",
       " array([1.03857891, 1.29170855, 1.54483819, 1.79796783, 2.05109747,\n",
       "        2.30422711, 2.55735675, 2.81048639, 3.06361603, 3.31674567,\n",
       "        3.56987531]),\n",
       " <a list of 10 Patch objects>)"
      ]
     },
     "execution_count": 28,
     "metadata": {},
     "output_type": "execute_result"
    },
    {
     "data": {
      "image/png": "[encoded data removed]",
      "text/plain": [
       "<Figure size 842.4x792 with 1 Axes>"
      ]
     },
     "metadata": {},
     "output_type": "display_data"
    }
   ],
   "source": [
    "plt.hist(df['Pay per Student log10'])"
   ]
  },
  {
   "cell_type": "code",
   "execution_count": 30,
   "metadata": {},
   "outputs": [
    {
     "data": {
      "text/plain": [
       "(array([ 13.,   7.,  12.,  16.,  27.,  39.,  51.,  82., 119., 277.]),\n",
       " array([1.79553244, 1.8159792 , 1.83642595, 1.85687271, 1.87731947,\n",
       "        1.89776622, 1.91821298, 1.93865973, 1.95910649, 1.97955324,\n",
       "        2.        ]),\n",
       " <a list of 10 Patch objects>)"
      ]
     },
     "execution_count": 30,
     "metadata": {},
     "output_type": "execute_result"
    },
    {
     "data": {
      "image/png": "[encoded data removed]",
      "text/plain": [
       "<Figure size 842.4x792 with 1 Axes>"
      ]
     },
     "metadata": {},
     "output_type": "display_data"
    }
   ],
   "source": [
    "plt.hist(df['Recommend Instr log10'])"
   ]
  },
  {
   "cell_type": "code",
   "execution_count": null,
   "metadata": {},
   "outputs": [],
   "source": [
    "df_Instr.corr()"
   ]
  },
  {
   "cell_type": "code",
   "execution_count": null,
   "metadata": {},
   "outputs": [],
   "source": [
    "df_Instr.columns = ['Instr', 'Pay']\n",
    "outcome, predictors = patsy.dmatrices('Pay ~ Instr + Average Expected Grade + ', df_Instr)"
   ]
  },
  {
   "cell_type": "code",
   "execution_count": null,
   "metadata": {},
   "outputs": [],
   "source": [
    "mod = sm.OLS(outcome, predictors)"
   ]
  },
  {
   "cell_type": "code",
   "execution_count": null,
   "metadata": {},
   "outputs": [],
   "source": [
    "res = mod.fit()"
   ]
  },
  {
   "cell_type": "code",
   "execution_count": null,
   "metadata": {},
   "outputs": [],
   "source": [
    "print(res.summary())"
   ]
  },
  {
   "cell_type": "code",
   "execution_count": null,
   "metadata": {},
   "outputs": [],
   "source": [
    "# R-square = .019"
   ]
  },
  {
   "cell_type": "code",
   "execution_count": null,
   "metadata": {},
   "outputs": [],
   "source": [
    "t_val, p_val = ttest_ind(h_Grade, h_logPay)"
   ]
  },
  {
   "cell_type": "code",
   "execution_count": null,
   "metadata": {},
   "outputs": [],
   "source": [
    "t_val, p_val"
   ]
  },
  {
   "cell_type": "code",
   "execution_count": null,
   "metadata": {},
   "outputs": [],
   "source": []
  }
 ],
 "metadata": {
  "kernelspec": {
   "display_name": "Python 3",
   "language": "python",
   "name": "python3"
  },
  "language_info": {
   "codemirror_mode": {
    "name": "ipython",
    "version": 3
   },
   "file_extension": ".py",
   "mimetype": "text/x-python",
   "name": "python",
   "nbconvert_exporter": "python",
   "pygments_lexer": "ipython3",
   "version": "3.7.7"
  }
 },
 "nbformat": 4,
 "nbformat_minor": 2
}

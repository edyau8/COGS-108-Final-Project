{
 "cells": [
  {
   "cell_type": "markdown",
   "metadata": {},
   "source": [
    "## cleanup_income\n",
    "Removes entries with non-relevant titles and standardizes title and regular pay elements."
   ]
  },
  {
   "cell_type": "code",
   "execution_count": 1,
   "metadata": {},
   "outputs": [],
   "source": [
    "# import tools\n",
    "import pandas as pd\n",
    "import numpy as np"
   ]
  },
  {
   "cell_type": "code",
   "execution_count": 2,
   "metadata": {
    "scrolled": true
   },
   "outputs": [
    {
     "data": {
      "text/plain": [
       "(3895, 6)"
      ]
     },
     "execution_count": 2,
     "metadata": {},
     "output_type": "execute_result"
    }
   ],
   "source": [
    "# read income.csv file\n",
    "df_income = pd.read_csv('income.csv')\n",
    "df_income.shape"
   ]
  },
  {
   "cell_type": "code",
   "execution_count": 3,
   "metadata": {},
   "outputs": [
    {
     "data": {
      "text/html": [
       "<div>\n",
       "<style scoped>\n",
       "    .dataframe tbody tr th:only-of-type {\n",
       "        vertical-align: middle;\n",
       "    }\n",
       "\n",
       "    .dataframe tbody tr th {\n",
       "        vertical-align: top;\n",
       "    }\n",
       "\n",
       "    .dataframe thead th {\n",
       "        text-align: right;\n",
       "    }\n",
       "</style>\n",
       "<table border=\"1\" class=\"dataframe\">\n",
       "  <thead>\n",
       "    <tr style=\"text-align: right;\">\n",
       "      <th></th>\n",
       "      <th>Last Name</th>\n",
       "      <th>Year</th>\n",
       "      <th>Location</th>\n",
       "      <th>First Name</th>\n",
       "      <th>Title</th>\n",
       "      <th>Regular Pay</th>\n",
       "    </tr>\n",
       "  </thead>\n",
       "  <tbody>\n",
       "    <tr>\n",
       "      <th>0</th>\n",
       "      <td>ABI SAMRA</td>\n",
       "      <td>2018</td>\n",
       "      <td>San Diego</td>\n",
       "      <td>NICHOLAS CAMILL</td>\n",
       "      <td>LECT-AY</td>\n",
       "      <td>40,050.00</td>\n",
       "    </tr>\n",
       "    <tr>\n",
       "      <th>1</th>\n",
       "      <td>ACCOMANDO</td>\n",
       "      <td>2018</td>\n",
       "      <td>San Diego</td>\n",
       "      <td>ALYSSA WHEELER</td>\n",
       "      <td>LECT-AY-1/9</td>\n",
       "      <td>8,900.00</td>\n",
       "    </tr>\n",
       "    <tr>\n",
       "      <th>2</th>\n",
       "      <td>ADAMS</td>\n",
       "      <td>2018</td>\n",
       "      <td>San Diego</td>\n",
       "      <td>DAVE KENNETH</td>\n",
       "      <td>LECT IN SUMMER SESSION</td>\n",
       "      <td>0.00</td>\n",
       "    </tr>\n",
       "    <tr>\n",
       "      <th>3</th>\n",
       "      <td>AGUILA</td>\n",
       "      <td>2018</td>\n",
       "      <td>San Diego</td>\n",
       "      <td>CHRISTINA O</td>\n",
       "      <td>LECT-AY-1/9</td>\n",
       "      <td>5,874.00</td>\n",
       "    </tr>\n",
       "    <tr>\n",
       "      <th>4</th>\n",
       "      <td>AJA</td>\n",
       "      <td>2018</td>\n",
       "      <td>San Diego</td>\n",
       "      <td>ANTHONY K.</td>\n",
       "      <td>ELECTR TCHN</td>\n",
       "      <td>46,059.00</td>\n",
       "    </tr>\n",
       "  </tbody>\n",
       "</table>\n",
       "</div>"
      ],
      "text/plain": [
       "   Last Name  Year   Location       First Name                   Title  \\\n",
       "0  ABI SAMRA  2018  San Diego  NICHOLAS CAMILL                 LECT-AY   \n",
       "1  ACCOMANDO  2018  San Diego   ALYSSA WHEELER             LECT-AY-1/9   \n",
       "2      ADAMS  2018  San Diego     DAVE KENNETH  LECT IN SUMMER SESSION   \n",
       "3     AGUILA  2018  San Diego      CHRISTINA O             LECT-AY-1/9   \n",
       "4        AJA  2018  San Diego       ANTHONY K.             ELECTR TCHN   \n",
       "\n",
       "  Regular Pay  \n",
       "0   40,050.00  \n",
       "1    8,900.00  \n",
       "2        0.00  \n",
       "3    5,874.00  \n",
       "4   46,059.00  "
      ]
     },
     "execution_count": 3,
     "metadata": {},
     "output_type": "execute_result"
    }
   ],
   "source": [
    "df_income.head()"
   ]
  },
  {
   "cell_type": "code",
   "execution_count": 4,
   "metadata": {},
   "outputs": [],
   "source": [
    "# remove unnecessary columns\n",
    "df_income = df_income.drop(columns=['Year', 'Location'])"
   ]
  },
  {
   "cell_type": "markdown",
   "metadata": {},
   "source": [
    "## Standardize Job Titles\n",
    "When searching for the incomes of lecturers and professors, the use of the keywords LECT and PROF may have led to the inclusion of other jobs. As a result, we must remove them from the dataframe."
   ]
  },
  {
   "cell_type": "code",
   "execution_count": 5,
   "metadata": {},
   "outputs": [
    {
     "data": {
      "text/plain": [
       "array(['LECT-AY', 'LECT-AY-1/9', 'LECT IN SUMMER SESSION', 'ELECTR TCHN',\n",
       "       'LECT-AY-CONTINUING', 'SR LECT SOE-AY', 'LECT PSOE-AY',\n",
       "       'LECT SOE-AY', 'ELECTRN', 'LECT-MISCELLANEOUS/PART TIME',\n",
       "       'HIGH VOLT ELECTRN', 'ELECTRN LD', 'LECT-FY', 'ELECTR TCHN SR',\n",
       "       'MED CTR ELECTR TCHN PRN', 'ELECTR TCHN PRN',\n",
       "       'LECT-AY-1/9-CONTINUING', 'ELECTRN OPR 3',\n",
       "       'SR LECT-AY-1/9-CONTINUING', 'HIGH VOLT ELECTRN LD',\n",
       "       'ELECTRN APPR', 'VIS ASST PROF', 'PROF-HCOMP', 'PROF-AY',\n",
       "       'HS ASST CLIN PROF-HCOMP', 'PAT REL PROFL 3', 'PROF OF CLIN-HCOMP',\n",
       "       'ASSOC PROF-AY', 'HS CLIN PROF-HCOMP', 'PROF IN RES-HCOMP',\n",
       "       'HS ASST CLIN PROF-FY', 'ASSOC PROF IN RES-HCOMP',\n",
       "       'CLIN APPLICATIONS PROFL 3', 'HS ASSOC CLIN PROF-HCOMP', 'PROF-FY',\n",
       "       'ASST ADJ PROF-HCOMP', 'ASST PROF-AY', 'ASST PROF OF CLIN-HCOMP',\n",
       "       'ADJ PROF-HCOMP', 'TCHL PROJECT MGT PROFL 3', 'ADJ PROF-AY',\n",
       "       'ASST PROF-HCOMP', 'VIS PROF', 'ASSOC PROF-FY',\n",
       "       'ASSOC PROF OF CLIN-HCOMP', 'ASSOC PROF-HCOMP',\n",
       "       'ASSOC ADJ PROF-HCOMP', 'HEALTH PROFNS EDUC SPEC 2',\n",
       "       'PROF-AY-B/E/E', 'ASST ADJ PROF-AY-B/E/E', 'PAT REL PROFL 2',\n",
       "       'ATH PROFL 2', 'BUS DEV HC PROFL 4', 'ASST PROF-AY-B/E/E',\n",
       "       'ASST ADJ PROF-FY', 'HEALTH PROFNS EDUC SUPV 1',\n",
       "       'ASSOC PROF-AY-B/E/E', 'HEALTH PROFNS EDUC SPEC 3',\n",
       "       'TCHL PROJECT MGT PROFL 2', 'CLIN APPLICATIONS PROFL 4',\n",
       "       'VIS ASSOC PROF', 'ETHICS AND CMPLNC PROFL 3', 'ADJ PROF-FY',\n",
       "       'ASST PROF IN RES-HCOMP', 'LIBRARY PROFL 4',\n",
       "       'TCHL PROJECT MGT PROFL 4', 'TCHL PROJECT MGT PROFL 1',\n",
       "       'AUDIT PROFL 3', 'HS ASSOC CLIN PROF-FY',\n",
       "       'CMTY HEALTH OUTR PROFL 2', 'ETHICS AND CMPLNC PROFL 5',\n",
       "       'BUS DEV HC PROFL 3', 'CLIN PROFL SVC MGR 4',\n",
       "       'HEALTH PROFNS EDUC MGR 2', 'AUDIT PROFL 4', 'ADJ PROF-AY-B/E/E',\n",
       "       'PRIVACY AND CMPLNC HC PROFL 3', 'CLIN APPLICATIONS PROFL 2',\n",
       "       'ASSOC ADJ PROF-FY', 'TCHL PROJECT MGT PROFL 5', 'HS CLIN PROF-FY',\n",
       "       'STRAT SOURCING PROFL 4', 'HEALTH PROFNS EDUC MGR 1',\n",
       "       'ATH PROFL 4', 'CLIN APPLICATIONS PROFL 1',\n",
       "       'ANATOMICAL SVC PROFL 4', 'PROF OF CLIN-FY', 'ATH PROFL 3',\n",
       "       'HEALTH PROFNS EDUC SPEC 5', 'VOLUNTEER SVC PROFL 4',\n",
       "       'AUDIT PROFL 5', 'BEH HEALTH PSYCHIATRIC PROFL 3',\n",
       "       'PRIVACY AND CMPLNC HC PROFL 2', 'ASSOC ADJ PROF-AY-B/E/E',\n",
       "       'PROF IN RES-AY', 'PRIVACY AND CMPLNC HC PROFL 5',\n",
       "       'PROF EMERITUS(WOS)', 'ETHICS AND CMPLNC PROFL 2',\n",
       "       'HEALTH PROFNS EDUC SPEC 4', 'PRODUCT DEV PROFL 2',\n",
       "       'PAT SFTY PROFL 4', 'PRIVACY AND CMPLNC HC PROFL 4',\n",
       "       'STRAT SOURCING PROFL 3', 'HEALTH PROFNS EDUC SUPV 2', 'UNIV PROF',\n",
       "       'ETHICS AND CMPLNC PROFL 4', 'ASST PROF-AY-1/9-B/E/E'],\n",
       "      dtype=object)"
      ]
     },
     "execution_count": 5,
     "metadata": {},
     "output_type": "execute_result"
    }
   ],
   "source": [
    "df_income['Title'].unique()"
   ]
  },
  {
   "cell_type": "code",
   "execution_count": 6,
   "metadata": {},
   "outputs": [],
   "source": [
    "# Remove non-relevant job titles and improve its readability\n",
    "def standardize_title(string):\n",
    "    \n",
    "    string = string.strip()\n",
    "    output = string\n",
    "    \n",
    "    if 'ELECTR' in output or 'MISCELLANEOUS' in output or 'PROFL' in output or 'PROFNS' in output:\n",
    "        return np.nan\n",
    "    elif 'SR LECT SOE-AY' == output:\n",
    "        return 'TEACHING PROFESSOR - ACADEMIC YEAR'\n",
    "    elif 'LECT PSOE-AY' == output:\n",
    "        return 'ASSISTANT TEACHING PROFESSOR - ACADEMIC YEAR'\n",
    "    elif 'LECT SOE-AY' == output:\n",
    "        return 'ASSOCIATE TEACHING PROFESSOR - ACADEMIC YEAR'\n",
    "    else:\n",
    "        if 'LECT' in output:\n",
    "            output = output.replace('LECT', 'LECTURER')\n",
    "        if 'PROF' in output:\n",
    "            output = output.replace('PROF', 'PROFESSOR')\n",
    "        if 'ADJ' in output:\n",
    "            output = output.replace('ADJ', 'ADJUNCT')\n",
    "        if 'ASST' in output:\n",
    "            output = output.replace('ASST', 'ASSISTANT')\n",
    "        if 'ASSOC' in output:\n",
    "            output = output.replace('ASSOC', 'ASSOCIATE')\n",
    "        if 'B/E/E' in output:\n",
    "            output = output.replace('B/E/E', 'BUSINESS/ECONOMICS/ENGINEERING')\n",
    "        if 'CLIN' in output:\n",
    "            output = output.replace('CLIN', 'CLINICAL')\n",
    "        if 'HS' in output:\n",
    "            output = output.replace('HS', 'HEALTH SCIENCES')\n",
    "        if 'RES' in output:\n",
    "            output = output.replace('RES', 'RESIDENCE')\n",
    "        if 'UNIV' in output:\n",
    "            output = output.replace('UNIV', 'UNIVERSITY')\n",
    "        if 'VIS' in output:\n",
    "            output = output.replace('VIS', 'VISITING')\n",
    "        if 'WOS' in output:\n",
    "            output = output.replace('WOS', 'WITHOUT SALARY')\n",
    "        if '1/9' in output:\n",
    "            output = output.replace('1/9', 'ONE OR TWO QUARTERS')\n",
    "        if 'SR' in output:\n",
    "            output = output.replace('SR', 'SENIOR')\n",
    "        if 'AY' in output:\n",
    "            output = output.replace('AY', 'ACADEMIC YEAR')\n",
    "        if 'FY' in output:\n",
    "            output = output.replace('FY', 'FISCAL YEAR')\n",
    "        if '-' in output:\n",
    "            output = output.replace('-', ' - ')\n",
    "    \n",
    "    return output"
   ]
  },
  {
   "cell_type": "code",
   "execution_count": 7,
   "metadata": {},
   "outputs": [],
   "source": [
    "df_income['Title'] = df_income['Title'].apply(standardize_title)\n",
    "df_income = df_income.dropna()"
   ]
  },
  {
   "cell_type": "code",
   "execution_count": 8,
   "metadata": {},
   "outputs": [
    {
     "data": {
      "text/plain": [
       "array(['LECTURER - ACADEMIC YEAR',\n",
       "       'LECTURER - ACADEMIC YEAR - ONE OR TWO QUARTERS',\n",
       "       'LECTURER IN SUMMER SESSION',\n",
       "       'LECTURER - ACADEMIC YEAR - CONTINUING',\n",
       "       'TEACHING PROFESSOR - ACADEMIC YEAR',\n",
       "       'ASSISTANT TEACHING PROFESSOR - ACADEMIC YEAR',\n",
       "       'ASSOCIATE TEACHING PROFESSOR - ACADEMIC YEAR',\n",
       "       'LECTURER - FISCAL YEAR',\n",
       "       'LECTURER - ACADEMIC YEAR - ONE OR TWO QUARTERS - CONTINUING',\n",
       "       'SENIOR LECTURER - ACADEMIC YEAR - ONE OR TWO QUARTERS - CONTINUING',\n",
       "       'VISITING ASSISTANT PROFESSOR', 'PROFESSOR - HCOMP',\n",
       "       'PROFESSOR - ACADEMIC YEAR',\n",
       "       'HEALTH SCIENCES ASSISTANT CLINICAL PROFESSOR - HCOMP',\n",
       "       'PROFESSOR OF CLINICAL - HCOMP',\n",
       "       'ASSOCIATE PROFESSOR - ACADEMIC YEAR',\n",
       "       'HEALTH SCIENCES CLINICAL PROFESSOR - HCOMP',\n",
       "       'PROFESSOR IN RESIDENCE - HCOMP',\n",
       "       'HEALTH SCIENCES ASSISTANT CLINICAL PROFESSOR - FISCAL YEAR',\n",
       "       'ASSOCIATE PROFESSOR IN RESIDENCE - HCOMP',\n",
       "       'HEALTH SCIENCES ASSOCIATE CLINICAL PROFESSOR - HCOMP',\n",
       "       'PROFESSOR - FISCAL YEAR', 'ASSISTANT ADJUNCT PROFESSOR - HCOMP',\n",
       "       'ASSISTANT PROFESSOR - ACADEMIC YEAR',\n",
       "       'ASSISTANT PROFESSOR OF CLINICAL - HCOMP',\n",
       "       'ADJUNCT PROFESSOR - HCOMP', 'ADJUNCT PROFESSOR - ACADEMIC YEAR',\n",
       "       'ASSISTANT PROFESSOR - HCOMP', 'VISITING PROFESSOR',\n",
       "       'ASSOCIATE PROFESSOR - FISCAL YEAR',\n",
       "       'ASSOCIATE PROFESSOR OF CLINICAL - HCOMP',\n",
       "       'ASSOCIATE PROFESSOR - HCOMP',\n",
       "       'ASSOCIATE ADJUNCT PROFESSOR - HCOMP',\n",
       "       'PROFESSOR - ACADEMIC YEAR - BUSINESS/ECONOMICS/ENGINEERING',\n",
       "       'ASSISTANT ADJUNCT PROFESSOR - ACADEMIC YEAR - BUSINESS/ECONOMICS/ENGINEERING',\n",
       "       'ASSISTANT PROFESSOR - ACADEMIC YEAR - BUSINESS/ECONOMICS/ENGINEERING',\n",
       "       'ASSISTANT ADJUNCT PROFESSOR - FISCAL YEAR',\n",
       "       'ASSOCIATE PROFESSOR - ACADEMIC YEAR - BUSINESS/ECONOMICS/ENGINEERING',\n",
       "       'VISITING ASSOCIATE PROFESSOR', 'ADJUNCT PROFESSOR - FISCAL YEAR',\n",
       "       'ASSISTANT PROFESSOR IN RESIDENCE - HCOMP',\n",
       "       'HEALTH SCIENCES ASSOCIATE CLINICAL PROFESSOR - FISCAL YEAR',\n",
       "       'ADJUNCT PROFESSOR - ACADEMIC YEAR - BUSINESS/ECONOMICS/ENGINEERING',\n",
       "       'ASSOCIATE ADJUNCT PROFESSOR - FISCAL YEAR',\n",
       "       'HEALTH SCIENCES CLINICAL PROFESSOR - FISCAL YEAR',\n",
       "       'PROFESSOR OF CLINICAL - FISCAL YEAR',\n",
       "       'ASSOCIATE ADJUNCT PROFESSOR - ACADEMIC YEAR - BUSINESS/ECONOMICS/ENGINEERING',\n",
       "       'PROFESSOR IN RESIDENCE - ACADEMIC YEAR',\n",
       "       'PROFESSOR EMERITUS(WITHOUT SALARY)', 'UNIVERSITY PROFESSOR',\n",
       "       'ASSISTANT PROFESSOR - ACADEMIC YEAR - ONE OR TWO QUARTERS - BUSINESS/ECONOMICS/ENGINEERING'],\n",
       "      dtype=object)"
      ]
     },
     "execution_count": 8,
     "metadata": {},
     "output_type": "execute_result"
    }
   ],
   "source": [
    "df_income['Title'].unique()"
   ]
  },
  {
   "cell_type": "code",
   "execution_count": 9,
   "metadata": {},
   "outputs": [
    {
     "data": {
      "text/plain": [
       "(3390, 4)"
      ]
     },
     "execution_count": 9,
     "metadata": {},
     "output_type": "execute_result"
    }
   ],
   "source": [
    "df_income.shape"
   ]
  },
  {
   "cell_type": "code",
   "execution_count": 10,
   "metadata": {},
   "outputs": [
    {
     "data": {
      "text/html": [
       "<div>\n",
       "<style scoped>\n",
       "    .dataframe tbody tr th:only-of-type {\n",
       "        vertical-align: middle;\n",
       "    }\n",
       "\n",
       "    .dataframe tbody tr th {\n",
       "        vertical-align: top;\n",
       "    }\n",
       "\n",
       "    .dataframe thead th {\n",
       "        text-align: right;\n",
       "    }\n",
       "</style>\n",
       "<table border=\"1\" class=\"dataframe\">\n",
       "  <thead>\n",
       "    <tr style=\"text-align: right;\">\n",
       "      <th></th>\n",
       "      <th>Last Name</th>\n",
       "      <th>First Name</th>\n",
       "      <th>Title</th>\n",
       "      <th>Regular Pay</th>\n",
       "    </tr>\n",
       "  </thead>\n",
       "  <tbody>\n",
       "    <tr>\n",
       "      <th>0</th>\n",
       "      <td>ABI SAMRA</td>\n",
       "      <td>NICHOLAS CAMILL</td>\n",
       "      <td>LECTURER - ACADEMIC YEAR</td>\n",
       "      <td>40,050.00</td>\n",
       "    </tr>\n",
       "    <tr>\n",
       "      <th>1</th>\n",
       "      <td>ACCOMANDO</td>\n",
       "      <td>ALYSSA WHEELER</td>\n",
       "      <td>LECTURER - ACADEMIC YEAR - ONE OR TWO QUARTERS</td>\n",
       "      <td>8,900.00</td>\n",
       "    </tr>\n",
       "    <tr>\n",
       "      <th>2</th>\n",
       "      <td>ADAMS</td>\n",
       "      <td>DAVE KENNETH</td>\n",
       "      <td>LECTURER IN SUMMER SESSION</td>\n",
       "      <td>0.00</td>\n",
       "    </tr>\n",
       "    <tr>\n",
       "      <th>3</th>\n",
       "      <td>AGUILA</td>\n",
       "      <td>CHRISTINA O</td>\n",
       "      <td>LECTURER - ACADEMIC YEAR - ONE OR TWO QUARTERS</td>\n",
       "      <td>5,874.00</td>\n",
       "    </tr>\n",
       "    <tr>\n",
       "      <th>5</th>\n",
       "      <td>AJO</td>\n",
       "      <td>FRANCES BERGEN</td>\n",
       "      <td>LECTURER - ACADEMIC YEAR</td>\n",
       "      <td>53,959.00</td>\n",
       "    </tr>\n",
       "  </tbody>\n",
       "</table>\n",
       "</div>"
      ],
      "text/plain": [
       "   Last Name       First Name                                           Title  \\\n",
       "0  ABI SAMRA  NICHOLAS CAMILL                        LECTURER - ACADEMIC YEAR   \n",
       "1  ACCOMANDO   ALYSSA WHEELER  LECTURER - ACADEMIC YEAR - ONE OR TWO QUARTERS   \n",
       "2      ADAMS     DAVE KENNETH                      LECTURER IN SUMMER SESSION   \n",
       "3     AGUILA      CHRISTINA O  LECTURER - ACADEMIC YEAR - ONE OR TWO QUARTERS   \n",
       "5        AJO   FRANCES BERGEN                        LECTURER - ACADEMIC YEAR   \n",
       "\n",
       "  Regular Pay  \n",
       "0   40,050.00  \n",
       "1    8,900.00  \n",
       "2        0.00  \n",
       "3    5,874.00  \n",
       "5   53,959.00  "
      ]
     },
     "execution_count": 10,
     "metadata": {},
     "output_type": "execute_result"
    }
   ],
   "source": [
    "df_income.head()"
   ]
  },
  {
   "cell_type": "markdown",
   "metadata": {},
   "source": [
    "## Standardize Pay\n",
    "The values of pay are written in a different format from a float data type in python, therefore we must convert the elements in order to analyze its values."
   ]
  },
  {
   "cell_type": "code",
   "execution_count": 11,
   "metadata": {},
   "outputs": [],
   "source": [
    "# Remove commas and simplify values\n",
    "def standardize_pay(string):\n",
    "    \n",
    "    string = string.lower()\n",
    "    string = string.strip()\n",
    "\n",
    "    if ',' in string:\n",
    "        string = string.replace(',', '')\n",
    "    if '.00' in string:\n",
    "        string = string.replace('.00', '.0')\n",
    "    \n",
    "    return float(string)"
   ]
  },
  {
   "cell_type": "code",
   "execution_count": 12,
   "metadata": {},
   "outputs": [
    {
     "data": {
      "text/plain": [
       "count      3390.000000\n",
       "mean     119230.420649\n",
       "std       77361.566286\n",
       "min           0.000000\n",
       "25%       68087.750000\n",
       "50%      114072.500000\n",
       "75%      159077.750000\n",
       "max      640090.000000\n",
       "Name: Regular Pay, dtype: float64"
      ]
     },
     "execution_count": 12,
     "metadata": {},
     "output_type": "execute_result"
    }
   ],
   "source": [
    "df_income['Regular Pay'] = df_income['Regular Pay'].apply(standardize_pay)\n",
    "df_income['Regular Pay'].describe()"
   ]
  },
  {
   "cell_type": "code",
   "execution_count": 13,
   "metadata": {},
   "outputs": [
    {
     "data": {
      "text/html": [
       "<div>\n",
       "<style scoped>\n",
       "    .dataframe tbody tr th:only-of-type {\n",
       "        vertical-align: middle;\n",
       "    }\n",
       "\n",
       "    .dataframe tbody tr th {\n",
       "        vertical-align: top;\n",
       "    }\n",
       "\n",
       "    .dataframe thead th {\n",
       "        text-align: right;\n",
       "    }\n",
       "</style>\n",
       "<table border=\"1\" class=\"dataframe\">\n",
       "  <thead>\n",
       "    <tr style=\"text-align: right;\">\n",
       "      <th></th>\n",
       "      <th>Last Name</th>\n",
       "      <th>First Name</th>\n",
       "      <th>Title</th>\n",
       "      <th>Regular Pay</th>\n",
       "    </tr>\n",
       "  </thead>\n",
       "  <tbody>\n",
       "    <tr>\n",
       "      <th>0</th>\n",
       "      <td>ABI SAMRA</td>\n",
       "      <td>NICHOLAS CAMILL</td>\n",
       "      <td>LECTURER - ACADEMIC YEAR</td>\n",
       "      <td>40050.0</td>\n",
       "    </tr>\n",
       "    <tr>\n",
       "      <th>1</th>\n",
       "      <td>ACCOMANDO</td>\n",
       "      <td>ALYSSA WHEELER</td>\n",
       "      <td>LECTURER - ACADEMIC YEAR - ONE OR TWO QUARTERS</td>\n",
       "      <td>8900.0</td>\n",
       "    </tr>\n",
       "    <tr>\n",
       "      <th>2</th>\n",
       "      <td>ADAMS</td>\n",
       "      <td>DAVE KENNETH</td>\n",
       "      <td>LECTURER IN SUMMER SESSION</td>\n",
       "      <td>0.0</td>\n",
       "    </tr>\n",
       "    <tr>\n",
       "      <th>3</th>\n",
       "      <td>AGUILA</td>\n",
       "      <td>CHRISTINA O</td>\n",
       "      <td>LECTURER - ACADEMIC YEAR - ONE OR TWO QUARTERS</td>\n",
       "      <td>5874.0</td>\n",
       "    </tr>\n",
       "    <tr>\n",
       "      <th>5</th>\n",
       "      <td>AJO</td>\n",
       "      <td>FRANCES BERGEN</td>\n",
       "      <td>LECTURER - ACADEMIC YEAR</td>\n",
       "      <td>53959.0</td>\n",
       "    </tr>\n",
       "  </tbody>\n",
       "</table>\n",
       "</div>"
      ],
      "text/plain": [
       "   Last Name       First Name                                           Title  \\\n",
       "0  ABI SAMRA  NICHOLAS CAMILL                        LECTURER - ACADEMIC YEAR   \n",
       "1  ACCOMANDO   ALYSSA WHEELER  LECTURER - ACADEMIC YEAR - ONE OR TWO QUARTERS   \n",
       "2      ADAMS     DAVE KENNETH                      LECTURER IN SUMMER SESSION   \n",
       "3     AGUILA      CHRISTINA O  LECTURER - ACADEMIC YEAR - ONE OR TWO QUARTERS   \n",
       "5        AJO   FRANCES BERGEN                        LECTURER - ACADEMIC YEAR   \n",
       "\n",
       "   Regular Pay  \n",
       "0      40050.0  \n",
       "1       8900.0  \n",
       "2          0.0  \n",
       "3       5874.0  \n",
       "5      53959.0  "
      ]
     },
     "execution_count": 13,
     "metadata": {},
     "output_type": "execute_result"
    }
   ],
   "source": [
    "df_income.head()"
   ]
  },
  {
   "cell_type": "markdown",
   "metadata": {},
   "source": [
    "## Export As New File"
   ]
  },
  {
   "cell_type": "code",
   "execution_count": 14,
   "metadata": {},
   "outputs": [],
   "source": [
    "df_income.to_csv('income_final.csv')"
   ]
  }
 ],
 "metadata": {
  "kernelspec": {
   "display_name": "Python 3",
   "language": "python",
   "name": "python3"
  },
  "language_info": {
   "codemirror_mode": {
    "name": "ipython",
    "version": 3
   },
   "file_extension": ".py",
   "mimetype": "text/x-python",
   "name": "python",
   "nbconvert_exporter": "python",
   "pygments_lexer": "ipython3",
   "version": "3.6.7"
  }
 },
 "nbformat": 4,
 "nbformat_minor": 2
}

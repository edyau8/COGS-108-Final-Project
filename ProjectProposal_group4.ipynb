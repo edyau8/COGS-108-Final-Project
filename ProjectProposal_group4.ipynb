{
 "cells": [
  {
   "cell_type": "markdown",
   "metadata": {},
   "source": [
    "# COGS 108 - Final Project Proposal"
   ]
  },
  {
   "cell_type": "markdown",
   "metadata": {},
   "source": [
    "## Names\n",
    "- Simonne Contreras\n",
    "- Tiffany Meng\n",
    "- Shaeli Yao\n",
    "- Edward Yau\n",
    "- Eric Nguyen"
   ]
  },
  {
   "cell_type": "markdown",
   "metadata": {},
   "source": [
    "## Group Members' IDs\n",
    "\n",
    "- A15002838\n",
    "- A15525120\n",
    "- A15585807\n",
    "- A15624147\n",
    "- A15518484"
   ]
  },
  {
   "cell_type": "markdown",
   "metadata": {},
   "source": [
    "## Research Question\n",
    "\n",
    "Our group has set out to explore the question “What factors are most correlated with higher paying salaries of professors at UCSD?” Specific factors that we will be examining include: likeability, gender, department, and time spent teaching at UCSD. In analyzing these variables, we would like to answer the question of what the driving factors behind employee pay are, if there are any biases that exist in the system, and whether student input is considered when administrators decide the salaries for different professors across different departments."
   ]
  },
  {
   "cell_type": "markdown",
   "metadata": {},
   "source": [
    "### Background and Prior Work\n",
    "\n",
    "As students at UCSD, our professors are an essential part of our college learning experience. In particular, our group is curious about the ranges of our professors’ salaries and how they are determined as this directly affects our lives and pockets. Initial research has led us to similar studies that compare variables such as gender and length of time that the professor has been teaching. However, we are interested in changing the scope of our research to UCSD and broadening the factors we analyze in order to get a clearer view about what factors are most important in determining a professor’s salary. For example, we want to include data on the sentiment of CAPE reviews in our analysis because we would like to see if our reviews and insight, as the students who actually receive the content these professors put out, make an impact on our faculty. Unlike other studies, we feel that the use of CAPEs and other such facets makes our project special because CAPE reviews are factored directly in the reviews of professors at UCSD. \n",
    " \n",
    "According to an analysis titled, “Factors that influence professors’ salaries”, the salary of a professor increases the longer they have been teaching. Similarly, as to be expected, male professors had a higher income on average compared to their female counterparts. Both of these findings are somewhat expected, but we want to see if UCSD has addressed these issues or if they fall into other traps or biases. We also aim to find out what factors they do take into consideration when determining the salary of professors. The issue of unfair pay has become well known amongst all fields, including academia, but we are interested particularly in the scope of UCSD as we would like to believe the institution we attend makes strides towards addressing the issues concerning our nation and world today. \n",
    " \n",
    "In another study titled, “Wage Difference Among University Professors,” researchers analyzed different factors that influenced professors’ salaries at the University of Northern Iowa. Specifically, factors such as department, rank, status in department and ratings from RateMyProfessor.com were focused on. One finding from the study that our group found particularly interesting is that the results implied a positive relationship between ratings on RateMyProfessor.com and salaries of professors at UNI. This made us curious about the extent to which this relationship holds, and whether similar results would be found from data at UCSD. Since the paper suggests that RateMyProfessor may be “extremely biased” and a weak representation of students, we decided that we want to additionally look at results from CAPE reviews at UCSD, as they may be more credible, since it is enforced that only students who have taken a specific course can leave a review.\n",
    "\n",
    "References:\n",
    "1. [Compensation at the University of California: Annual Wage](https://ucannualwage.ucop.edu/wage/)\n",
    "2. [Factors that influence professors' salaries](https://rstudio-pubs-static.s3.amazonaws.com/368533_6714e2f92b7e4f8c9b71a6707d252d57.html)\n",
    "3. [Wage Differentiation Among University Professors](https://pdfs.semanticscholar.org/1f0d/95a40fd48c8abd01ee7d3324b26aa603ee96.pdf)"
   ]
  },
  {
   "cell_type": "markdown",
   "metadata": {},
   "source": [
    "## Hypothesis\n",
    "\n",
    "We decided to focus on a few factors that might affect a professor’s salary at UCSD. The following bullet points highlight our hypotheses for each factor we plan to consider.\n",
    "- Student Recommendation Rating: Student recommendation ratings for a professor will have a positive correlation to that professor’s salary. We believe this because findings from our research on background knowledge suggest a positive relationship between student ratings and salaries.\n",
    "- Department: Professors in STEM departments will have higher salaries than those in other departments. Amongst the STEM departments, we predict that Engineering professors will receive higher salaries than the Science, Technology, or Mathematics fields. We base this on the salaries of people in these industries overall. \n",
    "- Average Grade assigned to Students: Professors who assign higher average grades will also have higher salaries, up to a certain threshold at which point their salary will diminish. We believe this will be true because generally “easy-A” professors are not valued as much as those who have a good average grade.\n",
    "- Gender: Female professors are more likely to have lower salaries based on our research of past studies.\n",
    "- Age: Older professors will be more likely to have higher salaries based on assumption of loyalty to the university and possible knowledge in their area of expertise. "
   ]
  },
  {
   "cell_type": "markdown",
   "metadata": {},
   "source": [
    "## Data\n",
    "\n",
    "For the purpose of our research question, the ideal datasets would contain information about professors’ salaries at UCSD as well as information about their students' ratings. In our initial research, we have leaned towards the information provided by the University of California pertaining to the salaries of UCSD faculty as well as information about the likability of these professors amongst other factors. These datasets would hopefully contain information about student approval, department, average grade given out, gender, and age of each professor. The ideal dataset would be stored in one table and would have ~1600 observations (an observation for each professor and assistant professor at UCSD). These are both fairly unlikely, but we can work with the setbacks. Ideally these data could be collected from CAPES as well as the UC Employee Pay website and would be organized such that categorical variables had multiple choices as opposed to written in answers. This is very important in response to the rating of approval for a professor. "
   ]
  },
  {
   "cell_type": "markdown",
   "metadata": {},
   "source": [
    "## Ethics and Privacy\n",
    "\n",
    "Although the information about the salary of UCSD professors is open to the public as the school itself is a public school, CAPEs are secured such that only UCSD members are able to see them. We should have no problems being able to use the salary of these professors in our analysis, but hope to contact the school administration to see if we can use data from CAPEs in our research. If we do not gain such access, we hope to be able to substitute ratings from Rate My Professor or other such sites which are also publicly available. We do face some privacy concerns as this data is sensitive and although it is made available to the public, no professor should be called out on their salary in relation to the types of issues we want to discuss. In order to address this, we will remove all personally identifiable information from our data following our analysis and summarize data such that these figures cannot be reverse engineered using the publicly available tool. In terms of biases, we do not plan to generalize our question to discuss professors as a whole, so we aim to conclude based on the population we have information about - UCSD professors. \n",
    "\n",
    "In a more serious manner, our study could potentially reveal statistics about a professor that could lead to his or her termination within UCSD. To prevent this, we will stick with the guidelines outlined above such that no information about individuals will be released. As we are not analyzing names, we will create ID numbers in our datasets that allow us to correlate pay salary with the corresponding statistics of a professor across tables such that even when analyzing this information we do not involve the personally identifiable information of these faculty. Furthermore, the data from CAPEs and Rate My Professor are already anonymous, meaning that our studies will not put students in harm’s way as none of their information is available to begin with."
   ]
  },
  {
   "cell_type": "markdown",
   "metadata": {},
   "source": [
    "## Team Expectations\n",
    "\n",
    "- All team members will show up to most meetings and give notice if they will be late or will not be able to make it. \n",
    "- All team members will communicate what they are working on so that other members may be involved. \n",
    "- All team members will meet deadlines assigned individually - if they are struggling, they will reach out more than 24 hours in advance.\n",
    "- All team members will keep up with course material. \n",
    "- All team members will respect others’ ideas and act with professionalism."
   ]
  },
  {
   "cell_type": "markdown",
   "metadata": {},
   "source": [
    "## Project Timeline Proposal\n",
    "\n",
    "| Date | Time | Completed Before Meeting | Discuss at Meeting |\n",
    "|------|------|--------------------------|--------------------|\n",
    "| 4/21 | 11 AM | Look over COGS 108 expectations and look through some previous projects. | Determine the best way to contact each other, look through old projects together, discuss ideas for our project. |\n",
    "| 4/23 | 7 PM | Do some more research on topics, decide on a couple ideas. | Decide a final idea and begin to draft the proposal. Choose a meeting time for the quarter that will work for all members. |\n",
    "| 4/24 | 3 PM | Edit proposal to each member’s liking. | Finalize the proposal so that it meets all criteria. |\n",
    "| 4/26 | 3 PM | Search for datasets and consider web scraping if data is not readily available. |Discuss what our options are in terms of collecting data, assign members to head certain parts. |\n",
    "| 5/3 | 3 PM | Finish WebScraping or collecting data. | Review the data, decide on a plan moving forward. | \n",
    "| 5/10 | 3 PM | Tidy the data so that it is analyzable. | Start deciding which plots will be best for our data, make sure we go over null values, adjust units. |\n",
    "| 5/17 | 3 PM | Come up with a couple analyzations, produce graphs and charts. | Go over graphs and charts to make sure they clearly convey the message. |\n",
    "| 5/24 | 3 PM | Consider possible further analyses, what our research implies. | Discuss what needs to be done to make sure we are considering the ethics and privacy of the situation. |\n",
    "| 5/31 | 3 PM | Complete the analysis. Consider what conclusions might be arrived at. | Finish analyzing and summarizing so that the Jupyter Notebook looks clean and complete. | \n",
    "| 6/10 | Before 11:59 PM | Finish any last minute touches. | Turn in Final Project and complete Group Project Surveys. |\n"
   ]
  }
 ],
 "metadata": {
  "kernelspec": {
   "display_name": "Python 3",
   "language": "python",
   "name": "python3"
  },
  "language_info": {
   "codemirror_mode": {
    "name": "ipython",
    "version": 3
   },
   "file_extension": ".py",
   "mimetype": "text/x-python",
   "name": "python",
   "nbconvert_exporter": "python",
   "pygments_lexer": "ipython3",
   "version": "3.6.7"
  }
 },
 "nbformat": 4,
 "nbformat_minor": 2
}

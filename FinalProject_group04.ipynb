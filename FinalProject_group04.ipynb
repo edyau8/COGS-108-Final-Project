{
 "cells": [
  {
   "cell_type": "markdown",
   "metadata": {},
   "source": [
    "# COGS 108 - Final Project"
   ]
  },
  {
   "cell_type": "markdown",
   "metadata": {},
   "source": [
    "## Permissions\n",
    "Place an X in the appropriate bracket below to specify if you would like your group's project to be made available to the public. (Note that PIDs will be scraped from the public submission, but student names will be included.)\n",
    "\n",
    "[ ] YES - make available\n",
    "\n",
    "[X] NO - keep private"
   ]
  },
  {
   "cell_type": "markdown",
   "metadata": {},
   "source": [
    "## Overview \n",
    "\n",
    "In our final project, we determine the factors that affect a teaching staff's pay. We explore departments, number and difficulty of classes taught by staff, recommendations, and grade averages accross hundreds of instructors to determine whether they were correlated with the pay that a teaching staff would recieve. To accomplish this, we used linear regression, simple graphs, and wilcoxon rank sums test to compare the relationships between pay and said factors. Upon analysis we discovered the number of classes an instructor teaches, whether they hold a lecturer or professor title, and if they teach in a STEM vs. non-STEM department were significant predictors of an instructor's regular pay.\n"
   ]
  },
  {
   "cell_type": "markdown",
   "metadata": {},
   "source": [
    "## Names\n",
    "- Simonne Contreras\n",
    "- Tiffany Meng\n",
    "- Eric Nguyen\n",
    "- Shaeli Yao\n",
    "- Edward Yau"
   ]
  },
  {
   "cell_type": "markdown",
   "metadata": {},
   "source": [
    "## Group Members' IDs\n",
    "- A15002838\n",
    "- A15525120\n",
    "- A15585807\n",
    "- A15518484\n",
    "- A15624147"
   ]
  },
  {
   "cell_type": "markdown",
   "metadata": {},
   "source": [
    "## Research Question\n",
    " \n",
    "Our group has set out to explore the question “What factors are most correlated with higher paying salaries of instructors at UCSD?” Specific factors that we will be examining include: likeability, department, title, and difficulty of courses. In analyzing these variables, we would like to determine what the driving factors behind employee pay are, if there are any biases that exist in the system, and whether student input is considered when administrators decide the salaries for different instructors across different departments."
   ]
  },
  {
   "cell_type": "markdown",
   "metadata": {},
   "source": [
    "## Background and Prior Work\n",
    " \n",
    "As students at UCSD, our instructors are an essential part of our college learning experience. In particular, our group is curious about the ranges of their salaries and how they are determined as this directly affects our lives, learning and indirectly, pockets. Initial research has led us to similar studies that compare variables such as gender and length of time that an instructor has been teaching in order to determine their correlation, however, we are interested in changing the scope of our research to UCSD and broadening the factors we analyze in order to get a clearer view about what is most important in determining an instructor’s salary. For example, we want to include data on CAPE reviews in our analysis because we would like to see if the opinion of the student body as a whole has any effect on the salary of our instructors. Though we understand that many professors do research and this may be a confounding variable, we have decided to look just at their base pay to eliminate this possibility. Unlike other studies, we feel that the use of CAPEs and other such facets makes our project special because CAPE reviews are factored directly in the reviews of instructors at UCSD and we can see how these types of outlets for student opinions directly affect the instructors we interact with on a day to day basis. \n",
    " \n",
    "According to an analysis titled, “Factors that influence professors’ salaries”, the salary of a professor increases the longer they have been teaching [2]. Similarly, as to be expected, male professors had a higher income on average compared to their female counterparts. Both of these findings are somewhat expected, but we want to see if UCSD has addressed these issues and similarly, whether or not they fall into other traps or biases. We also aim to find out what factors they do take into consideration when determining the salary of instructors in general here at UCSD. The issue of unfair pay has become well known amongst all fields, including academia, but we are interested particularly in whether or not UCSD adresses these issues as we would like to believe the institution we attend makes strides towards addressing the issues concerning our nation and world today. \n",
    " \n",
    "In another study titled, “Wage Difference Among University Professors,” researchers analyzed different factors that influenced professors’ salaries at the University of Northern Iowa [3]. Specifically, factors such as department, rank, status in department and ratings from RateMyProfessor.com were focused on. One finding from the study that our group found particularly interesting is that the results implied a positive relationship between ratings on RateMyProfessor.com and salaries of professors at UNI. This made us curious about the extent to which this relationship holds, and whether similar results would be found from data at UCSD. Since the paper suggests that RateMyProfessor may be “extremely biased” and a weak representation of students, we decided that we want to instead look at results from CAPE reviews at UCSD, as they may be more credible, since it is enforced that only students who have taken a specific course can leave a review and that they represent a larger population of each course.\n",
    "\n",
    "References:\n",
    "1. Compensation at the University of California: Annual Wage\n",
    "    - https://ucannualwage.ucop.edu/wage/\n",
    "2. Factors that influence professors' salaries\n",
    "    - https://rstudio-pubs-static.s3.amazonaws.com/368533_6714e2f92b7e4f8c9b71a6707d252d57.html\n",
    "3. Wage Differentiation Among University Professors\n",
    "    - https://pdfs.semanticscholar.org/1f0d/95a40fd48c8abd01ee7d3324b26aa603ee96.pdf"
   ]
  },
  {
   "cell_type": "markdown",
   "metadata": {},
   "source": [
    "## Hypothesis\n",
    "We decided to focus on a few factors that might affect an instructor’s salary at UCSD. The following bullet points highlight our hypotheses for each factor we plan to consider.\n",
    "\n",
    "- Student Recommendation Rating: Student recommendation ratings for an instructor will have a positive correlation to that instructor’s salary. We believe this because findings from our research on background knowledge suggest a positive relationship between student ratings and salaries.\n",
    "\n",
    "- Department: Professors in STEM departments will have higher salaries than those in other departments. We believe this to be true because of the experience required to be an instructor in the STEM field.\n",
    "\n",
    "- Average Grade assigned to Students: Professors who assign higher average grades will also have higher salaries, up to a certain threshold at which point their salary will diminish. We believe this will be true because generally “easy-A” professors are not valued as much as those who have a good average grade.\n",
    "\n",
    "- Upper Division & Study hours: Professors who teach soley lower division courses will have lower salaries than those who teach upper division courses at well. We believe this to be true because courses in the upper division tend to be more difficult than those in lower division. Therefore, professors should be compensated for how difficult the material they teach is. We apply this same logic to study hours, since greater study hours tend to translate to more difficult classes. Thus, professors with a higher average study hours should recieve more pay than those with lower study hours. "
   ]
  },
  {
   "cell_type": "markdown",
   "metadata": {},
   "source": [
    "## Dataset(s)\n",
    "\n",
    "1. **Dataset Name:** income.csv\n",
    "    - **Link to dataset:** https://github.com/COGS108/group04_sp20/blob/master/data/capes.csv\n",
    "    - **Number of observations:** 3895\n",
    "    - **Description:** This is a raw dataset scraped from [this website](https://ucannualwage.ucop.edu/wage/). It contains information about the salaries of lecturers and professors at UCSD in the 2018 calendar year. \n",
    "\n",
    "\n",
    "2. **Dataset Name:** capes.csv\n",
    "    - **Link to dataset:** https://github.com/COGS108/group04_sp20/blob/master/data/income.csv\n",
    "    - **Number of observations:** 4117\n",
    "    - **Description:** This is a raw dataset scraped from [this website](https://cape.ucsd.edu/responses/Results.aspx). It contains statistics about each class that a lecturer or professors taught at UCSD in the 2018 calendar year. These statistics include, but are not limited to, the course title, instructor recommendations, average grade expected, and study hours per week. "
   ]
  },
  {
   "cell_type": "markdown",
   "metadata": {},
   "source": [
    "## Setup\n",
    "\n",
    "For setup, we import numpy and pandas to perform simple changes and analysis of the datasets. In addition, we import other packages to create the graphs and plots that we generated as well as scipy and patsy to use statistical tests to analyze our data. "
   ]
  },
  {
   "cell_type": "code",
   "execution_count": 1,
   "metadata": {},
   "outputs": [],
   "source": [
    "# Display plots directly in the notebook instead of in a new window\n",
    "%matplotlib inline\n",
    "\n",
    "# Import libraries\n",
    "import numpy as np\n",
    "import pandas as pd\n",
    "import matplotlib.pyplot as plt\n",
    "import seaborn as sns\n",
    "import statsmodels.api as sm\n",
    "import scipy.stats as stats\n",
    "from scipy.stats import *\n",
    "import patsy"
   ]
  },
  {
   "cell_type": "markdown",
   "metadata": {},
   "source": [
    "## Data Cleaning"
   ]
  },
  {
   "cell_type": "markdown",
   "metadata": {},
   "source": [
    "### Cleanup Capes Dataset"
   ]
  },
  {
   "cell_type": "code",
   "execution_count": 2,
   "metadata": {},
   "outputs": [
    {
     "data": {
      "text/html": [
       "<div>\n",
       "<style scoped>\n",
       "    .dataframe tbody tr th:only-of-type {\n",
       "        vertical-align: middle;\n",
       "    }\n",
       "\n",
       "    .dataframe tbody tr th {\n",
       "        vertical-align: top;\n",
       "    }\n",
       "\n",
       "    .dataframe thead th {\n",
       "        text-align: right;\n",
       "    }\n",
       "</style>\n",
       "<table border=\"1\" class=\"dataframe\">\n",
       "  <thead>\n",
       "    <tr style=\"text-align: right;\">\n",
       "      <th></th>\n",
       "      <th>Instructor</th>\n",
       "      <th>Course</th>\n",
       "      <th>Term</th>\n",
       "      <th>Enroll</th>\n",
       "      <th>Evals Made</th>\n",
       "      <th>Rcmd Class</th>\n",
       "      <th>Rcmnd Instr</th>\n",
       "      <th>Study Hours/week</th>\n",
       "      <th>avg Grade Expected</th>\n",
       "      <th>Average grade received</th>\n",
       "    </tr>\n",
       "  </thead>\n",
       "  <tbody>\n",
       "    <tr>\n",
       "      <th>0</th>\n",
       "      <td>Ben-Yosef, Erez</td>\n",
       "      <td>\\nANAR 113 - Natural Resources in Israel (A)\\n</td>\n",
       "      <td>FA18</td>\n",
       "      <td>19</td>\n",
       "      <td>11</td>\n",
       "      <td>\\n100.0 %\\n</td>\n",
       "      <td>\\n100.0 %\\n</td>\n",
       "      <td>4.14</td>\n",
       "      <td>\\nB+ (3.64)\\n</td>\n",
       "      <td>\\nN/A\\n</td>\n",
       "    </tr>\n",
       "    <tr>\n",
       "      <th>1</th>\n",
       "      <td>D'Alpoim Guedes, Jade A</td>\n",
       "      <td>\\nANAR 146 - Feeding the World (A)\\n</td>\n",
       "      <td>FA18</td>\n",
       "      <td>39</td>\n",
       "      <td>17</td>\n",
       "      <td>\\n100.0 %\\n</td>\n",
       "      <td>\\n100.0 %\\n</td>\n",
       "      <td>5.91</td>\n",
       "      <td>\\nA- (3.75)\\n</td>\n",
       "      <td>\\nB+ (3.54)\\n</td>\n",
       "    </tr>\n",
       "    <tr>\n",
       "      <th>2</th>\n",
       "      <td>Marchetto, Maria Carolina</td>\n",
       "      <td>\\nANBI 100 - Special Topic/Biological Anth (A)\\n</td>\n",
       "      <td>FA18</td>\n",
       "      <td>25</td>\n",
       "      <td>23</td>\n",
       "      <td>\\n100.0 %\\n</td>\n",
       "      <td>\\n100.0 %\\n</td>\n",
       "      <td>4.24</td>\n",
       "      <td>\\nA- (3.91)\\n</td>\n",
       "      <td>\\nA- (3.83)\\n</td>\n",
       "    </tr>\n",
       "    <tr>\n",
       "      <th>3</th>\n",
       "      <td>Non, Amy L</td>\n",
       "      <td>\\nANBI 134 - Human Evolutionary Genetics (A)\\n</td>\n",
       "      <td>FA18</td>\n",
       "      <td>30</td>\n",
       "      <td>16</td>\n",
       "      <td>\\n62.5 %\\n</td>\n",
       "      <td>\\n93.3 %\\n</td>\n",
       "      <td>5.50</td>\n",
       "      <td>\\nB (3.13)\\n</td>\n",
       "      <td>\\nB (3.09)\\n</td>\n",
       "    </tr>\n",
       "    <tr>\n",
       "      <th>4</th>\n",
       "      <td>Non, Amy L</td>\n",
       "      <td>\\nANBI 135 - Genetic Anthro Lab Techniques (A)\\n</td>\n",
       "      <td>FA18</td>\n",
       "      <td>11</td>\n",
       "      <td>7</td>\n",
       "      <td>\\n57.1 %\\n</td>\n",
       "      <td>\\n85.7 %\\n</td>\n",
       "      <td>4.50</td>\n",
       "      <td>\\nB (3.14)\\n</td>\n",
       "      <td>\\nN/A\\n</td>\n",
       "    </tr>\n",
       "  </tbody>\n",
       "</table>\n",
       "</div>"
      ],
      "text/plain": [
       "                  Instructor  \\\n",
       "0            Ben-Yosef, Erez   \n",
       "1    D'Alpoim Guedes, Jade A   \n",
       "2  Marchetto, Maria Carolina   \n",
       "3                 Non, Amy L   \n",
       "4                 Non, Amy L   \n",
       "\n",
       "                                             Course  Term  Enroll  Evals Made  \\\n",
       "0    \\nANAR 113 - Natural Resources in Israel (A)\\n  FA18      19          11   \n",
       "1              \\nANAR 146 - Feeding the World (A)\\n  FA18      39          17   \n",
       "2  \\nANBI 100 - Special Topic/Biological Anth (A)\\n  FA18      25          23   \n",
       "3    \\nANBI 134 - Human Evolutionary Genetics (A)\\n  FA18      30          16   \n",
       "4  \\nANBI 135 - Genetic Anthro Lab Techniques (A)\\n  FA18      11           7   \n",
       "\n",
       "    Rcmd Class  Rcmnd Instr  Study Hours/week avg Grade Expected  \\\n",
       "0  \\n100.0 %\\n  \\n100.0 %\\n              4.14      \\nB+ (3.64)\\n   \n",
       "1  \\n100.0 %\\n  \\n100.0 %\\n              5.91      \\nA- (3.75)\\n   \n",
       "2  \\n100.0 %\\n  \\n100.0 %\\n              4.24      \\nA- (3.91)\\n   \n",
       "3   \\n62.5 %\\n   \\n93.3 %\\n              5.50       \\nB (3.13)\\n   \n",
       "4   \\n57.1 %\\n   \\n85.7 %\\n              4.50       \\nB (3.14)\\n   \n",
       "\n",
       "  Average grade received  \n",
       "0                \\nN/A\\n  \n",
       "1          \\nB+ (3.54)\\n  \n",
       "2          \\nA- (3.83)\\n  \n",
       "3           \\nB (3.09)\\n  \n",
       "4                \\nN/A\\n  "
      ]
     },
     "execution_count": 2,
     "metadata": {},
     "output_type": "execute_result"
    }
   ],
   "source": [
    "# Reading in the initial capes data\n",
    "initial_capes = pd.read_csv('data/capes.csv')\n",
    "initial_capes.head()"
   ]
  },
  {
   "cell_type": "markdown",
   "metadata": {},
   "source": [
    "### Dropping Columns¶\n",
    "The objective at hand is to determine if certain factors influence a professors' salary. The factors we chose to analyze are the recomendations instructors recieve, the department they work for, the difficulty of their classes and the average grade of their students. For this reason, we decided to drop all the columns that did not pertain to these factors. However, we decided to keep the number of students enrolled in a class as this may be a confounding variable that affects how much a professors gets payed. We also decided to use Average Grade Expected as opposed to Average Grade Received so that we didn't have to eliminate rows without these values as these two columns are very similar. We have also gone ahead and renamed the columns so that they are easier to work with. "
   ]
  },
  {
   "cell_type": "code",
   "execution_count": 3,
   "metadata": {},
   "outputs": [
    {
     "data": {
      "text/html": [
       "<div>\n",
       "<style scoped>\n",
       "    .dataframe tbody tr th:only-of-type {\n",
       "        vertical-align: middle;\n",
       "    }\n",
       "\n",
       "    .dataframe tbody tr th {\n",
       "        vertical-align: top;\n",
       "    }\n",
       "\n",
       "    .dataframe thead th {\n",
       "        text-align: right;\n",
       "    }\n",
       "</style>\n",
       "<table border=\"1\" class=\"dataframe\">\n",
       "  <thead>\n",
       "    <tr style=\"text-align: right;\">\n",
       "      <th></th>\n",
       "      <th>Instructor</th>\n",
       "      <th>Course</th>\n",
       "      <th>Num_Students</th>\n",
       "      <th>Rcmnd_Instr</th>\n",
       "      <th>Study_Hours</th>\n",
       "      <th>Average_Grade</th>\n",
       "    </tr>\n",
       "  </thead>\n",
       "  <tbody>\n",
       "    <tr>\n",
       "      <th>0</th>\n",
       "      <td>Ben-Yosef, Erez</td>\n",
       "      <td>\\nANAR 113 - Natural Resources in Israel (A)\\n</td>\n",
       "      <td>19</td>\n",
       "      <td>\\n100.0 %\\n</td>\n",
       "      <td>4.14</td>\n",
       "      <td>\\nB+ (3.64)\\n</td>\n",
       "    </tr>\n",
       "    <tr>\n",
       "      <th>1</th>\n",
       "      <td>D'Alpoim Guedes, Jade A</td>\n",
       "      <td>\\nANAR 146 - Feeding the World (A)\\n</td>\n",
       "      <td>39</td>\n",
       "      <td>\\n100.0 %\\n</td>\n",
       "      <td>5.91</td>\n",
       "      <td>\\nA- (3.75)\\n</td>\n",
       "    </tr>\n",
       "    <tr>\n",
       "      <th>2</th>\n",
       "      <td>Marchetto, Maria Carolina</td>\n",
       "      <td>\\nANBI 100 - Special Topic/Biological Anth (A)\\n</td>\n",
       "      <td>25</td>\n",
       "      <td>\\n100.0 %\\n</td>\n",
       "      <td>4.24</td>\n",
       "      <td>\\nA- (3.91)\\n</td>\n",
       "    </tr>\n",
       "    <tr>\n",
       "      <th>3</th>\n",
       "      <td>Non, Amy L</td>\n",
       "      <td>\\nANBI 134 - Human Evolutionary Genetics (A)\\n</td>\n",
       "      <td>30</td>\n",
       "      <td>\\n93.3 %\\n</td>\n",
       "      <td>5.50</td>\n",
       "      <td>\\nB (3.13)\\n</td>\n",
       "    </tr>\n",
       "    <tr>\n",
       "      <th>4</th>\n",
       "      <td>Non, Amy L</td>\n",
       "      <td>\\nANBI 135 - Genetic Anthro Lab Techniques (A)\\n</td>\n",
       "      <td>11</td>\n",
       "      <td>\\n85.7 %\\n</td>\n",
       "      <td>4.50</td>\n",
       "      <td>\\nB (3.14)\\n</td>\n",
       "    </tr>\n",
       "  </tbody>\n",
       "</table>\n",
       "</div>"
      ],
      "text/plain": [
       "                  Instructor  \\\n",
       "0            Ben-Yosef, Erez   \n",
       "1    D'Alpoim Guedes, Jade A   \n",
       "2  Marchetto, Maria Carolina   \n",
       "3                 Non, Amy L   \n",
       "4                 Non, Amy L   \n",
       "\n",
       "                                             Course  Num_Students  \\\n",
       "0    \\nANAR 113 - Natural Resources in Israel (A)\\n            19   \n",
       "1              \\nANAR 146 - Feeding the World (A)\\n            39   \n",
       "2  \\nANBI 100 - Special Topic/Biological Anth (A)\\n            25   \n",
       "3    \\nANBI 134 - Human Evolutionary Genetics (A)\\n            30   \n",
       "4  \\nANBI 135 - Genetic Anthro Lab Techniques (A)\\n            11   \n",
       "\n",
       "   Rcmnd_Instr  Study_Hours  Average_Grade  \n",
       "0  \\n100.0 %\\n         4.14  \\nB+ (3.64)\\n  \n",
       "1  \\n100.0 %\\n         5.91  \\nA- (3.75)\\n  \n",
       "2  \\n100.0 %\\n         4.24  \\nA- (3.91)\\n  \n",
       "3   \\n93.3 %\\n         5.50   \\nB (3.13)\\n  \n",
       "4   \\n85.7 %\\n         4.50   \\nB (3.14)\\n  "
      ]
     },
     "execution_count": 3,
     "metadata": {},
     "output_type": "execute_result"
    }
   ],
   "source": [
    "initial_capes = initial_capes.drop(columns = ['Term', 'Evals Made', 'Rcmd Class', 'Average grade received'])\n",
    "initial_capes.columns = ['Instructor', 'Course', 'Num_Students', 'Rcmnd_Instr', 'Study_Hours', 'Average_Grade']\n",
    "initial_capes.head()"
   ]
  },
  {
   "cell_type": "markdown",
   "metadata": {},
   "source": [
    "### Standardizing Upper Div\n",
    "\n",
    "In order to determine if a course is an upper division course, we created a fucntion that takes in the course title and returns true if it is an upper division course or false otherwise. We applied this function to the course column and created a new boolean column, upper div. "
   ]
  },
  {
   "cell_type": "code",
   "execution_count": 4,
   "metadata": {},
   "outputs": [],
   "source": [
    "def standardize_upper_div(string):\n",
    "    string = string.strip()\n",
    "    index = string.find(' ')\n",
    "    string = string[index+1:]\n",
    "    \n",
    "    # Counter will equal the number of digits in the course number\n",
    "    counter = 0\n",
    "    while(string.find('0') == 0 or \n",
    "          string.find('1') == 0 or\n",
    "          string.find('2') == 0 or\n",
    "          string.find('3') == 0 or\n",
    "          string.find('4') == 0 or\n",
    "          string.find('5') == 0 or\n",
    "          string.find('6') == 0 or\n",
    "          string.find('7') == 0 or\n",
    "          string.find('8') == 0 or\n",
    "          string.find('9') == 0 ) :\n",
    "        string = string[1:]\n",
    "        counter += 1\n",
    "        \n",
    "    # If we are in the triple digits, we have an upper division course!\n",
    "    if(counter >= 3):\n",
    "        return True\n",
    "    else:\n",
    "        return False"
   ]
  },
  {
   "cell_type": "code",
   "execution_count": 5,
   "metadata": {},
   "outputs": [
    {
     "name": "stdout",
     "output_type": "stream",
     "text": [
      "True False\n"
     ]
    }
   ],
   "source": [
    "# Testing the function\n",
    "first = standardize_upper_div('\\nANAR 113 - Natural Resources in Israel (A)\\n')\n",
    "second = standardize_upper_div('LTWR 8C - Writing Non-Fiction (A)')\n",
    "print(first, second)"
   ]
  },
  {
   "cell_type": "code",
   "execution_count": 6,
   "metadata": {},
   "outputs": [
    {
     "data": {
      "text/html": [
       "<div>\n",
       "<style scoped>\n",
       "    .dataframe tbody tr th:only-of-type {\n",
       "        vertical-align: middle;\n",
       "    }\n",
       "\n",
       "    .dataframe tbody tr th {\n",
       "        vertical-align: top;\n",
       "    }\n",
       "\n",
       "    .dataframe thead th {\n",
       "        text-align: right;\n",
       "    }\n",
       "</style>\n",
       "<table border=\"1\" class=\"dataframe\">\n",
       "  <thead>\n",
       "    <tr style=\"text-align: right;\">\n",
       "      <th></th>\n",
       "      <th>Instructor</th>\n",
       "      <th>Course</th>\n",
       "      <th>Num_Students</th>\n",
       "      <th>Rcmnd_Instr</th>\n",
       "      <th>Study_Hours</th>\n",
       "      <th>Average_Grade</th>\n",
       "      <th>Upper_Div</th>\n",
       "    </tr>\n",
       "  </thead>\n",
       "  <tbody>\n",
       "    <tr>\n",
       "      <th>0</th>\n",
       "      <td>Ben-Yosef, Erez</td>\n",
       "      <td>\\nANAR 113 - Natural Resources in Israel (A)\\n</td>\n",
       "      <td>19</td>\n",
       "      <td>\\n100.0 %\\n</td>\n",
       "      <td>4.14</td>\n",
       "      <td>\\nB+ (3.64)\\n</td>\n",
       "      <td>True</td>\n",
       "    </tr>\n",
       "    <tr>\n",
       "      <th>1</th>\n",
       "      <td>D'Alpoim Guedes, Jade A</td>\n",
       "      <td>\\nANAR 146 - Feeding the World (A)\\n</td>\n",
       "      <td>39</td>\n",
       "      <td>\\n100.0 %\\n</td>\n",
       "      <td>5.91</td>\n",
       "      <td>\\nA- (3.75)\\n</td>\n",
       "      <td>True</td>\n",
       "    </tr>\n",
       "    <tr>\n",
       "      <th>2</th>\n",
       "      <td>Marchetto, Maria Carolina</td>\n",
       "      <td>\\nANBI 100 - Special Topic/Biological Anth (A)\\n</td>\n",
       "      <td>25</td>\n",
       "      <td>\\n100.0 %\\n</td>\n",
       "      <td>4.24</td>\n",
       "      <td>\\nA- (3.91)\\n</td>\n",
       "      <td>True</td>\n",
       "    </tr>\n",
       "    <tr>\n",
       "      <th>3</th>\n",
       "      <td>Non, Amy L</td>\n",
       "      <td>\\nANBI 134 - Human Evolutionary Genetics (A)\\n</td>\n",
       "      <td>30</td>\n",
       "      <td>\\n93.3 %\\n</td>\n",
       "      <td>5.50</td>\n",
       "      <td>\\nB (3.13)\\n</td>\n",
       "      <td>True</td>\n",
       "    </tr>\n",
       "    <tr>\n",
       "      <th>4</th>\n",
       "      <td>Non, Amy L</td>\n",
       "      <td>\\nANBI 135 - Genetic Anthro Lab Techniques (A)\\n</td>\n",
       "      <td>11</td>\n",
       "      <td>\\n85.7 %\\n</td>\n",
       "      <td>4.50</td>\n",
       "      <td>\\nB (3.14)\\n</td>\n",
       "      <td>True</td>\n",
       "    </tr>\n",
       "  </tbody>\n",
       "</table>\n",
       "</div>"
      ],
      "text/plain": [
       "                  Instructor  \\\n",
       "0            Ben-Yosef, Erez   \n",
       "1    D'Alpoim Guedes, Jade A   \n",
       "2  Marchetto, Maria Carolina   \n",
       "3                 Non, Amy L   \n",
       "4                 Non, Amy L   \n",
       "\n",
       "                                             Course  Num_Students  \\\n",
       "0    \\nANAR 113 - Natural Resources in Israel (A)\\n            19   \n",
       "1              \\nANAR 146 - Feeding the World (A)\\n            39   \n",
       "2  \\nANBI 100 - Special Topic/Biological Anth (A)\\n            25   \n",
       "3    \\nANBI 134 - Human Evolutionary Genetics (A)\\n            30   \n",
       "4  \\nANBI 135 - Genetic Anthro Lab Techniques (A)\\n            11   \n",
       "\n",
       "   Rcmnd_Instr  Study_Hours  Average_Grade  Upper_Div  \n",
       "0  \\n100.0 %\\n         4.14  \\nB+ (3.64)\\n       True  \n",
       "1  \\n100.0 %\\n         5.91  \\nA- (3.75)\\n       True  \n",
       "2  \\n100.0 %\\n         4.24  \\nA- (3.91)\\n       True  \n",
       "3   \\n93.3 %\\n         5.50   \\nB (3.13)\\n       True  \n",
       "4   \\n85.7 %\\n         4.50   \\nB (3.14)\\n       True  "
      ]
     },
     "execution_count": 6,
     "metadata": {},
     "output_type": "execute_result"
    }
   ],
   "source": [
    "initial_capes['Upper_Div'] = initial_capes['Course'].apply(standardize_upper_div)\n",
    "initial_capes.head()"
   ]
  },
  {
   "cell_type": "markdown",
   "metadata": {},
   "source": [
    "### Standardizing Department and Field (STEM vs. Non-STEM)\n",
    "\n",
    "Each row in the table represents a different course/section that a professors has taught. However, in order to determine if a professor's salary is correlated with the department they teach in, we must standardize each of these courses by their department and also by whether not they teach a STEM field. To do so, we declare two functions that determines if a course is a STEM course and what department it belongs in based on the acronym of the course title. We then apply these function to the column containing the course titles and create a new column. "
   ]
  },
  {
   "cell_type": "code",
   "execution_count": 7,
   "metadata": {},
   "outputs": [],
   "source": [
    "def standardize_department(string):\n",
    "    string = string.strip()\n",
    "    string = string[:4]\n",
    "    \n",
    "    # Check for the strings within the course title\n",
    "    if 'AN' in string:\n",
    "        output = 'Anthropology'\n",
    "    elif 'BENG' in string:\n",
    "        output = 'Bioengineering'\n",
    "    elif 'BI' in string:\n",
    "        output = 'Biology'\n",
    "    elif 'CAT' in string:\n",
    "        output = 'Sixth College'\n",
    "    elif 'CGS' in string:\n",
    "        output = 'Critical Gender Studies'\n",
    "    elif 'CHEM' in string:\n",
    "        output = 'Chemistry'\n",
    "    elif 'CHIN' in string:\n",
    "        output = 'Chinese Studies'\n",
    "    elif 'COGS' in string:\n",
    "        output = 'Cognitive Science'\n",
    "    elif 'DSGN' in string:\n",
    "        output = 'Cognitive Science'\n",
    "    elif 'COMM' in string:\n",
    "        output = 'Communication'\n",
    "    elif 'CONT' in string:\n",
    "        output = 'Contemporary Issues'\n",
    "    elif 'CSE' in string:\n",
    "        output = 'Computer Science'\n",
    "    elif 'DOC' in string:\n",
    "        output = 'Dimensions of Culture'\n",
    "    elif 'ECE' in string:\n",
    "        output = 'Electrical & Computer Engineering'\n",
    "    elif 'ECON' in string:\n",
    "        output = 'Economics'\n",
    "    elif 'EDS' in string:\n",
    "        output = 'Education Studies'\n",
    "    elif 'ENVR' in string:\n",
    "        output = 'Environmental Studies'\n",
    "    elif 'ERC' in string:\n",
    "        output = 'Eleanor Roosevelt College'\n",
    "    elif 'ESYS' in string:\n",
    "        output = 'Environmental Systems'\n",
    "    elif 'ETHN' in string:\n",
    "        output = 'Ethnic Studies'\n",
    "    elif 'FILM' in string:\n",
    "        output = 'Film'\n",
    "    elif 'HDP' in string:\n",
    "        output = 'Human Development Program'\n",
    "    elif 'HI' in string:\n",
    "        output = 'History'\n",
    "    elif 'HMNR' in string:\n",
    "        output = 'Human Rights'\n",
    "    elif 'HUM' in string:\n",
    "        output = 'Humanities'\n",
    "    elif 'ICAM' in string:\n",
    "        output = 'Interdisciplinary Computing and Music'\n",
    "    elif 'INTL' in string:\n",
    "        output = 'International Studies'\n",
    "    elif 'JAPN' in string:\n",
    "        output = 'Japanese Studies'\n",
    "    elif 'JUDA' in string:\n",
    "        output = 'Judaic Studies'\n",
    "    elif 'LATI' in string:\n",
    "        output = 'Latin American Studies'\n",
    "    elif 'LAWS' in string:\n",
    "        output = 'Law & Society'\n",
    "    elif 'LI' in string:\n",
    "        output = 'Linguistics'\n",
    "    elif 'LT' in string:\n",
    "        output = 'Literature'\n",
    "    elif 'MAE' in string:\n",
    "        output = 'Mechanical & Aerospace Engineering'\n",
    "    elif 'MATH' in string:\n",
    "        output = 'Mathematics'\n",
    "    elif 'MMW' in string:\n",
    "        output = 'Making of the Modern World'\n",
    "    elif 'MUIR' in string:\n",
    "        output = 'Muir College'\n",
    "    elif 'MUS' in string:\n",
    "        output = 'Music'\n",
    "    elif 'CENG' in string:\n",
    "        output = 'NanoEngineering'\n",
    "    elif 'NANO' in string:\n",
    "        output = 'NanoEngineering'\n",
    "    elif 'PHIL' in string:\n",
    "        output = 'Philosophy'\n",
    "    elif 'PHYS' in string:\n",
    "        output = 'Physics'\n",
    "    elif 'POLI' in string:\n",
    "        output = 'Political Science'\n",
    "    elif 'PSYC' in string:\n",
    "        output = 'Psychology'\n",
    "    elif 'RELI' in string:\n",
    "        output = 'The Study of Religion'\n",
    "    elif 'REV' in string:\n",
    "        output = 'Revelle College'\n",
    "    elif 'MGT' in string:\n",
    "        output = 'Rady School of Management'\n",
    "    elif 'SE' in string:\n",
    "        output = 'Structural Engineering'\n",
    "    elif 'SIO' in string:\n",
    "        output = 'Scripps Institute of Oceanography'\n",
    "    elif 'SOCI' in string:\n",
    "        output = 'Sociology'\n",
    "    elif 'ENG' in string:\n",
    "        output = 'Jacobs School of Engineering'\n",
    "    elif 'SXTH' in string:\n",
    "        output = 'Sixth College'\n",
    "    elif 'TD' in string:\n",
    "        output = 'Theatre & Dance'\n",
    "    elif 'TMC' in string:\n",
    "        output = 'Thurgood Marshall College'\n",
    "    elif 'TWS' in string:\n",
    "        output = 'Third World Studies'\n",
    "    elif 'USP' in string:\n",
    "        output = 'Urban Studies and Planning'\n",
    "    elif 'VIS' in string:\n",
    "        output = 'Visual Arts'\n",
    "    elif 'WARR' in string:\n",
    "        output = 'Warren College'\n",
    "    elif 'WCWP' in string:\n",
    "        output = 'Warren College Writing Program'\n",
    "    else:\n",
    "        output = np.nan\n",
    "    \n",
    "    return output"
   ]
  },
  {
   "cell_type": "code",
   "execution_count": 8,
   "metadata": {},
   "outputs": [],
   "source": [
    "def standardize_stem(string):\n",
    "    string = string.strip()\n",
    "    string = string[:4]\n",
    "    \n",
    "    # Check for the strings within the course title\n",
    "    if 'AN' in string:\n",
    "        output = False\n",
    "    elif 'BENG' in string:\n",
    "        output = True\n",
    "    elif 'BI' in string:\n",
    "        output = True\n",
    "    elif 'CAT' in string:\n",
    "        output = False\n",
    "    elif 'CGS' in string:\n",
    "        output = False\n",
    "    elif 'CHEM' in string:\n",
    "        output = True\n",
    "    elif 'CHIN' in string:\n",
    "        output = False\n",
    "    elif 'COGS' in string:\n",
    "        output = True\n",
    "    elif 'DSGN' in string:\n",
    "        output = True\n",
    "    elif 'COMM' in string:\n",
    "        output = False\n",
    "    elif 'CONT' in string:\n",
    "        output = False\n",
    "    elif 'CSE' in string:\n",
    "        output = True\n",
    "    elif 'DOC' in string:\n",
    "        output = False\n",
    "    elif 'ECE' in string:\n",
    "        output = True\n",
    "    elif 'ECON' in string:\n",
    "        output = True\n",
    "    elif 'EDS' in string:\n",
    "        output = False\n",
    "    elif 'ENVR' in string:\n",
    "        output = True\n",
    "    elif 'ERC' in string:\n",
    "        output = False\n",
    "    elif 'ESYS' in string:\n",
    "        output = True\n",
    "    elif 'ETHN' in string:\n",
    "        output = False\n",
    "    elif 'FILM' in string:\n",
    "        output = False\n",
    "    elif 'HDP' in string:\n",
    "        output = False\n",
    "    elif 'HI' in string:\n",
    "        output = False\n",
    "    elif 'HMNR' in string:\n",
    "        output = False\n",
    "    elif 'HUM' in string:\n",
    "        output = False\n",
    "    elif 'ICAM' in string:\n",
    "        output = True\n",
    "    elif 'INTL' in string:\n",
    "        output = False\n",
    "    elif 'JAPN' in string:\n",
    "        output = False\n",
    "    elif 'JUDA' in string:\n",
    "        output = False\n",
    "    elif 'LATI' in string:\n",
    "        output = False\n",
    "    elif 'LAWS' in string:\n",
    "        output = False\n",
    "    elif 'LI' in string:\n",
    "        output = False\n",
    "    elif 'LT' in string:\n",
    "        output = False\n",
    "    elif 'MAE' in string:\n",
    "        output = True\n",
    "    elif 'MATH' in string:\n",
    "        output = True\n",
    "    elif 'MMW' in string:\n",
    "        output = False\n",
    "    elif 'MUIR' in string:\n",
    "        output = False\n",
    "    elif 'MUS' in string:\n",
    "        output = False\n",
    "    elif 'CENG' in string:\n",
    "        output = True\n",
    "    elif 'NANO' in string:\n",
    "        output = True\n",
    "    elif 'PHIL' in string:\n",
    "        output = False\n",
    "    elif 'PHYS' in string:\n",
    "        output = True\n",
    "    elif 'POLI' in string:\n",
    "        output = False\n",
    "    elif 'PSYC' in string:\n",
    "        output = True\n",
    "    elif 'RELI' in string:\n",
    "        output = False\n",
    "    elif 'REV' in string:\n",
    "        output = False\n",
    "    elif 'MGT' in string:\n",
    "        output = False\n",
    "    elif 'SE' in string:\n",
    "        output = True\n",
    "    elif 'SIO' in string:\n",
    "        output = True\n",
    "    elif 'SOCI' in string:\n",
    "        output = False\n",
    "    elif 'ENG' in string:\n",
    "        output = True\n",
    "    elif 'SXTH' in string:\n",
    "        output = False\n",
    "    elif 'TD' in string:\n",
    "        output = False\n",
    "    elif 'TMC' in string:\n",
    "        output = False\n",
    "    elif 'TWS' in string:\n",
    "        output = False\n",
    "    elif 'USP' in string:\n",
    "        output = False\n",
    "    elif 'VIS' in string:\n",
    "        output = False\n",
    "    elif 'WARR' in string:\n",
    "        output = False\n",
    "    elif 'WCWP' in string:\n",
    "        output = False\n",
    "    else:\n",
    "        output = False\n",
    "    return output"
   ]
  },
  {
   "cell_type": "code",
   "execution_count": 82,
   "metadata": {},
   "outputs": [
    {
     "name": "stdout",
     "output_type": "stream",
     "text": [
      "Warren College Writing Program False\n"
     ]
    }
   ],
   "source": [
    "# Testing the functions\n",
    "first = standardize_department('WCWP 100 - Academic Writing (B)')\n",
    "second = standardize_stem('WCWP 100 - Academic Writing (B)')\n",
    "print(first, second)"
   ]
  },
  {
   "cell_type": "code",
   "execution_count": 10,
   "metadata": {},
   "outputs": [
    {
     "data": {
      "text/html": [
       "<div>\n",
       "<style scoped>\n",
       "    .dataframe tbody tr th:only-of-type {\n",
       "        vertical-align: middle;\n",
       "    }\n",
       "\n",
       "    .dataframe tbody tr th {\n",
       "        vertical-align: top;\n",
       "    }\n",
       "\n",
       "    .dataframe thead th {\n",
       "        text-align: right;\n",
       "    }\n",
       "</style>\n",
       "<table border=\"1\" class=\"dataframe\">\n",
       "  <thead>\n",
       "    <tr style=\"text-align: right;\">\n",
       "      <th></th>\n",
       "      <th>Instructor</th>\n",
       "      <th>Department</th>\n",
       "      <th>Num_Students</th>\n",
       "      <th>Rcmnd_Instr</th>\n",
       "      <th>Study_Hours</th>\n",
       "      <th>Average_Grade</th>\n",
       "      <th>Upper_Div</th>\n",
       "      <th>Stem</th>\n",
       "    </tr>\n",
       "  </thead>\n",
       "  <tbody>\n",
       "    <tr>\n",
       "      <th>0</th>\n",
       "      <td>Ben-Yosef, Erez</td>\n",
       "      <td>Anthropology</td>\n",
       "      <td>19</td>\n",
       "      <td>\\n100.0 %\\n</td>\n",
       "      <td>4.14</td>\n",
       "      <td>\\nB+ (3.64)\\n</td>\n",
       "      <td>True</td>\n",
       "      <td>False</td>\n",
       "    </tr>\n",
       "    <tr>\n",
       "      <th>1</th>\n",
       "      <td>D'Alpoim Guedes, Jade A</td>\n",
       "      <td>Anthropology</td>\n",
       "      <td>39</td>\n",
       "      <td>\\n100.0 %\\n</td>\n",
       "      <td>5.91</td>\n",
       "      <td>\\nA- (3.75)\\n</td>\n",
       "      <td>True</td>\n",
       "      <td>False</td>\n",
       "    </tr>\n",
       "    <tr>\n",
       "      <th>2</th>\n",
       "      <td>Marchetto, Maria Carolina</td>\n",
       "      <td>Anthropology</td>\n",
       "      <td>25</td>\n",
       "      <td>\\n100.0 %\\n</td>\n",
       "      <td>4.24</td>\n",
       "      <td>\\nA- (3.91)\\n</td>\n",
       "      <td>True</td>\n",
       "      <td>False</td>\n",
       "    </tr>\n",
       "    <tr>\n",
       "      <th>3</th>\n",
       "      <td>Non, Amy L</td>\n",
       "      <td>Anthropology</td>\n",
       "      <td>30</td>\n",
       "      <td>\\n93.3 %\\n</td>\n",
       "      <td>5.50</td>\n",
       "      <td>\\nB (3.13)\\n</td>\n",
       "      <td>True</td>\n",
       "      <td>False</td>\n",
       "    </tr>\n",
       "    <tr>\n",
       "      <th>4</th>\n",
       "      <td>Non, Amy L</td>\n",
       "      <td>Anthropology</td>\n",
       "      <td>11</td>\n",
       "      <td>\\n85.7 %\\n</td>\n",
       "      <td>4.50</td>\n",
       "      <td>\\nB (3.14)\\n</td>\n",
       "      <td>True</td>\n",
       "      <td>False</td>\n",
       "    </tr>\n",
       "  </tbody>\n",
       "</table>\n",
       "</div>"
      ],
      "text/plain": [
       "                  Instructor    Department  Num_Students  Rcmnd_Instr  \\\n",
       "0            Ben-Yosef, Erez  Anthropology            19  \\n100.0 %\\n   \n",
       "1    D'Alpoim Guedes, Jade A  Anthropology            39  \\n100.0 %\\n   \n",
       "2  Marchetto, Maria Carolina  Anthropology            25  \\n100.0 %\\n   \n",
       "3                 Non, Amy L  Anthropology            30   \\n93.3 %\\n   \n",
       "4                 Non, Amy L  Anthropology            11   \\n85.7 %\\n   \n",
       "\n",
       "   Study_Hours  Average_Grade  Upper_Div   Stem  \n",
       "0         4.14  \\nB+ (3.64)\\n       True  False  \n",
       "1         5.91  \\nA- (3.75)\\n       True  False  \n",
       "2         4.24  \\nA- (3.91)\\n       True  False  \n",
       "3         5.50   \\nB (3.13)\\n       True  False  \n",
       "4         4.50   \\nB (3.14)\\n       True  False  "
      ]
     },
     "execution_count": 10,
     "metadata": {},
     "output_type": "execute_result"
    }
   ],
   "source": [
    "# Applying the functions to standardize the department and add the stem column\n",
    "initial_capes = initial_capes.rename(columns={\"Course\": \"Department\"})\n",
    "initial_capes['Stem'] = initial_capes['Department'].apply(standardize_stem)\n",
    "initial_capes['Department'] = initial_capes['Department'].apply(standardize_department)\n",
    "\n",
    "initial_capes.head()"
   ]
  },
  {
   "cell_type": "markdown",
   "metadata": {},
   "source": [
    "### Dropping Null Values\n",
    "\n",
    "In the initial data set there were many empty values in the column of Average grade expected. However, there were also entries in this column that were N/A or nan. Therefore, we must standardize these null and empty values to be np.nan first, so that we can make use of the function .isnull() to drop all the corresponding rows. However, if we drop one course of an instructor, we must also drop all the rows that correspond to that instructor as well. This is because our income dataset only show the salary that a professor made in a year. Therefore, if we drop one row of an instructor, the data will no longer be accurate for how many classes that instructor taught in a year or for their average grade that year."
   ]
  },
  {
   "cell_type": "code",
   "execution_count": 11,
   "metadata": {},
   "outputs": [],
   "source": [
    "def standardize_grade(string):\n",
    "    string = str(string)\n",
    "    string = string.strip()\n",
    "    \n",
    "    # Get rid of of empty or null strings\n",
    "    if 'nan' in string:\n",
    "        return np.nan\n",
    "    if 'N/A' in string:\n",
    "        return np.nan\n",
    "    if '' == string:\n",
    "        return np.nan\n",
    "        \n",
    "    return string"
   ]
  },
  {
   "cell_type": "code",
   "execution_count": 12,
   "metadata": {},
   "outputs": [
    {
     "data": {
      "text/html": [
       "<div>\n",
       "<style scoped>\n",
       "    .dataframe tbody tr th:only-of-type {\n",
       "        vertical-align: middle;\n",
       "    }\n",
       "\n",
       "    .dataframe tbody tr th {\n",
       "        vertical-align: top;\n",
       "    }\n",
       "\n",
       "    .dataframe thead th {\n",
       "        text-align: right;\n",
       "    }\n",
       "</style>\n",
       "<table border=\"1\" class=\"dataframe\">\n",
       "  <thead>\n",
       "    <tr style=\"text-align: right;\">\n",
       "      <th></th>\n",
       "      <th>Instructor</th>\n",
       "      <th>Department</th>\n",
       "      <th>Num_Students</th>\n",
       "      <th>Rcmnd_Instr</th>\n",
       "      <th>Study_Hours</th>\n",
       "      <th>Average_Grade</th>\n",
       "      <th>Upper_Div</th>\n",
       "      <th>Stem</th>\n",
       "    </tr>\n",
       "  </thead>\n",
       "  <tbody>\n",
       "    <tr>\n",
       "      <th>0</th>\n",
       "      <td>Ben-Yosef, Erez</td>\n",
       "      <td>Anthropology</td>\n",
       "      <td>19</td>\n",
       "      <td>\\n100.0 %\\n</td>\n",
       "      <td>4.14</td>\n",
       "      <td>B+ (3.64)</td>\n",
       "      <td>True</td>\n",
       "      <td>False</td>\n",
       "    </tr>\n",
       "    <tr>\n",
       "      <th>1</th>\n",
       "      <td>D'Alpoim Guedes, Jade A</td>\n",
       "      <td>Anthropology</td>\n",
       "      <td>39</td>\n",
       "      <td>\\n100.0 %\\n</td>\n",
       "      <td>5.91</td>\n",
       "      <td>A- (3.75)</td>\n",
       "      <td>True</td>\n",
       "      <td>False</td>\n",
       "    </tr>\n",
       "    <tr>\n",
       "      <th>2</th>\n",
       "      <td>Marchetto, Maria Carolina</td>\n",
       "      <td>Anthropology</td>\n",
       "      <td>25</td>\n",
       "      <td>\\n100.0 %\\n</td>\n",
       "      <td>4.24</td>\n",
       "      <td>A- (3.91)</td>\n",
       "      <td>True</td>\n",
       "      <td>False</td>\n",
       "    </tr>\n",
       "    <tr>\n",
       "      <th>3</th>\n",
       "      <td>Non, Amy L</td>\n",
       "      <td>Anthropology</td>\n",
       "      <td>30</td>\n",
       "      <td>\\n93.3 %\\n</td>\n",
       "      <td>5.50</td>\n",
       "      <td>B (3.13)</td>\n",
       "      <td>True</td>\n",
       "      <td>False</td>\n",
       "    </tr>\n",
       "    <tr>\n",
       "      <th>4</th>\n",
       "      <td>Non, Amy L</td>\n",
       "      <td>Anthropology</td>\n",
       "      <td>11</td>\n",
       "      <td>\\n85.7 %\\n</td>\n",
       "      <td>4.50</td>\n",
       "      <td>B (3.14)</td>\n",
       "      <td>True</td>\n",
       "      <td>False</td>\n",
       "    </tr>\n",
       "    <tr>\n",
       "      <th>...</th>\n",
       "      <td>...</td>\n",
       "      <td>...</td>\n",
       "      <td>...</td>\n",
       "      <td>...</td>\n",
       "      <td>...</td>\n",
       "      <td>...</td>\n",
       "      <td>...</td>\n",
       "      <td>...</td>\n",
       "    </tr>\n",
       "    <tr>\n",
       "      <th>3847</th>\n",
       "      <td>Pafunda, Danielle</td>\n",
       "      <td>Literature</td>\n",
       "      <td>18</td>\n",
       "      <td>100.0 %</td>\n",
       "      <td>4.50</td>\n",
       "      <td>A (4.00)</td>\n",
       "      <td>True</td>\n",
       "      <td>False</td>\n",
       "    </tr>\n",
       "    <tr>\n",
       "      <th>3848</th>\n",
       "      <td>Hoang, Lily Kim</td>\n",
       "      <td>Literature</td>\n",
       "      <td>12</td>\n",
       "      <td>100.0 %</td>\n",
       "      <td>7.00</td>\n",
       "      <td>A- (3.75)</td>\n",
       "      <td>True</td>\n",
       "      <td>False</td>\n",
       "    </tr>\n",
       "    <tr>\n",
       "      <th>3849</th>\n",
       "      <td>Hoang, Lily Kim</td>\n",
       "      <td>Literature</td>\n",
       "      <td>34</td>\n",
       "      <td>85.7 %</td>\n",
       "      <td>2.50</td>\n",
       "      <td>A- (3.86)</td>\n",
       "      <td>True</td>\n",
       "      <td>False</td>\n",
       "    </tr>\n",
       "    <tr>\n",
       "      <th>3850</th>\n",
       "      <td>Doller, Ben</td>\n",
       "      <td>Literature</td>\n",
       "      <td>99</td>\n",
       "      <td>91.7 %</td>\n",
       "      <td>2.83</td>\n",
       "      <td>A- (3.87)</td>\n",
       "      <td>False</td>\n",
       "      <td>False</td>\n",
       "    </tr>\n",
       "    <tr>\n",
       "      <th>3851</th>\n",
       "      <td>Forbes, Camille</td>\n",
       "      <td>Literature</td>\n",
       "      <td>61</td>\n",
       "      <td>89.1 %</td>\n",
       "      <td>3.31</td>\n",
       "      <td>B+ (3.45)</td>\n",
       "      <td>False</td>\n",
       "      <td>False</td>\n",
       "    </tr>\n",
       "  </tbody>\n",
       "</table>\n",
       "<p>3852 rows × 8 columns</p>\n",
       "</div>"
      ],
      "text/plain": [
       "                     Instructor    Department  Num_Students  Rcmnd_Instr  \\\n",
       "0               Ben-Yosef, Erez  Anthropology            19  \\n100.0 %\\n   \n",
       "1       D'Alpoim Guedes, Jade A  Anthropology            39  \\n100.0 %\\n   \n",
       "2     Marchetto, Maria Carolina  Anthropology            25  \\n100.0 %\\n   \n",
       "3                    Non, Amy L  Anthropology            30   \\n93.3 %\\n   \n",
       "4                    Non, Amy L  Anthropology            11   \\n85.7 %\\n   \n",
       "...                         ...           ...           ...          ...   \n",
       "3847          Pafunda, Danielle    Literature            18      100.0 %   \n",
       "3848            Hoang, Lily Kim    Literature            12      100.0 %   \n",
       "3849            Hoang, Lily Kim    Literature            34       85.7 %   \n",
       "3850                Doller, Ben    Literature            99       91.7 %   \n",
       "3851            Forbes, Camille    Literature            61       89.1 %   \n",
       "\n",
       "      Study_Hours Average_Grade  Upper_Div   Stem  \n",
       "0            4.14     B+ (3.64)       True  False  \n",
       "1            5.91     A- (3.75)       True  False  \n",
       "2            4.24     A- (3.91)       True  False  \n",
       "3            5.50      B (3.13)       True  False  \n",
       "4            4.50      B (3.14)       True  False  \n",
       "...           ...           ...        ...    ...  \n",
       "3847         4.50      A (4.00)       True  False  \n",
       "3848         7.00     A- (3.75)       True  False  \n",
       "3849         2.50     A- (3.86)       True  False  \n",
       "3850         2.83     A- (3.87)      False  False  \n",
       "3851         3.31     B+ (3.45)      False  False  \n",
       "\n",
       "[3852 rows x 8 columns]"
      ]
     },
     "execution_count": 12,
     "metadata": {},
     "output_type": "execute_result"
    }
   ],
   "source": [
    "# Applying the function to standardize null and empty entries for average grade\n",
    "initial_capes['Average_Grade'] = initial_capes['Average_Grade'].apply(standardize_grade)\n",
    "\n",
    "# Determines which rows should be dropped\n",
    "rows_to_drop = initial_capes[initial_capes.isnull().any(axis=1)]\n",
    "\n",
    "# Determines the instructor and all of its corresponding rows that must be dropped from the data above\n",
    "arr = []\n",
    "for i in rows_to_drop.index:\n",
    "    arr.append(rows_to_drop.loc[i,'Instructor'])\n",
    "    \n",
    "# Drop all the data pertaining to the instructors in the array above\n",
    "for i in arr:\n",
    "    initial_capes = initial_capes[initial_capes['Instructor'] != i]\n",
    "    \n",
    "# Reordering the indices after dropping all the rows. \n",
    "initial_capes.reset_index(drop=True, inplace=True)\n",
    "\n",
    "initial_capes"
   ]
  },
  {
   "cell_type": "markdown",
   "metadata": {},
   "source": [
    "### Standardizing Letter Grades\n",
    "\n",
    "Since the average gpa of a course is a more accurate representation of grades than the average letter grade, we decided to keep only the gpa portion of the string. To do so we find the index of the '(' character which denotes the start of the gpa and the index of the ')' character which denotes the ending of the gpa. We return only the value in between these indices, which we type casted to be a float. This will allow for mathematical calculations later.  "
   ]
  },
  {
   "cell_type": "code",
   "execution_count": 13,
   "metadata": {},
   "outputs": [],
   "source": [
    "def standardize_letter(string):\n",
    "    string = str(string)\n",
    "    \n",
    "    # Only include the numerical value\n",
    "    begin = string.find('(')\n",
    "    end = string.find(')')\n",
    "    string = string[begin + 1 : end]\n",
    " \n",
    "    return float(string)"
   ]
  },
  {
   "cell_type": "code",
   "execution_count": 14,
   "metadata": {},
   "outputs": [
    {
     "data": {
      "text/html": [
       "<div>\n",
       "<style scoped>\n",
       "    .dataframe tbody tr th:only-of-type {\n",
       "        vertical-align: middle;\n",
       "    }\n",
       "\n",
       "    .dataframe tbody tr th {\n",
       "        vertical-align: top;\n",
       "    }\n",
       "\n",
       "    .dataframe thead th {\n",
       "        text-align: right;\n",
       "    }\n",
       "</style>\n",
       "<table border=\"1\" class=\"dataframe\">\n",
       "  <thead>\n",
       "    <tr style=\"text-align: right;\">\n",
       "      <th></th>\n",
       "      <th>Instructor</th>\n",
       "      <th>Department</th>\n",
       "      <th>Num_Students</th>\n",
       "      <th>Rcmnd_Instr</th>\n",
       "      <th>Study_Hours</th>\n",
       "      <th>Average_Grade</th>\n",
       "      <th>Upper_Div</th>\n",
       "      <th>Stem</th>\n",
       "    </tr>\n",
       "  </thead>\n",
       "  <tbody>\n",
       "    <tr>\n",
       "      <th>0</th>\n",
       "      <td>Ben-Yosef, Erez</td>\n",
       "      <td>Anthropology</td>\n",
       "      <td>19</td>\n",
       "      <td>\\n100.0 %\\n</td>\n",
       "      <td>4.14</td>\n",
       "      <td>3.64</td>\n",
       "      <td>True</td>\n",
       "      <td>False</td>\n",
       "    </tr>\n",
       "    <tr>\n",
       "      <th>1</th>\n",
       "      <td>D'Alpoim Guedes, Jade A</td>\n",
       "      <td>Anthropology</td>\n",
       "      <td>39</td>\n",
       "      <td>\\n100.0 %\\n</td>\n",
       "      <td>5.91</td>\n",
       "      <td>3.75</td>\n",
       "      <td>True</td>\n",
       "      <td>False</td>\n",
       "    </tr>\n",
       "    <tr>\n",
       "      <th>2</th>\n",
       "      <td>Marchetto, Maria Carolina</td>\n",
       "      <td>Anthropology</td>\n",
       "      <td>25</td>\n",
       "      <td>\\n100.0 %\\n</td>\n",
       "      <td>4.24</td>\n",
       "      <td>3.91</td>\n",
       "      <td>True</td>\n",
       "      <td>False</td>\n",
       "    </tr>\n",
       "    <tr>\n",
       "      <th>3</th>\n",
       "      <td>Non, Amy L</td>\n",
       "      <td>Anthropology</td>\n",
       "      <td>30</td>\n",
       "      <td>\\n93.3 %\\n</td>\n",
       "      <td>5.50</td>\n",
       "      <td>3.13</td>\n",
       "      <td>True</td>\n",
       "      <td>False</td>\n",
       "    </tr>\n",
       "    <tr>\n",
       "      <th>4</th>\n",
       "      <td>Non, Amy L</td>\n",
       "      <td>Anthropology</td>\n",
       "      <td>11</td>\n",
       "      <td>\\n85.7 %\\n</td>\n",
       "      <td>4.50</td>\n",
       "      <td>3.14</td>\n",
       "      <td>True</td>\n",
       "      <td>False</td>\n",
       "    </tr>\n",
       "  </tbody>\n",
       "</table>\n",
       "</div>"
      ],
      "text/plain": [
       "                  Instructor    Department  Num_Students  Rcmnd_Instr  \\\n",
       "0            Ben-Yosef, Erez  Anthropology            19  \\n100.0 %\\n   \n",
       "1    D'Alpoim Guedes, Jade A  Anthropology            39  \\n100.0 %\\n   \n",
       "2  Marchetto, Maria Carolina  Anthropology            25  \\n100.0 %\\n   \n",
       "3                 Non, Amy L  Anthropology            30   \\n93.3 %\\n   \n",
       "4                 Non, Amy L  Anthropology            11   \\n85.7 %\\n   \n",
       "\n",
       "   Study_Hours  Average_Grade  Upper_Div   Stem  \n",
       "0         4.14           3.64       True  False  \n",
       "1         5.91           3.75       True  False  \n",
       "2         4.24           3.91       True  False  \n",
       "3         5.50           3.13       True  False  \n",
       "4         4.50           3.14       True  False  "
      ]
     },
     "execution_count": 14,
     "metadata": {},
     "output_type": "execute_result"
    }
   ],
   "source": [
    "# Applying the above function to the average grade column \n",
    "initial_capes['Average_Grade'] = initial_capes['Average_Grade'].apply(standardize_letter)\n",
    "\n",
    "initial_capes.head()"
   ]
  },
  {
   "cell_type": "markdown",
   "metadata": {},
   "source": [
    "### Standardize recommendation\n",
    "In the initial dataset, the recommendation of a professor is stored as a string even though it is a numerical value. In order to cast it into a float, which allows for easier calculations later, we declared a function to do so. We stripped all the extra white space and characters returned a casted float value. "
   ]
  },
  {
   "cell_type": "code",
   "execution_count": 15,
   "metadata": {},
   "outputs": [],
   "source": [
    "def standardize_recommendation(string):\n",
    "    string = str(string)\n",
    "    end = string.find('%')\n",
    "    string = string[: end]\n",
    "          \n",
    "    return float(string)"
   ]
  },
  {
   "cell_type": "code",
   "execution_count": 16,
   "metadata": {},
   "outputs": [
    {
     "data": {
      "text/html": [
       "<div>\n",
       "<style scoped>\n",
       "    .dataframe tbody tr th:only-of-type {\n",
       "        vertical-align: middle;\n",
       "    }\n",
       "\n",
       "    .dataframe tbody tr th {\n",
       "        vertical-align: top;\n",
       "    }\n",
       "\n",
       "    .dataframe thead th {\n",
       "        text-align: right;\n",
       "    }\n",
       "</style>\n",
       "<table border=\"1\" class=\"dataframe\">\n",
       "  <thead>\n",
       "    <tr style=\"text-align: right;\">\n",
       "      <th></th>\n",
       "      <th>Instructor</th>\n",
       "      <th>Department</th>\n",
       "      <th>Num_Students</th>\n",
       "      <th>Rcmnd_Instr</th>\n",
       "      <th>Study_Hours</th>\n",
       "      <th>Average_Grade</th>\n",
       "      <th>Upper_Div</th>\n",
       "      <th>Stem</th>\n",
       "    </tr>\n",
       "  </thead>\n",
       "  <tbody>\n",
       "    <tr>\n",
       "      <th>0</th>\n",
       "      <td>Ben-Yosef, Erez</td>\n",
       "      <td>Anthropology</td>\n",
       "      <td>19</td>\n",
       "      <td>100.0</td>\n",
       "      <td>4.14</td>\n",
       "      <td>3.64</td>\n",
       "      <td>True</td>\n",
       "      <td>False</td>\n",
       "    </tr>\n",
       "    <tr>\n",
       "      <th>1</th>\n",
       "      <td>D'Alpoim Guedes, Jade A</td>\n",
       "      <td>Anthropology</td>\n",
       "      <td>39</td>\n",
       "      <td>100.0</td>\n",
       "      <td>5.91</td>\n",
       "      <td>3.75</td>\n",
       "      <td>True</td>\n",
       "      <td>False</td>\n",
       "    </tr>\n",
       "    <tr>\n",
       "      <th>2</th>\n",
       "      <td>Marchetto, Maria Carolina</td>\n",
       "      <td>Anthropology</td>\n",
       "      <td>25</td>\n",
       "      <td>100.0</td>\n",
       "      <td>4.24</td>\n",
       "      <td>3.91</td>\n",
       "      <td>True</td>\n",
       "      <td>False</td>\n",
       "    </tr>\n",
       "    <tr>\n",
       "      <th>3</th>\n",
       "      <td>Non, Amy L</td>\n",
       "      <td>Anthropology</td>\n",
       "      <td>30</td>\n",
       "      <td>93.3</td>\n",
       "      <td>5.50</td>\n",
       "      <td>3.13</td>\n",
       "      <td>True</td>\n",
       "      <td>False</td>\n",
       "    </tr>\n",
       "    <tr>\n",
       "      <th>4</th>\n",
       "      <td>Non, Amy L</td>\n",
       "      <td>Anthropology</td>\n",
       "      <td>11</td>\n",
       "      <td>85.7</td>\n",
       "      <td>4.50</td>\n",
       "      <td>3.14</td>\n",
       "      <td>True</td>\n",
       "      <td>False</td>\n",
       "    </tr>\n",
       "  </tbody>\n",
       "</table>\n",
       "</div>"
      ],
      "text/plain": [
       "                  Instructor    Department  Num_Students  Rcmnd_Instr  \\\n",
       "0            Ben-Yosef, Erez  Anthropology            19        100.0   \n",
       "1    D'Alpoim Guedes, Jade A  Anthropology            39        100.0   \n",
       "2  Marchetto, Maria Carolina  Anthropology            25        100.0   \n",
       "3                 Non, Amy L  Anthropology            30         93.3   \n",
       "4                 Non, Amy L  Anthropology            11         85.7   \n",
       "\n",
       "   Study_Hours  Average_Grade  Upper_Div   Stem  \n",
       "0         4.14           3.64       True  False  \n",
       "1         5.91           3.75       True  False  \n",
       "2         4.24           3.91       True  False  \n",
       "3         5.50           3.13       True  False  \n",
       "4         4.50           3.14       True  False  "
      ]
     },
     "execution_count": 16,
     "metadata": {},
     "output_type": "execute_result"
    }
   ],
   "source": [
    "# Applying the function above to the recommendation column.\n",
    "initial_capes['Rcmnd_Instr'] = initial_capes['Rcmnd_Instr'].apply(standardize_recommendation)\n",
    "\n",
    "initial_capes.head()"
   ]
  },
  {
   "cell_type": "markdown",
   "metadata": {},
   "source": [
    "### Combining Rows\n",
    "\n",
    "Each row of the initial dataset represented a specific course. However, we want each row to represent an instructor  with their average statistic for the year 2018. To do this, we first created seven dictionaries. For each dictionary the key was an instructor and the values were the statistics that corresponded to that instructor and department. To populate information into these dictionaries we parsed through every row of the dataset and added all the statistics to their corresponding dictionary. After parsing through all the rows, we parsed through all the instructors to calculate the average for that specific statistic in the dictionary. Note that we did not do this for enrollment dictionary as we did not want the average number a instructor taught but rather the total number of students they taught for 2018. After calculating each statistic for that instructor, we added a row to a new dataframe with the corresponding instructor and his or her statistics. "
   ]
  },
  {
   "cell_type": "code",
   "execution_count": 17,
   "metadata": {},
   "outputs": [],
   "source": [
    "# Populating all of the dictionaries\n",
    "rcmndDict = {}\n",
    "gradeDict = {}\n",
    "enrollDict = {}\n",
    "departDict = {}\n",
    "stemDict = {}\n",
    "upperDict = {}\n",
    "studyDict = {}\n",
    "\n",
    "# Looping through each of the entries in the dataframe\n",
    "for i in initial_capes.index:\n",
    "    instrStr = initial_capes.loc[i, 'Instructor']\n",
    "    rccmd = initial_capes.loc[i, 'Rcmnd_Instr']\n",
    "    grade = initial_capes.loc[i, 'Average_Grade']\n",
    "    depart = initial_capes.loc[i, 'Department']\n",
    "    enroll = initial_capes.loc[i, 'Num_Students']\n",
    "    stem = initial_capes.loc[i, 'Stem']\n",
    "    upper = initial_capes.loc[i, 'Upper_Div']\n",
    "    study = initial_capes.loc[i, 'Study_Hours']\n",
    "    \n",
    "    # If the instructor is in the recommendation dictionary already add to that entry\n",
    "    if instrStr in rcmndDict:\n",
    "        \n",
    "        # Add to list of recommendation scores\n",
    "        arr = rcmndDict[instrStr]\n",
    "        arr.append(rccmd)\n",
    "        rcmndDict[instrStr] = arr\n",
    "        \n",
    "        # Add to list of average grade scores\n",
    "        arr = gradeDict[instrStr]\n",
    "        arr.append(grade)\n",
    "        gradeDict[instrStr] = arr\n",
    "        \n",
    "        # Add to the total enrollment for this instructor\n",
    "        enrollDict[instrStr] = enrollDict[instrStr] + enroll\n",
    "        \n",
    "        # Add to list of study hours \n",
    "        arr = studyDict[instrStr]\n",
    "        arr.append(study)\n",
    "        studyDict[instrStr] = arr\n",
    "        \n",
    "        # Add to list of departments they teach under (but no duplicates)\n",
    "        arr = departDict[instrStr]\n",
    "        if depart not in arr:\n",
    "            arr.append(depart)\n",
    "        \n",
    "        # Should only be considered upper div if they teach ALL upper div courses\n",
    "        if upper == False:\n",
    "            upperDict[instrStr] = upper\n",
    "            \n",
    "        # Should be considered stem if they teach any stem courses at all\n",
    "        if stem == True:\n",
    "            stemDict[instrStr] = stem\n",
    "\n",
    "    # If this is the first entry for that instructor\n",
    "    else:\n",
    "        # Set initial values for an instructor\n",
    "        rcmndDict[instrStr] = [rccmd]\n",
    "        gradeDict[instrStr] = [grade]\n",
    "        departDict[instrStr] = [depart]\n",
    "        enrollDict[instrStr] = enroll\n",
    "        studyDict[instrStr] = [study]\n",
    "        stemDict[instrStr] = stem\n",
    "        upperDict[instrStr] = upper"
   ]
  },
  {
   "cell_type": "code",
   "execution_count": 18,
   "metadata": {},
   "outputs": [],
   "source": [
    "# Creating a new dataframe where every row correlates to an instructor.\n",
    "data = {'Instructor': [], 'Department' : [], 'Stem' : [], 'Upper_Div' : [], 'Rcmnd_Instr' : [], 'Average_Grade' : [], 'Num_Classes' : [], 'Num_Students' : [], 'Study_Hours' : [] }\n",
    "df = pd.DataFrame(data=data)"
   ]
  },
  {
   "cell_type": "code",
   "execution_count": 19,
   "metadata": {},
   "outputs": [],
   "source": [
    "# Calculating the average statistics based on the arrays for a professor and add it to the new dataframe\n",
    "for instrStr in rcmndDict:\n",
    "    rcmndArr = rcmndDict[instrStr]\n",
    "    gradeArr = gradeDict[instrStr]\n",
    "    studyArr = studyDict[instrStr]\n",
    "    \n",
    "    # Calculating averages\n",
    "    rcmndAvg = 0\n",
    "    gradeAvg = 0\n",
    "    studyAvg = 0\n",
    "    \n",
    "    count = len(gradeArr)\n",
    "    for i in range (0,count):\n",
    "        rcmndAvg += rcmndArr[i]\n",
    "        gradeAvg += gradeArr[i]\n",
    "        studyAvg += studyArr[i]\n",
    "    \n",
    "    rcmndAvg /= count\n",
    "    studyAvg /= count\n",
    "    gradeAvg /= count\n",
    "\n",
    "    # Only add to the array if they only teach in one department\n",
    "    depart = departDict[instrStr][0]\n",
    "    if( len(departDict[instrStr]) == 1):\n",
    "        df = df.append({'Instructor' : instrStr, 'Department' : depart, 'Stem' : bool(stemDict[instrStr]), 'Upper_Div' : upperDict[instrStr], 'Rcmnd_Instr' : rcmndAvg, 'Average_Grade' : gradeAvg, 'Num_Classes': count, 'Num_Students' : enrollDict[instrStr], \"Study_Hours\" : studyAvg }, ignore_index=True)"
   ]
  },
  {
   "cell_type": "code",
   "execution_count": 20,
   "metadata": {},
   "outputs": [
    {
     "data": {
      "text/html": [
       "<div>\n",
       "<style scoped>\n",
       "    .dataframe tbody tr th:only-of-type {\n",
       "        vertical-align: middle;\n",
       "    }\n",
       "\n",
       "    .dataframe tbody tr th {\n",
       "        vertical-align: top;\n",
       "    }\n",
       "\n",
       "    .dataframe thead th {\n",
       "        text-align: right;\n",
       "    }\n",
       "</style>\n",
       "<table border=\"1\" class=\"dataframe\">\n",
       "  <thead>\n",
       "    <tr style=\"text-align: right;\">\n",
       "      <th></th>\n",
       "      <th>Instructor</th>\n",
       "      <th>Department</th>\n",
       "      <th>Stem</th>\n",
       "      <th>Upper_Div</th>\n",
       "      <th>Rcmnd_Instr</th>\n",
       "      <th>Average_Grade</th>\n",
       "      <th>Num_Classes</th>\n",
       "      <th>Num_Students</th>\n",
       "      <th>Study_Hours</th>\n",
       "    </tr>\n",
       "  </thead>\n",
       "  <tbody>\n",
       "    <tr>\n",
       "      <th>0</th>\n",
       "      <td>Ben-Yosef, Erez</td>\n",
       "      <td>Anthropology</td>\n",
       "      <td>False</td>\n",
       "      <td>True</td>\n",
       "      <td>100.000000</td>\n",
       "      <td>3.640</td>\n",
       "      <td>1.0</td>\n",
       "      <td>19.0</td>\n",
       "      <td>4.14</td>\n",
       "    </tr>\n",
       "    <tr>\n",
       "      <th>1</th>\n",
       "      <td>D'Alpoim Guedes, Jade A</td>\n",
       "      <td>Anthropology</td>\n",
       "      <td>False</td>\n",
       "      <td>True</td>\n",
       "      <td>100.000000</td>\n",
       "      <td>3.750</td>\n",
       "      <td>1.0</td>\n",
       "      <td>39.0</td>\n",
       "      <td>5.91</td>\n",
       "    </tr>\n",
       "    <tr>\n",
       "      <th>2</th>\n",
       "      <td>Marchetto, Maria Carolina</td>\n",
       "      <td>Anthropology</td>\n",
       "      <td>False</td>\n",
       "      <td>True</td>\n",
       "      <td>100.000000</td>\n",
       "      <td>3.910</td>\n",
       "      <td>1.0</td>\n",
       "      <td>25.0</td>\n",
       "      <td>4.24</td>\n",
       "    </tr>\n",
       "    <tr>\n",
       "      <th>3</th>\n",
       "      <td>Non, Amy L</td>\n",
       "      <td>Anthropology</td>\n",
       "      <td>False</td>\n",
       "      <td>False</td>\n",
       "      <td>90.966667</td>\n",
       "      <td>3.280</td>\n",
       "      <td>3.0</td>\n",
       "      <td>91.0</td>\n",
       "      <td>4.50</td>\n",
       "    </tr>\n",
       "    <tr>\n",
       "      <th>4</th>\n",
       "      <td>Lew, Caroline Horton</td>\n",
       "      <td>Anthropology</td>\n",
       "      <td>False</td>\n",
       "      <td>True</td>\n",
       "      <td>88.100000</td>\n",
       "      <td>3.685</td>\n",
       "      <td>2.0</td>\n",
       "      <td>72.0</td>\n",
       "      <td>3.72</td>\n",
       "    </tr>\n",
       "  </tbody>\n",
       "</table>\n",
       "</div>"
      ],
      "text/plain": [
       "                  Instructor    Department   Stem  Upper_Div  Rcmnd_Instr  \\\n",
       "0            Ben-Yosef, Erez  Anthropology  False       True   100.000000   \n",
       "1    D'Alpoim Guedes, Jade A  Anthropology  False       True   100.000000   \n",
       "2  Marchetto, Maria Carolina  Anthropology  False       True   100.000000   \n",
       "3                 Non, Amy L  Anthropology  False      False    90.966667   \n",
       "4       Lew, Caroline Horton  Anthropology  False       True    88.100000   \n",
       "\n",
       "   Average_Grade  Num_Classes  Num_Students  Study_Hours  \n",
       "0          3.640          1.0          19.0         4.14  \n",
       "1          3.750          1.0          39.0         5.91  \n",
       "2          3.910          1.0          25.0         4.24  \n",
       "3          3.280          3.0          91.0         4.50  \n",
       "4          3.685          2.0          72.0         3.72  "
      ]
     },
     "execution_count": 20,
     "metadata": {},
     "output_type": "execute_result"
    }
   ],
   "source": [
    "# Casting the type of the boolean columns\n",
    "df = df.astype({\"Stem\": bool, \"Upper_Div\" : bool})\n",
    "df.head()"
   ]
  },
  {
   "cell_type": "code",
   "execution_count": 21,
   "metadata": {},
   "outputs": [],
   "source": [
    "# Exporting the cleaned dataset\n",
    "df.to_csv('data/capes_final.csv')"
   ]
  },
  {
   "cell_type": "markdown",
   "metadata": {},
   "source": [
    "We have finished cleaning the data for the capes dataset and will now move onto to cleaning the dataset for the employee pay."
   ]
  },
  {
   "cell_type": "markdown",
   "metadata": {},
   "source": [
    "### Cleanup Income Dataset"
   ]
  },
  {
   "cell_type": "code",
   "execution_count": 22,
   "metadata": {},
   "outputs": [
    {
     "data": {
      "text/html": [
       "<div>\n",
       "<style scoped>\n",
       "    .dataframe tbody tr th:only-of-type {\n",
       "        vertical-align: middle;\n",
       "    }\n",
       "\n",
       "    .dataframe tbody tr th {\n",
       "        vertical-align: top;\n",
       "    }\n",
       "\n",
       "    .dataframe thead th {\n",
       "        text-align: right;\n",
       "    }\n",
       "</style>\n",
       "<table border=\"1\" class=\"dataframe\">\n",
       "  <thead>\n",
       "    <tr style=\"text-align: right;\">\n",
       "      <th></th>\n",
       "      <th>Last Name</th>\n",
       "      <th>Year</th>\n",
       "      <th>Location</th>\n",
       "      <th>First Name</th>\n",
       "      <th>Title</th>\n",
       "      <th>Regular Pay</th>\n",
       "    </tr>\n",
       "  </thead>\n",
       "  <tbody>\n",
       "    <tr>\n",
       "      <th>0</th>\n",
       "      <td>ABI SAMRA</td>\n",
       "      <td>2018</td>\n",
       "      <td>San Diego</td>\n",
       "      <td>NICHOLAS CAMILL</td>\n",
       "      <td>LECT-AY</td>\n",
       "      <td>40,050.00</td>\n",
       "    </tr>\n",
       "    <tr>\n",
       "      <th>1</th>\n",
       "      <td>ACCOMANDO</td>\n",
       "      <td>2018</td>\n",
       "      <td>San Diego</td>\n",
       "      <td>ALYSSA WHEELER</td>\n",
       "      <td>LECT-AY-1/9</td>\n",
       "      <td>8,900.00</td>\n",
       "    </tr>\n",
       "    <tr>\n",
       "      <th>2</th>\n",
       "      <td>ADAMS</td>\n",
       "      <td>2018</td>\n",
       "      <td>San Diego</td>\n",
       "      <td>DAVE KENNETH</td>\n",
       "      <td>LECT IN SUMMER SESSION</td>\n",
       "      <td>0.00</td>\n",
       "    </tr>\n",
       "    <tr>\n",
       "      <th>3</th>\n",
       "      <td>AGUILA</td>\n",
       "      <td>2018</td>\n",
       "      <td>San Diego</td>\n",
       "      <td>CHRISTINA O</td>\n",
       "      <td>LECT-AY-1/9</td>\n",
       "      <td>5,874.00</td>\n",
       "    </tr>\n",
       "    <tr>\n",
       "      <th>4</th>\n",
       "      <td>AJA</td>\n",
       "      <td>2018</td>\n",
       "      <td>San Diego</td>\n",
       "      <td>ANTHONY K.</td>\n",
       "      <td>ELECTR TCHN</td>\n",
       "      <td>46,059.00</td>\n",
       "    </tr>\n",
       "  </tbody>\n",
       "</table>\n",
       "</div>"
      ],
      "text/plain": [
       "   Last Name  Year   Location       First Name                   Title  \\\n",
       "0  ABI SAMRA  2018  San Diego  NICHOLAS CAMILL                 LECT-AY   \n",
       "1  ACCOMANDO  2018  San Diego   ALYSSA WHEELER             LECT-AY-1/9   \n",
       "2      ADAMS  2018  San Diego     DAVE KENNETH  LECT IN SUMMER SESSION   \n",
       "3     AGUILA  2018  San Diego      CHRISTINA O             LECT-AY-1/9   \n",
       "4        AJA  2018  San Diego       ANTHONY K.             ELECTR TCHN   \n",
       "\n",
       "  Regular Pay  \n",
       "0   40,050.00  \n",
       "1    8,900.00  \n",
       "2        0.00  \n",
       "3    5,874.00  \n",
       "4   46,059.00  "
      ]
     },
     "execution_count": 22,
     "metadata": {},
     "output_type": "execute_result"
    }
   ],
   "source": [
    "# Reading in the initial income data\n",
    "initial_income = pd.read_csv('data/income.csv')\n",
    "initial_income.head()"
   ]
  },
  {
   "cell_type": "markdown",
   "metadata": {},
   "source": [
    "### Dropping Columns"
   ]
  },
  {
   "cell_type": "code",
   "execution_count": 23,
   "metadata": {},
   "outputs": [
    {
     "data": {
      "text/html": [
       "<div>\n",
       "<style scoped>\n",
       "    .dataframe tbody tr th:only-of-type {\n",
       "        vertical-align: middle;\n",
       "    }\n",
       "\n",
       "    .dataframe tbody tr th {\n",
       "        vertical-align: top;\n",
       "    }\n",
       "\n",
       "    .dataframe thead th {\n",
       "        text-align: right;\n",
       "    }\n",
       "</style>\n",
       "<table border=\"1\" class=\"dataframe\">\n",
       "  <thead>\n",
       "    <tr style=\"text-align: right;\">\n",
       "      <th></th>\n",
       "      <th>Last_Name</th>\n",
       "      <th>First_Name</th>\n",
       "      <th>Title</th>\n",
       "      <th>Regular_Pay</th>\n",
       "    </tr>\n",
       "  </thead>\n",
       "  <tbody>\n",
       "    <tr>\n",
       "      <th>0</th>\n",
       "      <td>ABI SAMRA</td>\n",
       "      <td>NICHOLAS CAMILL</td>\n",
       "      <td>LECT-AY</td>\n",
       "      <td>40,050.00</td>\n",
       "    </tr>\n",
       "    <tr>\n",
       "      <th>1</th>\n",
       "      <td>ACCOMANDO</td>\n",
       "      <td>ALYSSA WHEELER</td>\n",
       "      <td>LECT-AY-1/9</td>\n",
       "      <td>8,900.00</td>\n",
       "    </tr>\n",
       "    <tr>\n",
       "      <th>2</th>\n",
       "      <td>ADAMS</td>\n",
       "      <td>DAVE KENNETH</td>\n",
       "      <td>LECT IN SUMMER SESSION</td>\n",
       "      <td>0.00</td>\n",
       "    </tr>\n",
       "    <tr>\n",
       "      <th>3</th>\n",
       "      <td>AGUILA</td>\n",
       "      <td>CHRISTINA O</td>\n",
       "      <td>LECT-AY-1/9</td>\n",
       "      <td>5,874.00</td>\n",
       "    </tr>\n",
       "    <tr>\n",
       "      <th>4</th>\n",
       "      <td>AJA</td>\n",
       "      <td>ANTHONY K.</td>\n",
       "      <td>ELECTR TCHN</td>\n",
       "      <td>46,059.00</td>\n",
       "    </tr>\n",
       "  </tbody>\n",
       "</table>\n",
       "</div>"
      ],
      "text/plain": [
       "   Last_Name       First_Name                   Title Regular_Pay\n",
       "0  ABI SAMRA  NICHOLAS CAMILL                 LECT-AY   40,050.00\n",
       "1  ACCOMANDO   ALYSSA WHEELER             LECT-AY-1/9    8,900.00\n",
       "2      ADAMS     DAVE KENNETH  LECT IN SUMMER SESSION        0.00\n",
       "3     AGUILA      CHRISTINA O             LECT-AY-1/9    5,874.00\n",
       "4        AJA       ANTHONY K.             ELECTR TCHN   46,059.00"
      ]
     },
     "execution_count": 23,
     "metadata": {},
     "output_type": "execute_result"
    }
   ],
   "source": [
    "# Remove unnecessary columns\n",
    "initial_income = initial_income.drop(columns=['Year', 'Location'])\n",
    "initial_income.columns = ['Last_Name', 'First_Name', 'Title', 'Regular_Pay']\n",
    "initial_income.head()"
   ]
  },
  {
   "cell_type": "markdown",
   "metadata": {},
   "source": [
    "### Standardizing Job Titles\n",
    "When searching for the incomes of lecturers and professors, the use of the keywords LECT and PROF may have led to the inclusion of other jobs. As a result, we must remove them from the dataframe."
   ]
  },
  {
   "cell_type": "code",
   "execution_count": 24,
   "metadata": {},
   "outputs": [
    {
     "data": {
      "text/plain": [
       "array(['LECT-AY', 'LECT-AY-1/9', 'LECT IN SUMMER SESSION', 'ELECTR TCHN',\n",
       "       'LECT-AY-CONTINUING', 'SR LECT SOE-AY', 'LECT PSOE-AY',\n",
       "       'LECT SOE-AY', 'ELECTRN', 'LECT-MISCELLANEOUS/PART TIME',\n",
       "       'HIGH VOLT ELECTRN', 'ELECTRN LD', 'LECT-FY', 'ELECTR TCHN SR',\n",
       "       'MED CTR ELECTR TCHN PRN', 'ELECTR TCHN PRN',\n",
       "       'LECT-AY-1/9-CONTINUING', 'ELECTRN OPR 3',\n",
       "       'SR LECT-AY-1/9-CONTINUING', 'HIGH VOLT ELECTRN LD',\n",
       "       'ELECTRN APPR', 'VIS ASST PROF', 'PROF-HCOMP', 'PROF-AY',\n",
       "       'HS ASST CLIN PROF-HCOMP', 'PAT REL PROFL 3', 'PROF OF CLIN-HCOMP',\n",
       "       'ASSOC PROF-AY', 'HS CLIN PROF-HCOMP', 'PROF IN RES-HCOMP',\n",
       "       'HS ASST CLIN PROF-FY', 'ASSOC PROF IN RES-HCOMP',\n",
       "       'CLIN APPLICATIONS PROFL 3', 'HS ASSOC CLIN PROF-HCOMP', 'PROF-FY',\n",
       "       'ASST ADJ PROF-HCOMP', 'ASST PROF-AY', 'ASST PROF OF CLIN-HCOMP',\n",
       "       'ADJ PROF-HCOMP', 'TCHL PROJECT MGT PROFL 3', 'ADJ PROF-AY',\n",
       "       'ASST PROF-HCOMP', 'VIS PROF', 'ASSOC PROF-FY',\n",
       "       'ASSOC PROF OF CLIN-HCOMP', 'ASSOC PROF-HCOMP',\n",
       "       'ASSOC ADJ PROF-HCOMP', 'HEALTH PROFNS EDUC SPEC 2',\n",
       "       'PROF-AY-B/E/E', 'ASST ADJ PROF-AY-B/E/E', 'PAT REL PROFL 2',\n",
       "       'ATH PROFL 2', 'BUS DEV HC PROFL 4', 'ASST PROF-AY-B/E/E',\n",
       "       'ASST ADJ PROF-FY', 'HEALTH PROFNS EDUC SUPV 1',\n",
       "       'ASSOC PROF-AY-B/E/E', 'HEALTH PROFNS EDUC SPEC 3',\n",
       "       'TCHL PROJECT MGT PROFL 2', 'CLIN APPLICATIONS PROFL 4',\n",
       "       'VIS ASSOC PROF', 'ETHICS AND CMPLNC PROFL 3', 'ADJ PROF-FY',\n",
       "       'ASST PROF IN RES-HCOMP', 'LIBRARY PROFL 4',\n",
       "       'TCHL PROJECT MGT PROFL 4', 'TCHL PROJECT MGT PROFL 1',\n",
       "       'AUDIT PROFL 3', 'HS ASSOC CLIN PROF-FY',\n",
       "       'CMTY HEALTH OUTR PROFL 2', 'ETHICS AND CMPLNC PROFL 5',\n",
       "       'BUS DEV HC PROFL 3', 'CLIN PROFL SVC MGR 4',\n",
       "       'HEALTH PROFNS EDUC MGR 2', 'AUDIT PROFL 4', 'ADJ PROF-AY-B/E/E',\n",
       "       'PRIVACY AND CMPLNC HC PROFL 3', 'CLIN APPLICATIONS PROFL 2',\n",
       "       'ASSOC ADJ PROF-FY', 'TCHL PROJECT MGT PROFL 5', 'HS CLIN PROF-FY',\n",
       "       'STRAT SOURCING PROFL 4', 'HEALTH PROFNS EDUC MGR 1',\n",
       "       'ATH PROFL 4', 'CLIN APPLICATIONS PROFL 1',\n",
       "       'ANATOMICAL SVC PROFL 4', 'PROF OF CLIN-FY', 'ATH PROFL 3',\n",
       "       'HEALTH PROFNS EDUC SPEC 5', 'VOLUNTEER SVC PROFL 4',\n",
       "       'AUDIT PROFL 5', 'BEH HEALTH PSYCHIATRIC PROFL 3',\n",
       "       'PRIVACY AND CMPLNC HC PROFL 2', 'ASSOC ADJ PROF-AY-B/E/E',\n",
       "       'PROF IN RES-AY', 'PRIVACY AND CMPLNC HC PROFL 5',\n",
       "       'PROF EMERITUS(WOS)', 'ETHICS AND CMPLNC PROFL 2',\n",
       "       'HEALTH PROFNS EDUC SPEC 4', 'PRODUCT DEV PROFL 2',\n",
       "       'PAT SFTY PROFL 4', 'PRIVACY AND CMPLNC HC PROFL 4',\n",
       "       'STRAT SOURCING PROFL 3', 'HEALTH PROFNS EDUC SUPV 2', 'UNIV PROF',\n",
       "       'ETHICS AND CMPLNC PROFL 4', 'ASST PROF-AY-1/9-B/E/E'],\n",
       "      dtype=object)"
      ]
     },
     "execution_count": 24,
     "metadata": {},
     "output_type": "execute_result"
    }
   ],
   "source": [
    "initial_income['Title'].unique()"
   ]
  },
  {
   "cell_type": "code",
   "execution_count": 25,
   "metadata": {},
   "outputs": [],
   "source": [
    "# Remove non-relevant job titles and improve its readability\n",
    "def standardize_title(string):\n",
    "    string = string.strip()\n",
    "    \n",
    "    if 'ELECTR' in string or 'MISCELLANEOUS' in string or 'PROFL' in string or 'PROFNS' in string:\n",
    "        return np.nan\n",
    "    elif 'SR LECT SOE-AY' == string:\n",
    "        return 'PROFESSOR'\n",
    "    elif 'LECT PSOE-AY' == string:\n",
    "        return 'PROFESSOR'\n",
    "    elif 'LECT SOE-AY' == string:\n",
    "        return 'PROFESSOR'\n",
    "    elif 'LECT' in string:\n",
    "        return \"LECTURER\"\n",
    "    elif 'PROF' in string:\n",
    "        return \"PROFESSOR\"\n",
    "    else: \n",
    "        return np.nan"
   ]
  },
  {
   "cell_type": "code",
   "execution_count": 26,
   "metadata": {},
   "outputs": [],
   "source": [
    "# Applying the function above to the recommendation column and dropping non lecturer or professor values\n",
    "initial_income['Title'] = initial_income['Title'].apply(standardize_title)\n",
    "initial_income = initial_income.dropna()"
   ]
  },
  {
   "cell_type": "code",
   "execution_count": 27,
   "metadata": {},
   "outputs": [
    {
     "data": {
      "text/plain": [
       "array(['LECTURER', 'PROFESSOR'], dtype=object)"
      ]
     },
     "execution_count": 27,
     "metadata": {},
     "output_type": "execute_result"
    }
   ],
   "source": [
    "initial_income['Title'].unique()"
   ]
  },
  {
   "cell_type": "code",
   "execution_count": 28,
   "metadata": {},
   "outputs": [
    {
     "data": {
      "text/html": [
       "<div>\n",
       "<style scoped>\n",
       "    .dataframe tbody tr th:only-of-type {\n",
       "        vertical-align: middle;\n",
       "    }\n",
       "\n",
       "    .dataframe tbody tr th {\n",
       "        vertical-align: top;\n",
       "    }\n",
       "\n",
       "    .dataframe thead th {\n",
       "        text-align: right;\n",
       "    }\n",
       "</style>\n",
       "<table border=\"1\" class=\"dataframe\">\n",
       "  <thead>\n",
       "    <tr style=\"text-align: right;\">\n",
       "      <th></th>\n",
       "      <th>Last_Name</th>\n",
       "      <th>First_Name</th>\n",
       "      <th>Title</th>\n",
       "      <th>Regular_Pay</th>\n",
       "    </tr>\n",
       "  </thead>\n",
       "  <tbody>\n",
       "    <tr>\n",
       "      <th>0</th>\n",
       "      <td>ABI SAMRA</td>\n",
       "      <td>NICHOLAS CAMILL</td>\n",
       "      <td>LECTURER</td>\n",
       "      <td>40,050.00</td>\n",
       "    </tr>\n",
       "    <tr>\n",
       "      <th>1</th>\n",
       "      <td>ACCOMANDO</td>\n",
       "      <td>ALYSSA WHEELER</td>\n",
       "      <td>LECTURER</td>\n",
       "      <td>8,900.00</td>\n",
       "    </tr>\n",
       "    <tr>\n",
       "      <th>2</th>\n",
       "      <td>ADAMS</td>\n",
       "      <td>DAVE KENNETH</td>\n",
       "      <td>LECTURER</td>\n",
       "      <td>0.00</td>\n",
       "    </tr>\n",
       "    <tr>\n",
       "      <th>3</th>\n",
       "      <td>AGUILA</td>\n",
       "      <td>CHRISTINA O</td>\n",
       "      <td>LECTURER</td>\n",
       "      <td>5,874.00</td>\n",
       "    </tr>\n",
       "    <tr>\n",
       "      <th>5</th>\n",
       "      <td>AJO</td>\n",
       "      <td>FRANCES BERGEN</td>\n",
       "      <td>LECTURER</td>\n",
       "      <td>53,959.00</td>\n",
       "    </tr>\n",
       "  </tbody>\n",
       "</table>\n",
       "</div>"
      ],
      "text/plain": [
       "   Last_Name       First_Name     Title Regular_Pay\n",
       "0  ABI SAMRA  NICHOLAS CAMILL  LECTURER   40,050.00\n",
       "1  ACCOMANDO   ALYSSA WHEELER  LECTURER    8,900.00\n",
       "2      ADAMS     DAVE KENNETH  LECTURER        0.00\n",
       "3     AGUILA      CHRISTINA O  LECTURER    5,874.00\n",
       "5        AJO   FRANCES BERGEN  LECTURER   53,959.00"
      ]
     },
     "execution_count": 28,
     "metadata": {},
     "output_type": "execute_result"
    }
   ],
   "source": [
    "initial_income.head()"
   ]
  },
  {
   "cell_type": "markdown",
   "metadata": {},
   "source": [
    "### Standardizing Pay\n",
    "The values of pay are written in a different format from a float data type in python, therefore we must convert the elements in order to analyze their values."
   ]
  },
  {
   "cell_type": "code",
   "execution_count": 29,
   "metadata": {},
   "outputs": [],
   "source": [
    "# Remove commas and simplify values\n",
    "def standardize_pay(string):\n",
    "    string = string.lower()\n",
    "    string = string.strip()\n",
    "\n",
    "    if ',' in string:\n",
    "        string = string.replace(',', '')\n",
    "    if '.00' in string:\n",
    "        string = string.replace('.00', '.0')\n",
    "    \n",
    "    return float(string)"
   ]
  },
  {
   "cell_type": "code",
   "execution_count": 30,
   "metadata": {},
   "outputs": [
    {
     "data": {
      "text/plain": [
       "count      3390.000000\n",
       "mean     119230.420649\n",
       "std       77361.566286\n",
       "min           0.000000\n",
       "25%       68087.750000\n",
       "50%      114072.500000\n",
       "75%      159077.750000\n",
       "max      640090.000000\n",
       "Name: Regular_Pay, dtype: float64"
      ]
     },
     "execution_count": 30,
     "metadata": {},
     "output_type": "execute_result"
    }
   ],
   "source": [
    "initial_income['Regular_Pay'] = initial_income['Regular_Pay'].apply(standardize_pay)\n",
    "initial_income['Regular_Pay'].describe()"
   ]
  },
  {
   "cell_type": "code",
   "execution_count": 31,
   "metadata": {},
   "outputs": [
    {
     "data": {
      "text/html": [
       "<div>\n",
       "<style scoped>\n",
       "    .dataframe tbody tr th:only-of-type {\n",
       "        vertical-align: middle;\n",
       "    }\n",
       "\n",
       "    .dataframe tbody tr th {\n",
       "        vertical-align: top;\n",
       "    }\n",
       "\n",
       "    .dataframe thead th {\n",
       "        text-align: right;\n",
       "    }\n",
       "</style>\n",
       "<table border=\"1\" class=\"dataframe\">\n",
       "  <thead>\n",
       "    <tr style=\"text-align: right;\">\n",
       "      <th></th>\n",
       "      <th>Last_Name</th>\n",
       "      <th>First_Name</th>\n",
       "      <th>Title</th>\n",
       "      <th>Regular_Pay</th>\n",
       "    </tr>\n",
       "  </thead>\n",
       "  <tbody>\n",
       "    <tr>\n",
       "      <th>0</th>\n",
       "      <td>ABI SAMRA</td>\n",
       "      <td>NICHOLAS CAMILL</td>\n",
       "      <td>LECTURER</td>\n",
       "      <td>40050.0</td>\n",
       "    </tr>\n",
       "    <tr>\n",
       "      <th>1</th>\n",
       "      <td>ACCOMANDO</td>\n",
       "      <td>ALYSSA WHEELER</td>\n",
       "      <td>LECTURER</td>\n",
       "      <td>8900.0</td>\n",
       "    </tr>\n",
       "    <tr>\n",
       "      <th>3</th>\n",
       "      <td>AGUILA</td>\n",
       "      <td>CHRISTINA O</td>\n",
       "      <td>LECTURER</td>\n",
       "      <td>5874.0</td>\n",
       "    </tr>\n",
       "    <tr>\n",
       "      <th>5</th>\n",
       "      <td>AJO</td>\n",
       "      <td>FRANCES BERGEN</td>\n",
       "      <td>LECTURER</td>\n",
       "      <td>53959.0</td>\n",
       "    </tr>\n",
       "    <tr>\n",
       "      <th>6</th>\n",
       "      <td>AKJEJE</td>\n",
       "      <td>ABDELHAK</td>\n",
       "      <td>LECTURER</td>\n",
       "      <td>68012.0</td>\n",
       "    </tr>\n",
       "  </tbody>\n",
       "</table>\n",
       "</div>"
      ],
      "text/plain": [
       "   Last_Name       First_Name     Title  Regular_Pay\n",
       "0  ABI SAMRA  NICHOLAS CAMILL  LECTURER      40050.0\n",
       "1  ACCOMANDO   ALYSSA WHEELER  LECTURER       8900.0\n",
       "3     AGUILA      CHRISTINA O  LECTURER       5874.0\n",
       "5        AJO   FRANCES BERGEN  LECTURER      53959.0\n",
       "6     AKJEJE         ABDELHAK  LECTURER      68012.0"
      ]
     },
     "execution_count": 31,
     "metadata": {},
     "output_type": "execute_result"
    }
   ],
   "source": [
    "# Remove rows with no pay\n",
    "initial_income = initial_income[initial_income['Regular_Pay'] != 0.0]\n",
    "initial_income.head()"
   ]
  },
  {
   "cell_type": "code",
   "execution_count": 32,
   "metadata": {},
   "outputs": [],
   "source": [
    "# Exporting the cleaned dataset\n",
    "initial_income.to_csv('data/income_final.csv')"
   ]
  },
  {
   "cell_type": "markdown",
   "metadata": {},
   "source": [
    "We have finished cleaning the data for the income dataset and will now move onto combining our two cleaned datasets."
   ]
  },
  {
   "cell_type": "markdown",
   "metadata": {},
   "source": [
    "### Combining Our Datasets"
   ]
  },
  {
   "cell_type": "code",
   "execution_count": 33,
   "metadata": {},
   "outputs": [],
   "source": [
    "# Loading capes data\n",
    "df_capes = pd.read_csv(\"data/capes_final.csv\")\n",
    "df_capes = df_capes.set_index('Unnamed: 0')\n",
    "df_capes = df_capes.reset_index(drop=True)\n",
    "\n",
    "# Loading income data\n",
    "df_income = pd.read_csv(\"data/income_final.csv\")\n",
    "df_income = df_income.set_index('Unnamed: 0')\n",
    "df_income = df_income.reset_index(drop=True)"
   ]
  },
  {
   "cell_type": "code",
   "execution_count": 34,
   "metadata": {},
   "outputs": [],
   "source": [
    "# Defining functions to standardize the strings so that we can merge based on name\n",
    "def last_name(string):\n",
    "    end = string.find(',')\n",
    "    return string[0:end].upper()\n",
    "\n",
    "def first_name(string):\n",
    "    start = string.find(',')\n",
    "    name = string[start+2:].upper()\n",
    "    space = name.find(' ')\n",
    "    if (space != -1):\n",
    "        return name[:space+2]\n",
    "    return name\n",
    "\n",
    "def uppercase(string):\n",
    "    return string.upper()\n",
    "\n",
    "def first_name_income(string):\n",
    "    name = string.upper()\n",
    "    space = name.find(' ')\n",
    "    if (space != -1):\n",
    "        return name[:space+2]\n",
    "    return name"
   ]
  },
  {
   "cell_type": "code",
   "execution_count": 35,
   "metadata": {},
   "outputs": [],
   "source": [
    "# Standardizing Capes Set\n",
    "df_capes['Last_Name'] = df_capes['Instructor'].apply(last_name)\n",
    "df_capes['First_Name'] = df_capes['Instructor'].apply(first_name)\n",
    "df_capes['Instructor'] = df_capes['Last_Name'] + ', ' + df_capes['First_Name']\n",
    "\n",
    "# Standardizing Income Set\n",
    "df_income['First_Name'] = df_income['First_Name'].apply(first_name_income)\n",
    "df_income['Instructor'] = df_income['Last_Name'] + ', ' + df_income['First_Name']"
   ]
  },
  {
   "cell_type": "code",
   "execution_count": 36,
   "metadata": {},
   "outputs": [
    {
     "data": {
      "text/html": [
       "<div>\n",
       "<style scoped>\n",
       "    .dataframe tbody tr th:only-of-type {\n",
       "        vertical-align: middle;\n",
       "    }\n",
       "\n",
       "    .dataframe tbody tr th {\n",
       "        vertical-align: top;\n",
       "    }\n",
       "\n",
       "    .dataframe thead th {\n",
       "        text-align: right;\n",
       "    }\n",
       "</style>\n",
       "<table border=\"1\" class=\"dataframe\">\n",
       "  <thead>\n",
       "    <tr style=\"text-align: right;\">\n",
       "      <th></th>\n",
       "      <th>Title</th>\n",
       "      <th>Regular_Pay</th>\n",
       "      <th>Department</th>\n",
       "      <th>Stem</th>\n",
       "      <th>Upper_Div</th>\n",
       "      <th>Rcmnd_Instr</th>\n",
       "      <th>Avg_Grade</th>\n",
       "      <th>Num_Classes</th>\n",
       "      <th>Num_Students</th>\n",
       "      <th>Study_Hours</th>\n",
       "    </tr>\n",
       "  </thead>\n",
       "  <tbody>\n",
       "    <tr>\n",
       "      <th>0</th>\n",
       "      <td>LECTURER</td>\n",
       "      <td>40050.0</td>\n",
       "      <td>Electrical &amp; Computer Engineering</td>\n",
       "      <td>True</td>\n",
       "      <td>True</td>\n",
       "      <td>95.120</td>\n",
       "      <td>3.802</td>\n",
       "      <td>5.0</td>\n",
       "      <td>196.0</td>\n",
       "      <td>5.790</td>\n",
       "    </tr>\n",
       "    <tr>\n",
       "      <th>1</th>\n",
       "      <td>LECTURER</td>\n",
       "      <td>8900.0</td>\n",
       "      <td>Psychology</td>\n",
       "      <td>True</td>\n",
       "      <td>True</td>\n",
       "      <td>97.000</td>\n",
       "      <td>3.250</td>\n",
       "      <td>1.0</td>\n",
       "      <td>52.0</td>\n",
       "      <td>3.970</td>\n",
       "    </tr>\n",
       "    <tr>\n",
       "      <th>2</th>\n",
       "      <td>LECTURER</td>\n",
       "      <td>52200.0</td>\n",
       "      <td>Chemistry</td>\n",
       "      <td>True</td>\n",
       "      <td>False</td>\n",
       "      <td>90.575</td>\n",
       "      <td>3.115</td>\n",
       "      <td>4.0</td>\n",
       "      <td>1356.0</td>\n",
       "      <td>6.805</td>\n",
       "    </tr>\n",
       "    <tr>\n",
       "      <th>3</th>\n",
       "      <td>LECTURER</td>\n",
       "      <td>20767.0</td>\n",
       "      <td>Mathematics</td>\n",
       "      <td>True</td>\n",
       "      <td>False</td>\n",
       "      <td>90.450</td>\n",
       "      <td>3.350</td>\n",
       "      <td>2.0</td>\n",
       "      <td>491.0</td>\n",
       "      <td>5.895</td>\n",
       "    </tr>\n",
       "    <tr>\n",
       "      <th>4</th>\n",
       "      <td>LECTURER</td>\n",
       "      <td>133608.0</td>\n",
       "      <td>Education Studies</td>\n",
       "      <td>False</td>\n",
       "      <td>True</td>\n",
       "      <td>97.900</td>\n",
       "      <td>3.980</td>\n",
       "      <td>1.0</td>\n",
       "      <td>55.0</td>\n",
       "      <td>4.960</td>\n",
       "    </tr>\n",
       "  </tbody>\n",
       "</table>\n",
       "</div>"
      ],
      "text/plain": [
       "      Title  Regular_Pay                         Department   Stem  Upper_Div  \\\n",
       "0  LECTURER      40050.0  Electrical & Computer Engineering   True       True   \n",
       "1  LECTURER       8900.0                         Psychology   True       True   \n",
       "2  LECTURER      52200.0                          Chemistry   True      False   \n",
       "3  LECTURER      20767.0                        Mathematics   True      False   \n",
       "4  LECTURER     133608.0                  Education Studies  False       True   \n",
       "\n",
       "   Rcmnd_Instr  Avg_Grade  Num_Classes  Num_Students  Study_Hours  \n",
       "0       95.120      3.802          5.0         196.0        5.790  \n",
       "1       97.000      3.250          1.0          52.0        3.970  \n",
       "2       90.575      3.115          4.0        1356.0        6.805  \n",
       "3       90.450      3.350          2.0         491.0        5.895  \n",
       "4       97.900      3.980          1.0          55.0        4.960  "
      ]
     },
     "execution_count": 36,
     "metadata": {},
     "output_type": "execute_result"
    }
   ],
   "source": [
    "# Merge datasets and get rid of merge columns\n",
    "df = df_income.merge(df_capes, on=['Instructor'])\n",
    "df = df.drop(['Last_Name_x', 'First_Name_x', 'Instructor', 'Last_Name_y', 'First_Name_y'], axis=1)\n",
    "df = df.rename(columns={\"Average_Grade\": \"Avg_Grade\"})\n",
    "df.head()"
   ]
  },
  {
   "cell_type": "markdown",
   "metadata": {},
   "source": [
    "## Data Analysis & Results"
   ]
  },
  {
   "cell_type": "markdown",
   "metadata": {},
   "source": [
    "## Exploratory Data Analysis"
   ]
  },
  {
   "cell_type": "markdown",
   "metadata": {},
   "source": [
    "In order to analyze our data and answer our research question, we begin by taking a closer look at the variables we plan to work with. From our dataset capes.csv, we decided to investigate the following variables for each instructor: the department he/she is in, the recommendation percentage by students, the average grade expected by students, the number of classes taught, and the total number of students enrolled across all courses. From our dataset income.csv, we look at the regular pay for each instructor and merge this data with the data from capes.csv in order to find a relationship."
   ]
  },
  {
   "cell_type": "markdown",
   "metadata": {},
   "source": [
    "### Distributions and Removing Outliers"
   ]
  },
  {
   "cell_type": "markdown",
   "metadata": {},
   "source": [
    "### 1) Regular Pay"
   ]
  },
  {
   "cell_type": "markdown",
   "metadata": {},
   "source": [
    "First we will plot the distribution of the data we scraped for the regular pays of instructors. This pay does not include any earnings attributed to Research and so we do not need to worry here about the difference between Professors and Lecturers in this way. "
   ]
  },
  {
   "cell_type": "code",
   "execution_count": 83,
   "metadata": {},
   "outputs": [
    {
     "data": {
      "image/png": "[encoded data removed]",
      "text/plain": [
       "<Figure size 576x360 with 1 Axes>"
      ]
     },
     "metadata": {
      "needs_background": "light"
     },
     "output_type": "display_data"
    }
   ],
   "source": [
    "fig = plt.figure(figsize=(8, 5)) \n",
    "ax = sns.distplot(df['Regular_Pay'], color=\"green\")\n",
    "ax.set(xlabel='Regular Pay', ylabel=\"Frequency\", title=\"Distribution of Regular Pay\")\n",
    "plt.show()"
   ]
  },
  {
   "cell_type": "markdown",
   "metadata": {},
   "source": [
    "We can see from the figure above that the data is bimodal and right skewed. As a result, we will look for and remove outliers in an attempt to normalize the data."
   ]
  },
  {
   "cell_type": "code",
   "execution_count": 38,
   "metadata": {},
   "outputs": [],
   "source": [
    "# Determine Outliers for Regular Pay\n",
    "lower, upper = np.percentile(df['Regular_Pay'], [25, 75])\n",
    "iqr = upper - lower\n",
    "lower_cutoff = lower - 1.5 * iqr\n",
    "upper_cutoff = upper + 1.5 * iqr\n",
    "\n",
    "df = (df[(df['Regular_Pay'] >= lower_cutoff) & (df['Regular_Pay'] <= upper_cutoff)])"
   ]
  },
  {
   "cell_type": "code",
   "execution_count": 84,
   "metadata": {},
   "outputs": [
    {
     "data": {
      "image/png": "[encoded data removed]",
      "text/plain": [
       "<Figure size 576x360 with 1 Axes>"
      ]
     },
     "metadata": {
      "needs_background": "light"
     },
     "output_type": "display_data"
    }
   ],
   "source": [
    "fig = plt.figure(figsize=(8, 5)) \n",
    "ax = sns.distplot(df['Regular_Pay'], color=\"green\")\n",
    "ax.set(xlabel='Regular Pay', ylabel=\"Frequency\", title=\"Distribution of Regular Pay\")\n",
    "plt.show()"
   ]
  },
  {
   "cell_type": "code",
   "execution_count": 40,
   "metadata": {},
   "outputs": [
    {
     "data": {
      "text/plain": [
       "NormaltestResult(statistic=26.90867597053395, pvalue=1.4350110832448032e-06)"
      ]
     },
     "execution_count": 40,
     "metadata": {},
     "output_type": "execute_result"
    }
   ],
   "source": [
    "normaltest(df[\"Regular_Pay\"])"
   ]
  },
  {
   "cell_type": "markdown",
   "metadata": {},
   "source": [
    "After removing the outliers, we can see that the skewness was a result of outlying values, but that we still do not have a normal distribution as evidenced by the normaltest which has a p value < our alpha significance value of 0.01."
   ]
  },
  {
   "cell_type": "markdown",
   "metadata": {},
   "source": [
    "### 2) Recommend Instructor"
   ]
  },
  {
   "cell_type": "markdown",
   "metadata": {},
   "source": [
    "From this point forward, we will refer to the recommendation percentage by students for each instructor as the Recommend Instructor variable. Here we want to see if the Recommend Instructor variable is normal as well."
   ]
  },
  {
   "cell_type": "code",
   "execution_count": 85,
   "metadata": {},
   "outputs": [
    {
     "data": {
      "image/png": "[encoded data removed]",
      "text/plain": [
       "<Figure size 576x360 with 1 Axes>"
      ]
     },
     "metadata": {
      "needs_background": "light"
     },
     "output_type": "display_data"
    }
   ],
   "source": [
    "fig = plt.figure(figsize=(8, 5)) \n",
    "ax = sns.distplot(df['Rcmnd_Instr'], color=\"green\")\n",
    "ax.set(xlabel='Recommendation Percentage', ylabel=\"Frequency\", title=\"Distribution of Recommendation of Instructor\")\n",
    "plt.show()"
   ]
  },
  {
   "cell_type": "markdown",
   "metadata": {},
   "source": [
    "As we can see from the figure above that the data is strongly left skewed. As a result, we will look for and remove outliers in an attempt to normalize the data."
   ]
  },
  {
   "cell_type": "code",
   "execution_count": 42,
   "metadata": {},
   "outputs": [],
   "source": [
    "# Determine Outliers for Recommendation of Instructor\n",
    "lower, upper = np.percentile(df['Rcmnd_Instr'], [25, 75])\n",
    "iqr = upper - lower\n",
    "lower_cutoff = lower - 1.5 * iqr\n",
    "upper_cutoff = upper + 1.5 * iqr\n",
    "\n",
    "df = (df[(df['Rcmnd_Instr'] >= lower_cutoff) & (df['Rcmnd_Instr'] <= upper_cutoff)])"
   ]
  },
  {
   "cell_type": "code",
   "execution_count": 86,
   "metadata": {},
   "outputs": [
    {
     "data": {
      "image/png": "[encoded data removed]",
      "text/plain": [
       "<Figure size 576x360 with 1 Axes>"
      ]
     },
     "metadata": {
      "needs_background": "light"
     },
     "output_type": "display_data"
    }
   ],
   "source": [
    "fig = plt.figure(figsize=(8, 5)) \n",
    "ax = sns.distplot(df['Rcmnd_Instr'], color=\"green\")\n",
    "ax.set(xlabel='Recommendation Percentage', ylabel=\"Frequency\", title=\"Distribution of Recommendation of Instructor\")\n",
    "plt.show()"
   ]
  },
  {
   "cell_type": "code",
   "execution_count": 44,
   "metadata": {},
   "outputs": [
    {
     "data": {
      "text/plain": [
       "NormaltestResult(statistic=144.82428614093232, pvalue=3.5629181186388033e-32)"
      ]
     },
     "execution_count": 44,
     "metadata": {},
     "output_type": "execute_result"
    }
   ],
   "source": [
    "normaltest(df[\"Rcmnd_Instr\"])"
   ]
  },
  {
   "cell_type": "markdown",
   "metadata": {},
   "source": [
    "After removing the outliers, we can see that our data is still skewed left and that we still do not have a normal distribution as evidenced by the normaltest which has a p value < our alpha significance value of 0.01."
   ]
  },
  {
   "cell_type": "markdown",
   "metadata": {},
   "source": [
    "### 3) Average Grade"
   ]
  },
  {
   "cell_type": "markdown",
   "metadata": {},
   "source": [
    "From this point forward, we will refer to the average grade expected by students for each instructor as the Average Grade variable. We acknowledge that this may not be a perfect assumption as this does rely on the class, but we will assume this is insignificant in our analysis of the variable. Here we want to see if the Average Grade variable is normal as well."
   ]
  },
  {
   "cell_type": "code",
   "execution_count": 87,
   "metadata": {},
   "outputs": [
    {
     "data": {
      "image/png": "[encoded data removed]",
      "text/plain": [
       "<Figure size 576x360 with 1 Axes>"
      ]
     },
     "metadata": {
      "needs_background": "light"
     },
     "output_type": "display_data"
    }
   ],
   "source": [
    "fig = plt.figure(figsize=(8, 5)) \n",
    "ax = sns.distplot(df['Avg_Grade'], color=\"green\")\n",
    "ax.set(xlabel='Average Grade Expected', ylabel=\"Frequency\", title=\"Distribution of Average Grade Expected of an Instructor\")\n",
    "plt.show()"
   ]
  },
  {
   "cell_type": "markdown",
   "metadata": {},
   "source": [
    "As we can see from the figure above, the data is slightly skewed left. As a result, we will look for and remove outliers in an attempt to normalize the data."
   ]
  },
  {
   "cell_type": "code",
   "execution_count": 46,
   "metadata": {},
   "outputs": [],
   "source": [
    "# Determine Outliers for Average Grade Expected\n",
    "lower, upper = np.percentile(df['Avg_Grade'], [25, 75])\n",
    "iqr = upper - lower\n",
    "lower_cutoff = lower - 1.5 * iqr\n",
    "upper_cutoff = upper + 1.5 * iqr\n",
    "\n",
    "df = (df[(df['Avg_Grade'] >= lower_cutoff) & (df['Avg_Grade'] <= upper_cutoff)])"
   ]
  },
  {
   "cell_type": "code",
   "execution_count": 88,
   "metadata": {},
   "outputs": [
    {
     "data": {
      "image/png": "[encoded data removed]",
      "text/plain": [
       "<Figure size 576x360 with 1 Axes>"
      ]
     },
     "metadata": {
      "needs_background": "light"
     },
     "output_type": "display_data"
    }
   ],
   "source": [
    "fig = plt.figure(figsize=(8, 5)) \n",
    "ax = sns.distplot(df['Avg_Grade'], color=\"green\")\n",
    "ax.set(xlabel='Average Grade Expected', ylabel=\"Frequency\", title=\"Distribution of Average Grade Expected of an Instructor\")\n",
    "plt.show()"
   ]
  },
  {
   "cell_type": "code",
   "execution_count": 48,
   "metadata": {},
   "outputs": [
    {
     "data": {
      "text/plain": [
       "NormaltestResult(statistic=16.993450951006686, pvalue=0.00020413572320678673)"
      ]
     },
     "execution_count": 48,
     "metadata": {},
     "output_type": "execute_result"
    }
   ],
   "source": [
    "normaltest(df[\"Avg_Grade\"])"
   ]
  },
  {
   "cell_type": "markdown",
   "metadata": {},
   "source": [
    "After removing the outliers, we can see that we have removed some of the skewness of the data. When we test the the normality of the data however, we can see that it is still below our alpha significance value of .01 and therefore it is still not normal."
   ]
  },
  {
   "cell_type": "markdown",
   "metadata": {},
   "source": [
    "### 4) Classes Taught"
   ]
  },
  {
   "cell_type": "markdown",
   "metadata": {},
   "source": [
    "From this point forward, we will refer to the total number of classes taught by each instructor as the Classes Taught variable. Here we want to see if the Classes Taught variable is normal as well."
   ]
  },
  {
   "cell_type": "code",
   "execution_count": 89,
   "metadata": {},
   "outputs": [
    {
     "data": {
      "image/png": "[encoded data removed]",
      "text/plain": [
       "<Figure size 576x360 with 1 Axes>"
      ]
     },
     "metadata": {
      "needs_background": "light"
     },
     "output_type": "display_data"
    }
   ],
   "source": [
    "fig = plt.figure(figsize=(8, 5)) \n",
    "ax = sns.distplot(df['Num_Classes'], color=\"green\")\n",
    "ax.set(xlabel='Number of Classes Taught in 2018', ylabel=\"Frequency\", title=\"Distribution of Number of Classes Taught by an Instructor in 2018\")\n",
    "plt.show()"
   ]
  },
  {
   "cell_type": "code",
   "execution_count": 50,
   "metadata": {},
   "outputs": [
    {
     "data": {
      "text/plain": [
       "NormaltestResult(statistic=477.5497619017615, pvalue=2.001643754992841e-104)"
      ]
     },
     "execution_count": 50,
     "metadata": {},
     "output_type": "execute_result"
    }
   ],
   "source": [
    "normaltest(df[\"Num_Classes\"])"
   ]
  },
  {
   "cell_type": "markdown",
   "metadata": {},
   "source": [
    "As we can see from the figure above, the data is skewed right. Because this variable does not have a meaningful sense of outliers, we will simply check the normality of the given data. As evidenced by the normaltest, we have a very small p value and therefore this distribution is not normal either."
   ]
  },
  {
   "cell_type": "markdown",
   "metadata": {},
   "source": [
    "### 5) Number of Students Enrolled"
   ]
  },
  {
   "cell_type": "markdown",
   "metadata": {},
   "source": [
    "From this point forward, we will refer to the total number of students taught by each instructor as the Enrolled Students variable. Here we want to see if the Enrolled Students variable is normal as well."
   ]
  },
  {
   "cell_type": "code",
   "execution_count": 90,
   "metadata": {},
   "outputs": [
    {
     "data": {
      "image/png": "[encoded data removed]",
      "text/plain": [
       "<Figure size 576x360 with 1 Axes>"
      ]
     },
     "metadata": {
      "needs_background": "light"
     },
     "output_type": "display_data"
    }
   ],
   "source": [
    "fig = plt.figure(figsize=(8, 5)) \n",
    "ax = sns.distplot(df['Num_Students'], color=\"green\")\n",
    "ax.set(xlabel='Number of Students Enrolled in 2018 per Professor', ylabel=\"Frequency\", title=\"Distribution of Number of Students Enrolled in 2018 per Professor\")\n",
    "plt.show()"
   ]
  },
  {
   "cell_type": "code",
   "execution_count": 52,
   "metadata": {},
   "outputs": [
    {
     "data": {
      "text/plain": [
       "NormaltestResult(statistic=685.5115496615551, pvalue=1.3901393936767097e-149)"
      ]
     },
     "execution_count": 52,
     "metadata": {},
     "output_type": "execute_result"
    }
   ],
   "source": [
    "normaltest(df[\"Num_Students\"])"
   ]
  },
  {
   "cell_type": "markdown",
   "metadata": {},
   "source": [
    "As we can see from the figure above, the data is skewed right. Again, we have no meaningful sense of what an outlier is with this data and so we can test for normality immediately. Through the normaltest, we can find that the p value is again significantly small and so the distribution is not normal."
   ]
  },
  {
   "cell_type": "markdown",
   "metadata": {},
   "source": [
    "### 6) Study Hours"
   ]
  },
  {
   "cell_type": "markdown",
   "metadata": {},
   "source": [
    "From this point forward, we will refer to the average number of study hours for each instructor as the Study Hours variable. Here we want to see if the Study Hours variable is normal as well."
   ]
  },
  {
   "cell_type": "code",
   "execution_count": 91,
   "metadata": {},
   "outputs": [
    {
     "data": {
      "image/png": "[encoded data removed]",
      "text/plain": [
       "<Figure size 576x360 with 1 Axes>"
      ]
     },
     "metadata": {
      "needs_background": "light"
     },
     "output_type": "display_data"
    }
   ],
   "source": [
    "fig = plt.figure(figsize=(8, 5)) \n",
    "ax = sns.distplot(df['Study_Hours'], color=\"green\")\n",
    "ax.set(xlabel='Average Number of Hours Studied per Professor in 2018', ylabel=\"Frequency\", title=\"Distribution of Average Number of Hours Studied per Professor in 2018\")\n",
    "plt.show()"
   ]
  },
  {
   "cell_type": "markdown",
   "metadata": {},
   "source": [
    "As we can see from the figure above, the data is slightly skewed right. As a result, we will look for and remove outliers in an attempt to normalize the data."
   ]
  },
  {
   "cell_type": "code",
   "execution_count": 54,
   "metadata": {},
   "outputs": [],
   "source": [
    "# Determine Outliers for Average Number of Hours Studied per Week\n",
    "lower, upper = np.percentile(df['Study_Hours'], [25, 75])\n",
    "iqr = upper - lower\n",
    "lower_cutoff = lower - 1.5 * iqr\n",
    "upper_cutoff = upper + 1.5 * iqr\n",
    "\n",
    "df = (df[(df['Study_Hours'] >= lower_cutoff) & (df['Study_Hours'] <= upper_cutoff)])"
   ]
  },
  {
   "cell_type": "code",
   "execution_count": 92,
   "metadata": {},
   "outputs": [
    {
     "data": {
      "image/png": "[encoded data removed]",
      "text/plain": [
       "<Figure size 576x360 with 1 Axes>"
      ]
     },
     "metadata": {
      "needs_background": "light"
     },
     "output_type": "display_data"
    }
   ],
   "source": [
    "fig = plt.figure(figsize=(8, 5)) \n",
    "ax = sns.distplot(df['Study_Hours'], color=\"green\")\n",
    "ax.set(xlabel='Average Number of Hours Studied per Professor in 2018', ylabel=\"Frequency\", title=\"Distribution of Average Number of Hours Studied per Professor in 2018\")\n",
    "plt.show()"
   ]
  },
  {
   "cell_type": "code",
   "execution_count": 56,
   "metadata": {},
   "outputs": [
    {
     "data": {
      "text/plain": [
       "NormaltestResult(statistic=23.589401179596532, pvalue=7.544433210304083e-06)"
      ]
     },
     "execution_count": 56,
     "metadata": {},
     "output_type": "execute_result"
    }
   ],
   "source": [
    "normaltest(df[\"Study_Hours\"])"
   ]
  },
  {
   "cell_type": "markdown",
   "metadata": {},
   "source": [
    "Through the normaltest, we can find that the p value is again not larger than 0.01 and so the distribution is not normal although it is much closer to normal than the other variables."
   ]
  },
  {
   "cell_type": "markdown",
   "metadata": {},
   "source": [
    "### 7) Department"
   ]
  },
  {
   "cell_type": "markdown",
   "metadata": {},
   "source": [
    "From this point forward, we will refer to the department each instructor teaches in as the Department variable. Here we want to see the distribution of the Department variable and remove any departments which we simply don't have enough information about. "
   ]
  },
  {
   "cell_type": "code",
   "execution_count": 57,
   "metadata": {},
   "outputs": [],
   "source": [
    "# Get rid of departments with less then 5 instructors \n",
    "df['Department'] = df['Department'].replace(['Humanities', 'Sixth College', 'Warren College Writing Program', 'Making of the Modern World', 'Dimensions of Culture', 'Muir College'], 'College Writing Programs')\n",
    "df = df[(df['Department'] != \"Judaic Studies\") & (df['Department'] != \"Environmental Studies\") & (df['Department'] != \"Warren College\") & (df['Department'] != \"Human Development Program\") & (df['Department'] != \"Environmental Systems\") & (df['Department'] != \"Jacobs School of Engineering\") & (df['Department'] != \"Critical Gender Studies\")]"
   ]
  },
  {
   "cell_type": "code",
   "execution_count": 58,
   "metadata": {},
   "outputs": [
    {
     "data": {
      "text/plain": [
       "<matplotlib.axes._subplots.AxesSubplot at 0x12945cbd0>"
      ]
     },
     "execution_count": 58,
     "metadata": {},
     "output_type": "execute_result"
    },
    {
     "data": {
      "image/png": "[encoded data removed]",
      "text/plain": [
       "<Figure size 720x720 with 1 Axes>"
      ]
     },
     "metadata": {
      "needs_background": "light"
     },
     "output_type": "display_data"
    }
   ],
   "source": [
    "fig = plt.figure(figsize=(10, 10)) \n",
    "df['Department'].value_counts().plot(kind='barh', color='g')  "
   ]
  },
  {
   "cell_type": "markdown",
   "metadata": {},
   "source": [
    "### 8) STEM vs non-STEM"
   ]
  },
  {
   "cell_type": "markdown",
   "metadata": {},
   "source": [
    "Here, we want to see how much data we have for both STEM fields and Non-STEM fields to see if they are somewhat equal. "
   ]
  },
  {
   "cell_type": "code",
   "execution_count": 59,
   "metadata": {},
   "outputs": [
    {
     "data": {
      "text/plain": [
       "<seaborn.axisgrid.FacetGrid at 0x12986d710>"
      ]
     },
     "execution_count": 59,
     "metadata": {},
     "output_type": "execute_result"
    },
    {
     "data": {
      "image/png": "[encoded data removed]",
      "text/plain": [
       "<Figure size 360x360 with 1 Axes>"
      ]
     },
     "metadata": {
      "needs_background": "light"
     },
     "output_type": "display_data"
    }
   ],
   "source": [
    "ax = sns.catplot(x=\"Stem\", kind=\"count\", palette=['limegreen', 'dodgerblue'], data=df)\n",
    "ax.set(xlabel='STEM Instructor', title=\"Distribution of STEM and Non-STEM Instructors\")"
   ]
  },
  {
   "cell_type": "markdown",
   "metadata": {},
   "source": [
    "### 9) Upper Division"
   ]
  },
  {
   "cell_type": "markdown",
   "metadata": {},
   "source": [
    "Here, we want to see how much data we have for both Upper Div and Lower Div instruvtors to see if they are somewhat equal. "
   ]
  },
  {
   "cell_type": "code",
   "execution_count": 60,
   "metadata": {},
   "outputs": [
    {
     "data": {
      "text/plain": [
       "<seaborn.axisgrid.FacetGrid at 0x129645890>"
      ]
     },
     "execution_count": 60,
     "metadata": {},
     "output_type": "execute_result"
    },
    {
     "data": {
      "image/png": "[encoded data removed]",
      "text/plain": [
       "<Figure size 360x360 with 1 Axes>"
      ]
     },
     "metadata": {
      "needs_background": "light"
     },
     "output_type": "display_data"
    }
   ],
   "source": [
    "ax = sns.catplot(x=\"Upper_Div\", kind=\"count\", palette=['limegreen', 'dodgerblue'], data=df)\n",
    "ax.set(xlabel='Upper Division Instructor', title=\"Distribution of Upper and Lower Division Instructors\")"
   ]
  },
  {
   "cell_type": "markdown",
   "metadata": {},
   "source": [
    "### 10) Title"
   ]
  },
  {
   "cell_type": "markdown",
   "metadata": {},
   "source": [
    "Here, we want to see how much data we have for both Professors and Lecturers to see if they are somewhat equal. "
   ]
  },
  {
   "cell_type": "code",
   "execution_count": 61,
   "metadata": {},
   "outputs": [
    {
     "data": {
      "text/plain": [
       "<seaborn.axisgrid.FacetGrid at 0x12966a350>"
      ]
     },
     "execution_count": 61,
     "metadata": {},
     "output_type": "execute_result"
    },
    {
     "data": {
      "image/png": "[encoded data removed]",
      "text/plain": [
       "<Figure size 360x360 with 1 Axes>"
      ]
     },
     "metadata": {
      "needs_background": "light"
     },
     "output_type": "display_data"
    }
   ],
   "source": [
    "ax = sns.catplot(x=\"Title\", kind=\"count\", palette=['limegreen', 'dodgerblue'], data=df)\n",
    "ax.set(xlabel='Instructor Title', title=\"Distribution of Titles of Instructors\")"
   ]
  },
  {
   "cell_type": "markdown",
   "metadata": {},
   "source": [
    "## Relationships between Variables"
   ]
  },
  {
   "cell_type": "markdown",
   "metadata": {},
   "source": [
    "After investigating the variables that we plan to analyze, we will now look for relationships between different variables."
   ]
  },
  {
   "cell_type": "markdown",
   "metadata": {},
   "source": [
    "### Department against Regular Pay"
   ]
  },
  {
   "cell_type": "markdown",
   "metadata": {},
   "source": [
    "Here, we can see that the pay does indeed vary based on the Department an instructor teaches in. In order to see if this is a significant difference, we will later perform statistical tests. "
   ]
  },
  {
   "cell_type": "code",
   "execution_count": 62,
   "metadata": {},
   "outputs": [
    {
     "data": {
      "text/plain": [
       "[Text(0, 0.5, 'Department'),\n",
       " Text(0.5, 0, 'Regular Pay'),\n",
       " Text(0.5, 1.0, 'Average Pay over Departments')]"
      ]
     },
     "execution_count": 62,
     "metadata": {},
     "output_type": "execute_result"
    },
    {
     "data": {
      "image/png": "[encoded data removed]",
      "text/plain": [
       "<Figure size 720x1440 with 1 Axes>"
      ]
     },
     "metadata": {
      "needs_background": "light"
     },
     "output_type": "display_data"
    }
   ],
   "source": [
    "plt.figure(figsize=(10,20)) \n",
    "ax = sns.boxplot(x='Regular_Pay', y='Department', data=df)\n",
    "ax.set(xlabel='Regular Pay', ylabel='Department', title=\"Average Pay over Departments\")"
   ]
  },
  {
   "cell_type": "markdown",
   "metadata": {},
   "source": [
    "### Title against Regular Pay"
   ]
  },
  {
   "cell_type": "markdown",
   "metadata": {},
   "source": [
    "Here, we can see that there is a seemingly large difference between the average pay of a Professor and Lecturer and so we will use a statistical test to confirm this later on in our analysis."
   ]
  },
  {
   "cell_type": "code",
   "execution_count": 63,
   "metadata": {},
   "outputs": [
    {
     "data": {
      "text/plain": [
       "[Text(0, 0.5, 'Regular Pay'),\n",
       " Text(0.5, 0, 'Title'),\n",
       " Text(0.5, 1.0, 'Average Pay by Title')]"
      ]
     },
     "execution_count": 63,
     "metadata": {},
     "output_type": "execute_result"
    },
    {
     "data": {
      "image/png": "[encoded data removed]",
      "text/plain": [
       "<Figure size 432x288 with 1 Axes>"
      ]
     },
     "metadata": {
      "needs_background": "light"
     },
     "output_type": "display_data"
    }
   ],
   "source": [
    "ax = sns.boxplot(x='Title', y='Regular_Pay', palette=['limegreen', 'dodgerblue'], data=df)\n",
    "ax.set(xlabel='Title', ylabel='Regular Pay', title=\"Average Pay by Title\")"
   ]
  },
  {
   "cell_type": "markdown",
   "metadata": {},
   "source": [
    "Because this seems to be a driving factor, we might want to separate the populations into separate datagrames for further analysis. It may just be that this is one of the driving factors behind our bimodal distribution for Regular Pay!"
   ]
  },
  {
   "cell_type": "code",
   "execution_count": 64,
   "metadata": {},
   "outputs": [],
   "source": [
    "dfLect = df[df['Title'] == 'LECTURER']\n",
    "dfProf = df[df['Title'] == 'PROFESSOR']"
   ]
  },
  {
   "cell_type": "markdown",
   "metadata": {},
   "source": [
    "### STEM/Non-STEM Instructors against Regular Pay"
   ]
  },
  {
   "cell_type": "markdown",
   "metadata": {},
   "source": [
    "Here, we can see that there is a small difference between the average pay of STEM and Non-STEM Instructors and so we will use a statistical test to determine whether or not this difference is large enough to be significant later on in our analysis."
   ]
  },
  {
   "cell_type": "code",
   "execution_count": 65,
   "metadata": {},
   "outputs": [
    {
     "data": {
      "text/plain": [
       "[Text(0, 0.5, 'Regular Pay'),\n",
       " Text(0.5, 0, 'STEM/Non-STEM Instructor'),\n",
       " Text(0.5, 1.0, 'Average Pay by Field')]"
      ]
     },
     "execution_count": 65,
     "metadata": {},
     "output_type": "execute_result"
    },
    {
     "data": {
      "image/png": "[encoded data removed]",
      "text/plain": [
       "<Figure size 432x288 with 1 Axes>"
      ]
     },
     "metadata": {
      "needs_background": "light"
     },
     "output_type": "display_data"
    }
   ],
   "source": [
    "ax = sns.boxplot(x='Stem', y='Regular_Pay', palette=['limegreen', 'dodgerblue'], data=df)\n",
    "ax.set(xlabel='STEM/Non-STEM Instructor', ylabel='Regular Pay', title=\"Average Pay by Field\")"
   ]
  },
  {
   "cell_type": "markdown",
   "metadata": {},
   "source": [
    "### Upper/Lower Division against Regular Pay"
   ]
  },
  {
   "cell_type": "markdown",
   "metadata": {},
   "source": [
    "Here, we see that there is seemingly no difference between the average pay of Upper Division and Lower Division Instructors. Further on in the analysis, we will discuss this in more detail in order to test the statistical significance of these findings. "
   ]
  },
  {
   "cell_type": "code",
   "execution_count": 66,
   "metadata": {},
   "outputs": [
    {
     "data": {
      "text/plain": [
       "[Text(0, 0.5, 'Regular Pay'),\n",
       " Text(0.5, 0, 'Division Status'),\n",
       " Text(0.5, 1.0, 'Average Pay by Division Status')]"
      ]
     },
     "execution_count": 66,
     "metadata": {},
     "output_type": "execute_result"
    },
    {
     "data": {
      "image/png": "[encoded data removed]",
      "text/plain": [
       "<Figure size 432x288 with 1 Axes>"
      ]
     },
     "metadata": {
      "needs_background": "light"
     },
     "output_type": "display_data"
    }
   ],
   "source": [
    "ax = sns.boxplot(x='Upper_Div', y='Regular_Pay', palette=['limegreen', 'dodgerblue'], data=df)\n",
    "ax.set(xlabel='Division Status', ylabel='Regular Pay', title=\"Average Pay by Division Status\")"
   ]
  },
  {
   "cell_type": "markdown",
   "metadata": {},
   "source": [
    "### Recommend Instructor against Regular Pay"
   ]
  },
  {
   "cell_type": "markdown",
   "metadata": {},
   "source": [
    "As we saw in one of the previous cells, there seems to be a rather large difference between the pay of Lecturers and Professors so throughout the rest of this analysis, we will separate these two populations by color in order to see where they differ. In this specific graph, we are comparing the Recommendation Percentage of an Instructor (or their likeability) versus the Pay they receive. This slope shows that there is not a large effect and the fact that the slope is positive for Lecturers, but negative for Professors shows that is inconsistent across populations."
   ]
  },
  {
   "cell_type": "code",
   "execution_count": 67,
   "metadata": {},
   "outputs": [
    {
     "data": {
      "text/plain": [
       "<seaborn.axisgrid.FacetGrid at 0x126abf750>"
      ]
     },
     "execution_count": 67,
     "metadata": {},
     "output_type": "execute_result"
    },
    {
     "data": {
      "text/plain": [
       "<Figure size 1440x1440 with 0 Axes>"
      ]
     },
     "metadata": {},
     "output_type": "display_data"
    },
    {
     "data": {
      "image/png": "[encoded data removed]",
      "text/plain": [
       "<Figure size 995.75x360 with 1 Axes>"
      ]
     },
     "metadata": {
      "needs_background": "light"
     },
     "output_type": "display_data"
    }
   ],
   "source": [
    "plt.figure(figsize=(20,20)) \n",
    "ax = sns.lmplot(x=\"Rcmnd_Instr\", y=\"Regular_Pay\", hue=\"Title\", palette=['limegreen', 'dodgerblue'], data=df, ci=None, aspect=2.5)\n",
    "ax.set(xlabel='Recommendation Percentage', ylabel='Regular Pay', title=\"Regular Pay by Average Recommendation Percentage \")"
   ]
  },
  {
   "cell_type": "markdown",
   "metadata": {},
   "source": [
    "### Average Grade against Regular Pay"
   ]
  },
  {
   "cell_type": "markdown",
   "metadata": {},
   "source": [
    "In this graph, we are comparing the Average Grade Expected of an Instructor versus the Pay they receive. This slope shows that there is not a large effect, however unlike the previous graph, the slopes both seem to be negative and so this may be a stronger factor than the one above it."
   ]
  },
  {
   "cell_type": "code",
   "execution_count": 68,
   "metadata": {},
   "outputs": [
    {
     "data": {
      "text/plain": [
       "<seaborn.axisgrid.FacetGrid at 0x126e7ea50>"
      ]
     },
     "execution_count": 68,
     "metadata": {},
     "output_type": "execute_result"
    },
    {
     "data": {
      "text/plain": [
       "<Figure size 1440x1440 with 0 Axes>"
      ]
     },
     "metadata": {},
     "output_type": "display_data"
    },
    {
     "data": {
      "image/png": "[encoded data removed]",
      "text/plain": [
       "<Figure size 995.75x360 with 1 Axes>"
      ]
     },
     "metadata": {
      "needs_background": "light"
     },
     "output_type": "display_data"
    }
   ],
   "source": [
    "plt.figure(figsize=(20,20)) \n",
    "ax = sns.lmplot(x=\"Avg_Grade\", y=\"Regular_Pay\", hue=\"Title\", palette=['limegreen', 'dodgerblue'], data=df, ci=None, aspect=2.5)\n",
    "ax.set(xlabel='Average Grade Expected', ylabel='Regular Pay', title=\"Regular Pay by Average Expected Grade\")"
   ]
  },
  {
   "cell_type": "markdown",
   "metadata": {},
   "source": [
    "### Study Hours against Regular Pay"
   ]
  },
  {
   "cell_type": "markdown",
   "metadata": {},
   "source": [
    "In this graph, we are comparing the average number of hours students spent studying in courses that this professor taught to the Pay the professors receive. These slopes are slightly larger than the ones above them showing a higher effect rate. Again, both slopes are going in the same direction which implies there may be something significant about this variable. "
   ]
  },
  {
   "cell_type": "code",
   "execution_count": 69,
   "metadata": {},
   "outputs": [
    {
     "data": {
      "text/plain": [
       "<seaborn.axisgrid.FacetGrid at 0x126b1c1d0>"
      ]
     },
     "execution_count": 69,
     "metadata": {},
     "output_type": "execute_result"
    },
    {
     "data": {
      "text/plain": [
       "<Figure size 1440x1440 with 0 Axes>"
      ]
     },
     "metadata": {},
     "output_type": "display_data"
    },
    {
     "data": {
      "image/png": "[encoded data removed]",
      "text/plain": [
       "<Figure size 995.75x360 with 1 Axes>"
      ]
     },
     "metadata": {
      "needs_background": "light"
     },
     "output_type": "display_data"
    }
   ],
   "source": [
    "plt.figure(figsize=(20,20)) \n",
    "ax = sns.lmplot(x=\"Study_Hours\", y=\"Regular_Pay\", hue=\"Title\", palette=['limegreen', 'dodgerblue'], data=df, ci=None, aspect=2.5);\n",
    "ax.set(xlabel='Average Hours Students Spent Studying', ylabel='Regular Pay', title=\"Regular Pay by Average Hours Students Spent Studying\")"
   ]
  },
  {
   "cell_type": "markdown",
   "metadata": {},
   "source": [
    "## Analysis"
   ]
  },
  {
   "cell_type": "markdown",
   "metadata": {},
   "source": [
    "### Title"
   ]
  },
  {
   "cell_type": "markdown",
   "metadata": {},
   "source": [
    "Before we can perform an analysis on our data, we must first check whether it meets the assumptions of each test. Because we are comparing the categorical variable of Title against the continuous variable that is Regular Pay, if the data is normal, we will be able to run a t-test against the 2 populations. This will find whether there is a significant difference between the means of Regular Pay between lecturers and professors within our dataset. If the data is not normal, we will use the Wilcoxon rank sum test, which approximates the same value for nonparametric data."
   ]
  },
  {
   "cell_type": "code",
   "execution_count": 70,
   "metadata": {},
   "outputs": [
    {
     "name": "stdout",
     "output_type": "stream",
     "text": [
      "NormaltestResult(statistic=66.4790714903785, pvalue=3.666511443786627e-15)\n",
      "NormaltestResult(statistic=26.26111618470332, pvalue=1.983677540399393e-06)\n"
     ]
    }
   ],
   "source": [
    "print(normaltest(dfLect['Regular_Pay']))\n",
    "print(normaltest(dfProf['Regular_Pay']))"
   ]
  },
  {
   "cell_type": "markdown",
   "metadata": {},
   "source": [
    "Since the p-values of both dataframes are significantly lower than .01, we've concluded that our data is not normal. Therefore, we are not able to perform a t-test and instead will perform a Wilcoxon rank sum test.   "
   ]
  },
  {
   "cell_type": "code",
   "execution_count": 71,
   "metadata": {},
   "outputs": [
    {
     "data": {
      "text/plain": [
       "RanksumsResult(statistic=-19.613645059594095, pvalue=1.1824599930887022e-85)"
      ]
     },
     "execution_count": 71,
     "metadata": {},
     "output_type": "execute_result"
    }
   ],
   "source": [
    "ranksums(dfLect['Regular_Pay'].values, dfProf['Regular_Pay'].values)"
   ]
  },
  {
   "cell_type": "markdown",
   "metadata": {},
   "source": [
    "As shown above, the p value calculated by the Wilcoxon rank sum test is significantly lower than .01, indicating that the probability that the difference in mean is due to chance alone is small. Thus, we can conclude that there is a signficant difference between the means of lecturer and professor regular pays."
   ]
  },
  {
   "cell_type": "markdown",
   "metadata": {},
   "source": [
    "### STEM vs Non-STEM"
   ]
  },
  {
   "cell_type": "markdown",
   "metadata": {},
   "source": [
    "Again, we must first check whether the data meets the assumptions of each test. Because we are comparing the categorical variable of STEM vs non-STEM against the continuous variable that is Regular Pay, we can approach this problem in a similar manner as to the previous section."
   ]
  },
  {
   "cell_type": "code",
   "execution_count": 72,
   "metadata": {},
   "outputs": [
    {
     "name": "stdout",
     "output_type": "stream",
     "text": [
      "NormaltestResult(statistic=5.200455011210006, pvalue=0.07425668248099637)\n",
      "NormaltestResult(statistic=20.1324155471943, pvalue=4.2491445969518005e-05)\n"
     ]
    }
   ],
   "source": [
    "stemValues = df[df['Stem'] == True ]['Regular_Pay'].values\n",
    "nonStemValues = df[df['Stem'] == False ]['Regular_Pay'].values\n",
    "\n",
    "print(normaltest(stemValues))\n",
    "print(normaltest(nonStemValues))"
   ]
  },
  {
   "cell_type": "markdown",
   "metadata": {},
   "source": [
    "Since the p-value of the nonstem data is signficantly lower than .01, we have concluded that our data is not normal. Therefore, we are not able to perform a t-test and instead will perform a Wilcoxon rank sum test."
   ]
  },
  {
   "cell_type": "code",
   "execution_count": 73,
   "metadata": {},
   "outputs": [
    {
     "data": {
      "text/plain": [
       "RanksumsResult(statistic=8.259190555491235, pvalue=1.4666362966270747e-16)"
      ]
     },
     "execution_count": 73,
     "metadata": {},
     "output_type": "execute_result"
    }
   ],
   "source": [
    "ranksums(stemValues, nonStemValues)"
   ]
  },
  {
   "cell_type": "markdown",
   "metadata": {},
   "source": [
    "As shown above, the p value calculated by the Wilcoxon rank sum test is significantly lower than .01, indicating that the probability that the difference in mean is due to chance alone is small. Thus, we can conclude that there is a signficant difference between the means of STEM and non-STEM instructor regular pays."
   ]
  },
  {
   "cell_type": "markdown",
   "metadata": {},
   "source": [
    "### Upper Division"
   ]
  },
  {
   "cell_type": "markdown",
   "metadata": {},
   "source": [
    "Here, we will analyze whether the fact that an instructor teaches an upper division course has a significant difference on the regular pay they receive. Because we are comparing the categorical value of teaching an upper division course vs not against the continuous variable that is Regular Pay, we can approach this problem in a similar manner as to the previous section. "
   ]
  },
  {
   "cell_type": "code",
   "execution_count": 74,
   "metadata": {},
   "outputs": [
    {
     "name": "stdout",
     "output_type": "stream",
     "text": [
      "NormaltestResult(statistic=13.660974085226226, pvalue=0.0010803318218159583)\n",
      "NormaltestResult(statistic=10.822388175614314, pvalue=0.004466303866959918)\n"
     ]
    }
   ],
   "source": [
    "upperValues = df[df['Upper_Div'] == True ]['Regular_Pay'].values\n",
    "nonUpperValues = df[df['Upper_Div'] == False ]['Regular_Pay'].values\n",
    "\n",
    "print(normaltest(upperValues))\n",
    "print(normaltest(nonUpperValues))"
   ]
  },
  {
   "cell_type": "markdown",
   "metadata": {},
   "source": [
    "Since the p-values of our datasets is lower than .01, we have concluded that our data is not normal. Therefore, we are not able to perform a t-test and instead will perform a Wilcoxon rank sum test."
   ]
  },
  {
   "cell_type": "code",
   "execution_count": 75,
   "metadata": {},
   "outputs": [
    {
     "data": {
      "text/plain": [
       "RanksumsResult(statistic=2.149986925810996, pvalue=0.031556248966153805)"
      ]
     },
     "execution_count": 75,
     "metadata": {},
     "output_type": "execute_result"
    }
   ],
   "source": [
    "ranksums(upperValues, nonUpperValues)"
   ]
  },
  {
   "cell_type": "markdown",
   "metadata": {},
   "source": [
    "As shown above, the p value calculated by the Wilcoxon rank sum test higher than .01. Thus, we cannot conclude that there is a signficant difference between the means of Upper Division and non Upper Division instructor regular pays. This means that whether or not the Instructor teaches Upper Division courses is not a driving factor in their pay."
   ]
  },
  {
   "cell_type": "markdown",
   "metadata": {},
   "source": [
    "### Recommend Instructor and Average Grade"
   ]
  },
  {
   "cell_type": "markdown",
   "metadata": {},
   "source": [
    "Here, we will analyze whether the percentage the instructor is recommended at and the average grade their students expect are good factors in determining the pay of UCSD Instructors. "
   ]
  },
  {
   "cell_type": "code",
   "execution_count": 76,
   "metadata": {},
   "outputs": [
    {
     "name": "stdout",
     "output_type": "stream",
     "text": [
      "                            OLS Regression Results                            \n",
      "==============================================================================\n",
      "Dep. Variable:            Regular_Pay   R-squared:                       0.032\n",
      "Model:                            OLS   Adj. R-squared:                  0.030\n",
      "Method:                 Least Squares   F-statistic:                     13.78\n",
      "Date:                Wed, 10 Jun 2020   Prob (F-statistic):           1.30e-06\n",
      "Time:                        19:50:01   Log-Likelihood:                -10395.\n",
      "No. Observations:                 835   AIC:                         2.080e+04\n",
      "Df Residuals:                     832   BIC:                         2.081e+04\n",
      "Df Model:                           2                                         \n",
      "Covariance Type:            nonrobust                                         \n",
      "===============================================================================\n",
      "                  coef    std err          t      P>|t|      [0.025      0.975]\n",
      "-------------------------------------------------------------------------------\n",
      "Intercept     2.39e+05   2.87e+04      8.317      0.000    1.83e+05    2.95e+05\n",
      "Avg_Grade    -3.91e+04   8121.874     -4.814      0.000    -5.5e+04   -2.32e+04\n",
      "Rcmnd_Instr   -27.4142    247.080     -0.111      0.912    -512.388     457.560\n",
      "==============================================================================\n",
      "Omnibus:                       19.067   Durbin-Watson:                   1.232\n",
      "Prob(Omnibus):                  0.000   Jarque-Bera (JB):               19.052\n",
      "Skew:                           0.342   Prob(JB):                     7.29e-05\n",
      "Kurtosis:                       2.718   Cond. No.                     1.25e+03\n",
      "==============================================================================\n",
      "\n",
      "Warnings:\n",
      "[1] Standard Errors assume that the covariance matrix of the errors is correctly specified.\n",
      "[2] The condition number is large, 1.25e+03. This might indicate that there are\n",
      "strong multicollinearity or other numerical problems.\n"
     ]
    }
   ],
   "source": [
    "outcome, predictors = patsy.dmatrices('Regular_Pay ~ Avg_Grade + Rcmnd_Instr ', df)\n",
    "mod = sm.OLS(outcome, predictors)  \n",
    "res = mod.fit()\n",
    "print(res.summary())"
   ]
  },
  {
   "cell_type": "markdown",
   "metadata": {},
   "source": [
    "Because the $r^{2}$ value is so low, we know that these factors are not good predictors. We also know that there is some indication that they are collinear and so we know not to include them in the same model for future predictions. "
   ]
  },
  {
   "cell_type": "markdown",
   "metadata": {},
   "source": [
    "### Student Enrollment and Study Hours"
   ]
  },
  {
   "cell_type": "markdown",
   "metadata": {},
   "source": [
    "Here, we will analyze whether the number of students or the number of hours the instructor's students spend studying are good factors in determining the pay of UCSD Instructors. "
   ]
  },
  {
   "cell_type": "code",
   "execution_count": 77,
   "metadata": {},
   "outputs": [
    {
     "name": "stdout",
     "output_type": "stream",
     "text": [
      "                            OLS Regression Results                            \n",
      "==============================================================================\n",
      "Dep. Variable:            Regular_Pay   R-squared:                       0.028\n",
      "Model:                            OLS   Adj. R-squared:                  0.025\n",
      "Method:                 Least Squares   F-statistic:                     11.77\n",
      "Date:                Wed, 10 Jun 2020   Prob (F-statistic):           9.14e-06\n",
      "Time:                        19:50:01   Log-Likelihood:                -10397.\n",
      "No. Observations:                 835   AIC:                         2.080e+04\n",
      "Df Residuals:                     832   BIC:                         2.081e+04\n",
      "Df Model:                           2                                         \n",
      "Covariance Type:            nonrobust                                         \n",
      "================================================================================\n",
      "                   coef    std err          t      P>|t|      [0.025      0.975]\n",
      "--------------------------------------------------------------------------------\n",
      "Intercept      7.46e+04   6771.161     11.018      0.000    6.13e+04    8.79e+04\n",
      "Num_Students   -12.9536      7.175     -1.805      0.071     -27.037       1.130\n",
      "Study_Hours   5090.6767   1110.186      4.585      0.000    2911.582    7269.771\n",
      "==============================================================================\n",
      "Omnibus:                       19.083   Durbin-Watson:                   1.211\n",
      "Prob(Omnibus):                  0.000   Jarque-Bera (JB):               19.220\n",
      "Skew:                           0.346   Prob(JB):                     6.71e-05\n",
      "Kurtosis:                       2.731   Cond. No.                     1.20e+03\n",
      "==============================================================================\n",
      "\n",
      "Warnings:\n",
      "[1] Standard Errors assume that the covariance matrix of the errors is correctly specified.\n",
      "[2] The condition number is large, 1.2e+03. This might indicate that there are\n",
      "strong multicollinearity or other numerical problems.\n"
     ]
    }
   ],
   "source": [
    "outcome, predictors = patsy.dmatrices('Regular_Pay ~ Num_Students + Study_Hours', df)\n",
    "mod = sm.OLS(outcome, predictors)  \n",
    "res = mod.fit()\n",
    "print(res.summary())"
   ]
  },
  {
   "cell_type": "markdown",
   "metadata": {},
   "source": [
    "Again, because the $r^{2}$ value is so low, we know that these factors are not good predictors either. We also know that there is some indication that they are collinear and so we know not to include them in the same model for future predictions. "
   ]
  },
  {
   "cell_type": "markdown",
   "metadata": {},
   "source": [
    "### Final Model"
   ]
  },
  {
   "cell_type": "markdown",
   "metadata": {},
   "source": [
    "Because we saw how well the Title and Stem variables performed earlier, we will include them in our final regression. We will also add the better performing variables from the above 2 Regression outcomes and the Number of Classes a professor taught in a year in order to try to maximize the variance explained in our model."
   ]
  },
  {
   "cell_type": "code",
   "execution_count": 81,
   "metadata": {},
   "outputs": [
    {
     "name": "stdout",
     "output_type": "stream",
     "text": [
      "                            OLS Regression Results                            \n",
      "==============================================================================\n",
      "Dep. Variable:            Regular_Pay   R-squared:                       0.469\n",
      "Model:                            OLS   Adj. R-squared:                  0.467\n",
      "Method:                 Least Squares   F-statistic:                     183.3\n",
      "Date:                Wed, 10 Jun 2020   Prob (F-statistic):          1.48e-112\n",
      "Time:                        19:50:15   Log-Likelihood:                -10144.\n",
      "No. Observations:                 835   AIC:                         2.030e+04\n",
      "Df Residuals:                     830   BIC:                         2.032e+04\n",
      "Df Model:                           4                                         \n",
      "Covariance Type:            nonrobust                                         \n",
      "======================================================================================\n",
      "                         coef    std err          t      P>|t|      [0.025      0.975]\n",
      "--------------------------------------------------------------------------------------\n",
      "Intercept           1.643e+04   5018.865      3.274      0.001    6581.753    2.63e+04\n",
      "Upper_Div[T.True]   7986.6793   3553.837      2.247      0.025    1011.115     1.5e+04\n",
      "Title[T.PROFESSOR]  8.986e+04   3662.417     24.535      0.000    8.27e+04     9.7e+04\n",
      "Stem[T.True]        1.367e+04   3340.325      4.091      0.000    7109.104    2.02e+04\n",
      "Num_Classes         3946.8654    761.616      5.182      0.000    2451.946    5441.784\n",
      "==============================================================================\n",
      "Omnibus:                       72.268   Durbin-Watson:                   1.999\n",
      "Prob(Omnibus):                  0.000   Jarque-Bera (JB):               92.749\n",
      "Skew:                           0.719   Prob(JB):                     7.24e-21\n",
      "Kurtosis:                       3.774   Cond. No.                         13.6\n",
      "==============================================================================\n",
      "\n",
      "Warnings:\n",
      "[1] Standard Errors assume that the covariance matrix of the errors is correctly specified.\n"
     ]
    }
   ],
   "source": [
    "outcome, predictors = patsy.dmatrices('Regular_Pay ~ Num_Classes + Upper_Div + Title + Stem', df)\n",
    "mod = sm.OLS(outcome, predictors)  \n",
    "res = mod.fit()\n",
    "print(res.summary())"
   ]
  },
  {
   "cell_type": "markdown",
   "metadata": {},
   "source": [
    "## Results and Interpretation"
   ]
  },
  {
   "cell_type": "markdown",
   "metadata": {},
   "source": [
    "After running our dataset through the Wilcoxon Rank Sum test and an OLS regression, we have determined a few variables that are correlated to an instructor's regular pay. \n",
    "\n",
    "We first ran the Wilcoxon Rank Sum test on all three of our categorical variables: Professor vs Lecturer, Stem vs non-Stem, and Upper-Division vs Lower Division. From the results of this test, we found that the Professor vs Lecturer variable and the Stem vs non-Stem variable resulted in p values that were significantly lower than .01. Thus, we can conclude that the it is significantly unlikely that the difference in means of instructors' regular pay is due to chance. \n",
    "\n",
    "Based on the OLS regression models, we first found that the Recommend Instructor and Average Grade variables were colinear. Average Grade was a better predictor of an instructor's regular pay, as the p value was significantly smaller than .01, meaning that it is significantly unlikely that the difference in means of instructors' regular pay is due to chance. \n",
    "\n",
    "We then found that the Student Enrollment and Study Hours variables were also colinear. Study Hours was a better predictor of an instructor's regular pay, as the p value was significantly smaller than .01.\n",
    "\n",
    "Finally, we ran the OLS regression model one last time on the Upper Division, Study Hours, Average Grade, Number of Classes, Title and Stem variables against regular pay. Here, we calculated an R-squared value of .47, meaning that 47% of the variance of pay can be explained by our model. However, we found that the p values for Study Hours and Average Grade were significantly higher than .01, meaning that they were not as strong predictors of regular pay as we originally found. As a result, we decided to take these two variables out of our OLS regression model, and found that the R-squared value did not change. Here, we found that three of the variables (Number of Classes, Title, and Stem) had p values that were significantly lower than .01, meaning that they are strong predictors of regular pay.\n"
   ]
  },
  {
   "cell_type": "markdown",
   "metadata": {},
   "source": [
    "### Final Plots"
   ]
  },
  {
   "cell_type": "markdown",
   "metadata": {},
   "source": [
    "Here, we plot the variables that we included in our final model across the two populations so that our data can be better explained."
   ]
  },
  {
   "cell_type": "code",
   "execution_count": 93,
   "metadata": {},
   "outputs": [
    {
     "data": {
      "text/plain": [
       "[Text(0, 0.5, 'Regular Pay'),\n",
       " Text(0.5, 0, 'Number of Classes Taught'),\n",
       " Text(0.5, 1.0, 'Regular Pay by Number of Classes Taught for Professors')]"
      ]
     },
     "execution_count": 93,
     "metadata": {},
     "output_type": "execute_result"
    },
    {
     "data": {
      "image/png": "[encoded data removed]",
      "text/plain": [
       "<Figure size 432x288 with 1 Axes>"
      ]
     },
     "metadata": {
      "needs_background": "light"
     },
     "output_type": "display_data"
    }
   ],
   "source": [
    "ax = sns.scatterplot(x=\"Num_Classes\", y=\"Regular_Pay\", hue=\"Stem\", palette=['limegreen', 'dodgerblue'], data=dfProf)\n",
    "plt.ylim(0, 450000)\n",
    "plt.xlim(0, 21)\n",
    "ax.set(xlabel='Number of Classes Taught', ylabel='Regular Pay', title=\"Regular Pay by Number of Classes Taught for Professors\")"
   ]
  },
  {
   "cell_type": "code",
   "execution_count": 94,
   "metadata": {},
   "outputs": [
    {
     "data": {
      "text/plain": [
       "[Text(0, 0.5, 'Regular Pay'),\n",
       " Text(0.5, 0, 'Number of Classes Taught'),\n",
       " Text(0.5, 1.0, 'Regular Pay by Number of Classes Taught for Lecturers')]"
      ]
     },
     "execution_count": 94,
     "metadata": {},
     "output_type": "execute_result"
    },
    {
     "data": {
      "image/png": "[encoded data removed]",
      "text/plain": [
       "<Figure size 432x288 with 1 Axes>"
      ]
     },
     "metadata": {
      "needs_background": "light"
     },
     "output_type": "display_data"
    }
   ],
   "source": [
    "ax = sns.scatterplot(x=\"Num_Classes\", y=\"Regular_Pay\", hue=\"Stem\", palette=['limegreen', 'dodgerblue'], data=dfLect)\n",
    "plt.ylim(0, 450000)\n",
    "plt.xlim(0, 21)\n",
    "ax.set(xlabel='Number of Classes Taught', ylabel='Regular Pay', title=\"Regular Pay by Number of Classes Taught for Lecturers\")"
   ]
  },
  {
   "cell_type": "markdown",
   "metadata": {},
   "source": [
    "The figure above is a scatterplot of our data where we highlight the two main variables that are correlated to an instructor's regular pay. As shown in the scatterplot, professors at UCSD tend to have higher regular pays than lecturers. Additionally, professors in STEM departments were more likely to have higher regular pays than those in non-STEM departments."
   ]
  },
  {
   "cell_type": "markdown",
   "metadata": {},
   "source": [
    "## Ethics & Privacy\n",
    "\n",
    "Although the information about the salary of UCSD professors is open to the public as the school itself is a public school, CAPEs are secured such that only UCSD members are able to see them. We should have no problems being able to use the salary of these professors in our analysis as this is public information on the web. We do face some privacy concerns as this data is sensitive and although it is made available to the public, no professor should be called out on their salary in relation to the types of issues we want to discuss. In order to address this, we will remove all personally identifiable information from our data following our analysis. However, instructors have signed an agreement before being hired by UCSD which allows the public to view their salary. Therfore, if someone chooses to trace back a particular value in our analysis, it would be considered ethical as the agreement allows for it. In terms of biases, we do not plan to generalize our question to discuss professors as a whole, so we aim to conclude based on the population we have information about - UCSD professors. \n",
    "\n",
    "\n",
    "In a more serious manner, our study could potentially reveal statistics about a professor that could lead to his or her termination within UCSD. To prevent this, we will stick with the guidelines outlined above such that no information about individuals will be released. As we are not analyzing names, we will create ID numbers in our datasets that allow us to correlate pay salary with the corresponding statistics of a professor across tables such that even when analyzing this information we do not involve the personally identifiable information of these faculty. Furthermore, the data from CAPEs and Rate My Professor are already anonymous, meaning that our studies will not put students in harm’s way as none of their information is available to begin with.\n"
   ]
  },
  {
   "cell_type": "markdown",
   "metadata": {},
   "source": [
    "## Conclusion & Discussion"
   ]
  },
  {
   "cell_type": "markdown",
   "metadata": {},
   "source": [
    "This project explores the relationship between the salary of an instructor at UCSD for the 2018 academic year and factors that we thought may affect salary: time students spend studying for the class, the amount of students enrolled, the number of classes taught that year, the average grade expected for students, what percentage of students recommend the instructor, the difficulty of the course, the department, and the title of the instructor. We scraped two websites for our data -- the UCSD Capes website and the UC Annual Wage website. Our final analysis was done on a dataframe based on the two datasets merged on the instructor name.\n",
    "\n",
    "Three of the eight predictors were found to have correlations with regular pay. Upon creating visualizations of potential predictors vs. pay, we proceeded to further analyze certain variables that seemed to show a trend. The values for  Recommend Instructor/Average Grade and Student Enrollment/Study Hours were shown to be collinear by a linear regression model, and thus we removed Student Enrollment and Recommend Instructor from our final analysis. In addition, we used the Wilcoxon rank sum test for non-normal data to show that there is a notable difference between the pay of lecturers vs. professors, STEM vs. non-STEM instructors, and upper-division vs. lower-division instructors. In our final Ordinary Least Squares regression we found that Number of Classes, Title, and STEM/non-STEM values have p-values below the alpha value, 0.01, and therefore have the most correlation with regular pay of an instructor. To be specific, an increase in the number of classes taught led to an increase in pay, professors are paid more than lecturers, and instructors in STEM departments are paid more than those in non-STEM departments.\n",
    "\n",
    "Several limitations caused our group to tweak our initial hypotheses about predictors of pay. Originally, we were planning to use the website, Rate My Professors, to gain more information about how students’ ratings affect the regular pay of an instructor. However, we decided not to as Rate My Professor data cannot be separated by year. Another limitation to our analysis was that there are other factors that may have a significant impact on pay that we simply did not have access to. One is gender. Background work on our topic showed that female instructors are paid less than male instructors. We also did not have access to bonuses which we learned could be affected by Cape ratings. Another factor that was left out was the time that an instructor has spent teaching at UCSD. As with any job, pay tends to increase over time. We think this would have an effect on regular pay as well.\n",
    "\n",
    "Our group’s analysis showed that there are multiple predictors -- the number of classes taught, lower-division versus upper-division classes, job titles, and STEM versus non-STEM departments -- that influence an instructor's pay for an academic year. However, there is room for further research as our model only explains ~47% of the variance of this data. One of our original goals for this project was to show if the university rewards its staff based on student feedback. As students, we appreciate teachers who are invested in our learning. Nonetheless, we noticed that students in lower division classes expected higher grades and also rated professors better, however these factors were negatively correlated with the incomes of professors. This shows that a professor’s income is somewhat correlated to the difficulty of the classes that they teach. Though this outcome is logical based on the idea that teaching a harder class requires more expertise, this also means that there might be a lack of accountability for professors on whether or not they are providing a quality learning experience. One way to improve students’ learning experiences could be to motivate professors monetarily.\n"
   ]
  },
  {
   "cell_type": "markdown",
   "metadata": {},
   "source": [
    "## Team Contributions"
   ]
  },
  {
   "cell_type": "markdown",
   "metadata": {},
   "source": [
    "- Edward Yau - Website Scraping, Data Cleaning, Data Analysis\n",
    "- Tiffany Meng - Data Cleaning, Data Analysis, EDA\n",
    "- Eric Nguyen - Wesbite Scraping, Data Cleaning, Data Analysis\n",
    "- Shaeli Yao - Wesbite Scraping, Data Cleaning, Data Analysis\n",
    "- Simonne Contreras - Data Cleaning, Data Analysis, EDA"
   ]
  }
 ],
 "metadata": {
  "kernelspec": {
   "display_name": "Python 3",
   "language": "python",
   "name": "python3"
  },
  "language_info": {
   "codemirror_mode": {
    "name": "ipython",
    "version": 3
   },
   "file_extension": ".py",
   "mimetype": "text/x-python",
   "name": "python",
   "nbconvert_exporter": "python",
   "pygments_lexer": "ipython3",
   "version": "3.7.7"
  }
 },
 "nbformat": 4,
 "nbformat_minor": 4
}

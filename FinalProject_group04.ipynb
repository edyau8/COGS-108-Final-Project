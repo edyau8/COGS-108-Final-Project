{
 "cells": [
  {
   "cell_type": "markdown",
   "metadata": {},
   "source": [
    "# COGS 108 - Final Project"
   ]
  },
  {
   "cell_type": "markdown",
   "metadata": {},
   "source": [
    "## Permissions\n",
    "Place an X in the appropriate bracket below to specify if you would like your group's project to be made available to the public. (Note that PIDs will be scraped from the public submission, but student names will be included.)\n",
    "\n",
    "[ ] YES - make available\n",
    "\n",
    "[X] NO - keep private"
   ]
  },
  {
   "cell_type": "markdown",
   "metadata": {},
   "source": [
    "## Overview \n",
    "\n",
    "In our final project, we determine the factors that affect a teaching staff's pay. We explore departments, number and difficulty of classes taught staff, recommendations, and grade averages accross hundreds of instructors to determine whether they were correlated with the pay that a teaching staff would recieve. To accomplish this, we used linear regression, simple graphs, and wilcoxon rank sums test to compare the relationships between pay and said factors. Upon analysis we discovered Number of Classes, Title, and STEM/non-STEM were significant predictors of regular pay.\n"
   ]
  },
  {
   "cell_type": "markdown",
   "metadata": {},
   "source": [
    "## Names\n",
    "- Simonne Contreras\n",
    "- Tiffany Meng\n",
    "- Eric Nguyen\n",
    "- Shaeli Yao\n",
    "- Edward Yau"
   ]
  },
  {
   "cell_type": "markdown",
   "metadata": {},
   "source": [
    "## Group Members' IDs\n",
    "- A15002838\n",
    "- A15525120\n",
    "- A15585807\n",
    "- A15518484\n",
    "- A15624147"
   ]
  },
  {
   "cell_type": "markdown",
   "metadata": {},
   "source": [
    "## Research Question\n",
    " \n",
    "Our group has set out to explore the question “What factors are most correlated with higher paying salaries of instructors at UCSD?” Specific factors that we will be examining include: likeability, department, title, and difficulty of courses. In analyzing these variables, we would like to determine what the driving factors behind employee pay are, if there are any biases that exist in the system, and whether student input is considered when administrators decide the salaries for different instructors across different departments."
   ]
  },
  {
   "cell_type": "markdown",
   "metadata": {},
   "source": [
    "## Background and Prior Work\n",
    " \n",
    "As students at UCSD, our instructors are an essential part of our college learning experience. In particular, our group is curious about the ranges of their salaries and how they are determined as this directly affects our lives, learning and indirectly, pockets. Initial research has led us to similar studies that compare variables such as gender and length of time that an instructor has been teaching in order to determine their correlation, however, we are interested in changing the scope of our research to UCSD and broadening the factors we analyze in order to get a clearer view about what is most important in determining an instructor’s salary. For example, we want to include data on CAPE reviews in our analysis because we would like to see if the opinion of the student body as a whole has any effect on the salary of our instructors. Though we understand that many professors do research and this may be a confounding variable, we have decided to look just at their base pay to eliminate this possibility. Unlike other studies, we feel that the use of CAPEs and other such facets makes our project special because CAPE reviews are factored directly in the reviews of instructors at UCSD and we can see how these types of outlets for student opinions directly affect the instructors we interact with on a day to day basis. \n",
    " \n",
    "According to an analysis titled, “Factors that influence professors’ salaries”, the salary of a professor increases the longer they have been teaching [2]. Similarly, as to be expected, male professors had a higher income on average compared to their female counterparts. Both of these findings are somewhat expected, but we want to see if UCSD has addressed these issues and similarly, whether or not they fall into other traps or biases. We also aim to find out what factors they do take into consideration when determining the salary of instructors in general here at UCSD. The issue of unfair pay has become well known amongst all fields, including academia, but we are interested particularly in whether or not UCSD adresses these issues as we would like to believe the institution we attend makes strides towards addressing the issues concerning our nation and world today. \n",
    " \n",
    "In another study titled, “Wage Difference Among University Professors,” researchers analyzed different factors that influenced professors’ salaries at the University of Northern Iowa [3]. Specifically, factors such as department, rank, status in department and ratings from RateMyProfessor.com were focused on. One finding from the study that our group found particularly interesting is that the results implied a positive relationship between ratings on RateMyProfessor.com and salaries of professors at UNI. This made us curious about the extent to which this relationship holds, and whether similar results would be found from data at UCSD. Since the paper suggests that RateMyProfessor may be “extremely biased” and a weak representation of students, we decided that we want to instead look at results from CAPE reviews at UCSD, as they may be more credible, since it is enforced that only students who have taken a specific course can leave a review and that they represent a larger population of each course.\n",
    "\n",
    "References:\n",
    "1. Compensation at the University of California: Annual Wage\n",
    "    - https://ucannualwage.ucop.edu/wage/\n",
    "2. Factors that influence professors' salaries\n",
    "    - https://rstudio-pubs-static.s3.amazonaws.com/368533_6714e2f92b7e4f8c9b71a6707d252d57.html\n",
    "3. Wage Differentiation Among University Professors\n",
    "    - https://pdfs.semanticscholar.org/1f0d/95a40fd48c8abd01ee7d3324b26aa603ee96.pdf"
   ]
  },
  {
   "cell_type": "markdown",
   "metadata": {},
   "source": [
    "## Hypothesis\n",
    "We decided to focus on a few factors that might affect an instructor’s salary at UCSD. The following bullet points highlight our hypotheses for each factor we plan to consider.\n",
    "\n",
    "- Student Recommendation Rating: Student recommendation ratings for an instructor will have a positive correlation to that instructor’s salary. We believe this because findings from our research on background knowledge suggest a positive relationship between student ratings and salaries.\n",
    "\n",
    "- Department: Professors in STEM departments will have higher salaries than those in other departments. We believe this to be true because of the experience required to be an instructor in the STEM field.\n",
    "\n",
    "- Average Grade assigned to Students: Professors who assign higher average grades will also have higher salaries, up to a certain threshold at which point their salary will diminish. We believe this will be true because generally “easy-A” professors are not valued as much as those who have a good average grade.\n",
    "\n",
    "- Upper Division & Study hours: Professors who teach soley lower division courses will have lower salaries than those who teach upper division courses at well. We believe this to be true because courses in the upper division tend to be more difficult than those in lower division. Therefore, professors should be compensated for how difficult the material they teach is. We apply this same logic to study hours, since greater study hours tend to translate to more difficult classes. Thus, professors with a higher average study hours should recieve more pay than those with lower study hours. \n",
    "\n",
    "- **Num of Classes?**"
   ]
  },
  {
   "cell_type": "markdown",
   "metadata": {},
   "source": [
    "## Dataset(s)\n",
    "\n",
    "1. Dataset Name: income.csv\n",
    "    - Link to dataset: https://github.com/COGS108/group04_sp20/blob/master/data/capes.csv\n",
    "    - Number of observations: 3895\n",
    "    - Description: This is a raw dataset scraped from [this website](https://ucannualwage.ucop.edu/wage/). It contains information about the salaries of lecturers and professors at UCSD in the 2018 calendar year. \n",
    "\n",
    "\n",
    "2. Dataset Name: capes.csv\n",
    "    - Link to dataset: https://github.com/COGS108/group04_sp20/blob/master/data/income.csv\n",
    "    - Number of observations: 4117\n",
    "    - Description: This is a raw dataset scraped from [this website](https://cape.ucsd.edu/responses/Results.aspx). It contains statitics about each class that a lecturer or professors taught at UCSD in the 2018 calendar year. These statistics include, but are not limited to, the course title, instructor recommendations, average grade expected, and study hours per week. "
   ]
  },
  {
   "cell_type": "markdown",
   "metadata": {},
   "source": [
    "## Setup\n",
    "\n",
    "For setup, we import numpy and pandas to perform simple changes and analysis of the datasets. In addition, we import other packages to create the graphs and plots that we generated. "
   ]
  },
  {
   "cell_type": "code",
   "execution_count": 2,
   "metadata": {},
   "outputs": [],
   "source": [
    "# Display plots directly in the notebook instead of in a new window\n",
    "%matplotlib inline\n",
    "\n",
    "# Import libraries\n",
    "import numpy as np\n",
    "import pandas as pd\n",
    "import matplotlib.pyplot as plt\n",
    "import seaborn as sns\n",
    "import statsmodels.api as sm\n",
    "import scipy.stats as stats\n",
    "from scipy.stats import *\n",
    "import patsy"
   ]
  },
  {
   "cell_type": "code",
   "execution_count": 3,
   "metadata": {},
   "outputs": [
    {
     "data": {
      "text/html": [
       "<div>\n",
       "<style scoped>\n",
       "    .dataframe tbody tr th:only-of-type {\n",
       "        vertical-align: middle;\n",
       "    }\n",
       "\n",
       "    .dataframe tbody tr th {\n",
       "        vertical-align: top;\n",
       "    }\n",
       "\n",
       "    .dataframe thead th {\n",
       "        text-align: right;\n",
       "    }\n",
       "</style>\n",
       "<table border=\"1\" class=\"dataframe\">\n",
       "  <thead>\n",
       "    <tr style=\"text-align: right;\">\n",
       "      <th></th>\n",
       "      <th>Instructor</th>\n",
       "      <th>Course</th>\n",
       "      <th>Term</th>\n",
       "      <th>Enroll</th>\n",
       "      <th>Evals Made</th>\n",
       "      <th>Rcmd Class</th>\n",
       "      <th>Rcmnd Instr</th>\n",
       "      <th>Study Hours/week</th>\n",
       "      <th>avg Grade Expected</th>\n",
       "      <th>Average grade received</th>\n",
       "    </tr>\n",
       "  </thead>\n",
       "  <tbody>\n",
       "    <tr>\n",
       "      <th>0</th>\n",
       "      <td>Ben-Yosef, Erez</td>\n",
       "      <td>\\nANAR 113 - Natural Resources in Israel (A)\\n</td>\n",
       "      <td>FA18</td>\n",
       "      <td>19</td>\n",
       "      <td>11</td>\n",
       "      <td>\\n100.0 %\\n</td>\n",
       "      <td>\\n100.0 %\\n</td>\n",
       "      <td>4.14</td>\n",
       "      <td>\\nB+ (3.64)\\n</td>\n",
       "      <td>\\nN/A\\n</td>\n",
       "    </tr>\n",
       "    <tr>\n",
       "      <th>1</th>\n",
       "      <td>D'Alpoim Guedes, Jade A</td>\n",
       "      <td>\\nANAR 146 - Feeding the World (A)\\n</td>\n",
       "      <td>FA18</td>\n",
       "      <td>39</td>\n",
       "      <td>17</td>\n",
       "      <td>\\n100.0 %\\n</td>\n",
       "      <td>\\n100.0 %\\n</td>\n",
       "      <td>5.91</td>\n",
       "      <td>\\nA- (3.75)\\n</td>\n",
       "      <td>\\nB+ (3.54)\\n</td>\n",
       "    </tr>\n",
       "    <tr>\n",
       "      <th>2</th>\n",
       "      <td>Marchetto, Maria Carolina</td>\n",
       "      <td>\\nANBI 100 - Special Topic/Biological Anth (A)\\n</td>\n",
       "      <td>FA18</td>\n",
       "      <td>25</td>\n",
       "      <td>23</td>\n",
       "      <td>\\n100.0 %\\n</td>\n",
       "      <td>\\n100.0 %\\n</td>\n",
       "      <td>4.24</td>\n",
       "      <td>\\nA- (3.91)\\n</td>\n",
       "      <td>\\nA- (3.83)\\n</td>\n",
       "    </tr>\n",
       "    <tr>\n",
       "      <th>3</th>\n",
       "      <td>Non, Amy L</td>\n",
       "      <td>\\nANBI 134 - Human Evolutionary Genetics (A)\\n</td>\n",
       "      <td>FA18</td>\n",
       "      <td>30</td>\n",
       "      <td>16</td>\n",
       "      <td>\\n62.5 %\\n</td>\n",
       "      <td>\\n93.3 %\\n</td>\n",
       "      <td>5.50</td>\n",
       "      <td>\\nB (3.13)\\n</td>\n",
       "      <td>\\nB (3.09)\\n</td>\n",
       "    </tr>\n",
       "    <tr>\n",
       "      <th>4</th>\n",
       "      <td>Non, Amy L</td>\n",
       "      <td>\\nANBI 135 - Genetic Anthro Lab Techniques (A)\\n</td>\n",
       "      <td>FA18</td>\n",
       "      <td>11</td>\n",
       "      <td>7</td>\n",
       "      <td>\\n57.1 %\\n</td>\n",
       "      <td>\\n85.7 %\\n</td>\n",
       "      <td>4.50</td>\n",
       "      <td>\\nB (3.14)\\n</td>\n",
       "      <td>\\nN/A\\n</td>\n",
       "    </tr>\n",
       "    <tr>\n",
       "      <th>...</th>\n",
       "      <td>...</td>\n",
       "      <td>...</td>\n",
       "      <td>...</td>\n",
       "      <td>...</td>\n",
       "      <td>...</td>\n",
       "      <td>...</td>\n",
       "      <td>...</td>\n",
       "      <td>...</td>\n",
       "      <td>...</td>\n",
       "      <td>...</td>\n",
       "    </tr>\n",
       "    <tr>\n",
       "      <th>4112</th>\n",
       "      <td>Pafunda, Danielle</td>\n",
       "      <td>LTWR 115 - Experimental Writing Workshop (A)</td>\n",
       "      <td>WI18</td>\n",
       "      <td>18</td>\n",
       "      <td>7</td>\n",
       "      <td>100.0 %</td>\n",
       "      <td>100.0 %</td>\n",
       "      <td>4.50</td>\n",
       "      <td>A (4.00)</td>\n",
       "      <td>NaN</td>\n",
       "    </tr>\n",
       "    <tr>\n",
       "      <th>4113</th>\n",
       "      <td>Hoang, Lily Kim</td>\n",
       "      <td>LTWR 126 - Creative Nonfiction Workshop (A)</td>\n",
       "      <td>WI18</td>\n",
       "      <td>12</td>\n",
       "      <td>4</td>\n",
       "      <td>100.0 %</td>\n",
       "      <td>100.0 %</td>\n",
       "      <td>7.00</td>\n",
       "      <td>A- (3.75)</td>\n",
       "      <td>NaN</td>\n",
       "    </tr>\n",
       "    <tr>\n",
       "      <th>4114</th>\n",
       "      <td>Hoang, Lily Kim</td>\n",
       "      <td>LTWR 140 - History of Writing (A)</td>\n",
       "      <td>WI18</td>\n",
       "      <td>34</td>\n",
       "      <td>7</td>\n",
       "      <td>85.7 %</td>\n",
       "      <td>85.7 %</td>\n",
       "      <td>2.50</td>\n",
       "      <td>A- (3.86)</td>\n",
       "      <td>A- (3.74)</td>\n",
       "    </tr>\n",
       "    <tr>\n",
       "      <th>4115</th>\n",
       "      <td>Doller, Ben</td>\n",
       "      <td>LTWR 8B - Writing Poetry (A)</td>\n",
       "      <td>WI18</td>\n",
       "      <td>99</td>\n",
       "      <td>50</td>\n",
       "      <td>95.8 %</td>\n",
       "      <td>91.7 %</td>\n",
       "      <td>2.83</td>\n",
       "      <td>A- (3.87)</td>\n",
       "      <td>A- (3.92)</td>\n",
       "    </tr>\n",
       "    <tr>\n",
       "      <th>4116</th>\n",
       "      <td>Forbes, Camille</td>\n",
       "      <td>LTWR 8C - Writing Non-Fiction (A)</td>\n",
       "      <td>WI18</td>\n",
       "      <td>61</td>\n",
       "      <td>47</td>\n",
       "      <td>83.0 %</td>\n",
       "      <td>89.1 %</td>\n",
       "      <td>3.31</td>\n",
       "      <td>B+ (3.45)</td>\n",
       "      <td>B+ (3.38)</td>\n",
       "    </tr>\n",
       "  </tbody>\n",
       "</table>\n",
       "<p>4117 rows × 10 columns</p>\n",
       "</div>"
      ],
      "text/plain": [
       "                     Instructor  \\\n",
       "0               Ben-Yosef, Erez   \n",
       "1       D'Alpoim Guedes, Jade A   \n",
       "2     Marchetto, Maria Carolina   \n",
       "3                    Non, Amy L   \n",
       "4                    Non, Amy L   \n",
       "...                         ...   \n",
       "4112          Pafunda, Danielle   \n",
       "4113            Hoang, Lily Kim   \n",
       "4114            Hoang, Lily Kim   \n",
       "4115                Doller, Ben   \n",
       "4116            Forbes, Camille   \n",
       "\n",
       "                                                Course  Term  Enroll  \\\n",
       "0       \\nANAR 113 - Natural Resources in Israel (A)\\n  FA18      19   \n",
       "1                 \\nANAR 146 - Feeding the World (A)\\n  FA18      39   \n",
       "2     \\nANBI 100 - Special Topic/Biological Anth (A)\\n  FA18      25   \n",
       "3       \\nANBI 134 - Human Evolutionary Genetics (A)\\n  FA18      30   \n",
       "4     \\nANBI 135 - Genetic Anthro Lab Techniques (A)\\n  FA18      11   \n",
       "...                                                ...   ...     ...   \n",
       "4112      LTWR 115 - Experimental Writing Workshop (A)  WI18      18   \n",
       "4113       LTWR 126 - Creative Nonfiction Workshop (A)  WI18      12   \n",
       "4114                 LTWR 140 - History of Writing (A)  WI18      34   \n",
       "4115                      LTWR 8B - Writing Poetry (A)  WI18      99   \n",
       "4116                 LTWR 8C - Writing Non-Fiction (A)  WI18      61   \n",
       "\n",
       "      Evals Made   Rcmd Class  Rcmnd Instr  Study Hours/week  \\\n",
       "0             11  \\n100.0 %\\n  \\n100.0 %\\n              4.14   \n",
       "1             17  \\n100.0 %\\n  \\n100.0 %\\n              5.91   \n",
       "2             23  \\n100.0 %\\n  \\n100.0 %\\n              4.24   \n",
       "3             16   \\n62.5 %\\n   \\n93.3 %\\n              5.50   \n",
       "4              7   \\n57.1 %\\n   \\n85.7 %\\n              4.50   \n",
       "...          ...          ...          ...               ...   \n",
       "4112           7      100.0 %      100.0 %              4.50   \n",
       "4113           4      100.0 %      100.0 %              7.00   \n",
       "4114           7       85.7 %       85.7 %              2.50   \n",
       "4115          50       95.8 %       91.7 %              2.83   \n",
       "4116          47       83.0 %       89.1 %              3.31   \n",
       "\n",
       "     avg Grade Expected Average grade received  \n",
       "0         \\nB+ (3.64)\\n                \\nN/A\\n  \n",
       "1         \\nA- (3.75)\\n          \\nB+ (3.54)\\n  \n",
       "2         \\nA- (3.91)\\n          \\nA- (3.83)\\n  \n",
       "3          \\nB (3.13)\\n           \\nB (3.09)\\n  \n",
       "4          \\nB (3.14)\\n                \\nN/A\\n  \n",
       "...                 ...                    ...  \n",
       "4112           A (4.00)                    NaN  \n",
       "4113          A- (3.75)                    NaN  \n",
       "4114          A- (3.86)              A- (3.74)  \n",
       "4115          A- (3.87)              A- (3.92)  \n",
       "4116          B+ (3.45)              B+ (3.38)  \n",
       "\n",
       "[4117 rows x 10 columns]"
      ]
     },
     "execution_count": 3,
     "metadata": {},
     "output_type": "execute_result"
    }
   ],
   "source": [
    "# Reading in the initial capes data\n",
    "copy = pd.read_csv('data/capes.csv')\n",
    "copy"
   ]
  },
  {
   "cell_type": "markdown",
   "metadata": {},
   "source": [
    "## Data Cleaning"
   ]
  },
  {
   "cell_type": "markdown",
   "metadata": {},
   "source": [
    "### Cleanup Capes Dataset"
   ]
  },
  {
   "cell_type": "markdown",
   "metadata": {},
   "source": [
    "### Dropping Columns¶\n",
    "The objective at hand is to determine if certain factors influence a professors' salary. The factors we chose to analyze are the recomendations instructors recieve, the department they work for, the difficulty of their classes and the average grade of their students. For this reason, we decided to drop all the rows that did not pertain to these factors. However, we decided to keep the number of students enrolled in a class as this may be a cofounding variable that affects how much a professors gets payed."
   ]
  },
  {
   "cell_type": "code",
   "execution_count": 3,
   "metadata": {},
   "outputs": [],
   "source": [
    "copy = copy.drop(columns = ['Term','Evals Made', 'Rcmd Class', 'Average grade received'])"
   ]
  },
  {
   "cell_type": "markdown",
   "metadata": {},
   "source": [
    "### Standardizing Upper Div\n",
    "\n",
    "In order to determine if a course is an upper division course, we created a fucntion that takes in the course title and returns true if it is an upper division course or false otherwise. We applied this function to the course column and created a new column, upper div. "
   ]
  },
  {
   "cell_type": "code",
   "execution_count": 4,
   "metadata": {},
   "outputs": [],
   "source": [
    "def standardize_upper_div(string):\n",
    "    string = string.strip()\n",
    "    index = string.find(' ')\n",
    "    string = string[index+1:]\n",
    "    \n",
    "    counter = 0\n",
    "    while(string.find('0') == 0 or \n",
    "          string.find('1') == 0 or\n",
    "          string.find('2') == 0 or\n",
    "          string.find('3') == 0 or\n",
    "          string.find('4') == 0 or\n",
    "          string.find('5') == 0 or\n",
    "          string.find('6') == 0 or\n",
    "          string.find('7') == 0 or\n",
    "          string.find('8') == 0 or\n",
    "          string.find('9') == 0 ) :\n",
    "        string = string[1:]\n",
    "        counter += 1\n",
    "        \n",
    "    if(counter > 2):\n",
    "        return True\n",
    "    else:\n",
    "        return False"
   ]
  },
  {
   "cell_type": "code",
   "execution_count": 5,
   "metadata": {},
   "outputs": [],
   "source": [
    "copy['Upper Div'] = copy['Course'].apply(standardize_upper_div)"
   ]
  },
  {
   "cell_type": "markdown",
   "metadata": {},
   "source": [
    "### Standardizing Department\n",
    "\n",
    "Each row in the table represents a different course/section that a professors has taught. However, in order to determine if a professor's salary is correlated eith the department they teach in, we must standardize each of these courses by their department or whether or not they are stem. To do so, we declare two functions that determines if a course is stem or what department it belongs in based on the acronym of the course title. We then apply these function to the column containing the course titles and create a new column. "
   ]
  },
  {
   "cell_type": "code",
   "execution_count": 6,
   "metadata": {},
   "outputs": [],
   "source": [
    "def standardize_department(string):\n",
    "    \n",
    "    string = string.strip()\n",
    "    string = string[:4]\n",
    "\n",
    "    \n",
    "    if 'AN' in string:\n",
    "        output = 'Anthropology'\n",
    "    elif 'BENG' in string:\n",
    "        output = 'Bioengineering'\n",
    "    elif 'BI' in string:\n",
    "        output = 'Biology'\n",
    "    elif 'CAT' in string:\n",
    "        output = 'Sixth College'\n",
    "    elif 'CGS' in string:\n",
    "        output = 'Critical Gender Studies'\n",
    "    elif 'CHEM' in string:\n",
    "        output = 'Chemistry'\n",
    "    elif 'CHIN' in string:\n",
    "        output = 'Chinese Studies'\n",
    "    elif 'COGS' in string:\n",
    "        output = 'Cognitive Science'\n",
    "    elif 'DSGN' in string:\n",
    "        output = 'Cognitive Science'\n",
    "    elif 'COMM' in string:\n",
    "        output = 'Communication'\n",
    "    elif 'CONT' in string:\n",
    "        output = 'Contemporary Issues'\n",
    "    elif 'CSE' in string:\n",
    "        output = 'Computer Science'\n",
    "    elif 'DOC' in string:\n",
    "        output = 'Dimensions of Culture'\n",
    "    elif 'ECE' in string:\n",
    "        output = 'Electrical & Computer Eng.'\n",
    "    elif 'ECON' in string:\n",
    "        output = 'Economics'\n",
    "    elif 'EDS' in string:\n",
    "        output = 'Education Studies'\n",
    "    elif 'ENVR' in string:\n",
    "        output = 'Environmental Studies'\n",
    "    elif 'ERC' in string:\n",
    "        output = 'ERC'\n",
    "    elif 'ESYS' in string:\n",
    "        output = 'Environmental Systems'\n",
    "    elif 'ETHN' in string:\n",
    "        output = 'Ethnic Studies'\n",
    "    elif 'FILM' in string:\n",
    "        output = 'Film'\n",
    "    elif 'HDP' in string:\n",
    "        output = 'Human Development Program'\n",
    "    elif 'HI' in string:\n",
    "        output = 'History'\n",
    "    elif 'HMNR' in string:\n",
    "        output = 'Human Rights'\n",
    "    elif 'HUM' in string:\n",
    "        output = 'Humanitites'\n",
    "    elif 'ICAM' in string:\n",
    "        output = 'Inter. Computing and the Arts'\n",
    "    elif 'INTL' in string:\n",
    "        output = 'International Studies'\n",
    "    elif 'JAPN' in string:\n",
    "        output = 'Japanese Studies'\n",
    "    elif 'JUDA' in string:\n",
    "        output = 'Judaic Studies'\n",
    "    elif 'LATI' in string:\n",
    "        output = 'Latin American Studies'\n",
    "    elif 'LAWS' in string:\n",
    "        output = 'Law & Society'\n",
    "    elif 'LI' in string:\n",
    "        output = 'Linguistics'\n",
    "    elif 'LT' in string:\n",
    "        output = 'Literature'\n",
    "    elif 'MAE' in string:\n",
    "        output = 'Mechanical & Aerospace Eng.'\n",
    "    elif 'MATH' in string:\n",
    "        output = 'Mathematics'\n",
    "    elif 'MMW' in string:\n",
    "        output = 'Making of the Modern World'\n",
    "    elif 'MUIR' in string:\n",
    "        output = 'Muir College'\n",
    "    elif 'MUS' in string:\n",
    "        output = 'Music'\n",
    "    elif 'CENG' in string:\n",
    "        output = 'NanoEngineering'\n",
    "    elif 'NANO' in string:\n",
    "        output = 'NanoEngineering'\n",
    "    elif 'PHIL' in string:\n",
    "        output = 'Philosophy'\n",
    "    elif 'PHYS' in string:\n",
    "        output = 'Physics'\n",
    "    elif 'POLI' in string:\n",
    "        output = 'Political Science'\n",
    "    elif 'PSYC' in string:\n",
    "        output = 'Psychology'\n",
    "    elif 'RELI' in string:\n",
    "        output = 'The Study of Religion'\n",
    "    elif 'REV' in string:\n",
    "        output = 'Revelle College'\n",
    "    elif 'MGT' in string:\n",
    "        output = 'Rady School of Management'\n",
    "    elif 'SE' in string:\n",
    "        output = 'Structural Engineering'\n",
    "    elif 'SIO' in string:\n",
    "        output = 'SIO'\n",
    "    elif 'SOCI' in string:\n",
    "        output = 'Sociology'\n",
    "    elif 'ENG' in string:\n",
    "        output = 'Jacobs School of Engineering'\n",
    "    elif 'SXTH' in string:\n",
    "        output = 'Sixth College'\n",
    "    elif 'TD' in string:\n",
    "        output = 'Theatre & Dance'\n",
    "    elif 'TMC' in string:\n",
    "        output = 'Thurgood Marshall College'\n",
    "    elif 'TWS' in string:\n",
    "        output = 'Third World Studies'\n",
    "    elif 'USP' in string:\n",
    "        output = 'Urban Studies and Planning'\n",
    "    elif 'VIS' in string:\n",
    "        output = 'Visual Arts'\n",
    "    elif 'WARR' in string:\n",
    "        output = 'Warren College'\n",
    "    elif 'WCWP' in string:\n",
    "        output = 'Warren College Writing Program'\n",
    "    else:\n",
    "        output = np.nan\n",
    "    \n",
    "    return output"
   ]
  },
  {
   "cell_type": "code",
   "execution_count": 7,
   "metadata": {},
   "outputs": [
    {
     "data": {
      "text/plain": [
       "'Warren College Writing Program'"
      ]
     },
     "execution_count": 7,
     "metadata": {},
     "output_type": "execute_result"
    }
   ],
   "source": [
    "## Testing the function\n",
    "\n",
    "standardize_department('WCWP 100 - Academic Writing (B)')"
   ]
  },
  {
   "cell_type": "code",
   "execution_count": 8,
   "metadata": {},
   "outputs": [],
   "source": [
    "def standardize_stem(string):\n",
    "    \n",
    "    string = string.strip()\n",
    "    string = string[:4]\n",
    "\n",
    "    \n",
    "    if 'AN' in string:\n",
    "        output = False\n",
    "    elif 'BENG' in string:\n",
    "        output = True\n",
    "    elif 'BI' in string:\n",
    "        output = True\n",
    "    elif 'CAT' in string:\n",
    "        output = False\n",
    "    elif 'CGS' in string:\n",
    "        output = False\n",
    "    elif 'CHEM' in string:\n",
    "        output = True\n",
    "    elif 'CHIN' in string:\n",
    "        output = False\n",
    "    elif 'COGS' in string:\n",
    "        output = True\n",
    "    elif 'DSGN' in string:\n",
    "        output = True\n",
    "    elif 'COMM' in string:\n",
    "        output = False\n",
    "    elif 'CONT' in string:\n",
    "        output = False\n",
    "    elif 'CSE' in string:\n",
    "        output = True\n",
    "    elif 'DOC' in string:\n",
    "        output = False\n",
    "    elif 'ECE' in string:\n",
    "        output = True\n",
    "    elif 'ECON' in string:\n",
    "        output = True\n",
    "    elif 'EDS' in string:\n",
    "        output = False\n",
    "    elif 'ENVR' in string:\n",
    "        output = True\n",
    "    elif 'ERC' in string:\n",
    "        output = False\n",
    "    elif 'ESYS' in string:\n",
    "        output = True\n",
    "    elif 'ETHN' in string:\n",
    "        output = False\n",
    "    elif 'FILM' in string:\n",
    "        output = False\n",
    "    elif 'HDP' in string:\n",
    "        output = False\n",
    "    elif 'HI' in string:\n",
    "        output = False\n",
    "    elif 'HMNR' in string:\n",
    "        output = False\n",
    "    elif 'HUM' in string:\n",
    "        output = False\n",
    "    elif 'ICAM' in string:\n",
    "        output = True\n",
    "    elif 'INTL' in string:\n",
    "        output = False\n",
    "    elif 'JAPN' in string:\n",
    "        output = False\n",
    "    elif 'JUDA' in string:\n",
    "        output = False\n",
    "    elif 'LATI' in string:\n",
    "        output = False\n",
    "    elif 'LAWS' in string:\n",
    "        output = False\n",
    "    elif 'LI' in string:\n",
    "        output = False\n",
    "    elif 'LT' in string:\n",
    "        output = False\n",
    "    elif 'MAE' in string:\n",
    "        output = True\n",
    "    elif 'MATH' in string:\n",
    "        output = True\n",
    "    elif 'MMW' in string:\n",
    "        output = False\n",
    "    elif 'MUIR' in string:\n",
    "        output = False\n",
    "    elif 'MUS' in string:\n",
    "        output = False\n",
    "    elif 'CENG' in string:\n",
    "        output = True\n",
    "    elif 'NANO' in string:\n",
    "        output = True\n",
    "    elif 'PHIL' in string:\n",
    "        output = False\n",
    "    elif 'PHYS' in string:\n",
    "        output = True\n",
    "    elif 'POLI' in string:\n",
    "        output = False\n",
    "    elif 'PSYC' in string:\n",
    "        output = True\n",
    "    elif 'RELI' in string:\n",
    "        output = False\n",
    "    elif 'REV' in string:\n",
    "        output = False\n",
    "    elif 'MGT' in string:\n",
    "        output = False\n",
    "    elif 'SE' in string:\n",
    "        output = True\n",
    "    elif 'SIO' in string:\n",
    "        output = True\n",
    "    elif 'SOCI' in string:\n",
    "        output = False\n",
    "    elif 'ENG' in string:\n",
    "        output = True\n",
    "    elif 'SXTH' in string:\n",
    "        output = False\n",
    "    elif 'TD' in string:\n",
    "        output = False\n",
    "    elif 'TMC' in string:\n",
    "        output = False\n",
    "    elif 'TWS' in string:\n",
    "        output = False\n",
    "    elif 'USP' in string:\n",
    "        output = False\n",
    "    elif 'VIS' in string:\n",
    "        output = False\n",
    "    elif 'WARR' in string:\n",
    "        output = False\n",
    "    elif 'WCWP' in string:\n",
    "        output = False\n",
    "    else:\n",
    "        output = False\n",
    "    \n",
    "    return output"
   ]
  },
  {
   "cell_type": "code",
   "execution_count": 9,
   "metadata": {},
   "outputs": [
    {
     "data": {
      "text/html": [
       "<div>\n",
       "<style scoped>\n",
       "    .dataframe tbody tr th:only-of-type {\n",
       "        vertical-align: middle;\n",
       "    }\n",
       "\n",
       "    .dataframe tbody tr th {\n",
       "        vertical-align: top;\n",
       "    }\n",
       "\n",
       "    .dataframe thead th {\n",
       "        text-align: right;\n",
       "    }\n",
       "</style>\n",
       "<table border=\"1\" class=\"dataframe\">\n",
       "  <thead>\n",
       "    <tr style=\"text-align: right;\">\n",
       "      <th></th>\n",
       "      <th>Instructor</th>\n",
       "      <th>Department</th>\n",
       "      <th>Enroll</th>\n",
       "      <th>Rcmnd Instr</th>\n",
       "      <th>Study Hrs/Week</th>\n",
       "      <th>Average Grade Expected</th>\n",
       "      <th>Upper Div</th>\n",
       "      <th>Stem</th>\n",
       "    </tr>\n",
       "  </thead>\n",
       "  <tbody>\n",
       "    <tr>\n",
       "      <th>0</th>\n",
       "      <td>Ben-Yosef, Erez</td>\n",
       "      <td>Anthropology</td>\n",
       "      <td>19</td>\n",
       "      <td>\\n100.0 %\\n</td>\n",
       "      <td>4.14</td>\n",
       "      <td>\\nB+ (3.64)\\n</td>\n",
       "      <td>True</td>\n",
       "      <td>False</td>\n",
       "    </tr>\n",
       "    <tr>\n",
       "      <th>1</th>\n",
       "      <td>D'Alpoim Guedes, Jade A</td>\n",
       "      <td>Anthropology</td>\n",
       "      <td>39</td>\n",
       "      <td>\\n100.0 %\\n</td>\n",
       "      <td>5.91</td>\n",
       "      <td>\\nA- (3.75)\\n</td>\n",
       "      <td>True</td>\n",
       "      <td>False</td>\n",
       "    </tr>\n",
       "    <tr>\n",
       "      <th>2</th>\n",
       "      <td>Marchetto, Maria Carolina</td>\n",
       "      <td>Anthropology</td>\n",
       "      <td>25</td>\n",
       "      <td>\\n100.0 %\\n</td>\n",
       "      <td>4.24</td>\n",
       "      <td>\\nA- (3.91)\\n</td>\n",
       "      <td>True</td>\n",
       "      <td>False</td>\n",
       "    </tr>\n",
       "    <tr>\n",
       "      <th>3</th>\n",
       "      <td>Non, Amy L</td>\n",
       "      <td>Anthropology</td>\n",
       "      <td>30</td>\n",
       "      <td>\\n93.3 %\\n</td>\n",
       "      <td>5.50</td>\n",
       "      <td>\\nB (3.13)\\n</td>\n",
       "      <td>True</td>\n",
       "      <td>False</td>\n",
       "    </tr>\n",
       "    <tr>\n",
       "      <th>4</th>\n",
       "      <td>Non, Amy L</td>\n",
       "      <td>Anthropology</td>\n",
       "      <td>11</td>\n",
       "      <td>\\n85.7 %\\n</td>\n",
       "      <td>4.50</td>\n",
       "      <td>\\nB (3.14)\\n</td>\n",
       "      <td>True</td>\n",
       "      <td>False</td>\n",
       "    </tr>\n",
       "    <tr>\n",
       "      <th>...</th>\n",
       "      <td>...</td>\n",
       "      <td>...</td>\n",
       "      <td>...</td>\n",
       "      <td>...</td>\n",
       "      <td>...</td>\n",
       "      <td>...</td>\n",
       "      <td>...</td>\n",
       "      <td>...</td>\n",
       "    </tr>\n",
       "    <tr>\n",
       "      <th>4112</th>\n",
       "      <td>Pafunda, Danielle</td>\n",
       "      <td>Literature</td>\n",
       "      <td>18</td>\n",
       "      <td>100.0 %</td>\n",
       "      <td>4.50</td>\n",
       "      <td>A (4.00)</td>\n",
       "      <td>True</td>\n",
       "      <td>False</td>\n",
       "    </tr>\n",
       "    <tr>\n",
       "      <th>4113</th>\n",
       "      <td>Hoang, Lily Kim</td>\n",
       "      <td>Literature</td>\n",
       "      <td>12</td>\n",
       "      <td>100.0 %</td>\n",
       "      <td>7.00</td>\n",
       "      <td>A- (3.75)</td>\n",
       "      <td>True</td>\n",
       "      <td>False</td>\n",
       "    </tr>\n",
       "    <tr>\n",
       "      <th>4114</th>\n",
       "      <td>Hoang, Lily Kim</td>\n",
       "      <td>Literature</td>\n",
       "      <td>34</td>\n",
       "      <td>85.7 %</td>\n",
       "      <td>2.50</td>\n",
       "      <td>A- (3.86)</td>\n",
       "      <td>True</td>\n",
       "      <td>False</td>\n",
       "    </tr>\n",
       "    <tr>\n",
       "      <th>4115</th>\n",
       "      <td>Doller, Ben</td>\n",
       "      <td>Literature</td>\n",
       "      <td>99</td>\n",
       "      <td>91.7 %</td>\n",
       "      <td>2.83</td>\n",
       "      <td>A- (3.87)</td>\n",
       "      <td>False</td>\n",
       "      <td>False</td>\n",
       "    </tr>\n",
       "    <tr>\n",
       "      <th>4116</th>\n",
       "      <td>Forbes, Camille</td>\n",
       "      <td>Literature</td>\n",
       "      <td>61</td>\n",
       "      <td>89.1 %</td>\n",
       "      <td>3.31</td>\n",
       "      <td>B+ (3.45)</td>\n",
       "      <td>False</td>\n",
       "      <td>False</td>\n",
       "    </tr>\n",
       "  </tbody>\n",
       "</table>\n",
       "<p>4117 rows × 8 columns</p>\n",
       "</div>"
      ],
      "text/plain": [
       "                     Instructor    Department  Enroll  Rcmnd Instr  \\\n",
       "0               Ben-Yosef, Erez  Anthropology      19  \\n100.0 %\\n   \n",
       "1       D'Alpoim Guedes, Jade A  Anthropology      39  \\n100.0 %\\n   \n",
       "2     Marchetto, Maria Carolina  Anthropology      25  \\n100.0 %\\n   \n",
       "3                    Non, Amy L  Anthropology      30   \\n93.3 %\\n   \n",
       "4                    Non, Amy L  Anthropology      11   \\n85.7 %\\n   \n",
       "...                         ...           ...     ...          ...   \n",
       "4112          Pafunda, Danielle    Literature      18      100.0 %   \n",
       "4113            Hoang, Lily Kim    Literature      12      100.0 %   \n",
       "4114            Hoang, Lily Kim    Literature      34       85.7 %   \n",
       "4115                Doller, Ben    Literature      99       91.7 %   \n",
       "4116            Forbes, Camille    Literature      61       89.1 %   \n",
       "\n",
       "      Study Hrs/Week Average Grade Expected  Upper Div   Stem  \n",
       "0               4.14          \\nB+ (3.64)\\n       True  False  \n",
       "1               5.91          \\nA- (3.75)\\n       True  False  \n",
       "2               4.24          \\nA- (3.91)\\n       True  False  \n",
       "3               5.50           \\nB (3.13)\\n       True  False  \n",
       "4               4.50           \\nB (3.14)\\n       True  False  \n",
       "...              ...                    ...        ...    ...  \n",
       "4112            4.50               A (4.00)       True  False  \n",
       "4113            7.00              A- (3.75)       True  False  \n",
       "4114            2.50              A- (3.86)       True  False  \n",
       "4115            2.83              A- (3.87)      False  False  \n",
       "4116            3.31              B+ (3.45)      False  False  \n",
       "\n",
       "[4117 rows x 8 columns]"
      ]
     },
     "execution_count": 9,
     "metadata": {},
     "output_type": "execute_result"
    }
   ],
   "source": [
    "# Renaming the columns before adding a new one\n",
    "copy.columns = ['Instructor', 'Department', 'Enroll', 'Rcmnd Instr', 'Study Hrs/Week', 'Average Grade Expected', 'Upper Div']\n",
    "\n",
    "## Applying the function to standardize the department\n",
    "copy['Stem'] = copy['Department'].apply(standardize_stem)\n",
    "copy['Department'] = copy['Department'].apply(standardize_department)\n",
    "\n",
    "copy"
   ]
  },
  {
   "cell_type": "markdown",
   "metadata": {},
   "source": [
    "### Dropping Null Values\n",
    "\n",
    "In the initial data set there were many empty values in the column of Average grade expected. However, there were also entries in this column that were N/A or nan. Therefore, we must standardize these null and empty values to be np.nan first, so that we can make use of the function .isnull() to drop all the corresponding rows. However, if we drop one course of an instructor, we must also drop all the rows that correspond to that instructor as well. This is because our income dataset only show the salary that a professor made in a year. Therefore, if we drop one row of an instructor, the data will no longer be accurate for how many classes that instructor taught in a year or for their average grade that year."
   ]
  },
  {
   "cell_type": "code",
   "execution_count": 10,
   "metadata": {},
   "outputs": [],
   "source": [
    "def standardize_grade(string):\n",
    "    string = str(string)\n",
    "    string = string.strip()\n",
    "    \n",
    "    if 'nan' in string:\n",
    "        return np.nan\n",
    "    if 'N/A' in string:\n",
    "        return np.nan\n",
    "    if '' == string:\n",
    "        return np.nan\n",
    "        \n",
    "    return string"
   ]
  },
  {
   "cell_type": "code",
   "execution_count": 11,
   "metadata": {},
   "outputs": [
    {
     "data": {
      "text/html": [
       "<div>\n",
       "<style scoped>\n",
       "    .dataframe tbody tr th:only-of-type {\n",
       "        vertical-align: middle;\n",
       "    }\n",
       "\n",
       "    .dataframe tbody tr th {\n",
       "        vertical-align: top;\n",
       "    }\n",
       "\n",
       "    .dataframe thead th {\n",
       "        text-align: right;\n",
       "    }\n",
       "</style>\n",
       "<table border=\"1\" class=\"dataframe\">\n",
       "  <thead>\n",
       "    <tr style=\"text-align: right;\">\n",
       "      <th></th>\n",
       "      <th>Instructor</th>\n",
       "      <th>Department</th>\n",
       "      <th>Enroll</th>\n",
       "      <th>Rcmnd Instr</th>\n",
       "      <th>Study Hrs/Week</th>\n",
       "      <th>Average Grade Expected</th>\n",
       "      <th>Upper Div</th>\n",
       "      <th>Stem</th>\n",
       "    </tr>\n",
       "  </thead>\n",
       "  <tbody>\n",
       "    <tr>\n",
       "      <th>78</th>\n",
       "      <td>Jordan, David K.</td>\n",
       "      <td>Anthropology</td>\n",
       "      <td>14</td>\n",
       "      <td>\\n88.9 %\\n</td>\n",
       "      <td>1.30</td>\n",
       "      <td>NaN</td>\n",
       "      <td>False</td>\n",
       "      <td>False</td>\n",
       "    </tr>\n",
       "    <tr>\n",
       "      <th>79</th>\n",
       "      <td>Jordan, David K.</td>\n",
       "      <td>Anthropology</td>\n",
       "      <td>13</td>\n",
       "      <td>\\n100.0 %\\n</td>\n",
       "      <td>1.17</td>\n",
       "      <td>NaN</td>\n",
       "      <td>False</td>\n",
       "      <td>False</td>\n",
       "    </tr>\n",
       "    <tr>\n",
       "      <th>121</th>\n",
       "      <td>Omens, Jeffrey Howard</td>\n",
       "      <td>Bioengineering</td>\n",
       "      <td>13</td>\n",
       "      <td>\\n100.0 %\\n</td>\n",
       "      <td>1.25</td>\n",
       "      <td>NaN</td>\n",
       "      <td>False</td>\n",
       "      <td>True</td>\n",
       "    </tr>\n",
       "    <tr>\n",
       "      <th>142</th>\n",
       "      <td>Gough, David A.</td>\n",
       "      <td>Bioengineering</td>\n",
       "      <td>9</td>\n",
       "      <td>\\n100.0 %\\n</td>\n",
       "      <td>0.90</td>\n",
       "      <td>NaN</td>\n",
       "      <td>False</td>\n",
       "      <td>True</td>\n",
       "    </tr>\n",
       "    <tr>\n",
       "      <th>143</th>\n",
       "      <td>Engler, Adam J.</td>\n",
       "      <td>Bioengineering</td>\n",
       "      <td>14</td>\n",
       "      <td>\\n100.0 %\\n</td>\n",
       "      <td>0.50</td>\n",
       "      <td>NaN</td>\n",
       "      <td>False</td>\n",
       "      <td>True</td>\n",
       "    </tr>\n",
       "    <tr>\n",
       "      <th>...</th>\n",
       "      <td>...</td>\n",
       "      <td>...</td>\n",
       "      <td>...</td>\n",
       "      <td>...</td>\n",
       "      <td>...</td>\n",
       "      <td>...</td>\n",
       "      <td>...</td>\n",
       "      <td>...</td>\n",
       "    </tr>\n",
       "    <tr>\n",
       "      <th>3902</th>\n",
       "      <td>Radic, Zoran</td>\n",
       "      <td>Warren College</td>\n",
       "      <td>9</td>\n",
       "      <td>\\n100.0 %\\n</td>\n",
       "      <td>0.90</td>\n",
       "      <td>NaN</td>\n",
       "      <td>False</td>\n",
       "      <td>False</td>\n",
       "    </tr>\n",
       "    <tr>\n",
       "      <th>4007</th>\n",
       "      <td>Nguyen, Hoang Tan</td>\n",
       "      <td>Literature</td>\n",
       "      <td>9</td>\n",
       "      <td>100.0 %</td>\n",
       "      <td>1.50</td>\n",
       "      <td>NaN</td>\n",
       "      <td>False</td>\n",
       "      <td>False</td>\n",
       "    </tr>\n",
       "    <tr>\n",
       "      <th>4047</th>\n",
       "      <td>Lampert-Weissig, Lisa</td>\n",
       "      <td>Literature</td>\n",
       "      <td>11</td>\n",
       "      <td>100.0 %</td>\n",
       "      <td>1.36</td>\n",
       "      <td>NaN</td>\n",
       "      <td>False</td>\n",
       "      <td>False</td>\n",
       "    </tr>\n",
       "    <tr>\n",
       "      <th>4059</th>\n",
       "      <td>Nguyen, Hoang Tan</td>\n",
       "      <td>Literature</td>\n",
       "      <td>19</td>\n",
       "      <td>94.4 %</td>\n",
       "      <td>0.97</td>\n",
       "      <td>NaN</td>\n",
       "      <td>False</td>\n",
       "      <td>False</td>\n",
       "    </tr>\n",
       "    <tr>\n",
       "      <th>4108</th>\n",
       "      <td>Lampert-Weissig, Lisa</td>\n",
       "      <td>Literature</td>\n",
       "      <td>16</td>\n",
       "      <td>100.0 %</td>\n",
       "      <td>0.86</td>\n",
       "      <td>NaN</td>\n",
       "      <td>False</td>\n",
       "      <td>False</td>\n",
       "    </tr>\n",
       "  </tbody>\n",
       "</table>\n",
       "<p>66 rows × 8 columns</p>\n",
       "</div>"
      ],
      "text/plain": [
       "                 Instructor      Department  Enroll  Rcmnd Instr  \\\n",
       "78         Jordan, David K.    Anthropology      14   \\n88.9 %\\n   \n",
       "79         Jordan, David K.    Anthropology      13  \\n100.0 %\\n   \n",
       "121   Omens, Jeffrey Howard  Bioengineering      13  \\n100.0 %\\n   \n",
       "142         Gough, David A.  Bioengineering       9  \\n100.0 %\\n   \n",
       "143         Engler, Adam J.  Bioengineering      14  \\n100.0 %\\n   \n",
       "...                     ...             ...     ...          ...   \n",
       "3902           Radic, Zoran  Warren College       9  \\n100.0 %\\n   \n",
       "4007      Nguyen, Hoang Tan      Literature       9      100.0 %   \n",
       "4047  Lampert-Weissig, Lisa      Literature      11      100.0 %   \n",
       "4059      Nguyen, Hoang Tan      Literature      19       94.4 %   \n",
       "4108  Lampert-Weissig, Lisa      Literature      16      100.0 %   \n",
       "\n",
       "      Study Hrs/Week Average Grade Expected  Upper Div   Stem  \n",
       "78              1.30                    NaN      False  False  \n",
       "79              1.17                    NaN      False  False  \n",
       "121             1.25                    NaN      False   True  \n",
       "142             0.90                    NaN      False   True  \n",
       "143             0.50                    NaN      False   True  \n",
       "...              ...                    ...        ...    ...  \n",
       "3902            0.90                    NaN      False  False  \n",
       "4007            1.50                    NaN      False  False  \n",
       "4047            1.36                    NaN      False  False  \n",
       "4059            0.97                    NaN      False  False  \n",
       "4108            0.86                    NaN      False  False  \n",
       "\n",
       "[66 rows x 8 columns]"
      ]
     },
     "execution_count": 11,
     "metadata": {},
     "output_type": "execute_result"
    }
   ],
   "source": [
    "## Applying the function to standardize null and empty entries for average grade\n",
    "copy['Average Grade Expected'] = copy['Average Grade Expected'].apply(standardize_grade)\n",
    "\n",
    "## Determines which rows should be dropped\n",
    "rows_to_drop = copy[copy.isnull().any(axis=1)]\n",
    "\n",
    "## Determines the instructor and all of its \n",
    "## corresponding rows that must be dropped from the data above\n",
    "\n",
    "arr = []\n",
    "for i in rows_to_drop.index:\n",
    "    arr.append(rows_to_drop.loc[i,'Instructor'])\n",
    "    \n",
    "rows_to_drop"
   ]
  },
  {
   "cell_type": "code",
   "execution_count": 12,
   "metadata": {},
   "outputs": [],
   "source": [
    "## Drops all the data pertaining to the instructors in the array above\n",
    "for i in arr:\n",
    "    copy = copy[copy['Instructor'] != i]\n",
    "    \n",
    "## Reordering the indices after dropping all the rows. \n",
    "copy.reset_index(drop=True, inplace=True)"
   ]
  },
  {
   "cell_type": "markdown",
   "metadata": {},
   "source": [
    "### Standardizing Letter Grades\n",
    "\n",
    "Since the average gpa of a course is a more accurate representation of grades than the average letter grade, we decided to keep only the gpa portion of the string. To do so we find the index of the '(' character which denotes the start of the gpa and the index of the ')' character which denotes the ending of the gpa. We return only the value in between these indices, which we type casted to be a float. This will allow for mathematical calculations later.  "
   ]
  },
  {
   "cell_type": "code",
   "execution_count": 13,
   "metadata": {},
   "outputs": [],
   "source": [
    "def standardize_letter(string):\n",
    "    string = str(string)\n",
    "    begin = string.find('(')\n",
    "    end = string.find(')')\n",
    "    string = string[begin + 1 : end]\n",
    " \n",
    "          \n",
    "    return float(string)"
   ]
  },
  {
   "cell_type": "code",
   "execution_count": 14,
   "metadata": {},
   "outputs": [],
   "source": [
    "## Applying the above function to the average grade column \n",
    "copy['Average Grade Expected'] = copy['Average Grade Expected'].apply(standardize_letter)"
   ]
  },
  {
   "cell_type": "markdown",
   "metadata": {},
   "source": [
    "### Standardize recommendation\n",
    "In the initial dataset, the recommendation of a professor is stored as a string even though it is a numerical value. In order to cast it into a float, which allows for easier calculations later, we declared a function to do so. We stripped all the extra white space and characters returned a casted float value. "
   ]
  },
  {
   "cell_type": "code",
   "execution_count": 15,
   "metadata": {},
   "outputs": [],
   "source": [
    "def standardize_recommendation(string):\n",
    "    string = str(string)\n",
    "    end = string.find('%')\n",
    "    string = string[: end]\n",
    " \n",
    "          \n",
    "    return float(string)"
   ]
  },
  {
   "cell_type": "code",
   "execution_count": 16,
   "metadata": {},
   "outputs": [],
   "source": [
    "## Applying the function above to the recommendation column.\n",
    "\n",
    "copy['Rcmnd Instr'] = copy['Rcmnd Instr'].apply(standardize_recommendation)"
   ]
  },
  {
   "cell_type": "markdown",
   "metadata": {},
   "source": [
    "### Combining Rows\n",
    "\n",
    "Each row of the initial dataset represented a specific course. However, we want each row to represent an instructor  with their average statistic for the year 2018. To do this, we first created seven dictionaries. For each dictionary the key was an instructor and the values were the statistics that corresponded to that instructor and department. To populate information into these dictionaries we parsed through every row of the dataset and added all the statistics to their corresponding dictionary. After parsing through all the rows, we parsed through all the instructors to calculate the average for that specific statistic in the dictionary. Note that we did not do this for enrollment dictionary as we did not want the average number a instructor taught but rather the total number of students they taught for 2018. After calculating each statistic for that instructor, we added a row to a new dataframe with the corresponding instructor and his or her statistics. "
   ]
  },
  {
   "cell_type": "code",
   "execution_count": 17,
   "metadata": {},
   "outputs": [],
   "source": [
    "## Populating the four dictionaries\n",
    "\n",
    "rcmndDict = {}\n",
    "gradeDict = {}\n",
    "enrollDict = {}\n",
    "departDict = {}\n",
    "stemDict = {}\n",
    "upperDict = {}\n",
    "studyDict = {}\n",
    "for i in copy.index:\n",
    "    instrStr = copy.loc[i, 'Instructor']\n",
    "    rccmd = copy.loc[i, 'Rcmnd Instr']\n",
    "    grade = copy.loc[i, 'Average Grade Expected']\n",
    "    depart = copy.loc[i, 'Department']\n",
    "    enroll = copy.loc[i, 'Enroll']\n",
    "    stem = copy.loc[i, 'Stem']\n",
    "    upper = copy.loc[i, 'Upper Div']\n",
    "    study = copy.loc[i, 'Study Hrs/Week']\n",
    "    \n",
    "    if instrStr in rcmndDict:\n",
    "        arr = rcmndDict[instrStr]\n",
    "        arr.append(rccmd)\n",
    "        rcmndDict[instrStr] = arr\n",
    "        \n",
    "        arr = gradeDict[instrStr]\n",
    "        arr.append(grade)\n",
    "        gradeDict[instrStr] = arr\n",
    "        \n",
    "        enrollDict[instrStr] = enrollDict[instrStr] + enroll\n",
    "        \n",
    "        arr = studyDict[instrStr]\n",
    "        arr.append(study)\n",
    "        studyDict[instrStr] = arr\n",
    "        \n",
    "        arr = departDict[instrStr]\n",
    "        if depart not in arr:\n",
    "            arr.append(depart)\n",
    "            \n",
    "        if upper == False:\n",
    "            upperDict[instrStr] = upper\n",
    "            \n",
    "        if stem == True:\n",
    "            stemDict[instrStr] = stem\n",
    "\n",
    "    else:\n",
    "        rcmndDict[instrStr] = [rccmd]\n",
    "        gradeDict[instrStr] = [grade]\n",
    "        departDict[instrStr] = [depart]\n",
    "        enrollDict[instrStr] = enroll\n",
    "        studyDict[instrStr] = [study]\n",
    "        stemDict[instrStr] = stem\n",
    "        upperDict[instrStr] = upper"
   ]
  },
  {
   "cell_type": "code",
   "execution_count": 18,
   "metadata": {},
   "outputs": [],
   "source": [
    "## Creating a new dataframe where every row correlates to an instructor.\n",
    "data = {'Instructor': [], 'Department' : [], 'Stem' : [], 'Upper Div' : [], 'Rcmnd Instr' : [], 'Average Grade Expected' : [], 'Classes Taught' : [], 'Enrolled' : [], 'Study Hrs/Week' : [] }\n",
    "df = pd.DataFrame(data=data)"
   ]
  },
  {
   "cell_type": "code",
   "execution_count": 19,
   "metadata": {},
   "outputs": [],
   "source": [
    "## Calculating the average statistics for a professor and adding it to the new dataframe\n",
    "\n",
    "for instrStr in rcmndDict:\n",
    "    rcmndArr = rcmndDict[instrStr]\n",
    "    gradeArr = gradeDict[instrStr]\n",
    "    studyArr = studyDict[instrStr]\n",
    "    rcmndAvg = 0\n",
    "    gradeAvg = 0\n",
    "    studyAvg = 0\n",
    "    count = len(gradeArr)\n",
    "    for i in range (0,count):\n",
    "        rcmndAvg += rcmndArr[i]\n",
    "        gradeAvg += gradeArr[i]\n",
    "        studyAvg += studyArr[i]\n",
    "        \n",
    "        \n",
    "    rcmndAvg /= count\n",
    "    studyAvg /= count\n",
    "    gradeAvg /= count\n",
    "\n",
    "    depart = departDict[instrStr][0]\n",
    "    if( len(departDict[instrStr]) == 1):\n",
    "        df = df.append({'Instructor' : instrStr, 'Department' : depart, 'Stem' : bool(stemDict[instrStr]), 'Upper Div' : upperDict[instrStr], 'Rcmnd Instr' : rcmndAvg, 'Average Grade Expected' : gradeAvg, 'Classes Taught': count, 'Enrolled' : enrollDict[instrStr], \"Study Hrs/Week\" : studyAvg }, ignore_index=True)"
   ]
  },
  {
   "cell_type": "code",
   "execution_count": 20,
   "metadata": {},
   "outputs": [
    {
     "data": {
      "text/html": [
       "<div>\n",
       "<style scoped>\n",
       "    .dataframe tbody tr th:only-of-type {\n",
       "        vertical-align: middle;\n",
       "    }\n",
       "\n",
       "    .dataframe tbody tr th {\n",
       "        vertical-align: top;\n",
       "    }\n",
       "\n",
       "    .dataframe thead th {\n",
       "        text-align: right;\n",
       "    }\n",
       "</style>\n",
       "<table border=\"1\" class=\"dataframe\">\n",
       "  <thead>\n",
       "    <tr style=\"text-align: right;\">\n",
       "      <th></th>\n",
       "      <th>Instructor</th>\n",
       "      <th>Department</th>\n",
       "      <th>Stem</th>\n",
       "      <th>Upper Div</th>\n",
       "      <th>Rcmnd Instr</th>\n",
       "      <th>Average Grade Expected</th>\n",
       "      <th>Classes Taught</th>\n",
       "      <th>Enrolled</th>\n",
       "      <th>Study Hrs/Week</th>\n",
       "    </tr>\n",
       "  </thead>\n",
       "  <tbody>\n",
       "    <tr>\n",
       "      <th>0</th>\n",
       "      <td>Ben-Yosef, Erez</td>\n",
       "      <td>Anthropology</td>\n",
       "      <td>False</td>\n",
       "      <td>True</td>\n",
       "      <td>100.000000</td>\n",
       "      <td>3.6400</td>\n",
       "      <td>1.0</td>\n",
       "      <td>19.0</td>\n",
       "      <td>4.1400</td>\n",
       "    </tr>\n",
       "    <tr>\n",
       "      <th>1</th>\n",
       "      <td>D'Alpoim Guedes, Jade A</td>\n",
       "      <td>Anthropology</td>\n",
       "      <td>False</td>\n",
       "      <td>True</td>\n",
       "      <td>100.000000</td>\n",
       "      <td>3.7500</td>\n",
       "      <td>1.0</td>\n",
       "      <td>39.0</td>\n",
       "      <td>5.9100</td>\n",
       "    </tr>\n",
       "    <tr>\n",
       "      <th>2</th>\n",
       "      <td>Marchetto, Maria Carolina</td>\n",
       "      <td>Anthropology</td>\n",
       "      <td>False</td>\n",
       "      <td>True</td>\n",
       "      <td>100.000000</td>\n",
       "      <td>3.9100</td>\n",
       "      <td>1.0</td>\n",
       "      <td>25.0</td>\n",
       "      <td>4.2400</td>\n",
       "    </tr>\n",
       "    <tr>\n",
       "      <th>3</th>\n",
       "      <td>Non, Amy L</td>\n",
       "      <td>Anthropology</td>\n",
       "      <td>False</td>\n",
       "      <td>True</td>\n",
       "      <td>90.966667</td>\n",
       "      <td>3.2800</td>\n",
       "      <td>3.0</td>\n",
       "      <td>91.0</td>\n",
       "      <td>4.5000</td>\n",
       "    </tr>\n",
       "    <tr>\n",
       "      <th>4</th>\n",
       "      <td>Lew, Caroline Horton</td>\n",
       "      <td>Anthropology</td>\n",
       "      <td>False</td>\n",
       "      <td>True</td>\n",
       "      <td>88.100000</td>\n",
       "      <td>3.6850</td>\n",
       "      <td>2.0</td>\n",
       "      <td>72.0</td>\n",
       "      <td>3.7200</td>\n",
       "    </tr>\n",
       "    <tr>\n",
       "      <th>...</th>\n",
       "      <td>...</td>\n",
       "      <td>...</td>\n",
       "      <td>...</td>\n",
       "      <td>...</td>\n",
       "      <td>...</td>\n",
       "      <td>...</td>\n",
       "      <td>...</td>\n",
       "      <td>...</td>\n",
       "      <td>...</td>\n",
       "    </tr>\n",
       "    <tr>\n",
       "      <th>1381</th>\n",
       "      <td>Pafunda, Danielle</td>\n",
       "      <td>Literature</td>\n",
       "      <td>False</td>\n",
       "      <td>True</td>\n",
       "      <td>98.075000</td>\n",
       "      <td>3.8075</td>\n",
       "      <td>4.0</td>\n",
       "      <td>139.0</td>\n",
       "      <td>4.8525</td>\n",
       "    </tr>\n",
       "    <tr>\n",
       "      <th>1382</th>\n",
       "      <td>Johnson, Sara E.</td>\n",
       "      <td>Literature</td>\n",
       "      <td>False</td>\n",
       "      <td>False</td>\n",
       "      <td>97.200000</td>\n",
       "      <td>3.6900</td>\n",
       "      <td>1.0</td>\n",
       "      <td>45.0</td>\n",
       "      <td>4.0700</td>\n",
       "    </tr>\n",
       "    <tr>\n",
       "      <th>1383</th>\n",
       "      <td>Morse, Ainsley</td>\n",
       "      <td>Literature</td>\n",
       "      <td>False</td>\n",
       "      <td>True</td>\n",
       "      <td>100.000000</td>\n",
       "      <td>3.7000</td>\n",
       "      <td>2.0</td>\n",
       "      <td>30.0</td>\n",
       "      <td>7.2350</td>\n",
       "    </tr>\n",
       "    <tr>\n",
       "      <th>1384</th>\n",
       "      <td>Kokotovic, Milos</td>\n",
       "      <td>Literature</td>\n",
       "      <td>False</td>\n",
       "      <td>True</td>\n",
       "      <td>100.000000</td>\n",
       "      <td>3.7550</td>\n",
       "      <td>2.0</td>\n",
       "      <td>43.0</td>\n",
       "      <td>6.5000</td>\n",
       "    </tr>\n",
       "    <tr>\n",
       "      <th>1385</th>\n",
       "      <td>Doller, Ben</td>\n",
       "      <td>Literature</td>\n",
       "      <td>False</td>\n",
       "      <td>False</td>\n",
       "      <td>91.700000</td>\n",
       "      <td>3.8700</td>\n",
       "      <td>1.0</td>\n",
       "      <td>99.0</td>\n",
       "      <td>2.8300</td>\n",
       "    </tr>\n",
       "  </tbody>\n",
       "</table>\n",
       "<p>1386 rows × 9 columns</p>\n",
       "</div>"
      ],
      "text/plain": [
       "                     Instructor    Department   Stem  Upper Div  Rcmnd Instr  \\\n",
       "0               Ben-Yosef, Erez  Anthropology  False       True   100.000000   \n",
       "1       D'Alpoim Guedes, Jade A  Anthropology  False       True   100.000000   \n",
       "2     Marchetto, Maria Carolina  Anthropology  False       True   100.000000   \n",
       "3                    Non, Amy L  Anthropology  False       True    90.966667   \n",
       "4          Lew, Caroline Horton  Anthropology  False       True    88.100000   \n",
       "...                         ...           ...    ...        ...          ...   \n",
       "1381          Pafunda, Danielle    Literature  False       True    98.075000   \n",
       "1382           Johnson, Sara E.    Literature  False      False    97.200000   \n",
       "1383             Morse, Ainsley    Literature  False       True   100.000000   \n",
       "1384           Kokotovic, Milos    Literature  False       True   100.000000   \n",
       "1385                Doller, Ben    Literature  False      False    91.700000   \n",
       "\n",
       "      Average Grade Expected  Classes Taught  Enrolled  Study Hrs/Week  \n",
       "0                     3.6400             1.0      19.0          4.1400  \n",
       "1                     3.7500             1.0      39.0          5.9100  \n",
       "2                     3.9100             1.0      25.0          4.2400  \n",
       "3                     3.2800             3.0      91.0          4.5000  \n",
       "4                     3.6850             2.0      72.0          3.7200  \n",
       "...                      ...             ...       ...             ...  \n",
       "1381                  3.8075             4.0     139.0          4.8525  \n",
       "1382                  3.6900             1.0      45.0          4.0700  \n",
       "1383                  3.7000             2.0      30.0          7.2350  \n",
       "1384                  3.7550             2.0      43.0          6.5000  \n",
       "1385                  3.8700             1.0      99.0          2.8300  \n",
       "\n",
       "[1386 rows x 9 columns]"
      ]
     },
     "execution_count": 20,
     "metadata": {},
     "output_type": "execute_result"
    }
   ],
   "source": [
    "df = df.astype({\"Stem\": bool, \"Upper Div\" : bool})\n",
    "df"
   ]
  },
  {
   "cell_type": "code",
   "execution_count": 21,
   "metadata": {},
   "outputs": [],
   "source": [
    "## Exporting the cleaned dataset\n",
    "\n",
    "df.to_csv('CapesCleaned.csv')"
   ]
  },
  {
   "cell_type": "markdown",
   "metadata": {},
   "source": [
    "We have finished cleaning the data for the capes dataset and will now move onto to cleaning the dataset for the employee pay."
   ]
  },
  {
   "cell_type": "markdown",
   "metadata": {},
   "source": [
    "### Cleanup Income Dataset\n",
    "Remove entries with non-relevant titles and standardizes title and regular pay elements."
   ]
  },
  {
   "cell_type": "code",
   "execution_count": 22,
   "metadata": {},
   "outputs": [
    {
     "data": {
      "text/plain": [
       "(3895, 6)"
      ]
     },
     "execution_count": 22,
     "metadata": {},
     "output_type": "execute_result"
    }
   ],
   "source": [
    "# read income.csv file\n",
    "df_income = pd.read_csv('income_data/income.csv')\n",
    "df_income.shape"
   ]
  },
  {
   "cell_type": "code",
   "execution_count": 23,
   "metadata": {},
   "outputs": [
    {
     "data": {
      "text/html": [
       "<div>\n",
       "<style scoped>\n",
       "    .dataframe tbody tr th:only-of-type {\n",
       "        vertical-align: middle;\n",
       "    }\n",
       "\n",
       "    .dataframe tbody tr th {\n",
       "        vertical-align: top;\n",
       "    }\n",
       "\n",
       "    .dataframe thead th {\n",
       "        text-align: right;\n",
       "    }\n",
       "</style>\n",
       "<table border=\"1\" class=\"dataframe\">\n",
       "  <thead>\n",
       "    <tr style=\"text-align: right;\">\n",
       "      <th></th>\n",
       "      <th>Last Name</th>\n",
       "      <th>Year</th>\n",
       "      <th>Location</th>\n",
       "      <th>First Name</th>\n",
       "      <th>Title</th>\n",
       "      <th>Regular Pay</th>\n",
       "    </tr>\n",
       "  </thead>\n",
       "  <tbody>\n",
       "    <tr>\n",
       "      <th>0</th>\n",
       "      <td>ABI SAMRA</td>\n",
       "      <td>2018</td>\n",
       "      <td>San Diego</td>\n",
       "      <td>NICHOLAS CAMILL</td>\n",
       "      <td>LECT-AY</td>\n",
       "      <td>40,050.00</td>\n",
       "    </tr>\n",
       "    <tr>\n",
       "      <th>1</th>\n",
       "      <td>ACCOMANDO</td>\n",
       "      <td>2018</td>\n",
       "      <td>San Diego</td>\n",
       "      <td>ALYSSA WHEELER</td>\n",
       "      <td>LECT-AY-1/9</td>\n",
       "      <td>8,900.00</td>\n",
       "    </tr>\n",
       "    <tr>\n",
       "      <th>2</th>\n",
       "      <td>ADAMS</td>\n",
       "      <td>2018</td>\n",
       "      <td>San Diego</td>\n",
       "      <td>DAVE KENNETH</td>\n",
       "      <td>LECT IN SUMMER SESSION</td>\n",
       "      <td>0.00</td>\n",
       "    </tr>\n",
       "    <tr>\n",
       "      <th>3</th>\n",
       "      <td>AGUILA</td>\n",
       "      <td>2018</td>\n",
       "      <td>San Diego</td>\n",
       "      <td>CHRISTINA O</td>\n",
       "      <td>LECT-AY-1/9</td>\n",
       "      <td>5,874.00</td>\n",
       "    </tr>\n",
       "    <tr>\n",
       "      <th>4</th>\n",
       "      <td>AJA</td>\n",
       "      <td>2018</td>\n",
       "      <td>San Diego</td>\n",
       "      <td>ANTHONY K.</td>\n",
       "      <td>ELECTR TCHN</td>\n",
       "      <td>46,059.00</td>\n",
       "    </tr>\n",
       "  </tbody>\n",
       "</table>\n",
       "</div>"
      ],
      "text/plain": [
       "   Last Name  Year   Location       First Name                   Title  \\\n",
       "0  ABI SAMRA  2018  San Diego  NICHOLAS CAMILL                 LECT-AY   \n",
       "1  ACCOMANDO  2018  San Diego   ALYSSA WHEELER             LECT-AY-1/9   \n",
       "2      ADAMS  2018  San Diego     DAVE KENNETH  LECT IN SUMMER SESSION   \n",
       "3     AGUILA  2018  San Diego      CHRISTINA O             LECT-AY-1/9   \n",
       "4        AJA  2018  San Diego       ANTHONY K.             ELECTR TCHN   \n",
       "\n",
       "  Regular Pay  \n",
       "0   40,050.00  \n",
       "1    8,900.00  \n",
       "2        0.00  \n",
       "3    5,874.00  \n",
       "4   46,059.00  "
      ]
     },
     "execution_count": 23,
     "metadata": {},
     "output_type": "execute_result"
    }
   ],
   "source": [
    "df_income.head()"
   ]
  },
  {
   "cell_type": "code",
   "execution_count": 24,
   "metadata": {},
   "outputs": [],
   "source": [
    "# remove unnecessary columns\n",
    "df_income = df_income.drop(columns=['Year', 'Location'])"
   ]
  },
  {
   "cell_type": "markdown",
   "metadata": {},
   "source": [
    "### Standardize Job Titles\n",
    "When searching for the incomes of lecturers and professors, the use of the keywords LECT and PROF may have led to the inclusion of other jobs. As a result, we must remove them from the dataframe."
   ]
  },
  {
   "cell_type": "code",
   "execution_count": 25,
   "metadata": {},
   "outputs": [
    {
     "data": {
      "text/plain": [
       "array(['LECT-AY', 'LECT-AY-1/9', 'LECT IN SUMMER SESSION', 'ELECTR TCHN',\n",
       "       'LECT-AY-CONTINUING', 'SR LECT SOE-AY', 'LECT PSOE-AY',\n",
       "       'LECT SOE-AY', 'ELECTRN', 'LECT-MISCELLANEOUS/PART TIME',\n",
       "       'HIGH VOLT ELECTRN', 'ELECTRN LD', 'LECT-FY', 'ELECTR TCHN SR',\n",
       "       'MED CTR ELECTR TCHN PRN', 'ELECTR TCHN PRN',\n",
       "       'LECT-AY-1/9-CONTINUING', 'ELECTRN OPR 3',\n",
       "       'SR LECT-AY-1/9-CONTINUING', 'HIGH VOLT ELECTRN LD',\n",
       "       'ELECTRN APPR', 'VIS ASST PROF', 'PROF-HCOMP', 'PROF-AY',\n",
       "       'HS ASST CLIN PROF-HCOMP', 'PAT REL PROFL 3', 'PROF OF CLIN-HCOMP',\n",
       "       'ASSOC PROF-AY', 'HS CLIN PROF-HCOMP', 'PROF IN RES-HCOMP',\n",
       "       'HS ASST CLIN PROF-FY', 'ASSOC PROF IN RES-HCOMP',\n",
       "       'CLIN APPLICATIONS PROFL 3', 'HS ASSOC CLIN PROF-HCOMP', 'PROF-FY',\n",
       "       'ASST ADJ PROF-HCOMP', 'ASST PROF-AY', 'ASST PROF OF CLIN-HCOMP',\n",
       "       'ADJ PROF-HCOMP', 'TCHL PROJECT MGT PROFL 3', 'ADJ PROF-AY',\n",
       "       'ASST PROF-HCOMP', 'VIS PROF', 'ASSOC PROF-FY',\n",
       "       'ASSOC PROF OF CLIN-HCOMP', 'ASSOC PROF-HCOMP',\n",
       "       'ASSOC ADJ PROF-HCOMP', 'HEALTH PROFNS EDUC SPEC 2',\n",
       "       'PROF-AY-B/E/E', 'ASST ADJ PROF-AY-B/E/E', 'PAT REL PROFL 2',\n",
       "       'ATH PROFL 2', 'BUS DEV HC PROFL 4', 'ASST PROF-AY-B/E/E',\n",
       "       'ASST ADJ PROF-FY', 'HEALTH PROFNS EDUC SUPV 1',\n",
       "       'ASSOC PROF-AY-B/E/E', 'HEALTH PROFNS EDUC SPEC 3',\n",
       "       'TCHL PROJECT MGT PROFL 2', 'CLIN APPLICATIONS PROFL 4',\n",
       "       'VIS ASSOC PROF', 'ETHICS AND CMPLNC PROFL 3', 'ADJ PROF-FY',\n",
       "       'ASST PROF IN RES-HCOMP', 'LIBRARY PROFL 4',\n",
       "       'TCHL PROJECT MGT PROFL 4', 'TCHL PROJECT MGT PROFL 1',\n",
       "       'AUDIT PROFL 3', 'HS ASSOC CLIN PROF-FY',\n",
       "       'CMTY HEALTH OUTR PROFL 2', 'ETHICS AND CMPLNC PROFL 5',\n",
       "       'BUS DEV HC PROFL 3', 'CLIN PROFL SVC MGR 4',\n",
       "       'HEALTH PROFNS EDUC MGR 2', 'AUDIT PROFL 4', 'ADJ PROF-AY-B/E/E',\n",
       "       'PRIVACY AND CMPLNC HC PROFL 3', 'CLIN APPLICATIONS PROFL 2',\n",
       "       'ASSOC ADJ PROF-FY', 'TCHL PROJECT MGT PROFL 5', 'HS CLIN PROF-FY',\n",
       "       'STRAT SOURCING PROFL 4', 'HEALTH PROFNS EDUC MGR 1',\n",
       "       'ATH PROFL 4', 'CLIN APPLICATIONS PROFL 1',\n",
       "       'ANATOMICAL SVC PROFL 4', 'PROF OF CLIN-FY', 'ATH PROFL 3',\n",
       "       'HEALTH PROFNS EDUC SPEC 5', 'VOLUNTEER SVC PROFL 4',\n",
       "       'AUDIT PROFL 5', 'BEH HEALTH PSYCHIATRIC PROFL 3',\n",
       "       'PRIVACY AND CMPLNC HC PROFL 2', 'ASSOC ADJ PROF-AY-B/E/E',\n",
       "       'PROF IN RES-AY', 'PRIVACY AND CMPLNC HC PROFL 5',\n",
       "       'PROF EMERITUS(WOS)', 'ETHICS AND CMPLNC PROFL 2',\n",
       "       'HEALTH PROFNS EDUC SPEC 4', 'PRODUCT DEV PROFL 2',\n",
       "       'PAT SFTY PROFL 4', 'PRIVACY AND CMPLNC HC PROFL 4',\n",
       "       'STRAT SOURCING PROFL 3', 'HEALTH PROFNS EDUC SUPV 2', 'UNIV PROF',\n",
       "       'ETHICS AND CMPLNC PROFL 4', 'ASST PROF-AY-1/9-B/E/E'],\n",
       "      dtype=object)"
      ]
     },
     "execution_count": 25,
     "metadata": {},
     "output_type": "execute_result"
    }
   ],
   "source": [
    "df_income['Title'].unique()"
   ]
  },
  {
   "cell_type": "code",
   "execution_count": 26,
   "metadata": {},
   "outputs": [],
   "source": [
    "# Remove non-relevant job titles and improve its readability\n",
    "def standardize_title(string):\n",
    "    \n",
    "    string = string.strip()\n",
    "    output = string\n",
    "    \n",
    "    if 'ELECTR' in output or 'MISCELLANEOUS' in output or 'PROFL' in output or 'PROFNS' in output:\n",
    "        return np.nan\n",
    "    elif 'SR LECT SOE-AY' == output:\n",
    "        return 'TEACHING PROFESSOR - ACADEMIC YEAR'\n",
    "    elif 'LECT PSOE-AY' == output:\n",
    "        return 'ASSISTANT TEACHING PROFESSOR - ACADEMIC YEAR'\n",
    "    elif 'LECT SOE-AY' == output:\n",
    "        return 'ASSOCIATE TEACHING PROFESSOR - ACADEMIC YEAR'\n",
    "    else:\n",
    "        if 'LECT' in output:\n",
    "            output = output.replace('LECT', 'LECTURER')\n",
    "        if 'PROF' in output:\n",
    "            output = output.replace('PROF', 'PROFESSOR')\n",
    "        if 'ADJ' in output:\n",
    "            output = output.replace('ADJ', 'ADJUNCT')\n",
    "        if 'ASST' in output:\n",
    "            output = output.replace('ASST', 'ASSISTANT')\n",
    "        if 'ASSOC' in output:\n",
    "            output = output.replace('ASSOC', 'ASSOCIATE')\n",
    "        if 'B/E/E' in output:\n",
    "            output = output.replace('B/E/E', 'BUSINESS/ECONOMICS/ENGINEERING')\n",
    "        if 'CLIN' in output:\n",
    "            output = output.replace('CLIN', 'CLINICAL')\n",
    "        if 'HCOMP' in output:\n",
    "            output = output.replace('HCOMP', 'HEALTH SCIENCES COMPENSATION')\n",
    "        if 'HS' in output:\n",
    "            output = output.replace('HS', 'HEALTH SCIENCES')\n",
    "        if 'RES' in output:\n",
    "            output = output.replace('RES', 'RESIDENCE')\n",
    "        if 'UNIV' in output:\n",
    "            output = output.replace('UNIV', 'UNIVERSITY')\n",
    "        if 'VIS' in output:\n",
    "            output = output.replace('VIS', 'VISITING')\n",
    "        if 'WOS' in output:\n",
    "            output = output.replace('WOS', 'WITHOUT SALARY')\n",
    "        if '1/9' in output:\n",
    "            output = output.replace('1/9', 'ONE OR TWO QUARTERS')\n",
    "        if 'SR' in output:\n",
    "            output = output.replace('SR', 'SENIOR')\n",
    "        if 'AY' in output:\n",
    "            output = output.replace('AY', 'ACADEMIC YEAR')\n",
    "        if 'FY' in output:\n",
    "            output = output.replace('FY', 'FISCAL YEAR')\n",
    "        if '-' in output:\n",
    "            output = output.replace('-', ' - ')\n",
    "    \n",
    "    return output"
   ]
  },
  {
   "cell_type": "code",
   "execution_count": 27,
   "metadata": {},
   "outputs": [],
   "source": [
    "df_income['Title'] = df_income['Title'].apply(standardize_title)\n",
    "df_income = df_income.dropna()"
   ]
  },
  {
   "cell_type": "code",
   "execution_count": 28,
   "metadata": {},
   "outputs": [
    {
     "data": {
      "text/plain": [
       "array(['LECTURER - ACADEMIC YEAR',\n",
       "       'LECTURER - ACADEMIC YEAR - ONE OR TWO QUARTERS',\n",
       "       'LECTURER IN SUMMER SESSION',\n",
       "       'LECTURER - ACADEMIC YEAR - CONTINUING',\n",
       "       'TEACHING PROFESSOR - ACADEMIC YEAR',\n",
       "       'ASSISTANT TEACHING PROFESSOR - ACADEMIC YEAR',\n",
       "       'ASSOCIATE TEACHING PROFESSOR - ACADEMIC YEAR',\n",
       "       'LECTURER - FISCAL YEAR',\n",
       "       'LECTURER - ACADEMIC YEAR - ONE OR TWO QUARTERS - CONTINUING',\n",
       "       'SENIOR LECTURER - ACADEMIC YEAR - ONE OR TWO QUARTERS - CONTINUING',\n",
       "       'VISITING ASSISTANT PROFESSOR',\n",
       "       'PROFESSOR - HEALTH SCIENCES COMPENSATION',\n",
       "       'PROFESSOR - ACADEMIC YEAR',\n",
       "       'HEALTH SCIENCES ASSISTANT CLINICAL PROFESSOR - HEALTH SCIENCES COMPENSATION',\n",
       "       'PROFESSOR OF CLINICAL - HEALTH SCIENCES COMPENSATION',\n",
       "       'ASSOCIATE PROFESSOR - ACADEMIC YEAR',\n",
       "       'HEALTH SCIENCES CLINICAL PROFESSOR - HEALTH SCIENCES COMPENSATION',\n",
       "       'PROFESSOR IN RESIDENCE - HEALTH SCIENCES COMPENSATION',\n",
       "       'HEALTH SCIENCES ASSISTANT CLINICAL PROFESSOR - FISCAL YEAR',\n",
       "       'ASSOCIATE PROFESSOR IN RESIDENCE - HEALTH SCIENCES COMPENSATION',\n",
       "       'HEALTH SCIENCES ASSOCIATE CLINICAL PROFESSOR - HEALTH SCIENCES COMPENSATION',\n",
       "       'PROFESSOR - FISCAL YEAR',\n",
       "       'ASSISTANT ADJUNCT PROFESSOR - HEALTH SCIENCES COMPENSATION',\n",
       "       'ASSISTANT PROFESSOR - ACADEMIC YEAR',\n",
       "       'ASSISTANT PROFESSOR OF CLINICAL - HEALTH SCIENCES COMPENSATION',\n",
       "       'ADJUNCT PROFESSOR - HEALTH SCIENCES COMPENSATION',\n",
       "       'ADJUNCT PROFESSOR - ACADEMIC YEAR',\n",
       "       'ASSISTANT PROFESSOR - HEALTH SCIENCES COMPENSATION',\n",
       "       'VISITING PROFESSOR', 'ASSOCIATE PROFESSOR - FISCAL YEAR',\n",
       "       'ASSOCIATE PROFESSOR OF CLINICAL - HEALTH SCIENCES COMPENSATION',\n",
       "       'ASSOCIATE PROFESSOR - HEALTH SCIENCES COMPENSATION',\n",
       "       'ASSOCIATE ADJUNCT PROFESSOR - HEALTH SCIENCES COMPENSATION',\n",
       "       'PROFESSOR - ACADEMIC YEAR - BUSINESS/ECONOMICS/ENGINEERING',\n",
       "       'ASSISTANT ADJUNCT PROFESSOR - ACADEMIC YEAR - BUSINESS/ECONOMICS/ENGINEERING',\n",
       "       'ASSISTANT PROFESSOR - ACADEMIC YEAR - BUSINESS/ECONOMICS/ENGINEERING',\n",
       "       'ASSISTANT ADJUNCT PROFESSOR - FISCAL YEAR',\n",
       "       'ASSOCIATE PROFESSOR - ACADEMIC YEAR - BUSINESS/ECONOMICS/ENGINEERING',\n",
       "       'VISITING ASSOCIATE PROFESSOR', 'ADJUNCT PROFESSOR - FISCAL YEAR',\n",
       "       'ASSISTANT PROFESSOR IN RESIDENCE - HEALTH SCIENCES COMPENSATION',\n",
       "       'HEALTH SCIENCES ASSOCIATE CLINICAL PROFESSOR - FISCAL YEAR',\n",
       "       'ADJUNCT PROFESSOR - ACADEMIC YEAR - BUSINESS/ECONOMICS/ENGINEERING',\n",
       "       'ASSOCIATE ADJUNCT PROFESSOR - FISCAL YEAR',\n",
       "       'HEALTH SCIENCES CLINICAL PROFESSOR - FISCAL YEAR',\n",
       "       'PROFESSOR OF CLINICAL - FISCAL YEAR',\n",
       "       'ASSOCIATE ADJUNCT PROFESSOR - ACADEMIC YEAR - BUSINESS/ECONOMICS/ENGINEERING',\n",
       "       'PROFESSOR IN RESIDENCE - ACADEMIC YEAR',\n",
       "       'PROFESSOR EMERITUS(WITHOUT SALARY)', 'UNIVERSITY PROFESSOR',\n",
       "       'ASSISTANT PROFESSOR - ACADEMIC YEAR - ONE OR TWO QUARTERS - BUSINESS/ECONOMICS/ENGINEERING'],\n",
       "      dtype=object)"
      ]
     },
     "execution_count": 28,
     "metadata": {},
     "output_type": "execute_result"
    }
   ],
   "source": [
    "df_income['Title'].unique()"
   ]
  },
  {
   "cell_type": "code",
   "execution_count": 29,
   "metadata": {},
   "outputs": [
    {
     "data": {
      "text/plain": [
       "(3390, 4)"
      ]
     },
     "execution_count": 29,
     "metadata": {},
     "output_type": "execute_result"
    }
   ],
   "source": [
    "df_income.shape"
   ]
  },
  {
   "cell_type": "code",
   "execution_count": 30,
   "metadata": {},
   "outputs": [
    {
     "data": {
      "text/html": [
       "<div>\n",
       "<style scoped>\n",
       "    .dataframe tbody tr th:only-of-type {\n",
       "        vertical-align: middle;\n",
       "    }\n",
       "\n",
       "    .dataframe tbody tr th {\n",
       "        vertical-align: top;\n",
       "    }\n",
       "\n",
       "    .dataframe thead th {\n",
       "        text-align: right;\n",
       "    }\n",
       "</style>\n",
       "<table border=\"1\" class=\"dataframe\">\n",
       "  <thead>\n",
       "    <tr style=\"text-align: right;\">\n",
       "      <th></th>\n",
       "      <th>Last Name</th>\n",
       "      <th>First Name</th>\n",
       "      <th>Title</th>\n",
       "      <th>Regular Pay</th>\n",
       "    </tr>\n",
       "  </thead>\n",
       "  <tbody>\n",
       "    <tr>\n",
       "      <th>0</th>\n",
       "      <td>ABI SAMRA</td>\n",
       "      <td>NICHOLAS CAMILL</td>\n",
       "      <td>LECTURER - ACADEMIC YEAR</td>\n",
       "      <td>40,050.00</td>\n",
       "    </tr>\n",
       "    <tr>\n",
       "      <th>1</th>\n",
       "      <td>ACCOMANDO</td>\n",
       "      <td>ALYSSA WHEELER</td>\n",
       "      <td>LECTURER - ACADEMIC YEAR - ONE OR TWO QUARTERS</td>\n",
       "      <td>8,900.00</td>\n",
       "    </tr>\n",
       "    <tr>\n",
       "      <th>2</th>\n",
       "      <td>ADAMS</td>\n",
       "      <td>DAVE KENNETH</td>\n",
       "      <td>LECTURER IN SUMMER SESSION</td>\n",
       "      <td>0.00</td>\n",
       "    </tr>\n",
       "    <tr>\n",
       "      <th>3</th>\n",
       "      <td>AGUILA</td>\n",
       "      <td>CHRISTINA O</td>\n",
       "      <td>LECTURER - ACADEMIC YEAR - ONE OR TWO QUARTERS</td>\n",
       "      <td>5,874.00</td>\n",
       "    </tr>\n",
       "    <tr>\n",
       "      <th>5</th>\n",
       "      <td>AJO</td>\n",
       "      <td>FRANCES BERGEN</td>\n",
       "      <td>LECTURER - ACADEMIC YEAR</td>\n",
       "      <td>53,959.00</td>\n",
       "    </tr>\n",
       "  </tbody>\n",
       "</table>\n",
       "</div>"
      ],
      "text/plain": [
       "   Last Name       First Name                                           Title  \\\n",
       "0  ABI SAMRA  NICHOLAS CAMILL                        LECTURER - ACADEMIC YEAR   \n",
       "1  ACCOMANDO   ALYSSA WHEELER  LECTURER - ACADEMIC YEAR - ONE OR TWO QUARTERS   \n",
       "2      ADAMS     DAVE KENNETH                      LECTURER IN SUMMER SESSION   \n",
       "3     AGUILA      CHRISTINA O  LECTURER - ACADEMIC YEAR - ONE OR TWO QUARTERS   \n",
       "5        AJO   FRANCES BERGEN                        LECTURER - ACADEMIC YEAR   \n",
       "\n",
       "  Regular Pay  \n",
       "0   40,050.00  \n",
       "1    8,900.00  \n",
       "2        0.00  \n",
       "3    5,874.00  \n",
       "5   53,959.00  "
      ]
     },
     "execution_count": 30,
     "metadata": {},
     "output_type": "execute_result"
    }
   ],
   "source": [
    "df_income.head()"
   ]
  },
  {
   "cell_type": "markdown",
   "metadata": {},
   "source": [
    "### Standardize Pay\n",
    "The values of pay are written in a different format from a float data type in python, therefore we must convert the elements in order to analyze its values."
   ]
  },
  {
   "cell_type": "code",
   "execution_count": 31,
   "metadata": {},
   "outputs": [],
   "source": [
    "# Remove commas and simplify values\n",
    "def standardize_pay(string):\n",
    "    \n",
    "    string = string.lower()\n",
    "    string = string.strip()\n",
    "\n",
    "    if ',' in string:\n",
    "        string = string.replace(',', '')\n",
    "    if '.00' in string:\n",
    "        string = string.replace('.00', '.0')\n",
    "    \n",
    "    return float(string)"
   ]
  },
  {
   "cell_type": "code",
   "execution_count": 32,
   "metadata": {},
   "outputs": [
    {
     "data": {
      "text/plain": [
       "count      3390.000000\n",
       "mean     119230.420649\n",
       "std       77361.566286\n",
       "min           0.000000\n",
       "25%       68087.750000\n",
       "50%      114072.500000\n",
       "75%      159077.750000\n",
       "max      640090.000000\n",
       "Name: Regular Pay, dtype: float64"
      ]
     },
     "execution_count": 32,
     "metadata": {},
     "output_type": "execute_result"
    }
   ],
   "source": [
    "df_income['Regular Pay'] = df_income['Regular Pay'].apply(standardize_pay)\n",
    "df_income['Regular Pay'].describe()"
   ]
  },
  {
   "cell_type": "code",
   "execution_count": 33,
   "metadata": {},
   "outputs": [],
   "source": [
    "# Remove rows with no pay\n",
    "df_income = df_income[df_income['Regular Pay'] != 0.0]"
   ]
  },
  {
   "cell_type": "code",
   "execution_count": 34,
   "metadata": {},
   "outputs": [
    {
     "data": {
      "text/html": [
       "<div>\n",
       "<style scoped>\n",
       "    .dataframe tbody tr th:only-of-type {\n",
       "        vertical-align: middle;\n",
       "    }\n",
       "\n",
       "    .dataframe tbody tr th {\n",
       "        vertical-align: top;\n",
       "    }\n",
       "\n",
       "    .dataframe thead th {\n",
       "        text-align: right;\n",
       "    }\n",
       "</style>\n",
       "<table border=\"1\" class=\"dataframe\">\n",
       "  <thead>\n",
       "    <tr style=\"text-align: right;\">\n",
       "      <th></th>\n",
       "      <th>Last Name</th>\n",
       "      <th>First Name</th>\n",
       "      <th>Title</th>\n",
       "      <th>Regular Pay</th>\n",
       "    </tr>\n",
       "  </thead>\n",
       "  <tbody>\n",
       "    <tr>\n",
       "      <th>0</th>\n",
       "      <td>ABI SAMRA</td>\n",
       "      <td>NICHOLAS CAMILL</td>\n",
       "      <td>LECTURER - ACADEMIC YEAR</td>\n",
       "      <td>40050.0</td>\n",
       "    </tr>\n",
       "    <tr>\n",
       "      <th>1</th>\n",
       "      <td>ACCOMANDO</td>\n",
       "      <td>ALYSSA WHEELER</td>\n",
       "      <td>LECTURER - ACADEMIC YEAR - ONE OR TWO QUARTERS</td>\n",
       "      <td>8900.0</td>\n",
       "    </tr>\n",
       "    <tr>\n",
       "      <th>3</th>\n",
       "      <td>AGUILA</td>\n",
       "      <td>CHRISTINA O</td>\n",
       "      <td>LECTURER - ACADEMIC YEAR - ONE OR TWO QUARTERS</td>\n",
       "      <td>5874.0</td>\n",
       "    </tr>\n",
       "    <tr>\n",
       "      <th>5</th>\n",
       "      <td>AJO</td>\n",
       "      <td>FRANCES BERGEN</td>\n",
       "      <td>LECTURER - ACADEMIC YEAR</td>\n",
       "      <td>53959.0</td>\n",
       "    </tr>\n",
       "    <tr>\n",
       "      <th>6</th>\n",
       "      <td>AKJEJE</td>\n",
       "      <td>ABDELHAK</td>\n",
       "      <td>LECTURER - ACADEMIC YEAR - CONTINUING</td>\n",
       "      <td>68012.0</td>\n",
       "    </tr>\n",
       "  </tbody>\n",
       "</table>\n",
       "</div>"
      ],
      "text/plain": [
       "   Last Name       First Name                                           Title  \\\n",
       "0  ABI SAMRA  NICHOLAS CAMILL                        LECTURER - ACADEMIC YEAR   \n",
       "1  ACCOMANDO   ALYSSA WHEELER  LECTURER - ACADEMIC YEAR - ONE OR TWO QUARTERS   \n",
       "3     AGUILA      CHRISTINA O  LECTURER - ACADEMIC YEAR - ONE OR TWO QUARTERS   \n",
       "5        AJO   FRANCES BERGEN                        LECTURER - ACADEMIC YEAR   \n",
       "6     AKJEJE         ABDELHAK           LECTURER - ACADEMIC YEAR - CONTINUING   \n",
       "\n",
       "   Regular Pay  \n",
       "0      40050.0  \n",
       "1       8900.0  \n",
       "3       5874.0  \n",
       "5      53959.0  \n",
       "6      68012.0  "
      ]
     },
     "execution_count": 34,
     "metadata": {},
     "output_type": "execute_result"
    }
   ],
   "source": [
    "df_income.head()"
   ]
  },
  {
   "cell_type": "markdown",
   "metadata": {},
   "source": [
    "### Export As New File"
   ]
  },
  {
   "cell_type": "code",
   "execution_count": 35,
   "metadata": {},
   "outputs": [],
   "source": [
    "df_income.to_csv('income_data/income_final.csv')"
   ]
  },
  {
   "cell_type": "markdown",
   "metadata": {},
   "source": [
    "### Combining the two data sets"
   ]
  },
  {
   "cell_type": "code",
   "execution_count": 36,
   "metadata": {},
   "outputs": [
    {
     "data": {
      "text/html": [
       "<div>\n",
       "<style scoped>\n",
       "    .dataframe tbody tr th:only-of-type {\n",
       "        vertical-align: middle;\n",
       "    }\n",
       "\n",
       "    .dataframe tbody tr th {\n",
       "        vertical-align: top;\n",
       "    }\n",
       "\n",
       "    .dataframe thead th {\n",
       "        text-align: right;\n",
       "    }\n",
       "</style>\n",
       "<table border=\"1\" class=\"dataframe\">\n",
       "  <thead>\n",
       "    <tr style=\"text-align: right;\">\n",
       "      <th></th>\n",
       "      <th>Last Name</th>\n",
       "      <th>First Name</th>\n",
       "      <th>Title</th>\n",
       "      <th>Regular Pay</th>\n",
       "    </tr>\n",
       "  </thead>\n",
       "  <tbody>\n",
       "    <tr>\n",
       "      <th>0</th>\n",
       "      <td>ABI SAMRA</td>\n",
       "      <td>NICHOLAS CAMILL</td>\n",
       "      <td>LECTURER - ACADEMIC YEAR</td>\n",
       "      <td>40050.0</td>\n",
       "    </tr>\n",
       "    <tr>\n",
       "      <th>1</th>\n",
       "      <td>ACCOMANDO</td>\n",
       "      <td>ALYSSA WHEELER</td>\n",
       "      <td>LECTURER - ACADEMIC YEAR - ONE OR TWO QUARTERS</td>\n",
       "      <td>8900.0</td>\n",
       "    </tr>\n",
       "    <tr>\n",
       "      <th>2</th>\n",
       "      <td>AGUILA</td>\n",
       "      <td>CHRISTINA O</td>\n",
       "      <td>LECTURER - ACADEMIC YEAR - ONE OR TWO QUARTERS</td>\n",
       "      <td>5874.0</td>\n",
       "    </tr>\n",
       "    <tr>\n",
       "      <th>3</th>\n",
       "      <td>AJO</td>\n",
       "      <td>FRANCES BERGEN</td>\n",
       "      <td>LECTURER - ACADEMIC YEAR</td>\n",
       "      <td>53959.0</td>\n",
       "    </tr>\n",
       "    <tr>\n",
       "      <th>4</th>\n",
       "      <td>AKJEJE</td>\n",
       "      <td>ABDELHAK</td>\n",
       "      <td>LECTURER - ACADEMIC YEAR - CONTINUING</td>\n",
       "      <td>68012.0</td>\n",
       "    </tr>\n",
       "    <tr>\n",
       "      <th>...</th>\n",
       "      <td>...</td>\n",
       "      <td>...</td>\n",
       "      <td>...</td>\n",
       "      <td>...</td>\n",
       "    </tr>\n",
       "    <tr>\n",
       "      <th>3311</th>\n",
       "      <td>ZLATOS</td>\n",
       "      <td>ANDREJ</td>\n",
       "      <td>PROFESSOR - ACADEMIC YEAR</td>\n",
       "      <td>142833.0</td>\n",
       "    </tr>\n",
       "    <tr>\n",
       "      <th>3312</th>\n",
       "      <td>ZLOMISLIC</td>\n",
       "      <td>VINKO</td>\n",
       "      <td>HEALTH SCIENCES ASSISTANT CLINICAL PROFESSOR -...</td>\n",
       "      <td>138950.0</td>\n",
       "    </tr>\n",
       "    <tr>\n",
       "      <th>3313</th>\n",
       "      <td>ZOU</td>\n",
       "      <td>YIMIN</td>\n",
       "      <td>PROFESSOR - ACADEMIC YEAR</td>\n",
       "      <td>160025.0</td>\n",
       "    </tr>\n",
       "    <tr>\n",
       "      <th>3314</th>\n",
       "      <td>ZUNIGA</td>\n",
       "      <td>ELINA I</td>\n",
       "      <td>PROFESSOR - ACADEMIC YEAR</td>\n",
       "      <td>125447.0</td>\n",
       "    </tr>\n",
       "    <tr>\n",
       "      <th>3315</th>\n",
       "      <td>ZURAW</td>\n",
       "      <td>BRUCE LEONARD</td>\n",
       "      <td>PROFESSOR - HEALTH SCIENCES COMPENSATION</td>\n",
       "      <td>168606.0</td>\n",
       "    </tr>\n",
       "  </tbody>\n",
       "</table>\n",
       "<p>3316 rows × 4 columns</p>\n",
       "</div>"
      ],
      "text/plain": [
       "      Last Name       First Name  \\\n",
       "0     ABI SAMRA  NICHOLAS CAMILL   \n",
       "1     ACCOMANDO   ALYSSA WHEELER   \n",
       "2        AGUILA      CHRISTINA O   \n",
       "3           AJO   FRANCES BERGEN   \n",
       "4        AKJEJE         ABDELHAK   \n",
       "...         ...              ...   \n",
       "3311     ZLATOS           ANDREJ   \n",
       "3312  ZLOMISLIC            VINKO   \n",
       "3313        ZOU            YIMIN   \n",
       "3314     ZUNIGA          ELINA I   \n",
       "3315      ZURAW    BRUCE LEONARD   \n",
       "\n",
       "                                                  Title  Regular Pay  \n",
       "0                              LECTURER - ACADEMIC YEAR      40050.0  \n",
       "1        LECTURER - ACADEMIC YEAR - ONE OR TWO QUARTERS       8900.0  \n",
       "2        LECTURER - ACADEMIC YEAR - ONE OR TWO QUARTERS       5874.0  \n",
       "3                              LECTURER - ACADEMIC YEAR      53959.0  \n",
       "4                 LECTURER - ACADEMIC YEAR - CONTINUING      68012.0  \n",
       "...                                                 ...          ...  \n",
       "3311                          PROFESSOR - ACADEMIC YEAR     142833.0  \n",
       "3312  HEALTH SCIENCES ASSISTANT CLINICAL PROFESSOR -...     138950.0  \n",
       "3313                          PROFESSOR - ACADEMIC YEAR     160025.0  \n",
       "3314                          PROFESSOR - ACADEMIC YEAR     125447.0  \n",
       "3315           PROFESSOR - HEALTH SCIENCES COMPENSATION     168606.0  \n",
       "\n",
       "[3316 rows x 4 columns]"
      ]
     },
     "execution_count": 36,
     "metadata": {},
     "output_type": "execute_result"
    }
   ],
   "source": [
    "# Loading data from datasets\n",
    "df_capes = pd.read_csv(\"CapesCleaned.csv\")\n",
    "df_income = pd.read_csv(\"income_data/income_final.csv\")\n",
    "df_income = df_income.set_index('Unnamed: 0')\n",
    "df_income = df_income.reset_index(drop=True)\n",
    "df_income"
   ]
  },
  {
   "cell_type": "code",
   "execution_count": 37,
   "metadata": {},
   "outputs": [],
   "source": [
    "# Standardizing the strings in order to combine \n",
    "def last_name(string):\n",
    "    end = string.find(',')\n",
    "    return string[0:end].upper()\n",
    "\n",
    "def first_name(string):\n",
    "    start = string.find(',')\n",
    "    name = string[start+2:].upper()\n",
    "    space = name.find(' ')\n",
    "    if (space != -1):\n",
    "        return name[:space+2]\n",
    "    return name\n",
    "\n",
    "def uppercase(string):\n",
    "    return string.upper()\n",
    "\n",
    "def first_name_income(string):\n",
    "    name = string.upper()\n",
    "    space = name.find(' ')\n",
    "    if (space != -1):\n",
    "        return name[:space+2]\n",
    "    return name"
   ]
  },
  {
   "cell_type": "code",
   "execution_count": 38,
   "metadata": {},
   "outputs": [],
   "source": [
    "# Standardizing Capes Set\n",
    "df_capes['Last Name'] = df_capes['Instructor'].apply(last_name)\n",
    "df_capes['First Name'] = df_capes['Instructor'].apply(first_name)\n",
    "df_capes['Instructor'] = df_capes['Last Name'] + ', ' + df_capes['First Name']\n",
    "\n",
    "# Standardizing Income Set\n",
    "df_income['First Name'] = df_income['First Name'].apply(first_name_income)\n",
    "df_income['Instructor'] = df_income['Last Name'] + ', ' + df_income['First Name']"
   ]
  },
  {
   "cell_type": "code",
   "execution_count": 39,
   "metadata": {},
   "outputs": [
    {
     "data": {
      "text/html": [
       "<div>\n",
       "<style scoped>\n",
       "    .dataframe tbody tr th:only-of-type {\n",
       "        vertical-align: middle;\n",
       "    }\n",
       "\n",
       "    .dataframe tbody tr th {\n",
       "        vertical-align: top;\n",
       "    }\n",
       "\n",
       "    .dataframe thead th {\n",
       "        text-align: right;\n",
       "    }\n",
       "</style>\n",
       "<table border=\"1\" class=\"dataframe\">\n",
       "  <thead>\n",
       "    <tr style=\"text-align: right;\">\n",
       "      <th></th>\n",
       "      <th>Title</th>\n",
       "      <th>Regular Pay</th>\n",
       "      <th>Department</th>\n",
       "      <th>Stem</th>\n",
       "      <th>Upper Div</th>\n",
       "      <th>Rcmnd Instr</th>\n",
       "      <th>Average Grade Expected</th>\n",
       "      <th>Classes Taught</th>\n",
       "      <th>Enrolled</th>\n",
       "      <th>Study Hrs/Week</th>\n",
       "    </tr>\n",
       "  </thead>\n",
       "  <tbody>\n",
       "    <tr>\n",
       "      <th>0</th>\n",
       "      <td>LECTURER - ACADEMIC YEAR</td>\n",
       "      <td>40050.0</td>\n",
       "      <td>Electrical &amp; Computer Eng.</td>\n",
       "      <td>True</td>\n",
       "      <td>True</td>\n",
       "      <td>95.120000</td>\n",
       "      <td>3.802000</td>\n",
       "      <td>5.0</td>\n",
       "      <td>196.0</td>\n",
       "      <td>5.790000</td>\n",
       "    </tr>\n",
       "    <tr>\n",
       "      <th>1</th>\n",
       "      <td>LECTURER - ACADEMIC YEAR - ONE OR TWO QUARTERS</td>\n",
       "      <td>8900.0</td>\n",
       "      <td>Psychology</td>\n",
       "      <td>True</td>\n",
       "      <td>True</td>\n",
       "      <td>97.000000</td>\n",
       "      <td>3.250000</td>\n",
       "      <td>1.0</td>\n",
       "      <td>52.0</td>\n",
       "      <td>3.970000</td>\n",
       "    </tr>\n",
       "    <tr>\n",
       "      <th>2</th>\n",
       "      <td>LECTURER - ACADEMIC YEAR - CONTINUING</td>\n",
       "      <td>52200.0</td>\n",
       "      <td>Chemistry</td>\n",
       "      <td>True</td>\n",
       "      <td>False</td>\n",
       "      <td>90.575000</td>\n",
       "      <td>3.115000</td>\n",
       "      <td>4.0</td>\n",
       "      <td>1356.0</td>\n",
       "      <td>6.805000</td>\n",
       "    </tr>\n",
       "    <tr>\n",
       "      <th>3</th>\n",
       "      <td>LECTURER - ACADEMIC YEAR - ONE OR TWO QUARTERS</td>\n",
       "      <td>20767.0</td>\n",
       "      <td>Mathematics</td>\n",
       "      <td>True</td>\n",
       "      <td>False</td>\n",
       "      <td>90.450000</td>\n",
       "      <td>3.350000</td>\n",
       "      <td>2.0</td>\n",
       "      <td>491.0</td>\n",
       "      <td>5.895000</td>\n",
       "    </tr>\n",
       "    <tr>\n",
       "      <th>4</th>\n",
       "      <td>LECTURER - ACADEMIC YEAR - CONTINUING</td>\n",
       "      <td>133608.0</td>\n",
       "      <td>Education Studies</td>\n",
       "      <td>False</td>\n",
       "      <td>True</td>\n",
       "      <td>97.900000</td>\n",
       "      <td>3.980000</td>\n",
       "      <td>1.0</td>\n",
       "      <td>55.0</td>\n",
       "      <td>4.960000</td>\n",
       "    </tr>\n",
       "    <tr>\n",
       "      <th>...</th>\n",
       "      <td>...</td>\n",
       "      <td>...</td>\n",
       "      <td>...</td>\n",
       "      <td>...</td>\n",
       "      <td>...</td>\n",
       "      <td>...</td>\n",
       "      <td>...</td>\n",
       "      <td>...</td>\n",
       "      <td>...</td>\n",
       "      <td>...</td>\n",
       "    </tr>\n",
       "    <tr>\n",
       "      <th>931</th>\n",
       "      <td>PROFESSOR - ACADEMIC YEAR - BUSINESS/ECONOMICS...</td>\n",
       "      <td>202692.0</td>\n",
       "      <td>Rady School of Management</td>\n",
       "      <td>False</td>\n",
       "      <td>True</td>\n",
       "      <td>82.200000</td>\n",
       "      <td>3.810000</td>\n",
       "      <td>1.0</td>\n",
       "      <td>52.0</td>\n",
       "      <td>3.790000</td>\n",
       "    </tr>\n",
       "    <tr>\n",
       "      <th>932</th>\n",
       "      <td>ASSISTANT PROFESSOR - ACADEMIC YEAR</td>\n",
       "      <td>96583.0</td>\n",
       "      <td>Chemistry</td>\n",
       "      <td>True</td>\n",
       "      <td>False</td>\n",
       "      <td>92.300000</td>\n",
       "      <td>3.125000</td>\n",
       "      <td>2.0</td>\n",
       "      <td>513.0</td>\n",
       "      <td>5.840000</td>\n",
       "    </tr>\n",
       "    <tr>\n",
       "      <th>933</th>\n",
       "      <td>VISITING ASSOCIATE PROFESSOR</td>\n",
       "      <td>142222.0</td>\n",
       "      <td>Rady School of Management</td>\n",
       "      <td>False</td>\n",
       "      <td>True</td>\n",
       "      <td>91.216667</td>\n",
       "      <td>3.546667</td>\n",
       "      <td>6.0</td>\n",
       "      <td>401.0</td>\n",
       "      <td>4.073333</td>\n",
       "    </tr>\n",
       "    <tr>\n",
       "      <th>934</th>\n",
       "      <td>PROFESSOR - ACADEMIC YEAR</td>\n",
       "      <td>142833.0</td>\n",
       "      <td>Mathematics</td>\n",
       "      <td>True</td>\n",
       "      <td>True</td>\n",
       "      <td>96.150000</td>\n",
       "      <td>3.210000</td>\n",
       "      <td>2.0</td>\n",
       "      <td>43.0</td>\n",
       "      <td>10.230000</td>\n",
       "    </tr>\n",
       "    <tr>\n",
       "      <th>935</th>\n",
       "      <td>PROFESSOR - ACADEMIC YEAR</td>\n",
       "      <td>125447.0</td>\n",
       "      <td>Biology</td>\n",
       "      <td>True</td>\n",
       "      <td>True</td>\n",
       "      <td>77.350000</td>\n",
       "      <td>3.480000</td>\n",
       "      <td>2.0</td>\n",
       "      <td>149.0</td>\n",
       "      <td>7.200000</td>\n",
       "    </tr>\n",
       "  </tbody>\n",
       "</table>\n",
       "<p>936 rows × 10 columns</p>\n",
       "</div>"
      ],
      "text/plain": [
       "                                                 Title  Regular Pay  \\\n",
       "0                             LECTURER - ACADEMIC YEAR      40050.0   \n",
       "1       LECTURER - ACADEMIC YEAR - ONE OR TWO QUARTERS       8900.0   \n",
       "2                LECTURER - ACADEMIC YEAR - CONTINUING      52200.0   \n",
       "3       LECTURER - ACADEMIC YEAR - ONE OR TWO QUARTERS      20767.0   \n",
       "4                LECTURER - ACADEMIC YEAR - CONTINUING     133608.0   \n",
       "..                                                 ...          ...   \n",
       "931  PROFESSOR - ACADEMIC YEAR - BUSINESS/ECONOMICS...     202692.0   \n",
       "932                ASSISTANT PROFESSOR - ACADEMIC YEAR      96583.0   \n",
       "933                       VISITING ASSOCIATE PROFESSOR     142222.0   \n",
       "934                          PROFESSOR - ACADEMIC YEAR     142833.0   \n",
       "935                          PROFESSOR - ACADEMIC YEAR     125447.0   \n",
       "\n",
       "                     Department   Stem  Upper Div  Rcmnd Instr  \\\n",
       "0    Electrical & Computer Eng.   True       True    95.120000   \n",
       "1                    Psychology   True       True    97.000000   \n",
       "2                     Chemistry   True      False    90.575000   \n",
       "3                   Mathematics   True      False    90.450000   \n",
       "4             Education Studies  False       True    97.900000   \n",
       "..                          ...    ...        ...          ...   \n",
       "931   Rady School of Management  False       True    82.200000   \n",
       "932                   Chemistry   True      False    92.300000   \n",
       "933   Rady School of Management  False       True    91.216667   \n",
       "934                 Mathematics   True       True    96.150000   \n",
       "935                     Biology   True       True    77.350000   \n",
       "\n",
       "     Average Grade Expected  Classes Taught  Enrolled  Study Hrs/Week  \n",
       "0                  3.802000             5.0     196.0        5.790000  \n",
       "1                  3.250000             1.0      52.0        3.970000  \n",
       "2                  3.115000             4.0    1356.0        6.805000  \n",
       "3                  3.350000             2.0     491.0        5.895000  \n",
       "4                  3.980000             1.0      55.0        4.960000  \n",
       "..                      ...             ...       ...             ...  \n",
       "931                3.810000             1.0      52.0        3.790000  \n",
       "932                3.125000             2.0     513.0        5.840000  \n",
       "933                3.546667             6.0     401.0        4.073333  \n",
       "934                3.210000             2.0      43.0       10.230000  \n",
       "935                3.480000             2.0     149.0        7.200000  \n",
       "\n",
       "[936 rows x 10 columns]"
      ]
     },
     "execution_count": 39,
     "metadata": {},
     "output_type": "execute_result"
    }
   ],
   "source": [
    "# Merge datasets and get rid of merge columns\n",
    "df = df_income.merge(df_capes, on=['Instructor'])\n",
    "df = df.drop(['Unnamed: 0', 'Last Name_x', 'First Name_x', 'Instructor', 'Last Name_y', 'First Name_y'], axis=1)\n",
    "df"
   ]
  },
  {
   "cell_type": "code",
   "execution_count": 40,
   "metadata": {},
   "outputs": [],
   "source": [
    "df.columns = ['Title', 'Regular_Pay', 'Department', 'Stem', 'Upper_Div', 'Recommend_Instr', 'Avg_Grade', 'Num_Classes', 'Num_Students', 'Study_Hours']\n"
   ]
  },
  {
   "cell_type": "code",
   "execution_count": 41,
   "metadata": {},
   "outputs": [],
   "source": [
    "def standardize_title(string):\n",
    "    string = str(string)\n",
    "    string.upper()\n",
    "    \n",
    "    if 'LECT' in string:\n",
    "        return \"LECTURER\"\n",
    "    else:\n",
    "        return \"PROFESSOR\"\n"
   ]
  },
  {
   "cell_type": "code",
   "execution_count": 42,
   "metadata": {},
   "outputs": [],
   "source": [
    "df['Title'] = df['Title'].apply(standardize_title)\n",
    "\n",
    "dfLect = df[df['Title'] == \"LECTURER\"]\n",
    "dfProf = df[df['Title'] == \"PROFESSOR\"]"
   ]
  },
  {
   "cell_type": "markdown",
   "metadata": {},
   "source": [
    "# Data Analysis & Results"
   ]
  },
  {
   "cell_type": "markdown",
   "metadata": {},
   "source": [
    "## Exploratory Data Analysis"
   ]
  },
  {
   "cell_type": "markdown",
   "metadata": {},
   "source": [
    "In order to analyze our data and answer our research question, we begin by taking a closer look at the variables we plan to work with. From our dataset Capes.csv, we decided to investigate the following variables for each instructor: the department he/she is in, the recommendation percentage by students, the average grade expected by students, the number of classes taught, and the total number of students enrolled across all courses. From our dataset Incomes.csv, we look at the regular pay for each instructor and merge this data with the data from Capes.csv in order to find a relationship."
   ]
  },
  {
   "cell_type": "markdown",
   "metadata": {},
   "source": [
    "## Distributions and Removing Outliers"
   ]
  },
  {
   "cell_type": "markdown",
   "metadata": {},
   "source": [
    "### 1) Regular Pay"
   ]
  },
  {
   "cell_type": "markdown",
   "metadata": {},
   "source": [
    "First we will plot the distribution of the data we scraped for the regular pays of instructors. "
   ]
  },
  {
   "cell_type": "code",
   "execution_count": 43,
   "metadata": {},
   "outputs": [
    {
     "name": "stderr",
     "output_type": "stream",
     "text": [
      "/opt/conda/lib/python3.6/site-packages/scipy/stats/stats.py:1713: FutureWarning: Using a non-tuple sequence for multidimensional indexing is deprecated; use `arr[tuple(seq)]` instead of `arr[seq]`. In the future this will be interpreted as an array index, `arr[np.array(seq)]`, which will result either in an error or a different result.\n",
      "  return np.add.reduce(sorted[indexer] * weights, axis=axis) / sumval\n"
     ]
    },
    {
     "data": {
      "text/plain": [
       "<matplotlib.axes._subplots.AxesSubplot at 0x7f8e2969dd68>"
      ]
     },
     "execution_count": 43,
     "metadata": {},
     "output_type": "execute_result"
    },
    {
     "data": {
      "image/png": "[encoded data removed]",
      "text/plain": [
       "<Figure size 432x288 with 1 Axes>"
      ]
     },
     "metadata": {
      "needs_background": "light"
     },
     "output_type": "display_data"
    }
   ],
   "source": [
    "# Distribution for Regular Pay\n",
    "sns.distplot(df['Regular_Pay'])"
   ]
  },
  {
   "cell_type": "markdown",
   "metadata": {},
   "source": [
    "We can see from the figure above that the data is bimodal and right skewed. As a result, we will look for and remove outliers in an attempt to normalize the data."
   ]
  },
  {
   "cell_type": "code",
   "execution_count": 44,
   "metadata": {},
   "outputs": [],
   "source": [
    "# Determine Outliers for Pay per Student\n",
    "lower, upper = np.percentile(df['Regular_Pay'], [25, 75])\n",
    "iqr = upper - lower\n",
    "lower_cutoff = lower - 1.5 * iqr\n",
    "upper_cutoff = upper + 1.5 * iqr\n",
    "\n",
    "df = (df[(df['Regular_Pay'] >= lower_cutoff) & (df['Regular_Pay'] <= upper_cutoff)])\n"
   ]
  },
  {
   "cell_type": "code",
   "execution_count": 45,
   "metadata": {},
   "outputs": [
    {
     "data": {
      "text/plain": [
       "<matplotlib.axes._subplots.AxesSubplot at 0x7f8e27583b00>"
      ]
     },
     "execution_count": 45,
     "metadata": {},
     "output_type": "execute_result"
    },
    {
     "data": {
      "image/png": "[encoded data removed]",
      "text/plain": [
       "<Figure size 432x288 with 1 Axes>"
      ]
     },
     "metadata": {
      "needs_background": "light"
     },
     "output_type": "display_data"
    }
   ],
   "source": [
    "sns.distplot(df['Regular_Pay'])"
   ]
  },
  {
   "cell_type": "markdown",
   "metadata": {},
   "source": [
    "After removing the outliers, we can see that the skewness was a result of outlying values."
   ]
  },
  {
   "cell_type": "markdown",
   "metadata": {},
   "source": [
    "### 2) Recommend Instructor"
   ]
  },
  {
   "cell_type": "markdown",
   "metadata": {},
   "source": [
    "From this point forward, we will refer to the recommendation percentage by students for each instructor as the Recommend Instructor variable. Here we want to see if the Recommend Instructor variable is normal as well."
   ]
  },
  {
   "cell_type": "code",
   "execution_count": 46,
   "metadata": {},
   "outputs": [
    {
     "data": {
      "text/plain": [
       "<matplotlib.axes._subplots.AxesSubplot at 0x7f8e2748a780>"
      ]
     },
     "execution_count": 46,
     "metadata": {},
     "output_type": "execute_result"
    },
    {
     "data": {
      "image/png": "[encoded data removed]",
      "text/plain": [
       "<Figure size 432x288 with 1 Axes>"
      ]
     },
     "metadata": {
      "needs_background": "light"
     },
     "output_type": "display_data"
    }
   ],
   "source": [
    "# Distribution for Regular Pay\n",
    "sns.distplot(df['Recommend_Instr'])"
   ]
  },
  {
   "cell_type": "markdown",
   "metadata": {},
   "source": [
    "As we can see from the figure above that the data is strongly left skewed. As a result, we will look for and remove outliers in an attempt to normalize the data."
   ]
  },
  {
   "cell_type": "code",
   "execution_count": 47,
   "metadata": {},
   "outputs": [
    {
     "data": {
      "text/plain": [
       "<matplotlib.axes._subplots.AxesSubplot at 0x7f8e273d7b38>"
      ]
     },
     "execution_count": 47,
     "metadata": {},
     "output_type": "execute_result"
    },
    {
     "data": {
      "image/png": "[encoded data removed]",
      "text/plain": [
       "<Figure size 432x288 with 1 Axes>"
      ]
     },
     "metadata": {
      "needs_background": "light"
     },
     "output_type": "display_data"
    }
   ],
   "source": [
    "# Determine Outliers for Pay per Student\n",
    "lower, upper = np.percentile(df['Recommend_Instr'], [25, 75])\n",
    "iqr = upper - lower\n",
    "lower_cutoff = lower - 1.5 * iqr\n",
    "upper_cutoff = upper + 1.5 * iqr\n",
    "\n",
    "df = (df[(df['Recommend_Instr'] >= lower_cutoff) & (df['Recommend_Instr'] <= upper_cutoff)])\n",
    "sns.distplot(df['Recommend_Instr'])"
   ]
  },
  {
   "cell_type": "markdown",
   "metadata": {},
   "source": [
    "After removing the outliers, we can see that we have removed some of the skewness of the data."
   ]
  },
  {
   "cell_type": "markdown",
   "metadata": {},
   "source": [
    "### 3) Average Grade"
   ]
  },
  {
   "cell_type": "markdown",
   "metadata": {},
   "source": [
    "From this point forward, we will refer to average grade expected by students for each instructor as the Average Grade variable. Here we want to see if the Average Grade variable is normal as well."
   ]
  },
  {
   "cell_type": "code",
   "execution_count": 48,
   "metadata": {},
   "outputs": [
    {
     "data": {
      "text/plain": [
       "<matplotlib.axes._subplots.AxesSubplot at 0x7f8e273a0400>"
      ]
     },
     "execution_count": 48,
     "metadata": {},
     "output_type": "execute_result"
    },
    {
     "data": {
      "image/png": "[encoded data removed]",
      "text/plain": [
       "<Figure size 432x288 with 1 Axes>"
      ]
     },
     "metadata": {
      "needs_background": "light"
     },
     "output_type": "display_data"
    }
   ],
   "source": [
    "sns.distplot(df['Avg_Grade'])"
   ]
  },
  {
   "cell_type": "markdown",
   "metadata": {},
   "source": [
    "As we can see from the figure above, the data is slightly skewed left. As a result, we will look for and remove outliers in an attempt to normalize the data."
   ]
  },
  {
   "cell_type": "code",
   "execution_count": 49,
   "metadata": {},
   "outputs": [
    {
     "data": {
      "text/plain": [
       "<matplotlib.axes._subplots.AxesSubplot at 0x7f8e272f31d0>"
      ]
     },
     "execution_count": 49,
     "metadata": {},
     "output_type": "execute_result"
    },
    {
     "data": {
      "image/png": "[encoded data removed]",
      "text/plain": [
       "<Figure size 432x288 with 1 Axes>"
      ]
     },
     "metadata": {
      "needs_background": "light"
     },
     "output_type": "display_data"
    }
   ],
   "source": [
    "# Determine Outliers for Pay per Student\n",
    "lower, upper = np.percentile(df['Avg_Grade'], [25, 75])\n",
    "iqr = upper - lower\n",
    "lower_cutoff = lower - 1.5 * iqr\n",
    "upper_cutoff = upper + 1.5 * iqr\n",
    "\n",
    "df = (df[(df['Avg_Grade'] >= lower_cutoff) & (df['Avg_Grade'] <= upper_cutoff)])\n",
    "sns.distplot(df['Avg_Grade'])"
   ]
  },
  {
   "cell_type": "markdown",
   "metadata": {},
   "source": [
    "After removing the outliers, we can see that we have removed some of the skewness of the data."
   ]
  },
  {
   "cell_type": "markdown",
   "metadata": {},
   "source": [
    "### 4) Classes Taught"
   ]
  },
  {
   "cell_type": "markdown",
   "metadata": {},
   "source": [
    "From this point forward, we will refer to the total number of classes taught by each instructor as the Classes Taught variable. Here we want to see if the Classes Taught variable is normal as well."
   ]
  },
  {
   "cell_type": "code",
   "execution_count": 50,
   "metadata": {},
   "outputs": [
    {
     "data": {
      "text/plain": [
       "<matplotlib.axes._subplots.AxesSubplot at 0x7f8e27268358>"
      ]
     },
     "execution_count": 50,
     "metadata": {},
     "output_type": "execute_result"
    },
    {
     "data": {
      "image/png": "[encoded data removed]",
      "text/plain": [
       "<Figure size 432x288 with 1 Axes>"
      ]
     },
     "metadata": {
      "needs_background": "light"
     },
     "output_type": "display_data"
    }
   ],
   "source": [
    "sns.distplot(df['Num_Classes'])"
   ]
  },
  {
   "cell_type": "markdown",
   "metadata": {},
   "source": [
    "### 5) Number of Students Enrolled"
   ]
  },
  {
   "cell_type": "markdown",
   "metadata": {},
   "source": [
    "From this point forward, we will refer to the total number of students taught by each instructor as the Enrolled Students variable. Here we want to see if the Enrolled Students variable is normal as well."
   ]
  },
  {
   "cell_type": "code",
   "execution_count": 51,
   "metadata": {},
   "outputs": [
    {
     "data": {
      "text/plain": [
       "<matplotlib.axes._subplots.AxesSubplot at 0x7f8e27176cc0>"
      ]
     },
     "execution_count": 51,
     "metadata": {},
     "output_type": "execute_result"
    },
    {
     "data": {
      "image/png": "[encoded data removed]",
      "text/plain": [
       "<Figure size 432x288 with 1 Axes>"
      ]
     },
     "metadata": {
      "needs_background": "light"
     },
     "output_type": "display_data"
    }
   ],
   "source": [
    "sns.distplot(df['Num_Students'])"
   ]
  },
  {
   "cell_type": "markdown",
   "metadata": {},
   "source": [
    "### 6) Study Hours"
   ]
  },
  {
   "cell_type": "code",
   "execution_count": 52,
   "metadata": {},
   "outputs": [
    {
     "data": {
      "text/plain": [
       "<matplotlib.axes._subplots.AxesSubplot at 0x7f8e27064b70>"
      ]
     },
     "execution_count": 52,
     "metadata": {},
     "output_type": "execute_result"
    },
    {
     "data": {
      "image/png": "[encoded data removed]",
      "text/plain": [
       "<Figure size 432x288 with 1 Axes>"
      ]
     },
     "metadata": {
      "needs_background": "light"
     },
     "output_type": "display_data"
    }
   ],
   "source": [
    "sns.distplot(df['Study_Hours'])"
   ]
  },
  {
   "cell_type": "code",
   "execution_count": 53,
   "metadata": {},
   "outputs": [],
   "source": [
    "# Determine Outliers for Pay per Student\n",
    "lower, upper = np.percentile(df['Study_Hours'], [25, 75])\n",
    "iqr = upper - lower\n",
    "lower_cutoff = lower - 1.5 * iqr\n",
    "upper_cutoff = upper + 1.5 * iqr\n",
    "# print(\"Lower 25: \", lower_cutoff, \"\\nUpper 25: \", upper_cutoff)\n",
    "\n",
    "df = (df[(df['Study_Hours'] >= lower_cutoff) & (df['Study_Hours'] <= upper_cutoff)])"
   ]
  },
  {
   "cell_type": "code",
   "execution_count": 54,
   "metadata": {},
   "outputs": [
    {
     "data": {
      "text/plain": [
       "<matplotlib.axes._subplots.AxesSubplot at 0x7f8e26f98e80>"
      ]
     },
     "execution_count": 54,
     "metadata": {},
     "output_type": "execute_result"
    },
    {
     "data": {
      "image/png": "[encoded data removed]",
      "text/plain": [
       "<Figure size 432x288 with 1 Axes>"
      ]
     },
     "metadata": {
      "needs_background": "light"
     },
     "output_type": "display_data"
    }
   ],
   "source": [
    "sns.distplot(df['Study_Hours'])"
   ]
  },
  {
   "cell_type": "markdown",
   "metadata": {},
   "source": [
    "### 7) Department"
   ]
  },
  {
   "cell_type": "code",
   "execution_count": 55,
   "metadata": {},
   "outputs": [
    {
     "data": {
      "text/plain": [
       "<matplotlib.axes._subplots.AxesSubplot at 0x7f8e26f09978>"
      ]
     },
     "execution_count": 55,
     "metadata": {},
     "output_type": "execute_result"
    },
    {
     "data": {
      "image/png": "[encoded data removed]",
      "text/plain": [
       "<Figure size 1440x720 with 1 Axes>"
      ]
     },
     "metadata": {
      "needs_background": "light"
     },
     "output_type": "display_data"
    }
   ],
   "source": [
    "fig = plt.figure(figsize=(20, 10)) \n",
    "df['Department'].value_counts()\n",
    "df['Department'] = df['Department'].replace(['Humanitites', 'Sixith College', 'Warren College Writing Program', 'Making of the Modern World', 'Dimensions of Culture', 'Muir College'], 'College Writing Programs')\n",
    "\n",
    "\n",
    "df_Department = df[(df['Department'] != \"Judaic Studies\") & (df['Department'] != \"Environmental Studies\") & (df['Department'] != \"Warren College\") & (df['Department'] != \"Human Development Program\") & (df['Department'] != \"Environmental Systems\") & (df['Department'] != \"Jacobs School of Engineering\") & (df['Department'] != \"other\") ]\n",
    "df['Department'].value_counts().plot(kind='barh')   \n",
    "                                    \n",
    "                    "
   ]
  },
  {
   "cell_type": "markdown",
   "metadata": {},
   "source": [
    "### 8) STEM vs non-STEM"
   ]
  },
  {
   "cell_type": "code",
   "execution_count": 56,
   "metadata": {},
   "outputs": [
    {
     "data": {
      "image/png": "[encoded data removed]",
      "text/plain": [
       "<Figure size 360x360 with 1 Axes>"
      ]
     },
     "metadata": {
      "needs_background": "light"
     },
     "output_type": "display_data"
    }
   ],
   "source": [
    "sns.catplot(x=\"Stem\", kind=\"count\", data=df);"
   ]
  },
  {
   "cell_type": "markdown",
   "metadata": {},
   "source": [
    "### 9) Upper Division"
   ]
  },
  {
   "cell_type": "code",
   "execution_count": 57,
   "metadata": {},
   "outputs": [
    {
     "data": {
      "image/png": "[encoded data removed]",
      "text/plain": [
       "<Figure size 360x360 with 1 Axes>"
      ]
     },
     "metadata": {
      "needs_background": "light"
     },
     "output_type": "display_data"
    }
   ],
   "source": [
    "sns.catplot(x=\"Upper_Div\", kind=\"count\", data=df);"
   ]
  },
  {
   "cell_type": "markdown",
   "metadata": {},
   "source": [
    "### 10) Title"
   ]
  },
  {
   "cell_type": "code",
   "execution_count": 58,
   "metadata": {},
   "outputs": [
    {
     "data": {
      "image/png": "[encoded data removed]",
      "text/plain": [
       "<Figure size 360x360 with 1 Axes>"
      ]
     },
     "metadata": {
      "needs_background": "light"
     },
     "output_type": "display_data"
    }
   ],
   "source": [
    "sns.catplot(x=\"Title\", kind=\"count\", data=df);"
   ]
  },
  {
   "cell_type": "markdown",
   "metadata": {},
   "source": [
    "## Relationships between Variables"
   ]
  },
  {
   "cell_type": "markdown",
   "metadata": {},
   "source": [
    "After investigating the variables that we plan to analyze, we will now look for relationships between different variables."
   ]
  },
  {
   "cell_type": "markdown",
   "metadata": {},
   "source": [
    "### Regular Pay vs Department"
   ]
  },
  {
   "cell_type": "code",
   "execution_count": 59,
   "metadata": {},
   "outputs": [
    {
     "data": {
      "image/png": "[encoded data removed]",
      "text/plain": [
       "<Figure size 720x1440 with 1 Axes>"
      ]
     },
     "metadata": {
      "needs_background": "light"
     },
     "output_type": "display_data"
    }
   ],
   "source": [
    "plt.figure(figsize=(10,20)) \n",
    "dept_plot = sns.boxplot(x='Regular_Pay', y='Department', data=df_Department)"
   ]
  },
  {
   "cell_type": "markdown",
   "metadata": {},
   "source": [
    "### Title vs Regular Pay"
   ]
  },
  {
   "cell_type": "code",
   "execution_count": 60,
   "metadata": {},
   "outputs": [
    {
     "data": {
      "image/png": "[encoded data removed]",
      "text/plain": [
       "<Figure size 432x288 with 1 Axes>"
      ]
     },
     "metadata": {
      "needs_background": "light"
     },
     "output_type": "display_data"
    }
   ],
   "source": [
    "title_plot = sns.boxplot(x='Title', y='Regular_Pay', data=df)"
   ]
  },
  {
   "cell_type": "markdown",
   "metadata": {},
   "source": [
    "### STEM vs Non-STEM against Regular Pay"
   ]
  },
  {
   "cell_type": "code",
   "execution_count": 61,
   "metadata": {},
   "outputs": [
    {
     "data": {
      "image/png": "[encoded data removed]",
      "text/plain": [
       "<Figure size 432x288 with 1 Axes>"
      ]
     },
     "metadata": {
      "needs_background": "light"
     },
     "output_type": "display_data"
    }
   ],
   "source": [
    "stem_plot = sns.boxplot(x='Stem', y='Regular_Pay', data=df)"
   ]
  },
  {
   "cell_type": "markdown",
   "metadata": {},
   "source": [
    "### Upper Division vs Regular Pay"
   ]
  },
  {
   "cell_type": "code",
   "execution_count": 62,
   "metadata": {},
   "outputs": [
    {
     "data": {
      "image/png": "[encoded data removed]",
      "text/plain": [
       "<Figure size 432x288 with 1 Axes>"
      ]
     },
     "metadata": {
      "needs_background": "light"
     },
     "output_type": "display_data"
    }
   ],
   "source": [
    "stem_plot = sns.boxplot(x='Upper_Div', y='Regular_Pay', data=df)"
   ]
  },
  {
   "cell_type": "markdown",
   "metadata": {},
   "source": [
    "### Recommend Instructor vs Regular Pay"
   ]
  },
  {
   "cell_type": "code",
   "execution_count": 63,
   "metadata": {},
   "outputs": [
    {
     "data": {
      "text/plain": [
       "<Figure size 1440x1440 with 0 Axes>"
      ]
     },
     "metadata": {},
     "output_type": "display_data"
    },
    {
     "data": {
      "image/png": "[encoded data removed]",
      "text/plain": [
       "<Figure size 995.75x360 with 1 Axes>"
      ]
     },
     "metadata": {
      "needs_background": "light"
     },
     "output_type": "display_data"
    }
   ],
   "source": [
    "plt.figure(figsize=(20,20)) \n",
    "sns.lmplot(x=\"Recommend_Instr\", y=\"Regular_Pay\", hue=\"Title\", data=df, ci=None, aspect=2.5);"
   ]
  },
  {
   "cell_type": "markdown",
   "metadata": {},
   "source": [
    "### Average Grade vs Regular Pay"
   ]
  },
  {
   "cell_type": "code",
   "execution_count": 64,
   "metadata": {},
   "outputs": [
    {
     "data": {
      "image/png": "[encoded data removed]",
      "text/plain": [
       "<Figure size 995.75x360 with 1 Axes>"
      ]
     },
     "metadata": {
      "needs_background": "light"
     },
     "output_type": "display_data"
    }
   ],
   "source": [
    "sns.lmplot(x=\"Avg_Grade\", y=\"Regular_Pay\", hue=\"Title\", data=df, ci=None, aspect=2.5);"
   ]
  },
  {
   "cell_type": "markdown",
   "metadata": {},
   "source": [
    "### Study Hours vs Regular Pay"
   ]
  },
  {
   "cell_type": "code",
   "execution_count": 65,
   "metadata": {},
   "outputs": [
    {
     "data": {
      "image/png": "[encoded data removed]",
      "text/plain": [
       "<Figure size 995.75x360 with 1 Axes>"
      ]
     },
     "metadata": {
      "needs_background": "light"
     },
     "output_type": "display_data"
    }
   ],
   "source": [
    "sns.lmplot(x=\"Study_Hours\", y=\"Regular_Pay\", hue=\"Title\", data=df, ci=None, aspect=2.5);"
   ]
  },
  {
   "cell_type": "markdown",
   "metadata": {},
   "source": [
    "# Analysis"
   ]
  },
  {
   "cell_type": "markdown",
   "metadata": {},
   "source": [
    "## Title"
   ]
  },
  {
   "cell_type": "markdown",
   "metadata": {},
   "source": [
    "Before we can perform an analysis on our data, we must first check whether it meets the assumptions of each test. Because we are comparing the categorical variable of Title against the continuous variable that is Regular Pay, if the data is normal, we will be able to run a t-test against the 2 populations. This will find whether there is a significant difference between the means of Regular Pay between lecturers and professors within our dataset. If the data is not normal, we will use the Wilcoxon rank sum test, which approximates the same value for nonparametric data."
   ]
  },
  {
   "cell_type": "code",
   "execution_count": 66,
   "metadata": {},
   "outputs": [
    {
     "name": "stdout",
     "output_type": "stream",
     "text": [
      "NormaltestResult(statistic=75.03278623617342, pvalue=5.09140316152003e-17)\n",
      "NormaltestResult(statistic=86.03658764413208, pvalue=2.0767889873676972e-19)\n"
     ]
    }
   ],
   "source": [
    "print(normaltest(dfLect['Regular_Pay']))\n",
    "print(normaltest(dfProf['Regular_Pay']))"
   ]
  },
  {
   "cell_type": "markdown",
   "metadata": {},
   "source": [
    "Since the p-values of both dataframes are significantly lower than .01, we've concluded that our data is not normal. Therefore, we are not able to perform a t-test and instead will perform a Wilcoxon rank sum test.   "
   ]
  },
  {
   "cell_type": "code",
   "execution_count": 67,
   "metadata": {},
   "outputs": [
    {
     "data": {
      "text/plain": [
       "RanksumsResult(statistic=-20.719269704008372, pvalue=2.3218023331880966e-95)"
      ]
     },
     "execution_count": 67,
     "metadata": {},
     "output_type": "execute_result"
    }
   ],
   "source": [
    "ranksums(dfLect['Regular_Pay'].values, dfProf['Regular_Pay'].values)"
   ]
  },
  {
   "cell_type": "markdown",
   "metadata": {},
   "source": [
    "As shown above, the p value calculated by the Wilcoxon rank sum test is significantly lower than .01, indicating that the probability that the difference in mean is due to chance alone is small. Thus, we can conclude that there is a signficant difference between the means of lecturer and professor regular pays."
   ]
  },
  {
   "cell_type": "markdown",
   "metadata": {},
   "source": [
    "## STEM vs Non-STEM"
   ]
  },
  {
   "cell_type": "markdown",
   "metadata": {},
   "source": [
    "Again, we must first check whether the data meets the assumptions of each test. Because we are comparing the categorical variable of STEM vs non-STEM against the continuous variable that is Regular Pay, we can approach this problem in a similar manner as to the previous section."
   ]
  },
  {
   "cell_type": "code",
   "execution_count": 68,
   "metadata": {},
   "outputs": [
    {
     "name": "stdout",
     "output_type": "stream",
     "text": [
      "NormaltestResult(statistic=5.490715591736064, pvalue=0.06422531727987237)\n",
      "NormaltestResult(statistic=20.922318805109445, pvalue=2.862702367397313e-05)\n"
     ]
    }
   ],
   "source": [
    "stemValues = df[df['Stem'] == True ]['Regular_Pay'].values\n",
    "nonStemValues = df[df['Stem'] == False ]['Regular_Pay'].values\n",
    "\n",
    "print(normaltest(stemValues))\n",
    "print(normaltest(nonStemValues))"
   ]
  },
  {
   "cell_type": "markdown",
   "metadata": {},
   "source": [
    "Since the p-value of the nonstem data is signficantly lower than .01, we have concluded that our data is not normal. Therefore, we are not able to perform a t-test and instead will perform a Wilcoxon rank sum test."
   ]
  },
  {
   "cell_type": "code",
   "execution_count": 69,
   "metadata": {},
   "outputs": [
    {
     "data": {
      "text/plain": [
       "RanksumsResult(statistic=8.400368472377998, pvalue=4.450798133368443e-17)"
      ]
     },
     "execution_count": 69,
     "metadata": {},
     "output_type": "execute_result"
    }
   ],
   "source": [
    "ranksums(stemValues, nonStemValues)"
   ]
  },
  {
   "cell_type": "markdown",
   "metadata": {},
   "source": [
    "As shown above, the p value calculated by the Wilcoxon rank sum test is significantly lower than .01, indicating that the probability that the difference in mean is due to chance alone is small. Thus, we can conclude that there is a signficant difference between the means of STEM and non-STEM instructor regular pays."
   ]
  },
  {
   "cell_type": "markdown",
   "metadata": {},
   "source": [
    "## Upper Division"
   ]
  },
  {
   "cell_type": "markdown",
   "metadata": {},
   "source": [
    "Here, we will analyze whether the fact that an instructor teaches an upper division course has a significant difference on the regular pay they receive. Because we are comparing the categorical value of teaching an upper division course vs not against the continuous variable that is Regular Pay, we can approach this problem in a similar manner as to the previous section. "
   ]
  },
  {
   "cell_type": "code",
   "execution_count": 70,
   "metadata": {},
   "outputs": [
    {
     "name": "stdout",
     "output_type": "stream",
     "text": [
      "NormaltestResult(statistic=17.543720253327265, pvalue=0.00015503492766382097)\n",
      "NormaltestResult(statistic=6.919466936139239, pvalue=0.03143814016998273)\n"
     ]
    }
   ],
   "source": [
    "upperValues = df[df['Upper_Div'] == True ]['Regular_Pay'].values\n",
    "nonUpperValues = df[df['Upper_Div'] == False ]['Regular_Pay'].values\n",
    "\n",
    "print(normaltest(upperValues))\n",
    "print(normaltest(nonUpperValues))"
   ]
  },
  {
   "cell_type": "markdown",
   "metadata": {},
   "source": [
    "Since the p-values of our datasets is lower than .01, we have concluded that our data is not normal. Therefore, we are not able to perform a t-test and instead will perform a Wilcoxon rank sum test."
   ]
  },
  {
   "cell_type": "code",
   "execution_count": 71,
   "metadata": {},
   "outputs": [
    {
     "data": {
      "text/plain": [
       "RanksumsResult(statistic=1.0607683136036015, pvalue=0.28879520563074945)"
      ]
     },
     "execution_count": 71,
     "metadata": {},
     "output_type": "execute_result"
    }
   ],
   "source": [
    "ranksums(upperValues, nonUpperValues)"
   ]
  },
  {
   "cell_type": "markdown",
   "metadata": {},
   "source": [
    "As shown above, the p value calculated by the Wilcoxon rank sum test higher than .01. Thus, we cannot conclude that there is a signficant difference between the means of Upper Division and non Upper Division instructor regular pays."
   ]
  },
  {
   "cell_type": "markdown",
   "metadata": {},
   "source": [
    "## Recommend Instructor and Average Grade"
   ]
  },
  {
   "cell_type": "markdown",
   "metadata": {},
   "source": [
    "Here, we will analyze whether there is a linear relationship between the recommendation percentage of students for an instructor, and the average pay of the instructor. Since both variables are continuous, we will use a linear regression model to observe this relationship."
   ]
  },
  {
   "cell_type": "code",
   "execution_count": 72,
   "metadata": {},
   "outputs": [
    {
     "name": "stdout",
     "output_type": "stream",
     "text": [
      "                            OLS Regression Results                            \n",
      "==============================================================================\n",
      "Dep. Variable:            Regular_Pay   R-squared:                       0.032\n",
      "Model:                            OLS   Adj. R-squared:                  0.029\n",
      "Method:                 Least Squares   F-statistic:                     13.70\n",
      "Date:                Wed, 10 Jun 2020   Prob (F-statistic):           1.39e-06\n",
      "Time:                        14:28:36   Log-Likelihood:                -10521.\n",
      "No. Observations:                 845   AIC:                         2.105e+04\n",
      "Df Residuals:                     842   BIC:                         2.106e+04\n",
      "Df Model:                           2                                         \n",
      "Covariance Type:            nonrobust                                         \n",
      "===================================================================================\n",
      "                      coef    std err          t      P>|t|      [0.025      0.975]\n",
      "-----------------------------------------------------------------------------------\n",
      "Intercept        2.358e+05   2.85e+04      8.282      0.000     1.8e+05    2.92e+05\n",
      "Avg_Grade       -3.904e+04   8080.127     -4.832      0.000   -5.49e+04   -2.32e+04\n",
      "Recommend_Instr     0.5508    246.045      0.002      0.998    -482.383     483.485\n",
      "==============================================================================\n",
      "Omnibus:                       20.378   Durbin-Watson:                   1.212\n",
      "Prob(Omnibus):                  0.000   Jarque-Bera (JB):               20.305\n",
      "Skew:                           0.350   Prob(JB):                     3.90e-05\n",
      "Kurtosis:                       2.707   Cond. No.                     1.25e+03\n",
      "==============================================================================\n",
      "\n",
      "Warnings:\n",
      "[1] Standard Errors assume that the covariance matrix of the errors is correctly specified.\n",
      "[2] The condition number is large, 1.25e+03. This might indicate that there are\n",
      "strong multicollinearity or other numerical problems.\n"
     ]
    }
   ],
   "source": [
    "# run model\n",
    "outcome, predictors = patsy.dmatrices('Regular_Pay ~ Avg_Grade + Recommend_Instr ', df)\n",
    "mod = sm.OLS(outcome, predictors)  \n",
    "res = mod.fit()\n",
    "print(res.summary())"
   ]
  },
  {
   "cell_type": "markdown",
   "metadata": {},
   "source": [
    "higher chance that results are due to chance\n",
    "dont look at t value"
   ]
  },
  {
   "cell_type": "markdown",
   "metadata": {},
   "source": [
    "## Student Enrollment and Study Hours"
   ]
  },
  {
   "cell_type": "markdown",
   "metadata": {},
   "source": [
    "Here, we will analyze whether there is a linear relationship between the number of students enrolled in courses for an instructor, and the average pay of the instructor. Since both variables are continuous, we will use a linear regression model to observe this relationship."
   ]
  },
  {
   "cell_type": "code",
   "execution_count": 73,
   "metadata": {},
   "outputs": [
    {
     "name": "stdout",
     "output_type": "stream",
     "text": [
      "                            OLS Regression Results                            \n",
      "==============================================================================\n",
      "Dep. Variable:            Regular_Pay   R-squared:                       0.026\n",
      "Model:                            OLS   Adj. R-squared:                  0.024\n",
      "Method:                 Least Squares   F-statistic:                     11.35\n",
      "Date:                Wed, 10 Jun 2020   Prob (F-statistic):           1.36e-05\n",
      "Time:                        14:28:36   Log-Likelihood:                -10523.\n",
      "No. Observations:                 845   AIC:                         2.105e+04\n",
      "Df Residuals:                     842   BIC:                         2.107e+04\n",
      "Df Model:                           2                                         \n",
      "Covariance Type:            nonrobust                                         \n",
      "================================================================================\n",
      "                   coef    std err          t      P>|t|      [0.025      0.975]\n",
      "--------------------------------------------------------------------------------\n",
      "Intercept     7.443e+04   6721.266     11.074      0.000    6.12e+04    8.76e+04\n",
      "Num_Students   -12.2141      7.179     -1.701      0.089     -26.305       1.877\n",
      "Study_Hours   5003.8972   1103.627      4.534      0.000    2837.714    7170.080\n",
      "==============================================================================\n",
      "Omnibus:                       20.730   Durbin-Watson:                   1.191\n",
      "Prob(Omnibus):                  0.000   Jarque-Bera (JB):               20.840\n",
      "Skew:                           0.358   Prob(JB):                     2.98e-05\n",
      "Kurtosis:                       2.717   Cond. No.                     1.18e+03\n",
      "==============================================================================\n",
      "\n",
      "Warnings:\n",
      "[1] Standard Errors assume that the covariance matrix of the errors is correctly specified.\n",
      "[2] The condition number is large, 1.18e+03. This might indicate that there are\n",
      "strong multicollinearity or other numerical problems.\n"
     ]
    }
   ],
   "source": [
    "# run model\n",
    "outcome, predictors = patsy.dmatrices('Regular_Pay ~ Num_Students + Study_Hours', df)\n",
    "mod = sm.OLS(outcome, predictors)  \n",
    "res = mod.fit()\n",
    "print(res.summary())"
   ]
  },
  {
   "cell_type": "markdown",
   "metadata": {},
   "source": [
    "### Final Model"
   ]
  },
  {
   "cell_type": "code",
   "execution_count": 74,
   "metadata": {},
   "outputs": [
    {
     "name": "stdout",
     "output_type": "stream",
     "text": [
      "                            OLS Regression Results                            \n",
      "==============================================================================\n",
      "Dep. Variable:            Regular_Pay   R-squared:                       0.470\n",
      "Model:                            OLS   Adj. R-squared:                  0.467\n",
      "Method:                 Least Squares   F-statistic:                     149.1\n",
      "Date:                Wed, 10 Jun 2020   Prob (F-statistic):          3.14e-113\n",
      "Time:                        14:28:36   Log-Likelihood:                -10266.\n",
      "No. Observations:                 845   AIC:                         2.054e+04\n",
      "Df Residuals:                     839   BIC:                         2.057e+04\n",
      "Df Model:                           5                                         \n",
      "Covariance Type:            nonrobust                                         \n",
      "======================================================================================\n",
      "                         coef    std err          t      P>|t|      [0.025      0.975]\n",
      "--------------------------------------------------------------------------------------\n",
      "Intercept           2.661e+04   2.64e+04      1.006      0.315   -2.53e+04    7.85e+04\n",
      "Title[T.PROFESSOR]  9.008e+04   3644.744     24.716      0.000    8.29e+04    9.72e+04\n",
      "Stem[T.True]        1.305e+04   3769.079      3.462      0.001    5650.999    2.04e+04\n",
      "Study_Hours           76.6153    968.502      0.079      0.937   -1824.355    1977.586\n",
      "Avg_Grade          -1115.9921   6666.022     -0.167      0.867   -1.42e+04     1.2e+04\n",
      "Num_Classes         3378.1620    712.069      4.744      0.000    1980.516    4775.808\n",
      "==============================================================================\n",
      "Omnibus:                       73.638   Durbin-Watson:                   1.997\n",
      "Prob(Omnibus):                  0.000   Jarque-Bera (JB):               95.273\n",
      "Skew:                           0.718   Prob(JB):                     2.05e-21\n",
      "Kurtosis:                       3.804   Cond. No.                         129.\n",
      "==============================================================================\n",
      "\n",
      "Warnings:\n",
      "[1] Standard Errors assume that the covariance matrix of the errors is correctly specified.\n"
     ]
    }
   ],
   "source": [
    "# run model\n",
    "outcome, predictors = patsy.dmatrices('Regular_Pay ~ Study_Hours + Avg_Grade + Num_Classes + Title + Stem', df)\n",
    "mod = sm.OLS(outcome, predictors)  \n",
    "res = mod.fit()\n",
    "print(res.summary())"
   ]
  },
  {
   "cell_type": "code",
   "execution_count": 75,
   "metadata": {},
   "outputs": [
    {
     "name": "stdout",
     "output_type": "stream",
     "text": [
      "                            OLS Regression Results                            \n",
      "==============================================================================\n",
      "Dep. Variable:            Regular_Pay   R-squared:                       0.474\n",
      "Model:                            OLS   Adj. R-squared:                  0.471\n",
      "Method:                 Least Squares   F-statistic:                     188.9\n",
      "Date:                Wed, 10 Jun 2020   Prob (F-statistic):          1.83e-115\n",
      "Time:                        14:28:36   Log-Likelihood:                -10263.\n",
      "No. Observations:                 845   AIC:                         2.054e+04\n",
      "Df Residuals:                     840   BIC:                         2.056e+04\n",
      "Df Model:                           4                                         \n",
      "Covariance Type:            nonrobust                                         \n",
      "======================================================================================\n",
      "                         coef    std err          t      P>|t|      [0.025      0.975]\n",
      "--------------------------------------------------------------------------------------\n",
      "Intercept           1.527e+04   5220.257      2.926      0.004    5026.073    2.55e+04\n",
      "Upper_Div[T.True]   8742.9856   3906.643      2.238      0.025    1075.057    1.64e+04\n",
      "Title[T.PROFESSOR]  8.984e+04   3622.934     24.797      0.000    8.27e+04    9.69e+04\n",
      "Stem[T.True]        1.477e+04   3361.981      4.394      0.000    8174.730    2.14e+04\n",
      "Num_Classes         3466.7852    709.624      4.885      0.000    2073.940    4859.630\n",
      "==============================================================================\n",
      "Omnibus:                       73.985   Durbin-Watson:                   1.994\n",
      "Prob(Omnibus):                  0.000   Jarque-Bera (JB):               95.266\n",
      "Skew:                           0.724   Prob(JB):                     2.06e-21\n",
      "Kurtosis:                       3.780   Cond. No.                         14.6\n",
      "==============================================================================\n",
      "\n",
      "Warnings:\n",
      "[1] Standard Errors assume that the covariance matrix of the errors is correctly specified.\n"
     ]
    }
   ],
   "source": [
    "# run model\n",
    "outcome, predictors = patsy.dmatrices('Regular_Pay ~ Upper_Div +  Num_Classes + Title + Stem', df)\n",
    "mod = sm.OLS(outcome, predictors)  \n",
    "res = mod.fit()\n",
    "print(res.summary())"
   ]
  },
  {
   "cell_type": "markdown",
   "metadata": {},
   "source": [
    "# Results and Interpretation"
   ]
  },
  {
   "cell_type": "markdown",
   "metadata": {},
   "source": [
    "After running our dataset through the Wilcoxon Rank Sum test and an OLS regression, we have determined a few variables that are correlated to an instructor's regular pay. \n",
    "\n",
    "We first ran the Wilcoxon Rank Sum test on all three of our categorical variables: Professor vs Lecturer, Stem vs non-Stem, and Upper-Division vs Lower Division. From the results of this test, we found that the Professor vs Lecturer variable and the Stem vs non-Stem variable resulted in p values that were significantly lower than .01. Thus, we can conclude that the it is significantly unlikely that the difference in means of instructors' regular pay is due to chance. \n",
    "\n",
    "Based on the OLS regression models, we first found that the Recommend Instructor and Average Grade variables were colinear. Average Grade was a better predictor of an instructor's regular pay, as the p value was significantly smaller than .01, meaning that it is significantly unlikely that the difference in means of instructors' regular pay is due to chance. \n",
    "\n",
    "We then found that the Student Enrollment and Study Hours variables were also colinear. Study Hours was a better predictor of an instructor's regular pay, as the p value was significantly smaller than .01.\n",
    "\n",
    "Finally, we ran the OLS regression model one last time on the Upper Division, Study Hours, Average Grade, Number of Classes, Title and Stem variables against regular pay. Here, we calculated an R-squared value of .47, meaning that 47% of the variance of pay can be explained by our model. However, we found that the p values for Study Hours and Average Grade were significantly higher than .01, meaning that they were not as strong predictors of regular pay as we originally found. As a result, we decided to take these two variables out of our OLS regression model, and found that the R-squared value did not change. Here, we found that three of the variables (Number of Classes, Title, and Stem) had p values that were significantly lower than .01, meaning that they are strong predictors of regular pay.\n"
   ]
  },
  {
   "cell_type": "code",
   "execution_count": 76,
   "metadata": {},
   "outputs": [
    {
     "data": {
      "text/plain": [
       "<matplotlib.legend.Legend at 0x7f8e24b52e80>"
      ]
     },
     "execution_count": 76,
     "metadata": {},
     "output_type": "execute_result"
    },
    {
     "data": {
      "image/png": "[encoded data removed]",
      "text/plain": [
       "<Figure size 1440x1440 with 1 Axes>"
      ]
     },
     "metadata": {
      "needs_background": "light"
     },
     "output_type": "display_data"
    }
   ],
   "source": [
    "fig = plt.figure(figsize=(20,20)) \n",
    "ax1 = fig.add_subplot(211)\n",
    "ax1.set_xlabel('Study Hours')\n",
    "ax1.set_ylabel('Regular Pay')\n",
    "\n",
    "ax1.set_title('Study Hours vs Regular Pay')\n",
    "plot1 = plt.scatter(dfProf[dfProf['Stem']==True]['Study_Hours'], dfProf[dfProf['Stem']==True]['Regular_Pay'], s=100, marker='+', c='purple')\n",
    "plot2 = plt.scatter(dfProf[dfProf['Stem']==False]['Study_Hours'], dfProf[dfProf['Stem']==False]['Regular_Pay'],s=100,  marker='o', c='purple')\n",
    "plot3 = plt.scatter(dfLect[dfLect['Stem']==True]['Study_Hours'], dfLect[dfLect['Stem']==True]['Regular_Pay'], s=100,  marker='+', c='orange')\n",
    "plot4 = plt.scatter(dfLect[dfLect['Stem']==False]['Study_Hours'], dfLect[dfLect['Stem']==False]['Regular_Pay'], s=100, marker='o',c='orange')\n",
    "ax1.legend((plot1, plot2, plot3, plot4), ('STEM Professors', 'Non-STEM Professors', 'STEM Lecturers', 'Non-STEM Lecturers'))"
   ]
  },
  {
   "cell_type": "code",
   "execution_count": 77,
   "metadata": {},
   "outputs": [
    {
     "data": {
      "text/plain": [
       "(0, 21)"
      ]
     },
     "execution_count": 77,
     "metadata": {},
     "output_type": "execute_result"
    },
    {
     "data": {
      "image/png": "[encoded data removed]",
      "text/plain": [
       "<Figure size 432x288 with 1 Axes>"
      ]
     },
     "metadata": {
      "needs_background": "light"
     },
     "output_type": "display_data"
    }
   ],
   "source": [
    "sns.scatterplot(x=\"Num_Classes\", y=\"Regular_Pay\", hue=\"Stem\", data=dfProf)\n",
    "plt.ylim(0, 450000)\n",
    "plt.xlim(0, 21)"
   ]
  },
  {
   "cell_type": "code",
   "execution_count": 78,
   "metadata": {},
   "outputs": [
    {
     "data": {
      "text/plain": [
       "(0, 21)"
      ]
     },
     "execution_count": 78,
     "metadata": {},
     "output_type": "execute_result"
    },
    {
     "data": {
      "image/png": "[encoded data removed]",
      "text/plain": [
       "<Figure size 432x288 with 1 Axes>"
      ]
     },
     "metadata": {
      "needs_background": "light"
     },
     "output_type": "display_data"
    }
   ],
   "source": [
    "sns.scatterplot(x=\"Num_Classes\", y=\"Regular_Pay\", hue=\"Stem\", data=dfLect)\n",
    "plt.ylim(0, 450000)\n",
    "plt.xlim(0, 21)"
   ]
  },
  {
   "cell_type": "markdown",
   "metadata": {},
   "source": [
    "The figure above is a scatterplot of our data where we highlight the two main variables that are correlated to an instructor's regular pay. As shown in the scatterplot, professors at UCSD tend to have higher regular pays than lecturers. Additionally, professors in STEM departments were more likely to have higher regular pays than those in non-STEM departments."
   ]
  },
  {
   "cell_type": "markdown",
   "metadata": {},
   "source": [
    "## Ethics & Privacy\n",
    "\n",
    "Although the information about the salary of UCSD professors is open to the public as the school itself is a public school, CAPEs are secured such that only UCSD members are able to see them. We should have no problems being able to use the salary of these professors in our analysis as this is public information on the web. We do face some privacy concerns as this data is sensitive and although it is made available to the public, no professor should be called out on their salary in relation to the types of issues we want to discuss. In order to address this, we will remove all personally identifiable information from our data following our analysis. However, instructors have signed an agreement before being hired by UCSD which allows the public to view their salary. Therfore, if someone chooses to trace back a particular value in our analysis, it would be considered ethical as the agreement allows for it. In terms of biases, we do not plan to generalize our question to discuss professors as a whole, so we aim to conclude based on the population we have information about - UCSD professors. \n",
    "\n",
    "\n",
    "In a more serious manner, our study could potentially reveal statistics about a professor that could lead to his or her termination within UCSD. To prevent this, we will stick with the guidelines outlined above such that no information about individuals will be released. As we are not analyzing names, we will create ID numbers in our datasets that allow us to correlate pay salary with the corresponding statistics of a professor across tables such that even when analyzing this information we do not involve the personally identifiable information of these faculty. Furthermore, the data from CAPEs and Rate My Professor are already anonymous, meaning that our studies will not put students in harm’s way as none of their information is available to begin with.\n"
   ]
  },
  {
   "cell_type": "markdown",
   "metadata": {},
   "source": [
    "## Conclusion"
   ]
  },
  {
   "cell_type": "markdown",
   "metadata": {},
   "source": [
    "This project explores the relationship between the salary of an instructor at UCSD for the 2018 academic year and factors that we thought may affect salary: time students spend studying for the class, the amount of students enrolled, the number of classes taught that year, the average grade expected for students, what percentage of students recommend the instructor, the difficulty of the course, the department, and the title of the instructor. We scraped two websites for our data -- the UCSD Capes website and the UC Annual Wage website. Our final analysis was done on a dataframe based on the two datasets merged on the instructor name.",
    "\n",
    "Three of the eight predictors were found to have correlations with regular pay. Upon creating visualizations of potential predictors vs. pay, we proceeded to further analyze certain variables that seemed to show a trend. The values for  Recommend Instructor/Average Grade and Student Enrollment/Study Hours were shown to be collinear by a linear regression model, and thus we removed Student Enrollment and Recommend Instructor from our final analysis. In addition, we used the Wilcoxon rank sum test for non-normal data to show that there is a notable difference between the pay of lecturers vs. professors, STEM vs. non-STEM instructors, and upper-division vs. lower-division instructors. In our final Ordinary Least Squares regression we found that Number of Classes, Title, and STEM/non-STEM values have p-values below the alpha value, 0.01, and therefore have the most correlation with regular pay of an instructor. To be specific, an increase in the number of classes taught led to an increase in pay, professors are paid more than lecturers, and instructors in STEM departments are paid more than those in non-STEM departments.",
    "\n",
    "Several limitations caused our group to tweak our initial hypotheses about predictors of pay. Originally, we were planning to use the website, Rate My Professors, to gain more information about how students’ ratings affect the regular pay of an instructor. However, we decided not to as Rate My Professor data cannot be separated by year. Another limitation to our analysis was that there are other factors that may have a significant impact on pay that we simply did not have access to. One is gender. Background work on our topic showed that female instructors are paid less than male instructors. We also did not have access to bonuses which we learned could be affected by Cape ratings. Another factor that was left out was the time that an instructor has spent teaching at UCSD. As with any job, pay tends to increase over time. We think this would have an effect on regular pay as well.",
    "\n",
    "Our group’s analysis showed that there are predictors --  Number of Classes, Title, and STEM/non-STEM -- that influence an instructor's pay for an academic year. However, there is room for further research. One of our original goals for this project was to show if the university rewards its staff based on student feedback. As students, we appreciate teachers who are invested in our learning. One way to improve students’ learning experiences could be to motivate professors monetarily. This could push instructors to focus on student learning more, however there could be drawbacks as well. We noticed that students in lower division classes expected higher grades and also rated professors better. This shows how easier classes and better scores make students more likely to give an instructor a better rating. A reward system like this may cause instructors to water down their courses to meet the quota."
   ]
  },
  {
   "cell_type": "code",
   "execution_count": null,
   "metadata": {},
   "outputs": [],
   "source": []
  }
 ],
 "metadata": {
  "kernelspec": {
   "display_name": "Python 3",
   "language": "python",
   "name": "python3"
  },
  "language_info": {
   "codemirror_mode": {
    "name": "ipython",
    "version": 3
   },
   "file_extension": ".py",
   "mimetype": "text/x-python",
   "name": "python",
   "nbconvert_exporter": "python",
   "pygments_lexer": "ipython3",
   "version": "3.7.7"
  }
 },
 "nbformat": 4,
 "nbformat_minor": 4
}
